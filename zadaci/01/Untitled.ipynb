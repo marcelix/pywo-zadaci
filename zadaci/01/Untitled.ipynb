{
 "cells": [
  {
   "cell_type": "code",
   "execution_count": 5,
   "metadata": {
    "collapsed": false
   },
   "outputs": [],
   "source": [
    "import urllib.request\n",
    "from datetime import timedelta,datetime\n",
    "\n",
    "def tecaj():\n",
    "\n",
    "    datum=datetime.today()\n",
    "    dan_u_tjednu=datum.weekday()\n",
    "    if dan_u_tjednu==0 or dan_u_tjednu==1:\n",
    "        datum=datum - timedelta(dan_u_tjednu+1) #ako je pon ili ned, prebaci na sub (-2, odnosno -1)\n",
    "    url = \"http://www.hnb.hr/tecajn/f\" + datum.strftime(\"%d%m%y\") + \".dat\"\n",
    "\n",
    "    link = urllib.request.urlopen(url)\n",
    "    sadrzaj = link.read().decode()  \n",
    "    link.close()\n",
    "    \n",
    "    lista = sadrzaj.split(\"\\r\\n\")\n",
    "    \n",
    "    del lista[0]  #u prvom retku se nalazi identifikacijska oznaka tečajnice\n",
    "    del lista[-1]  #zadnji redak je prazan, a nastao je zbog CrLf znaka u zadnjem retku\n",
    "    \n",
    "    for redak in lista:\n",
    "        redak=redak.split()\n",
    "        if \"EUR\" in redak[0]:\n",
    "            return redak[2]"
   ]
  },
  {
   "cell_type": "code",
   "execution_count": 6,
   "metadata": {
    "collapsed": false
   },
   "outputs": [
    {
     "data": {
      "text/plain": [
       "'7,546921'"
      ]
     },
     "execution_count": 6,
     "metadata": {},
     "output_type": "execute_result"
    }
   ],
   "source": [
    "tecaj()"
   ]
  },
  {
   "cell_type": "code",
   "execution_count": 5,
   "metadata": {
    "collapsed": false
   },
   "outputs": [
    {
     "name": "stdout",
     "output_type": "stream",
     "text": [
      "Variable            Type        Data/Info\n",
      "-----------------------------------------\n",
      "datetime            module      <module 'datetime' from '<...>b/python3.4/datetime.py'>\n",
      "datum               date        2015-09-02\n",
      "dohvati_tecajnicu   function    <function dohvati_tecajnicu at 0x7f8f5c2ad8c8>\n",
      "urllib              module      <module 'urllib' from '/u<...>n3.4/urllib/__init__.py'>\n"
     ]
    }
   ],
   "source": [
    "%whos"
   ]
  },
  {
   "cell_type": "code",
   "execution_count": null,
   "metadata": {
    "collapsed": true
   },
   "outputs": [],
   "source": []
  }
 ],
 "metadata": {
  "kernelspec": {
   "display_name": "Python 3",
   "language": "python",
   "name": "python3"
  },
  "language_info": {
   "codemirror_mode": {
    "name": "ipython",
    "version": 3
   },
   "file_extension": ".py",
   "mimetype": "text/x-python",
   "name": "python",
   "nbconvert_exporter": "python",
   "pygments_lexer": "ipython3",
   "version": "3.4.3"
  }
 },
 "nbformat": 4,
 "nbformat_minor": 0
}
