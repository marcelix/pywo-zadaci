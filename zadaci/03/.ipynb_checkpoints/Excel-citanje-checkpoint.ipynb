{
 "cells": [
  {
   "cell_type": "code",
   "execution_count": 2,
   "metadata": {
    "collapsed": false
   },
   "outputs": [
    {
     "name": "stdout",
     "output_type": "stream",
     "text": [
      "Permutacije.ipynb  pywo_some_data.xlsx\r\n"
     ]
    }
   ],
   "source": [
    "!ls ../../03/"
   ]
  },
  {
   "cell_type": "code",
   "execution_count": 8,
   "metadata": {
    "collapsed": true
   },
   "outputs": [],
   "source": [
    "filename = \"pywo_some_data.xlsx\""
   ]
  },
  {
   "cell_type": "markdown",
   "metadata": {},
   "source": [
    "**Zadatak**\n",
    "\n",
    "a) Otvoriti ovaj excel file i pročitati prvi stupac.\n",
    "Za to nam treba modul ```xlrd```.\n",
    "\n",
    "b) Sredili polja (razdvojili ime i prezime)\n",
    "\n",
    "c) Sortirali na 2 načina\n",
    "\n",
    "d) DZ, za vježbu izbaciti \",\" pomoću ```re```\n",
    "\n",
    "e) DZ, za vježbu rezultate upisati u novu excel datoteku: u 2 stupca (potreban modul je ```xlwt```)"
   ]
  },
  {
   "cell_type": "code",
   "execution_count": 4,
   "metadata": {
    "collapsed": true
   },
   "outputs": [],
   "source": [
    "import xlrd"
   ]
  },
  {
   "cell_type": "code",
   "execution_count": 11,
   "metadata": {
    "collapsed": false
   },
   "outputs": [],
   "source": [
    "workbook = xlrd.open_workbook(filename)\n",
    "sheet = workbook.sheet_by_index(0)"
   ]
  },
  {
   "cell_type": "code",
   "execution_count": 2,
   "metadata": {
    "collapsed": false
   },
   "outputs": [
    {
     "ename": "NameError",
     "evalue": "name 'sheet' is not defined",
     "output_type": "error",
     "traceback": [
      "\u001b[1;31m---------------------------------------------------------------------------\u001b[0m",
      "\u001b[1;31mNameError\u001b[0m                                 Traceback (most recent call last)",
      "\u001b[1;32m<ipython-input-2-22951b5a6086>\u001b[0m in \u001b[0;36m<module>\u001b[1;34m()\u001b[0m\n\u001b[1;32m----> 1\u001b[1;33m \u001b[0mL\u001b[0m \u001b[1;33m=\u001b[0m \u001b[1;33m[\u001b[0m\u001b[0mstudent\u001b[0m\u001b[1;33m.\u001b[0m\u001b[0mvalue\u001b[0m \u001b[1;32mfor\u001b[0m \u001b[0mstudent\u001b[0m \u001b[1;32min\u001b[0m \u001b[0msheet\u001b[0m\u001b[1;33m.\u001b[0m\u001b[0mcol\u001b[0m\u001b[1;33m(\u001b[0m\u001b[1;36m0\u001b[0m\u001b[1;33m)\u001b[0m\u001b[1;33m]\u001b[0m\u001b[1;33m\u001b[0m\u001b[0m\n\u001b[0m\u001b[0;32m      2\u001b[0m \u001b[0mL\u001b[0m\u001b[1;33m\u001b[0m\u001b[0m\n\u001b[0;32m      3\u001b[0m \u001b[1;33m\u001b[0m\u001b[0m\n\u001b[0;32m      4\u001b[0m \u001b[0mM\u001b[0m \u001b[1;33m=\u001b[0m \u001b[1;33m[\u001b[0m \u001b[0mx\u001b[0m \u001b[1;32mfor\u001b[0m \u001b[0mx\u001b[0m \u001b[1;32min\u001b[0m \u001b[0mL\u001b[0m \u001b[1;32mif\u001b[0m \u001b[0mx\u001b[0m \u001b[1;33m!=\u001b[0m \u001b[1;34m''\u001b[0m \u001b[1;33m]\u001b[0m\u001b[1;33m\u001b[0m\u001b[0m\n\u001b[0;32m      5\u001b[0m \u001b[0mM\u001b[0m\u001b[1;33m\u001b[0m\u001b[0m\n",
      "\u001b[1;31mNameError\u001b[0m: name 'sheet' is not defined"
     ]
    }
   ],
   "source": [
    "L = [student.value for student in sheet.col(0)]\n",
    "L\n",
    "\n",
    "M = [ x for x in L if x != '' ]\n",
    "M"
   ]
  },
  {
   "cell_type": "markdown",
   "metadata": {},
   "source": [
    "Sredimo ovu listu u format \"PREZIME IME\".\n",
    "Zatim treba sortirati."
   ]
  },
  {
   "cell_type": "code",
   "execution_count": 19,
   "metadata": {
    "collapsed": true
   },
   "outputs": [],
   "source": [
    "ime = 'Josip Mlakar, '"
   ]
  },
  {
   "cell_type": "code",
   "execution_count": 50,
   "metadata": {
    "collapsed": true
   },
   "outputs": [],
   "source": [
    "def sredi(ime):\n",
    "    v = ime.strip(\", \")\n",
    "    listica = v.split()\n",
    "\n",
    "    return listica[::-1]"
   ]
  },
  {
   "cell_type": "code",
   "execution_count": 53,
   "metadata": {
    "collapsed": false
   },
   "outputs": [
    {
     "data": {
      "text/plain": [
       "['Mlakar', 'Josip']"
      ]
     },
     "execution_count": 53,
     "metadata": {},
     "output_type": "execute_result"
    }
   ],
   "source": [
    "sredi(ime)"
   ]
  },
  {
   "cell_type": "code",
   "execution_count": 1,
   "metadata": {
    "collapsed": false
   },
   "outputs": [
    {
     "ename": "NameError",
     "evalue": "name 'M' is not defined",
     "output_type": "error",
     "traceback": [
      "\u001b[1;31m---------------------------------------------------------------------------\u001b[0m",
      "\u001b[1;31mNameError\u001b[0m                                 Traceback (most recent call last)",
      "\u001b[1;32m<ipython-input-1-12b2763d77c7>\u001b[0m in \u001b[0;36m<module>\u001b[1;34m()\u001b[0m\n\u001b[1;32m----> 1\u001b[1;33m \u001b[0mP\u001b[0m \u001b[1;33m=\u001b[0m \u001b[1;33m[\u001b[0m \u001b[0msredi\u001b[0m\u001b[1;33m(\u001b[0m\u001b[0mime\u001b[0m\u001b[1;33m)\u001b[0m \u001b[1;32mfor\u001b[0m \u001b[0mime\u001b[0m \u001b[1;32min\u001b[0m \u001b[0mM\u001b[0m\u001b[1;33m]\u001b[0m\u001b[1;33m\u001b[0m\u001b[0m\n\u001b[0m\u001b[0;32m      2\u001b[0m \u001b[0mP\u001b[0m\u001b[1;33m\u001b[0m\u001b[0m\n",
      "\u001b[1;31mNameError\u001b[0m: name 'M' is not defined"
     ]
    }
   ],
   "source": [
    "P = [ sredi(ime) for ime in M]\n",
    "P"
   ]
  },
  {
   "cell_type": "code",
   "execution_count": 47,
   "metadata": {
    "collapsed": true
   },
   "outputs": [
    {
     "data": {
      "text/plain": [
       "[['Danzante,', 'Andrea'],\n",
       " ['Špičko,', 'Davorin'],\n",
       " ['Popović,', 'Elvis'],\n",
       " ['Rafajec,', 'Filip'],\n",
       " ['Aleksić,', 'Filip'],\n",
       " ['Grgača,', 'Gabrijela'],\n",
       " ['Žonja,', 'Ian'],\n",
       " ['Završki,', 'Ivana'],\n",
       " ['Mlakar,', 'Josip'],\n",
       " ['Šolja,', 'Jura'],\n",
       " ['Bodulušić,', 'Matea'],\n",
       " ['Gucek,', 'Matej'],\n",
       " ['Kaniški,', 'Matija'],\n",
       " ['Pavlović,', 'Milan'],\n",
       " ['Zebić,', 'Mislav'],\n",
       " ['Šestak,', 'Petar'],\n",
       " ['Čačić,', 'Peđa'],\n",
       " ['Tomašković,', 'Roman'],\n",
       " ['Poslončec,', 'Saša'],\n",
       " ['Pušec,', 'Senko'],\n",
       " ['Rakarec,', 'Stjepan'],\n",
       " ['Cundić,', 'Tomislav'],\n",
       " ['Vađunec,', 'Vedran'],\n",
       " ['Milašinović,', 'Vladimir']]"
      ]
     },
     "execution_count": 47,
     "metadata": {},
     "output_type": "execute_result"
    }
   ],
   "source": [
    "fja_usporedbe = lambda x:x[1]\n",
    "sorted(P, key = fja_usporedbe )"
   ]
  },
  {
   "cell_type": "code",
   "execution_count": 42,
   "metadata": {
    "collapsed": true
   },
   "outputs": [],
   "source": [
    "sorted?"
   ]
  },
  {
   "cell_type": "code",
   "execution_count": 55,
   "metadata": {
    "collapsed": false
   },
   "outputs": [
    {
     "data": {
      "text/plain": [
       "<function __main__.<lambda>>"
      ]
     },
     "execution_count": 55,
     "metadata": {},
     "output_type": "execute_result"
    }
   ],
   "source": [
    "lambda x:x[1]"
   ]
  },
  {
   "cell_type": "code",
   "execution_count": 58,
   "metadata": {
    "collapsed": true
   },
   "outputs": [],
   "source": [
    "!git add *.ipynb"
   ]
  },
  {
   "cell_type": "code",
   "execution_count": 60,
   "metadata": {
    "collapsed": false
   },
   "outputs": [
    {
     "name": "stdout",
     "output_type": "stream",
     "text": [
      "On branch master\r\n",
      "Your branch is ahead of 'origin/master' by 2 commits.\r\n",
      "  (use \"git push\" to publish your local commits)\r\n",
      "Untracked files:\r\n",
      "\t\u001b[31m../../../notes/.ipynb_checkpoints/\u001b[m\r\n",
      "\t\u001b[31m../../../notes/Git config-Copy1.ipynb\u001b[m\r\n",
      "\t\u001b[31m../../03/.ipynb_checkpoints/\u001b[m\r\n",
      "\t\u001b[31m../../03/Permutacije.ipynb\u001b[m\r\n",
      "\t\u001b[31m.ipynb_checkpoints/Excel-citanje-checkpoint.ipynb\u001b[m\r\n",
      "\t\u001b[31mpywo_some_data.xlsx\u001b[m\r\n",
      "\r\n",
      "nothing added to commit but untracked files present\r\n"
     ]
    }
   ],
   "source": [
    "!git commit -a -m \"Notebook za citanje excela\""
   ]
  },
  {
   "cell_type": "code",
   "execution_count": null,
   "metadata": {
    "collapsed": true
   },
   "outputs": [],
   "source": []
  }
 ],
 "metadata": {
  "kernelspec": {
   "display_name": "Python 3",
   "language": "python",
   "name": "python3"
  },
  "language_info": {
   "codemirror_mode": {
    "name": "ipython",
    "version": 3
   },
   "file_extension": ".py",
   "mimetype": "text/x-python",
   "name": "python",
   "nbconvert_exporter": "python",
   "pygments_lexer": "ipython3",
   "version": "3.3.5"
  }
 },
 "nbformat": 4,
 "nbformat_minor": 0
}
