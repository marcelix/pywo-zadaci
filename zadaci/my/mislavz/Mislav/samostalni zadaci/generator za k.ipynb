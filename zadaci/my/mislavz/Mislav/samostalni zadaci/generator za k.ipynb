{
 "cells": [
  {
   "cell_type": "code",
   "execution_count": 16,
   "metadata": {
    "collapsed": false
   },
   "outputs": [
    {
     "data": {
      "text/plain": [
       "True"
      ]
     },
     "execution_count": 16,
     "metadata": {},
     "output_type": "execute_result"
    }
   ],
   "source": [
    "def rem_k(a,b):\n",
    "    o = a%b\n",
    "    while o != 0:\n",
    "        o = a%b\n",
    "        if o == 0:\n",
    "            b = a\n",
    "            k = a/a\n",
    "            yield int(k)\n",
    "        else:\n",
    "            o = a%b\n",
    "            k = (a-o)/b\n",
    "            yield int(k)\n",
    "        a,b = b,o\n",
    "        \n",
    "list(rem_k(112,13)) == [8,1,1,1,1,1]"
   ]
  }
 ],
 "metadata": {
  "kernelspec": {
   "display_name": "Python 3",
   "language": "python",
   "name": "python3"
  },
  "language_info": {
   "codemirror_mode": {
    "name": "ipython",
    "version": 3
   },
   "file_extension": ".py",
   "mimetype": "text/x-python",
   "name": "python",
   "nbconvert_exporter": "python",
   "pygments_lexer": "ipython3",
   "version": "3.4.3"
  }
 },
 "nbformat": 4,
 "nbformat_minor": 0
}
