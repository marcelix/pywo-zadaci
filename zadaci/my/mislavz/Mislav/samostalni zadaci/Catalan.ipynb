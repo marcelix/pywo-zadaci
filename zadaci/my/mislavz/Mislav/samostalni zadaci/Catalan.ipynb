{
 "cells": [
  {
   "cell_type": "code",
   "execution_count": null,
   "metadata": {
    "collapsed": false
   },
   "outputs": [],
   "source": []
  },
  {
   "cell_type": "code",
   "execution_count": 120,
   "metadata": {
    "collapsed": false
   },
   "outputs": [
    {
     "data": {
      "text/plain": [
       "[1, 2, 4, 9, 23, 65, 197, 626, 2056, 6918]"
      ]
     },
     "execution_count": 120,
     "metadata": {},
     "output_type": "execute_result"
    }
   ],
   "source": [
    "from itertools import* \n",
    "def catalan(k):\n",
    "    \n",
    "    def fac(x):\n",
    "        r = 1\n",
    "        while x != 0:\n",
    "            r *=x\n",
    "            x-=1\n",
    "        return r\n",
    "    n = 0\n",
    "    while n < k:\n",
    "        yield int((fac(2*n))/((fac(n+1))*(fac(n))))\n",
    "        n = n+1\n",
    "        \n",
    "list(catalan(10))\n",
    "list(accumulate(catalan(10)))"
   ]
  },
  {
   "cell_type": "code",
   "execution_count": null,
   "metadata": {
    "collapsed": false
   },
   "outputs": [],
   "source": []
  }
 ],
 "metadata": {
  "kernelspec": {
   "display_name": "Python 3",
   "language": "python",
   "name": "python3"
  },
  "language_info": {
   "codemirror_mode": {
    "name": "ipython",
    "version": 3
   },
   "file_extension": ".py",
   "mimetype": "text/x-python",
   "name": "python",
   "nbconvert_exporter": "python",
   "pygments_lexer": "ipython3",
   "version": "3.4.3"
  }
 },
 "nbformat": 4,
 "nbformat_minor": 0
}
