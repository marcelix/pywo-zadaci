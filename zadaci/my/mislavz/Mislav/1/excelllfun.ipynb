{
 "cells": [
  {
   "cell_type": "code",
   "execution_count": 286,
   "metadata": {
    "collapsed": true
   },
   "outputs": [],
   "source": [
    "filename = \"pywo_some_data.xlsx\""
   ]
  },
  {
   "cell_type": "code",
   "execution_count": 287,
   "metadata": {
    "collapsed": false
   },
   "outputs": [],
   "source": [
    "import xlrd\n",
    "import xlwt"
   ]
  },
  {
   "cell_type": "code",
   "execution_count": 288,
   "metadata": {
    "collapsed": false
   },
   "outputs": [],
   "source": [
    "workbook = xlrd.open_workbook(filename)\n",
    "sheet = workbook.sheet_by_index(0)"
   ]
  },
  {
   "cell_type": "code",
   "execution_count": 289,
   "metadata": {
    "collapsed": false
   },
   "outputs": [
    {
     "data": {
      "text/plain": [
       "['Josip Mlakar, ',\n",
       " 'Elvis Popović, ',\n",
       " 'Vladimir Milašinović, ',\n",
       " 'Filip Rafajec, ',\n",
       " 'Matej Gucek, ',\n",
       " 'Jura Šolja, ',\n",
       " 'Gabrijela Grgača, ',\n",
       " 'Stjepan Rakarec, ',\n",
       " 'Davorin Špičko, ',\n",
       " 'Milan Pavlović, ',\n",
       " 'Senko Pušec, ',\n",
       " 'Filip Aleksić, ',\n",
       " 'Roman Tomašković, ',\n",
       " 'Peđa Čačić, ',\n",
       " 'Saša Poslončec,',\n",
       " 'Mislav Zebić, ',\n",
       " 'Ian Žonja,',\n",
       " 'Tomislav Cundić, ',\n",
       " 'Matija Kaniški,',\n",
       " 'Petar Šestak,',\n",
       " 'Ivana Završki,',\n",
       " 'Vedran Vađunec, ',\n",
       " 'Matea Bodulušić, ',\n",
       " 'Andrea Danzante,']"
      ]
     },
     "execution_count": 289,
     "metadata": {},
     "output_type": "execute_result"
    }
   ],
   "source": [
    "L = [student.value for student in sheet.col(0)]\n",
    "L\n",
    "\n",
    "M = [ x for x in L if x != '' ]\n",
    "M"
   ]
  },
  {
   "cell_type": "code",
   "execution_count": 290,
   "metadata": {
    "collapsed": true
   },
   "outputs": [],
   "source": [
    "ime = 'Josip Mlakar, '"
   ]
  },
  {
   "cell_type": "code",
   "execution_count": 291,
   "metadata": {
    "collapsed": true
   },
   "outputs": [],
   "source": [
    "def sredi(ime):\n",
    "    v = ime.strip(\", \")\n",
    "    listica = v.split()\n",
    "\n",
    "    return listica[::-1]"
   ]
  },
  {
   "cell_type": "code",
   "execution_count": 292,
   "metadata": {
    "collapsed": false
   },
   "outputs": [
    {
     "data": {
      "text/plain": [
       "['Mlakar', 'Josip']"
      ]
     },
     "execution_count": 292,
     "metadata": {},
     "output_type": "execute_result"
    }
   ],
   "source": [
    "sredi(ime)"
   ]
  },
  {
   "cell_type": "code",
   "execution_count": 293,
   "metadata": {
    "collapsed": false
   },
   "outputs": [
    {
     "data": {
      "text/plain": [
       "[['Mlakar', 'Josip'],\n",
       " ['Popović', 'Elvis'],\n",
       " ['Milašinović', 'Vladimir'],\n",
       " ['Rafajec', 'Filip'],\n",
       " ['Gucek', 'Matej'],\n",
       " ['Šolja', 'Jura'],\n",
       " ['Grgača', 'Gabrijela'],\n",
       " ['Rakarec', 'Stjepan'],\n",
       " ['Špičko', 'Davorin'],\n",
       " ['Pavlović', 'Milan'],\n",
       " ['Pušec', 'Senko'],\n",
       " ['Aleksić', 'Filip'],\n",
       " ['Tomašković', 'Roman'],\n",
       " ['Čačić', 'Peđa'],\n",
       " ['Poslončec', 'Saša'],\n",
       " ['Zebić', 'Mislav'],\n",
       " ['Žonja', 'Ian'],\n",
       " ['Cundić', 'Tomislav'],\n",
       " ['Kaniški', 'Matija'],\n",
       " ['Šestak', 'Petar'],\n",
       " ['Završki', 'Ivana'],\n",
       " ['Vađunec', 'Vedran'],\n",
       " ['Bodulušić', 'Matea'],\n",
       " ['Danzante', 'Andrea']]"
      ]
     },
     "execution_count": 293,
     "metadata": {},
     "output_type": "execute_result"
    }
   ],
   "source": [
    "P = [ sredi(ime) for ime in M]\n",
    "P"
   ]
  },
  {
   "cell_type": "code",
   "execution_count": 294,
   "metadata": {
    "collapsed": false
   },
   "outputs": [],
   "source": [
    "fja_usporedbe = lambda x:x[1]\n",
    "prez=sorted(P, key = fja_usporedbe )"
   ]
  },
  {
   "cell_type": "code",
   "execution_count": 295,
   "metadata": {
    "collapsed": false
   },
   "outputs": [
    {
     "data": {
      "text/plain": [
       "<function __main__.<lambda>>"
      ]
     },
     "execution_count": 295,
     "metadata": {},
     "output_type": "execute_result"
    }
   ],
   "source": [
    "lambda x:x[1] "
   ]
  },
  {
   "cell_type": "code",
   "execution_count": null,
   "metadata": {
    "collapsed": false
   },
   "outputs": [],
   "source": [
    "k = 0\n",
    "for i in prez:\n",
    "    k = k + 1\n",
    "    prez = str(prez)\n",
    "prez.split(\"]\")\n",
    "L1 = []\n",
    "for i in prez:\n",
    "    if i.isalnum() or i.isspace():\n",
    "        L1.append(i)\n",
    "    else:\n",
    "        L1.append(\"\")\n",
    "L2= \"\"\n",
    "L2= \"\".join(L1)\n",
    "\n",
    "LF = []\n",
    "e = \"\"\n",
    "p = 0\n",
    "\n",
    "for i in L2:\n",
    "    if i != \" \":\n",
    "        e = e + i\n",
    "    else:\n",
    "        p = p + 1\n",
    "        if p % 2 == 0:\n",
    "            LF.append(e)\n",
    "            e = \"\"\n",
    "        else: e = e + i"
   ]
  },
  {
   "cell_type": "code",
   "execution_count": null,
   "metadata": {
    "collapsed": false
   },
   "outputs": [],
   "source": [
    "wb1 = xlwt.Workbook()\n",
    "sheet1 = wb1.add_sheet('P_I')\n",
    "k2 = 0\n",
    "for i,val in enumerate(LF): \n",
    "        sheet1.write(k2,0,val)\n",
    "        k2 = k2 + 1\n",
    "wb1.save('modfy.xls') "
   ]
  }
 ],
 "metadata": {
  "kernelspec": {
   "display_name": "Python 3",
   "language": "python",
   "name": "python3"
  },
  "language_info": {
   "codemirror_mode": {
    "name": "ipython",
    "version": 3
   },
   "file_extension": ".py",
   "mimetype": "text/x-python",
   "name": "python",
   "nbconvert_exporter": "python",
   "pygments_lexer": "ipython3",
   "version": "3.4.3"
  }
 },
 "nbformat": 4,
 "nbformat_minor": 0
}
