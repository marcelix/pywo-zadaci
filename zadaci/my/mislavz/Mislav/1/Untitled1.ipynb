{
 "cells": [
  {
   "cell_type": "code",
   "execution_count": 2,
   "metadata": {
    "collapsed": true
   },
   "outputs": [],
   "source": [
    "from tempfile import TemporaryFile\n",
    "from xlwt import Workbook\n",
    "book = Workbook()\n",
    "sheet1 = book.add_sheet('Sheet 1')\n",
    "book.add_sheet('Sheet 2')\n",
    "sheet1.write(0,0,'A1')\n",
    "sheet1.write(0,1,'B1')\n",
    "row1 = sheet1.row(1)\n",
    "row1.write(0,'A2')\n",
    "row1.write(1,'B2')\n",
    "sheet1.col(0).width = 10000\n",
    "sheet2 = book.get_sheet(1)\n",
    "sheet2.row(0).write(0,'Sheet 2 A1')\n",
    "sheet2.row(0).write(1,'Sheet 2 B1')\n",
    "sheet2.flush_row_data()\n",
    "sheet2.write(1,0,'Sheet 2 A3')\n",
    "sheet2.col(0).width = 5000\n",
    "sheet2.col(0).hidden = True\n",
    "book.save('simple.xls')\n",
    "book.save(TemporaryFile())"
   ]
  }
 ],
 "metadata": {
  "kernelspec": {
   "display_name": "Python 3",
   "language": "python",
   "name": "python3"
  },
  "language_info": {
   "codemirror_mode": {
    "name": "ipython",
    "version": 3
   },
   "file_extension": ".py",
   "mimetype": "text/x-python",
   "name": "python",
   "nbconvert_exporter": "python",
   "pygments_lexer": "ipython3",
   "version": "3.4.3"
  }
 },
 "nbformat": 4,
 "nbformat_minor": 0
}
