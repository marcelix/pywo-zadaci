{
 "cells": [
  {
   "cell_type": "code",
   "execution_count": 17,
   "metadata": {
    "collapsed": true
   },
   "outputs": [],
   "source": [
    "filename = \"pywo_some_data.xlsx\""
   ]
  },
  {
   "cell_type": "code",
   "execution_count": 18,
   "metadata": {
    "collapsed": true
   },
   "outputs": [],
   "source": [
    "import xlrd"
   ]
  },
  {
   "cell_type": "code",
   "execution_count": 19,
   "metadata": {
    "collapsed": false
   },
   "outputs": [],
   "source": [
    "workbook = xlrd.open_workbook(filename)\n",
    "sheet = workbook.sheet_by_index(0)"
   ]
  },
  {
   "cell_type": "code",
   "execution_count": 20,
   "metadata": {
    "collapsed": false
   },
   "outputs": [
    {
     "data": {
      "text/plain": [
       "['Josip Mlakar, ',\n",
       " 'Elvis Popović, ',\n",
       " 'Vladimir Milašinović, ',\n",
       " 'Filip Rafajec, ',\n",
       " 'Matej Gucek, ',\n",
       " 'Jura Šolja, ',\n",
       " 'Gabrijela Grgača, ',\n",
       " 'Stjepan Rakarec, ',\n",
       " 'Davorin Špičko, ',\n",
       " 'Milan Pavlović, ',\n",
       " 'Senko Pušec, ',\n",
       " 'Filip Aleksić, ',\n",
       " 'Roman Tomašković, ',\n",
       " 'Peđa Čačić, ',\n",
       " 'Saša Poslončec,',\n",
       " 'Mislav Zebić, ',\n",
       " 'Ian Žonja,',\n",
       " 'Tomislav Cundić, ',\n",
       " 'Matija Kaniški,',\n",
       " 'Petar Šestak,',\n",
       " 'Ivana Završki,',\n",
       " 'Vedran Vađunec, ',\n",
       " 'Matea Bodulušić, ',\n",
       " 'Andrea Danzante,']"
      ]
     },
     "execution_count": 20,
     "metadata": {},
     "output_type": "execute_result"
    }
   ],
   "source": [
    "L = [student.value for student in sheet.col(0)]\n",
    "L\n",
    "\n",
    "M = [ x for x in L if x != '' ]\n",
    "M"
   ]
  },
  {
   "cell_type": "code",
   "execution_count": 21,
   "metadata": {
    "collapsed": true
   },
   "outputs": [],
   "source": [
    "ime = 'Josip Mlakar, '"
   ]
  },
  {
   "cell_type": "code",
   "execution_count": 22,
   "metadata": {
    "collapsed": true
   },
   "outputs": [],
   "source": [
    "def sredi(ime):\n",
    "    v = ime.strip(\", \")\n",
    "    listica = v.split()\n",
    "\n",
    "    return listica[::-1]"
   ]
  },
  {
   "cell_type": "code",
   "execution_count": 23,
   "metadata": {
    "collapsed": false
   },
   "outputs": [
    {
     "data": {
      "text/plain": [
       "['Mlakar', 'Josip']"
      ]
     },
     "execution_count": 23,
     "metadata": {},
     "output_type": "execute_result"
    }
   ],
   "source": [
    "sredi(ime)"
   ]
  },
  {
   "cell_type": "code",
   "execution_count": 24,
   "metadata": {
    "collapsed": false
   },
   "outputs": [
    {
     "data": {
      "text/plain": [
       "[['Mlakar', 'Josip'],\n",
       " ['Popović', 'Elvis'],\n",
       " ['Milašinović', 'Vladimir'],\n",
       " ['Rafajec', 'Filip'],\n",
       " ['Gucek', 'Matej'],\n",
       " ['Šolja', 'Jura'],\n",
       " ['Grgača', 'Gabrijela'],\n",
       " ['Rakarec', 'Stjepan'],\n",
       " ['Špičko', 'Davorin'],\n",
       " ['Pavlović', 'Milan'],\n",
       " ['Pušec', 'Senko'],\n",
       " ['Aleksić', 'Filip'],\n",
       " ['Tomašković', 'Roman'],\n",
       " ['Čačić', 'Peđa'],\n",
       " ['Poslončec', 'Saša'],\n",
       " ['Zebić', 'Mislav'],\n",
       " ['Žonja', 'Ian'],\n",
       " ['Cundić', 'Tomislav'],\n",
       " ['Kaniški', 'Matija'],\n",
       " ['Šestak', 'Petar'],\n",
       " ['Završki', 'Ivana'],\n",
       " ['Vađunec', 'Vedran'],\n",
       " ['Bodulušić', 'Matea'],\n",
       " ['Danzante', 'Andrea']]"
      ]
     },
     "execution_count": 24,
     "metadata": {},
     "output_type": "execute_result"
    }
   ],
   "source": [
    "P = [ sredi(ime) for ime in M]\n",
    "P"
   ]
  },
  {
   "cell_type": "code",
   "execution_count": 25,
   "metadata": {
    "collapsed": false
   },
   "outputs": [
    {
     "data": {
      "text/plain": [
       "[['Danzante', 'Andrea'],\n",
       " ['Špičko', 'Davorin'],\n",
       " ['Popović', 'Elvis'],\n",
       " ['Rafajec', 'Filip'],\n",
       " ['Aleksić', 'Filip'],\n",
       " ['Grgača', 'Gabrijela'],\n",
       " ['Žonja', 'Ian'],\n",
       " ['Završki', 'Ivana'],\n",
       " ['Mlakar', 'Josip'],\n",
       " ['Šolja', 'Jura'],\n",
       " ['Bodulušić', 'Matea'],\n",
       " ['Gucek', 'Matej'],\n",
       " ['Kaniški', 'Matija'],\n",
       " ['Pavlović', 'Milan'],\n",
       " ['Zebić', 'Mislav'],\n",
       " ['Šestak', 'Petar'],\n",
       " ['Čačić', 'Peđa'],\n",
       " ['Tomašković', 'Roman'],\n",
       " ['Poslončec', 'Saša'],\n",
       " ['Pušec', 'Senko'],\n",
       " ['Rakarec', 'Stjepan'],\n",
       " ['Cundić', 'Tomislav'],\n",
       " ['Vađunec', 'Vedran'],\n",
       " ['Milašinović', 'Vladimir']]"
      ]
     },
     "execution_count": 25,
     "metadata": {},
     "output_type": "execute_result"
    }
   ],
   "source": [
    "fja_usporedbe = lambda x:x[1]\n",
    "sorted(P, key = fja_usporedbe )"
   ]
  },
  {
   "cell_type": "code",
   "execution_count": 26,
   "metadata": {
    "collapsed": false
   },
   "outputs": [
    {
     "data": {
      "text/plain": [
       "<function __main__.<lambda>>"
      ]
     },
     "execution_count": 26,
     "metadata": {},
     "output_type": "execute_result"
    }
   ],
   "source": [
    "lambda x:x[1]"
   ]
  },
  {
   "cell_type": "code",
   "execution_count": null,
   "metadata": {
    "collapsed": true
   },
   "outputs": [],
   "source": []
  },
  {
   "cell_type": "code",
   "execution_count": null,
   "metadata": {
    "collapsed": true
   },
   "outputs": [],
   "source": []
  },
  {
   "cell_type": "code",
   "execution_count": null,
   "metadata": {
    "collapsed": true
   },
   "outputs": [],
   "source": []
  },
  {
   "cell_type": "code",
   "execution_count": null,
   "metadata": {
    "collapsed": true
   },
   "outputs": [],
   "source": []
  },
  {
   "cell_type": "code",
   "execution_count": null,
   "metadata": {
    "collapsed": true
   },
   "outputs": [],
   "source": []
  },
  {
   "cell_type": "code",
   "execution_count": null,
   "metadata": {
    "collapsed": true
   },
   "outputs": [],
   "source": []
  }
 ],
 "metadata": {
  "kernelspec": {
   "display_name": "Python 3",
   "language": "python",
   "name": "python3"
  },
  "language_info": {
   "codemirror_mode": {
    "name": "ipython",
    "version": 3
   },
   "file_extension": ".py",
   "mimetype": "text/x-python",
   "name": "python",
   "nbconvert_exporter": "python",
   "pygments_lexer": "ipython3",
   "version": "3.4.3"
  }
 },
 "nbformat": 4,
 "nbformat_minor": 0
}
