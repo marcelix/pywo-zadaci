{
 "cells": [
  {
   "cell_type": "markdown",
   "metadata": {},
   "source": [
    "\"Hello World\" primjer"
   ]
  },
  {
   "cell_type": "code",
   "execution_count": 60,
   "metadata": {
    "collapsed": true
   },
   "outputs": [],
   "source": [
    "#!mkdir -p static templates"
   ]
  },
  {
   "cell_type": "code",
   "execution_count": 61,
   "metadata": {
    "collapsed": false
   },
   "outputs": [
    {
     "name": "stdout",
     "output_type": "stream",
     "text": [
      "Overwriting main_1.py\n"
     ]
    }
   ],
   "source": [
    "%%writefile main_1.py\n",
    "from flask import Flask, render_template, url_for, request\n",
    "\n",
    "app = Flask(__name__)\n",
    "\n",
    "@app.route(\"/\")\n",
    "def index():\n",
    "    return render_template('index.html')\n",
    "\n",
    "@app.route(\"/about\")\n",
    "def about():\n",
    "    return render_template('about.html')\n",
    "\n",
    "@app.route(\"/hello\")\n",
    "def hello():\n",
    "    return render_template('hello.html')\n",
    "\n",
    "\n",
    "if __name__ == '__main__':\n",
    "    app.run(debug=True)"
   ]
  },
  {
   "cell_type": "code",
   "execution_count": 62,
   "metadata": {
    "collapsed": false
   },
   "outputs": [
    {
     "name": "stdout",
     "output_type": "stream",
     "text": [
      "Overwriting templates/base.html\n"
     ]
    }
   ],
   "source": [
    "%%writefile templates/base.html\n",
    "<html>\n",
    "    <head>\n",
    "        <title> {% block title %} TITLE {% endblock %} </title>\n",
    "        \n",
    "            <!-- Latest compiled and minified CSS -->\n",
    "            <link rel=\"stylesheet\" href=\"https://maxcdn.bootstrapcdn.com/bootstrap/3.3.5/css/bootstrap.min.css\">\n",
    "\n",
    "            <!-- Optional theme -->\n",
    "            <link rel=\"stylesheet\" href=\"https://maxcdn.bootstrapcdn.com/bootstrap/3.3.5/css/bootstrap-theme.min.css\">\n",
    "\n",
    "            <!-- Latest compiled and minified JavaScript -->\n",
    "            <script src=\"https://maxcdn.bootstrapcdn.com/bootstrap/3.3.5/js/bootstrap.min.js\"></script>\n",
    "            \n",
    "        </title>\n",
    "    </head>\n",
    "    \n",
    "    <body>\n",
    "    \n",
    "        <div>\n",
    "        {% block menu %}\n",
    "            \n",
    "            <a href={{ url_for(\"about\") }}>About</a>\n",
    "            &nbsp\n",
    "            <a href={{ url_for(\"hello\") }}>Hello</a>\n",
    "\n",
    "        {% endblock %}\n",
    "        </div>\n",
    "        \n",
    "        <hr>\n",
    "        \n",
    "        <div id=\"content\">\n",
    "        {% block content %}\n",
    "\n",
    "            CONTENT BLOCK\n",
    "\n",
    "        {% endblock %}\n",
    "        </div>\n",
    "\n",
    "        <div id=\"footer\" style = \"position: absolute; bottom: 5px;\" >\n",
    "        {% block footer %}\n",
    "        \n",
    "            Kupi mi PyWo\n",
    "\n",
    "        {% endblock %}\n",
    "        </div>\n",
    "        \n",
    "    </body>\n",
    "</html>"
   ]
  },
  {
   "cell_type": "code",
   "execution_count": 122,
   "metadata": {
    "collapsed": false
   },
   "outputs": [
    {
     "name": "stdout",
     "output_type": "stream",
     "text": [
      "Overwriting templates/index.html\n"
     ]
    }
   ],
   "source": [
    "%%writefile templates/index.html\n",
    "\n",
    "\n",
    "{% extends \"base.html\" %}\n",
    "{% block title %} Index {% endblock %}\n",
    "\n",
    "<h1>Index</h1>\n",
    "        \n",
    "    \n",
    "{% block menu %}  {{ super() }}  {% endblock %}\n",
    "\n",
    "{% block content %}  \n",
    "\n",
    "    <!--\n",
    "    <div style=\"float: left; width: 10%;\">  \n",
    "    \n",
    "        {{ \"1337 hax0r aplikacija\" }} \n",
    "        <h4>Stvari koje volim</h4>\n",
    "        <ul>\n",
    "            <li>Filozofija</li>\n",
    "            <li>Knjige</li>\n",
    "            <li>Računalne igre</li>\n",
    "        </ul>\n",
    "    \n",
    "    </div> \n",
    "    \n",
    "    <div style=\"float: right; width: 90%; border-left: 1px solid #000; height:100px\">  \n",
    "        \n",
    "        {{ \"stupac broj dva\" }}     \n",
    "        <h4>Stvari koje ne volim</h4>\n",
    "        <ul>\n",
    "            <li></li>\n",
    "            <li></li>\n",
    "            <li></li>\n",
    "        </ul>\n",
    "    \n",
    "    </div> \n",
    "    -->\n",
    "    \n",
    "    <div class=\"container\">\n",
    "        <div class=\"row\">\n",
    "            <div class=\"col-md-6 border-right: 1px solid black; width: 90%;\">\n",
    "                <p>some text here </p>\n",
    "            </div>\n",
    "            <div class=\"col-md-6 width: 10%;\">\n",
    "                <p>some more text here</p>\n",
    "            </div>\n",
    "        </div>\n",
    "    </div>\n",
    "    \n",
    "    {% endblock %}\n",
    "\n",
    "{% block footer %}  {{ super() }}  {% endblock %}\n"
   ]
  },
  {
   "cell_type": "code",
   "execution_count": 123,
   "metadata": {
    "collapsed": false
   },
   "outputs": [
    {
     "name": "stdout",
     "output_type": "stream",
     "text": [
      "Overwriting templates/about.html\n"
     ]
    }
   ],
   "source": [
    "%%writefile templates/about.html\n",
    "\n",
    "\n",
    "{% extends \"base.html\" %}\n",
    "{% block title %} About page {% endblock %}\n",
    "        \n",
    "    \n",
    "{% block menu %}   \n",
    "\n",
    "    <a href={{ url_for(\"index\") }}>Index</a>\n",
    "    &nbsp\n",
    "    <a href={{ url_for(\"hello\") }}>Hello</a>  \n",
    "\n",
    "{% endblock %}\n",
    "\n",
    "{% block content %} {{ \"About page\"|e }}   {% endblock %}\n",
    "\n",
    "{% block footer %} {{ super() }}  {% endblock %}"
   ]
  },
  {
   "cell_type": "code",
   "execution_count": 124,
   "metadata": {
    "collapsed": false
   },
   "outputs": [
    {
     "name": "stdout",
     "output_type": "stream",
     "text": [
      "Overwriting templates/hello.html\n"
     ]
    }
   ],
   "source": [
    "%%writefile templates/hello.html\n",
    "\n",
    "\n",
    "{% extends \"base.html\" %}\n",
    "{% block title %} Hello page<  {% endblock %}\n",
    "\n",
    "        \n",
    "{% block menu %}   \n",
    "\n",
    "    <a href={{ url_for(\"index\") }}>Index</a>\n",
    "    &nbsp\n",
    "    <a href={{ url_for(\"about\") }}>About</a>  \n",
    "\n",
    "{% endblock %}\n",
    "\n",
    "{% block content %}  {{ \"Hello there!\"|e }}  {% endblock %}\n",
    "\n",
    "{% block footer %}  {{ super() }}  {% endblock %}"
   ]
  },
  {
   "cell_type": "code",
   "execution_count": 125,
   "metadata": {
    "collapsed": false
   },
   "outputs": [
    {
     "name": "stdout",
     "output_type": "stream",
     "text": [
      "Overwriting templates/gallery.html\n"
     ]
    }
   ],
   "source": [
    "%%writefile templates/gallery.html\n",
    "\n",
    "\n",
    "{% extends \"base.html\" %}"
   ]
  },
  {
   "cell_type": "code",
   "execution_count": 126,
   "metadata": {
    "collapsed": false,
    "scrolled": true
   },
   "outputs": [
    {
     "name": "stdout",
     "output_type": "stream",
     "text": [
      " * Running on http://127.0.0.1:5000/ (Press CTRL+C to quit)\n",
      " * Restarting with stat\n",
      "127.0.0.1 - - [20/Sep/2015 13:04:10] \"GET / HTTP/1.1\" 200 -\n",
      "^C\n"
     ]
    }
   ],
   "source": [
    "!python main_1.py"
   ]
  },
  {
   "cell_type": "markdown",
   "metadata": {},
   "source": [
    "# Zadatak 2.2\n",
    "Napraviti index.html, about.html, hello.html koji popunjavaju navadene blokove.\n",
    "\n",
    "Povezati s aplikacijom"
   ]
  },
  {
   "cell_type": "markdown",
   "metadata": {},
   "source": [
    "# Zadatak 2.4\n",
    "gallery.html\n",
    "\n",
    "Rotiranje 4 slike s url-om /gallery/"
   ]
  },
  {
   "cell_type": "code",
   "execution_count": null,
   "metadata": {
    "collapsed": true
   },
   "outputs": [],
   "source": []
  }
 ],
 "metadata": {
  "kernelspec": {
   "display_name": "Python 3",
   "language": "python",
   "name": "python3"
  },
  "language_info": {
   "codemirror_mode": {
    "name": "ipython",
    "version": 3
   },
   "file_extension": ".py",
   "mimetype": "text/x-python",
   "name": "python",
   "nbconvert_exporter": "python",
   "pygments_lexer": "ipython3",
   "version": "3.4.3"
  }
 },
 "nbformat": 4,
 "nbformat_minor": 0
}
