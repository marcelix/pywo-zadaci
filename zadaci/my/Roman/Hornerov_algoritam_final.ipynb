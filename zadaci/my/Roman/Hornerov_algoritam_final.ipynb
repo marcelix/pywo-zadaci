{
 "cells": [
  {
   "cell_type": "code",
   "execution_count": 19,
   "metadata": {
    "collapsed": true
   },
   "outputs": [],
   "source": [
    "def values(L):\n",
    "    \"\"\"\n",
    "    Generator za vrijednosti liste\n",
    "    \"\"\"\n",
    "    for v in range(len(L)):\n",
    "        yield L[v]"
   ]
  },
  {
   "cell_type": "code",
   "execution_count": 15,
   "metadata": {
    "collapsed": true
   },
   "outputs": [],
   "source": [
    "def Horn(L, n):\n",
    "    r = []\n",
    "    first = True\n",
    "    \n",
    "    if len(L) <= 2:\n",
    "        return [L[0]]\n",
    "    \n",
    "    def el(i):\n",
    "        return n*L[i]+L[i+1]\n",
    "    \n",
    "    for k in range(len(L)-2):\n",
    "        if first:\n",
    "            r.append(L[k])\n",
    "            first = False\n",
    "        r.append(el(k))\n",
    "        \n",
    "    return r"
   ]
  },
  {
   "cell_type": "code",
   "execution_count": 16,
   "metadata": {
    "collapsed": true
   },
   "outputs": [],
   "source": [
    "def Horn_rec(L, n):\n",
    "    r = []\n",
    "    first = True\n",
    "    val = values(L)\n",
    "    \n",
    "    if (len(L)) <= 1:\n",
    "        return r\n",
    "    else:\n",
    "        r = Horn(L, n)\n",
    "        print (r)\n",
    "        Horn_rec(r, n)"
   ]
  },
  {
   "cell_type": "code",
   "execution_count": 17,
   "metadata": {
    "collapsed": false
   },
   "outputs": [
    {
     "name": "stdout",
     "output_type": "stream",
     "text": [
      "[2, 11, 16, 22]\n",
      "[2, 19, 60]\n",
      "[2, 27]\n",
      "[2]\n"
     ]
    }
   ],
   "source": [
    "L1 = [2, 3, 4, 6, 5]\n",
    "L2 = [2, 4, 34, 3, 56]\n",
    "a = 4\n",
    "Horn_rec(L1, a)"
   ]
  },
  {
   "cell_type": "code",
   "execution_count": 20,
   "metadata": {
    "collapsed": false
   },
   "outputs": [
    {
     "name": "stdout",
     "output_type": "stream",
     "text": [
      "[2, -1, -2, -2]\n",
      "[2, -5, 0]\n",
      "[2, -9]\n",
      "[2]\n"
     ]
    }
   ],
   "source": [
    "Horn_rec(L1, -2)"
   ]
  },
  {
   "cell_type": "code",
   "execution_count": 18,
   "metadata": {
    "collapsed": false
   },
   "outputs": [
    {
     "name": "stdout",
     "output_type": "stream",
     "text": [
      "[2, 12, 50, 139]\n",
      "[2, 20, 98]\n",
      "[2, 28]\n",
      "[2]\n"
     ]
    }
   ],
   "source": [
    "Horn_rec(L2, a)"
   ]
  },
  {
   "cell_type": "code",
   "execution_count": null,
   "metadata": {
    "collapsed": true
   },
   "outputs": [],
   "source": []
  }
 ],
 "metadata": {
  "kernelspec": {
   "display_name": "Python 3",
   "language": "python",
   "name": "python3"
  },
  "language_info": {
   "codemirror_mode": {
    "name": "ipython",
    "version": 3
   },
   "file_extension": ".py",
   "mimetype": "text/x-python",
   "name": "python",
   "nbconvert_exporter": "python",
   "pygments_lexer": "ipython3",
   "version": "3.4.3"
  }
 },
 "nbformat": 4,
 "nbformat_minor": 0
}
