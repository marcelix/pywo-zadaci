{
 "cells": [
  {
   "cell_type": "markdown",
   "metadata": {},
   "source": [
    "# Faktorijeli"
   ]
  },
  {
   "cell_type": "code",
   "execution_count": 1,
   "metadata": {
    "collapsed": false
   },
   "outputs": [
    {
     "data": {
      "text/plain": [
       "120"
      ]
     },
     "execution_count": 1,
     "metadata": {},
     "output_type": "execute_result"
    }
   ],
   "source": [
    "n = 5\n",
    "t = 1\n",
    "\n",
    "t = 1 * 2 * 3 * 4 * 5\n",
    "t"
   ]
  },
  {
   "cell_type": "code",
   "execution_count": 2,
   "metadata": {
    "collapsed": false
   },
   "outputs": [
    {
     "name": "stdout",
     "output_type": "stream",
     "text": [
      "1\n",
      "2\n",
      "3\n",
      "4\n",
      "5\n"
     ]
    },
    {
     "data": {
      "text/plain": [
       "120"
      ]
     },
     "execution_count": 2,
     "metadata": {},
     "output_type": "execute_result"
    }
   ],
   "source": [
    "a = 1\n",
    "for x in range(1, n+1):\n",
    "    print (x)\n",
    "    a *= x\n",
    "a"
   ]
  },
  {
   "cell_type": "code",
   "execution_count": 3,
   "metadata": {
    "collapsed": false
   },
   "outputs": [],
   "source": [
    "def gen(n):\n",
    "    t = 1\n",
    "    for x in range(1, n+1):\n",
    "        t *= x\n",
    "        yield t"
   ]
  },
  {
   "cell_type": "code",
   "execution_count": 4,
   "metadata": {
    "collapsed": false
   },
   "outputs": [
    {
     "name": "stdout",
     "output_type": "stream",
     "text": [
      "1\n",
      "2\n",
      "6\n",
      "24\n",
      "120\n"
     ]
    }
   ],
   "source": [
    "for x in gen(5):\n",
    "    print (x)"
   ]
  },
  {
   "cell_type": "code",
   "execution_count": 5,
   "metadata": {
    "collapsed": false,
    "scrolled": true
   },
   "outputs": [
    {
     "name": "stdout",
     "output_type": "stream",
     "text": [
      "1\n",
      "2\n",
      "6\n",
      "24\n",
      "120\n",
      "720\n",
      "5040\n",
      "40320\n",
      "362880\n",
      "3628800\n",
      "39916800\n",
      "479001600\n",
      "6227020800\n",
      "87178291200\n",
      "1307674368000\n",
      "20922789888000\n",
      "355687428096000\n",
      "6402373705728000\n",
      "121645100408832000\n",
      "2432902008176640000\n",
      "51090942171709440000\n",
      "1124000727777607680000\n",
      "25852016738884976640000\n",
      "620448401733239439360000\n",
      "15511210043330985984000000\n",
      "403291461126605635584000000\n",
      "10888869450418352160768000000\n",
      "304888344611713860501504000000\n",
      "8841761993739701954543616000000\n",
      "265252859812191058636308480000000\n",
      "8222838654177922817725562880000000\n",
      "263130836933693530167218012160000000\n",
      "8683317618811886495518194401280000000\n",
      "295232799039604140847618609643520000000\n",
      "10333147966386144929666651337523200000000\n",
      "371993326789901217467999448150835200000000\n",
      "13763753091226345046315979581580902400000000\n",
      "523022617466601111760007224100074291200000000\n",
      "20397882081197443358640281739902897356800000000\n",
      "815915283247897734345611269596115894272000000000\n",
      "33452526613163807108170062053440751665152000000000\n",
      "1405006117752879898543142606244511569936384000000000\n",
      "60415263063373835637355132068513997507264512000000000\n",
      "2658271574788448768043625811014615890319638528000000000\n",
      "119622220865480194561963161495657715064383733760000000000\n",
      "5502622159812088949850305428800254892961651752960000000000\n",
      "258623241511168180642964355153611979969197632389120000000000\n",
      "12413915592536072670862289047373375038521486354677760000000000\n",
      "608281864034267560872252163321295376887552831379210240000000000\n",
      "30414093201713378043612608166064768844377641568960512000000000000\n"
     ]
    }
   ],
   "source": [
    "for x in gen(50):\n",
    "    print (x)"
   ]
  },
  {
   "cell_type": "markdown",
   "metadata": {},
   "source": [
    "# Paskalov trokut"
   ]
  },
  {
   "cell_type": "code",
   "execution_count": 38,
   "metadata": {
    "collapsed": false
   },
   "outputs": [],
   "source": [
    "T = []\n",
    "red = 5\n",
    "for x in range(1, red + 1):\n",
    "    if x == 1:\n",
    "        T.append([x])\n",
    "    elif x == 2:\n",
    "        T.append([1, 1])\n",
    "    elif x == 3:\n",
    "        T.append([1, 2, 1])\n",
    "    else:\n",
    "        r = []\n",
    "        for i in range(1, x+1):\n",
    "            if i == 1:\n",
    "                r.append(1)\n",
    "            elif i > 1 and i < (x):\n",
    "                r.append(i)\n",
    "            else:\n",
    "                r.append(1)\n",
    "        T.append(r)"
   ]
  },
  {
   "cell_type": "code",
   "execution_count": 39,
   "metadata": {
    "collapsed": false
   },
   "outputs": [
    {
     "data": {
      "text/plain": [
       "[[1], [1, 1], [1, 2, 1], [1, 2, 3, 1], [1, 2, 3, 4, 1]]"
      ]
     },
     "execution_count": 39,
     "metadata": {},
     "output_type": "execute_result"
    }
   ],
   "source": [
    "T"
   ]
  },
  {
   "cell_type": "code",
   "execution_count": 73,
   "metadata": {
    "collapsed": true
   },
   "outputs": [],
   "source": [
    "def pas_gen(L):\n",
    "    \"\"\"\n",
    "    Generator za binomne koeficijente\n",
    "    \"\"\"\n",
    "    for i in range (len(L)):\n",
    "        if i == 0:\n",
    "            yield 1\n",
    "        elif i > 0 and i < len(L):\n",
    "            yield L[i-1] + L[i]\n",
    "    else:\n",
    "        yield 1"
   ]
  },
  {
   "cell_type": "code",
   "execution_count": 74,
   "metadata": {
    "collapsed": false
   },
   "outputs": [],
   "source": [
    "def pascal(n):\n",
    "    \"\"\"\n",
    "    Funkcija koja generira redove unutar pascalovoga trokuta\n",
    "    \"\"\"\n",
    "    Trokut = [[1]]\n",
    "    r = []\n",
    "    for x in range(1, n+1):\n",
    "        for i in (pas_gen(Trokut[x-1])):\n",
    "            r.append(i)\n",
    "        Trokut.append(r)\n",
    "        r = []\n",
    "    print (Trokut)"
   ]
  },
  {
   "cell_type": "code",
   "execution_count": 75,
   "metadata": {
    "collapsed": false
   },
   "outputs": [
    {
     "name": "stdout",
     "output_type": "stream",
     "text": [
      "1\n",
      "1\n"
     ]
    }
   ],
   "source": [
    "for x in pas_gen([1]):\n",
    "    print (x)"
   ]
  },
  {
   "cell_type": "code",
   "execution_count": 72,
   "metadata": {
    "collapsed": false
   },
   "outputs": [
    {
     "name": "stdout",
     "output_type": "stream",
     "text": [
      "[[1], [1, 1], [1, 2, 1], [1, 3, 3, 1], [1, 4, 6, 4, 1], [1, 5, 10, 10, 5, 1]]\n"
     ]
    }
   ],
   "source": [
    "pascal(5)"
   ]
  },
  {
   "cell_type": "code",
   "execution_count": null,
   "metadata": {
    "collapsed": true
   },
   "outputs": [],
   "source": []
  }
 ],
 "metadata": {
  "kernelspec": {
   "display_name": "Python 3",
   "language": "python",
   "name": "python3"
  },
  "language_info": {
   "codemirror_mode": {
    "name": "ipython",
    "version": 3
   },
   "file_extension": ".py",
   "mimetype": "text/x-python",
   "name": "python",
   "nbconvert_exporter": "python",
   "pygments_lexer": "ipython3",
   "version": "3.4.3"
  }
 },
 "nbformat": 4,
 "nbformat_minor": 0
}
