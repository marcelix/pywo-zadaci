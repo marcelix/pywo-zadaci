{
 "cells": [
  {
   "cell_type": "markdown",
   "metadata": {},
   "source": [
    "**Euklodov algoritam**"
   ]
  },
  {
   "cell_type": "code",
   "execution_count": 1,
   "metadata": {
    "collapsed": true
   },
   "outputs": [],
   "source": [
    "a = 112\n",
    "b = 13"
   ]
  },
  {
   "cell_type": "code",
   "execution_count": 2,
   "metadata": {
    "collapsed": false
   },
   "outputs": [
    {
     "name": "stdout",
     "output_type": "stream",
     "text": [
      "112 = 13 * 8 + 8\n"
     ]
    }
   ],
   "source": [
    "kvoc = int(a/b)\n",
    "ost = a - (b*kvoc)\n",
    "print(a, \"=\", b, \"*\", kvoc, \"+\", ost)"
   ]
  },
  {
   "cell_type": "code",
   "execution_count": 3,
   "metadata": {
    "collapsed": false
   },
   "outputs": [
    {
     "data": {
      "text/plain": [
       "13"
      ]
     },
     "execution_count": 3,
     "metadata": {},
     "output_type": "execute_result"
    }
   ],
   "source": [
    "a = b\n",
    "a"
   ]
  },
  {
   "cell_type": "code",
   "execution_count": 4,
   "metadata": {
    "collapsed": false
   },
   "outputs": [
    {
     "data": {
      "text/plain": [
       "8"
      ]
     },
     "execution_count": 4,
     "metadata": {},
     "output_type": "execute_result"
    }
   ],
   "source": [
    "b = kvoc\n",
    "b"
   ]
  },
  {
   "cell_type": "code",
   "execution_count": 5,
   "metadata": {
    "collapsed": false
   },
   "outputs": [
    {
     "name": "stdout",
     "output_type": "stream",
     "text": [
      "13 = 8 * 1 + 5\n"
     ]
    }
   ],
   "source": [
    "kvoc = int(a/b)\n",
    "ost = a - (b*kvoc)\n",
    "print(a, \"=\", b, \"*\", kvoc, \"+\", ost)"
   ]
  },
  {
   "cell_type": "code",
   "execution_count": 6,
   "metadata": {
    "collapsed": false
   },
   "outputs": [
    {
     "name": "stdout",
     "output_type": "stream",
     "text": [
      "112 = 13 * 8 + 8\n",
      "13 = 8 * 1 + 5\n",
      "8 = 5 * 1 + 3\n",
      "5 = 3 * 1 + 2\n",
      "3 = 2 * 1 + 1\n",
      "2 = 1 * 2 "
     ]
    }
   ],
   "source": [
    "x = 112\n",
    "y = 13\n",
    "\n",
    "while 1==1:\n",
    "    kvocijent = int(x/y)\n",
    "    ostatak = x - (y*kvocijent)\n",
    "    print(x, \"=\", y, \"*\", kvocijent, end=' ')\n",
    "    if ostatak > 0:\n",
    "        print( \"+\", ostatak) \n",
    "    if ostatak <= 0:\n",
    "        break\n",
    "    x, y = y, ostatak"
   ]
  },
  {
   "cell_type": "code",
   "execution_count": 13,
   "metadata": {
    "collapsed": false
   },
   "outputs": [
    {
     "name": "stdout",
     "output_type": "stream",
     "text": [
      "1\n",
      "2\n",
      "3\n",
      "4\n"
     ]
    }
   ],
   "source": [
    "def dodaj (br_1):\n",
    "    for i in range(1,br_1):\n",
    "        yield i\n",
    "    \n",
    "funkcija = dodaj(5)\n",
    "\n",
    "for broj in funkcija:\n",
    "    print(broj)"
   ]
  },
  {
   "cell_type": "code",
   "execution_count": null,
   "metadata": {
    "collapsed": true
   },
   "outputs": [],
   "source": []
  },
  {
   "cell_type": "code",
   "execution_count": null,
   "metadata": {
    "collapsed": true
   },
   "outputs": [],
   "source": []
  },
  {
   "cell_type": "code",
   "execution_count": null,
   "metadata": {
    "collapsed": true
   },
   "outputs": [],
   "source": []
  }
 ],
 "metadata": {
  "kernelspec": {
   "display_name": "Python 3",
   "language": "python",
   "name": "python3"
  },
  "language_info": {
   "codemirror_mode": {
    "name": "ipython",
    "version": 3
   },
   "file_extension": ".py",
   "mimetype": "text/x-python",
   "name": "python",
   "nbconvert_exporter": "python",
   "pygments_lexer": "ipython3",
   "version": "3.3.5"
  }
 },
 "nbformat": 4,
 "nbformat_minor": 0
}
