{
 "cells": [
  {
   "cell_type": "markdown",
   "metadata": {},
   "source": [
    "**Euklidov algoritam pomoću generatora**"
   ]
  },
  {
   "cell_type": "code",
   "execution_count": 18,
   "metadata": {
    "collapsed": false
   },
   "outputs": [
    {
     "name": "stdout",
     "output_type": "stream",
     "text": [
      "[112, 13, 8, 5, 3, 2, 1]\n"
     ]
    }
   ],
   "source": [
    "def rem_g(x,y):\n",
    "    yield x     \n",
    "    yield y\n",
    "    #vraćaju početne vrijednosti\n",
    "    while 1==1: \n",
    "        kvoc = int(x/y)\n",
    "        #cijelobrojni kvocijent unesenih brojeva\n",
    "        ost = x - (y*kvoc)\n",
    "        #ostatak pri dijeljenju\n",
    "        if ost <= 0:   \n",
    "            break\n",
    "        #uvijet koji prekida rad petlje kad je ostatak 0 jer s tom nulom dalje ne možemo dijeliti\n",
    "        x, y = y, ost\n",
    "        #zamjena x = y i y = ostatak\n",
    "        yield ost\n",
    "           \n",
    "ostatak = list(rem_g(112,13))\n",
    "\n",
    "print(ostatak)"
   ]
  },
  {
   "cell_type": "code",
   "execution_count": 19,
   "metadata": {
    "collapsed": false
   },
   "outputs": [
    {
     "name": "stdout",
     "output_type": "stream",
     "text": [
      "[8, 1, 1, 1, 1, 1]\n"
     ]
    }
   ],
   "source": [
    "def quo_g(x,y):\n",
    "    while 1==1:\n",
    "        if x <= 2:\n",
    "            yield 1\n",
    "        kvoc = int(x/y)\n",
    "        ost = x - (y*kvoc)\n",
    "        if x > 2:\n",
    "            yield kvoc\n",
    "        if ost <= 0:\n",
    "            break\n",
    "        x, y = y, ost\n",
    "        \n",
    "           \n",
    "kvocijent = list(quo_g(112,13))\n",
    "\n",
    "print(kvocijent)"
   ]
  },
  {
   "cell_type": "code",
   "execution_count": null,
   "metadata": {
    "collapsed": true
   },
   "outputs": [],
   "source": []
  },
  {
   "cell_type": "code",
   "execution_count": null,
   "metadata": {
    "collapsed": true
   },
   "outputs": [],
   "source": []
  }
 ],
 "metadata": {
  "kernelspec": {
   "display_name": "Python 3",
   "language": "python",
   "name": "python3"
  },
  "language_info": {
   "codemirror_mode": {
    "name": "ipython",
    "version": 3
   },
   "file_extension": ".py",
   "mimetype": "text/x-python",
   "name": "python",
   "nbconvert_exporter": "python",
   "pygments_lexer": "ipython3",
   "version": "3.3.5"
  }
 },
 "nbformat": 4,
 "nbformat_minor": 0
}
