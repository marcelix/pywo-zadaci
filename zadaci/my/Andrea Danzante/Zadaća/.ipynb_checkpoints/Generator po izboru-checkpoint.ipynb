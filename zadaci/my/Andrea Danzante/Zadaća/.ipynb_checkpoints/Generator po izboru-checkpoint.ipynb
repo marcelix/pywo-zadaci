{
 "cells": [
  {
   "cell_type": "code",
   "execution_count": 1,
   "metadata": {
    "collapsed": true
   },
   "outputs": [],
   "source": [
    "import itertools"
   ]
  },
  {
   "cell_type": "code",
   "execution_count": 2,
   "metadata": {
    "collapsed": true
   },
   "outputs": [],
   "source": [
    "import math"
   ]
  },
  {
   "cell_type": "code",
   "execution_count": 3,
   "metadata": {
    "collapsed": false
   },
   "outputs": [
    {
     "name": "stdout",
     "output_type": "stream",
     "text": [
      "Unesite vase znakove za permutaciju: and\n"
     ]
    }
   ],
   "source": [
    "unos = input(\"Unesite vase znakove za permutaciju: \")"
   ]
  },
  {
   "cell_type": "code",
   "execution_count": 4,
   "metadata": {
    "collapsed": false,
    "scrolled": true
   },
   "outputs": [],
   "source": [
    "permutacije = itertools.permutations(unos, len(unos))\n",
    "a = list(permutacije)"
   ]
  },
  {
   "cell_type": "code",
   "execution_count": 5,
   "metadata": {
    "collapsed": false
   },
   "outputs": [
    {
     "name": "stdout",
     "output_type": "stream",
     "text": [
      "Broj permutacija vašeg unosa -- and -- je 6\n"
     ]
    }
   ],
   "source": [
    "koliko_radi = math.factorial(len(unos))\n",
    "print(\"Broj permutacija vašeg unosa --\", unos, \"-- je\", koliko_radi)"
   ]
  },
  {
   "cell_type": "code",
   "execution_count": 8,
   "metadata": {
    "collapsed": false
   },
   "outputs": [],
   "source": [
    "def igra (a, koliko_radi):\n",
    "    while True:\n",
    "        kazi = input(\"Vasi pokusaji: \")\n",
    "        tupl = tuple(kazi)\n",
    "\n",
    "        je_li = False\n",
    "        for i in range(0,koliko_radi):\n",
    "            if(tupl == a[i]):\n",
    "                je_li = True\n",
    "                print(\"Točno !\")\n",
    "                yield 1\n",
    "        if je_li == False:\n",
    "            print(\"Ova permutacija ne postoji ! :(\")\n",
    "            yield 0\n",
    "\n",
    "        jos = input(\"zelite li jos pogadjati ? [y/n]: \")\n",
    "        if jos == \"n\":\n",
    "            break\n"
   ]
  },
  {
   "cell_type": "code",
   "execution_count": 9,
   "metadata": {
    "collapsed": false
   },
   "outputs": [
    {
     "name": "stdout",
     "output_type": "stream",
     "text": [
      "Vasi pokusaji: and\n",
      "Točno !\n",
      "zelite li jos pogadjati ? [y/n]: y\n",
      "Vasi pokusaji: arn\n",
      "Ova permutacija ne postoji ! :(\n",
      "zelite li jos pogadjati ? [y/n]: y\n",
      "Vasi pokusaji: dan\n",
      "Točno !\n",
      "zelite li jos pogadjati ? [y/n]: n\n",
      "\n",
      "Vaš rezultat: 2 / 6\n"
     ]
    }
   ],
   "source": [
    "igrica = list(igra(a, koliko_radi))\n",
    "bodovi = sum(igrica)\n",
    "print()\n",
    "print(\"Vaš rezultat:\", bodovi,\"/\",koliko_radi)"
   ]
  },
  {
   "cell_type": "code",
   "execution_count": null,
   "metadata": {
    "collapsed": true
   },
   "outputs": [],
   "source": []
  },
  {
   "cell_type": "code",
   "execution_count": null,
   "metadata": {
    "collapsed": true
   },
   "outputs": [],
   "source": []
  }
 ],
 "metadata": {
  "kernelspec": {
   "display_name": "Python 3",
   "language": "python",
   "name": "python3"
  },
  "language_info": {
   "codemirror_mode": {
    "name": "ipython",
    "version": 3
   },
   "file_extension": ".py",
   "mimetype": "text/x-python",
   "name": "python",
   "nbconvert_exporter": "python",
   "pygments_lexer": "ipython3",
   "version": "3.3.5"
  }
 },
 "nbformat": 4,
 "nbformat_minor": 0
}
