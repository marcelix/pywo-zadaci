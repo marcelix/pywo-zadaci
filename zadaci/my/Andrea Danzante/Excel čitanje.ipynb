{
 "cells": [
  {
   "cell_type": "markdown",
   "metadata": {},
   "source": [
    "**Uvođnje biblioteke \"xlrd\" za čitanje excel datoteke**\n"
   ]
  },
  {
   "cell_type": "code",
   "execution_count": 1,
   "metadata": {
    "collapsed": true
   },
   "outputs": [],
   "source": [
    "import xlrd"
   ]
  },
  {
   "cell_type": "code",
   "execution_count": 2,
   "metadata": {
    "collapsed": true
   },
   "outputs": [],
   "source": [
    "filename = \"pywo_some_data.xlsx\""
   ]
  },
  {
   "cell_type": "code",
   "execution_count": 5,
   "metadata": {
    "collapsed": false
   },
   "outputs": [],
   "source": [
    "workbook = xlrd.open_workbook(filename)\n",
    "sheet = workbook.sheet_by_index(0)"
   ]
  },
  {
   "cell_type": "code",
   "execution_count": 11,
   "metadata": {
    "collapsed": false,
    "scrolled": false
   },
   "outputs": [
    {
     "data": {
      "text/plain": [
       "['',\n",
       " 'Josip Mlakar, ',\n",
       " 'Elvis Popović, ',\n",
       " 'Vladimir Milašinović, ',\n",
       " 'Filip Rafajec, ',\n",
       " 'Matej Gucek, ',\n",
       " 'Jura Šolja, ',\n",
       " 'Gabrijela Grgača, ',\n",
       " 'Stjepan Rakarec, ',\n",
       " 'Davorin Špičko, ',\n",
       " 'Milan Pavlović, ',\n",
       " 'Senko Pušec, ',\n",
       " 'Filip Aleksić, ',\n",
       " 'Roman Tomašković, ',\n",
       " 'Peđa Čačić, ',\n",
       " 'Saša Poslončec,',\n",
       " 'Mislav Zebić, ',\n",
       " 'Ian Žonja,',\n",
       " 'Tomislav Cundić, ',\n",
       " 'Matija Kaniški,',\n",
       " 'Petar Šestak,',\n",
       " 'Ivana Završki,',\n",
       " 'Vedran Vađunec, ',\n",
       " 'Matea Bodulušić, ',\n",
       " 'Andrea Danzante,']"
      ]
     },
     "execution_count": 11,
     "metadata": {},
     "output_type": "execute_result"
    }
   ],
   "source": [
    "L = [student.value for student in sheet.col(0)]\n",
    "L"
   ]
  },
  {
   "cell_type": "code",
   "execution_count": 13,
   "metadata": {
    "collapsed": false,
    "scrolled": true
   },
   "outputs": [
    {
     "data": {
      "text/plain": [
       "['Josip Mlakar, ',\n",
       " 'Elvis Popović, ',\n",
       " 'Vladimir Milašinović, ',\n",
       " 'Filip Rafajec, ',\n",
       " 'Matej Gucek, ',\n",
       " 'Jura Šolja, ',\n",
       " 'Gabrijela Grgača, ',\n",
       " 'Stjepan Rakarec, ',\n",
       " 'Davorin Špičko, ',\n",
       " 'Milan Pavlović, ',\n",
       " 'Senko Pušec, ',\n",
       " 'Filip Aleksić, ',\n",
       " 'Roman Tomašković, ',\n",
       " 'Peđa Čačić, ',\n",
       " 'Saša Poslončec,',\n",
       " 'Mislav Zebić, ',\n",
       " 'Ian Žonja,',\n",
       " 'Tomislav Cundić, ',\n",
       " 'Matija Kaniški,',\n",
       " 'Petar Šestak,',\n",
       " 'Ivana Završki,',\n",
       " 'Vedran Vađunec, ',\n",
       " 'Matea Bodulušić, ',\n",
       " 'Andrea Danzante,']"
      ]
     },
     "execution_count": 13,
     "metadata": {},
     "output_type": "execute_result"
    }
   ],
   "source": [
    "M = [x for x in L if x != '']\n",
    "M"
   ]
  },
  {
   "cell_type": "markdown",
   "metadata": {},
   "source": [
    "**Korištenje \"re\" biblioteke za micanje zareza (\",\") s kraja prezimena**"
   ]
  },
  {
   "cell_type": "code",
   "execution_count": 166,
   "metadata": {
    "collapsed": true
   },
   "outputs": [],
   "source": [
    "import re"
   ]
  },
  {
   "cell_type": "code",
   "execution_count": 215,
   "metadata": {
    "collapsed": false,
    "scrolled": true
   },
   "outputs": [
    {
     "name": "stdout",
     "output_type": "stream",
     "text": [
      "[['Andrea', 'Danzante'], ['Davorin', 'Špičko'], ['Elvis', 'Popović'], ['Filip', 'Aleksić'], ['Filip', 'Rafajec'], ['Gabrijela', 'Grgača'], ['Ian', 'Žonja'], ['Ivana', 'Završki'], ['Josip', 'Mlakar'], ['Jura', 'Šolja'], ['Matea', 'Bodulušić'], ['Matej', 'Gucek'], ['Matija', 'Kaniški'], ['Milan', 'Pavlović'], ['Mislav', 'Zebić'], ['Petar', 'Šestak'], ['Peđa', 'Čačić'], ['Roman', 'Tomašković'], ['Saša', 'Poslončec'], ['Senko', 'Pušec'], ['Stjepan', 'Rakarec'], ['Tomislav', 'Cundić'], ['Vedran', 'Vađunec'], ['Vladimir', 'Milašinović']]\n"
     ]
    }
   ],
   "source": [
    "re_lista = []\n",
    "\n",
    "for ime in M:\n",
    "    ja = re.sub(r'[^\\w]', ' ', ime)\n",
    "    razbij = ja.split()\n",
    "    re_lista.append(razbij)\n",
    "\n",
    "\"\"\"\n",
    "\\w -> miče sve što je underscore ili alfanumerički znak\n",
    "[^\\w] -> miče sve što nije underscore ili alfanumerički znak\n",
    "\"\"\"\n",
    "\n",
    "re_lista.sort()\n",
    "print(re_lista)"
   ]
  },
  {
   "cell_type": "markdown",
   "metadata": {},
   "source": [
    "**Micanje zareza (\",\") s kraja prezimene for petljom i strip funkcijom**"
   ]
  },
  {
   "cell_type": "code",
   "execution_count": 139,
   "metadata": {
    "collapsed": false,
    "scrolled": true
   },
   "outputs": [
    {
     "name": "stdout",
     "output_type": "stream",
     "text": [
      "[['Josip', 'Mlakar'], ['Elvis', 'Popović'], ['Vladimir', 'Milašinović'], ['Filip', 'Rafajec'], ['Matej', 'Gucek'], ['Jura', 'Šolja'], ['Gabrijela', 'Grgača'], ['Stjepan', 'Rakarec'], ['Davorin', 'Špičko'], ['Milan', 'Pavlović'], ['Senko', 'Pušec'], ['Filip', 'Aleksić'], ['Roman', 'Tomašković'], ['Peđa', 'Čačić'], ['Saša', 'Poslončec'], ['Mislav', 'Zebić'], ['Ian', 'Žonja'], ['Tomislav', 'Cundić'], ['Matija', 'Kaniški'], ['Petar', 'Šestak'], ['Ivana', 'Završki'], ['Vedran', 'Vađunec'], ['Matea', 'Bodulušić'], ['Andrea', 'Danzante']]\n"
     ]
    }
   ],
   "source": [
    "lista = []\n",
    "\n",
    "for ime in M:\n",
    "    st = ime.strip(', ')\n",
    "    sl = st.split()\n",
    "    lista.append(sl)\n",
    "\n",
    "print(lista)\n"
   ]
  },
  {
   "cell_type": "code",
   "execution_count": 141,
   "metadata": {
    "collapsed": false,
    "scrolled": false
   },
   "outputs": [
    {
     "data": {
      "text/plain": [
       "[['Aleksić', 'Filip'],\n",
       " ['Bodulušić', 'Matea'],\n",
       " ['Cundić', 'Tomislav'],\n",
       " ['Danzante', 'Andrea'],\n",
       " ['Grgača', 'Gabrijela'],\n",
       " ['Gucek', 'Matej'],\n",
       " ['Kaniški', 'Matija'],\n",
       " ['Milašinović', 'Vladimir'],\n",
       " ['Mlakar', 'Josip'],\n",
       " ['Pavlović', 'Milan'],\n",
       " ['Popović', 'Elvis'],\n",
       " ['Poslončec', 'Saša'],\n",
       " ['Pušec', 'Senko'],\n",
       " ['Rafajec', 'Filip'],\n",
       " ['Rakarec', 'Stjepan'],\n",
       " ['Tomašković', 'Roman'],\n",
       " ['Vađunec', 'Vedran'],\n",
       " ['Završki', 'Ivana'],\n",
       " ['Zebić', 'Mislav'],\n",
       " ['Čačić', 'Peđa'],\n",
       " ['Šestak', 'Petar'],\n",
       " ['Šolja', 'Jura'],\n",
       " ['Špičko', 'Davorin'],\n",
       " ['Žonja', 'Ian']]"
      ]
     },
     "execution_count": 141,
     "metadata": {},
     "output_type": "execute_result"
    }
   ],
   "source": [
    "def sredi(ime):\n",
    "    x = ime.strip(\", \")\n",
    "    lis = x.split()\n",
    "    return lis[::-1]\n",
    "\n",
    "P = [sredi(ime) for ime in M]\n",
    "P.sort()\n",
    "P"
   ]
  },
  {
   "cell_type": "markdown",
   "metadata": {},
   "source": [
    "**Uvođenje \"xlswriter\" biblioteke za zapis svih podatka u novi workbook i worksheet excel-a**"
   ]
  },
  {
   "cell_type": "code",
   "execution_count": 162,
   "metadata": {
    "collapsed": false
   },
   "outputs": [],
   "source": [
    "import xlsxwriter"
   ]
  },
  {
   "cell_type": "code",
   "execution_count": 163,
   "metadata": {
    "collapsed": false
   },
   "outputs": [],
   "source": [
    "zapis_workbook = xlsxwriter.Workbook(\"Sortirana_imena.xlsx\")\n",
    "zapis_worksheet = zapis_workbook.add_worksheet()"
   ]
  },
  {
   "cell_type": "code",
   "execution_count": 164,
   "metadata": {
    "collapsed": true
   },
   "outputs": [],
   "source": [
    "row = 0\n",
    "col = 0"
   ]
  },
  {
   "cell_type": "code",
   "execution_count": 165,
   "metadata": {
    "collapsed": false
   },
   "outputs": [],
   "source": [
    "for prezime, ime in (P):\n",
    "    zapis_worksheet.write(row, col, prezime)\n",
    "    zapis_worksheet.write(row, col+1, ime)\n",
    "    row=row+1\n",
    "    \n",
    "zapis_workbook.close()  "
   ]
  }
 ],
 "metadata": {
  "kernelspec": {
   "display_name": "Python 3",
   "language": "python",
   "name": "python3"
  },
  "language_info": {
   "codemirror_mode": {
    "name": "ipython",
    "version": 3
   },
   "file_extension": ".py",
   "mimetype": "text/x-python",
   "name": "python",
   "nbconvert_exporter": "python",
   "pygments_lexer": "ipython3",
   "version": "3.3.5"
  }
 },
 "nbformat": 4,
 "nbformat_minor": 0
}
