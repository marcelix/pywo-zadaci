{
 "cells": [
  {
   "cell_type": "code",
   "execution_count": 8,
   "metadata": {
    "collapsed": true
   },
   "outputs": [],
   "source": [
    "import sympy as sym"
   ]
  },
  {
   "cell_type": "code",
   "execution_count": 84,
   "metadata": {
    "collapsed": false
   },
   "outputs": [],
   "source": [
    "from sympy import init_printing\n",
    "init_printing()\n",
    "%matplotlib inline"
   ]
  },
  {
   "cell_type": "code",
   "execution_count": 85,
   "metadata": {
    "collapsed": true
   },
   "outputs": [],
   "source": [
    "x,y  = sym.symbols(\"x, y\")"
   ]
  },
  {
   "cell_type": "code",
   "execution_count": 18,
   "metadata": {
    "collapsed": false
   },
   "outputs": [
    {
     "data": {
      "image/png": "[encoded data removed]",
      "text/latex": [
       "$$\\sqrt{x^{4} - 3 x + 0.5}$$"
      ],
      "text/plain": [
       "   ________________\n",
       "  ╱  4             \n",
       "╲╱  x  - 3⋅x + 0.5 "
      ]
     },
     "execution_count": 18,
     "metadata": {},
     "output_type": "execute_result"
    }
   ],
   "source": [
    "f = sym.sqrt(x**4 - 3*x + 1/2)\n",
    "f"
   ]
  },
  {
   "cell_type": "code",
   "execution_count": 31,
   "metadata": {
    "collapsed": false
   },
   "outputs": [
    {
     "data": {
      "image/png": "[encoded data removed]",
      "text/latex": [
       "$$\\left [ - \\sqrt{2}, \\quad \\sqrt{2}\\right ]$$"
      ],
      "text/plain": [
       "⎡   ___    ___⎤\n",
       "⎣-╲╱ 2 , ╲╱ 2 ⎦"
      ]
     },
     "execution_count": 31,
     "metadata": {},
     "output_type": "execute_result"
    }
   ],
   "source": [
    "h = x**2 - 2\n",
    "sym.solve(h)"
   ]
  },
  {
   "cell_type": "code",
   "execution_count": 27,
   "metadata": {
    "collapsed": false
   },
   "outputs": [
    {
     "data": {
      "image/png": "[encoded data removed]",
      "text/latex": [
       "$$\\sqrt{y^{4} - 3 y + 0.5}$$"
      ],
      "text/plain": [
       "   ________________\n",
       "  ╱  4             \n",
       "╲╱  y  - 3⋅y + 0.5 "
      ]
     },
     "execution_count": 27,
     "metadata": {},
     "output_type": "execute_result"
    }
   ],
   "source": [
    "jedn = f.subs(x,y)\n",
    "jedn"
   ]
  },
  {
   "cell_type": "code",
   "execution_count": 32,
   "metadata": {
    "collapsed": false
   },
   "outputs": [
    {
     "data": {
      "image/png": "[encoded data removed]",
      "text/latex": [
       "$$\\left(y + 2\\right)^{2} - 2$$"
      ],
      "text/plain": [
       "       2    \n",
       "(y + 2)  - 2"
      ]
     },
     "execution_count": 32,
     "metadata": {},
     "output_type": "execute_result"
    }
   ],
   "source": [
    "jedn_1 = h.subs(x, y+2)\n",
    "jedn_1"
   ]
  },
  {
   "cell_type": "code",
   "execution_count": 38,
   "metadata": {
    "collapsed": false
   },
   "outputs": [
    {
     "data": {
      "image/png": "[encoded data removed]",
      "text/latex": [
       "$$0.28571428571428569842538536249776370823383331298828$$"
      ],
      "text/plain": [
       "0.28571428571428569842538536249776370823383331298828"
      ]
     },
     "execution_count": 38,
     "metadata": {},
     "output_type": "execute_result"
    }
   ],
   "source": [
    "sym.N(2/7,50)"
   ]
  },
  {
   "cell_type": "code",
   "execution_count": 43,
   "metadata": {
    "collapsed": false
   },
   "outputs": [
    {
     "data": {
      "image/png": "[encoded data removed]",
      "text/latex": [
       "$$14.0$$"
      ],
      "text/plain": [
       "14.0000000000000"
      ]
     },
     "execution_count": 43,
     "metadata": {},
     "output_type": "execute_result"
    }
   ],
   "source": [
    "sym.N(jedn_1.subs(y,2))"
   ]
  },
  {
   "cell_type": "code",
   "execution_count": 54,
   "metadata": {
    "collapsed": false
   },
   "outputs": [
    {
     "data": {
      "image/png": "[encoded data removed]",
      "text/latex": [
       "$$\\frac{i \\sqrt{x}}{4} + \\sqrt{- \\frac{i}{8} + \\frac{\\sqrt{x^{3}}}{8}} - \\frac{e^{x}}{7}$$"
      ],
      "text/plain": [
       "                _______________     \n",
       "               ╱          ____      \n",
       "    ___       ╱          ╱  3      x\n",
       "i⋅╲╱ x       ╱     i   ╲╱  x      ℯ \n",
       "─────── +   ╱    - ─ + ───────  - ──\n",
       "   4      ╲╱       8      8       7 "
      ]
     },
     "execution_count": 54,
     "metadata": {},
     "output_type": "execute_result"
    }
   ],
   "source": [
    "i = sym.symbols(\"i\", complexe=True)\n",
    "jedn_2 = sym.sqrt(x)*i/4 -sym.exp(x)/7 + sym.sqrt((sym.sqrt(x**3)-i)/8)\n",
    "jedn_2"
   ]
  },
  {
   "cell_type": "code",
   "execution_count": 62,
   "metadata": {
    "collapsed": false
   },
   "outputs": [
    {
     "data": {
      "image/png": "[encoded data removed]",
      "text/latex": [
       "$$\\frac{i \\sqrt{x}}{4} + \\frac{1}{4} \\sqrt{- 2 i + 2 \\sqrt{x^{3}}} - \\frac{e^{x}}{7}$$"
      ],
      "text/plain": [
       "              __________________     \n",
       "             ╱             ____      \n",
       "    ___     ╱             ╱  3      x\n",
       "i⋅╲╱ x    ╲╱   -2⋅i + 2⋅╲╱  x      ℯ \n",
       "─────── + ────────────────────── - ──\n",
       "   4                4              7 "
      ]
     },
     "execution_count": 62,
     "metadata": {},
     "output_type": "execute_result"
    }
   ],
   "source": [
    "sym.simplify(jedn_2)"
   ]
  },
  {
   "cell_type": "code",
   "execution_count": 66,
   "metadata": {
    "collapsed": false
   },
   "outputs": [
    {
     "data": {
      "image/png": "[encoded data removed]",
      "text/latex": [
       "$$\\left(\\left(y + 2\\right)^{2} + \\sqrt{y^{4} - 3 y + 0.5} - 2\\right)^{\\frac{i \\sqrt{x}}{4} + \\sqrt{- \\frac{i}{8} + \\frac{\\sqrt{x^{3}}}{8}} - \\frac{e^{x}}{7}}$$"
      ],
      "text/plain": [
       "                                                    _______________     \n",
       "                                                   ╱          ____      \n",
       "                                        ___       ╱          ╱  3      x\n",
       "                                    i⋅╲╱ x       ╱     i   ╲╱  x      ℯ \n",
       "                                    ─────── +   ╱    - ─ + ───────  - ──\n",
       "                                       4      ╲╱       8      8       7 \n",
       "⎛              ________________    ⎞                                    \n",
       "⎜       2     ╱  4                 ⎟                                    \n",
       "⎝(y + 2)  + ╲╱  y  - 3⋅y + 0.5  - 2⎠                                    "
      ]
     },
     "execution_count": 66,
     "metadata": {},
     "output_type": "execute_result"
    }
   ],
   "source": [
    "velika_jedn = (jedn + jedn_1)**jedn_2\n",
    "velika_jedn"
   ]
  },
  {
   "cell_type": "code",
   "execution_count": 83,
   "metadata": {
    "collapsed": false
   },
   "outputs": [
    {
     "data": {
      "image/png": "[encoded data removed]",
      "text/plain": [
       "<matplotlib.figure.Figure at 0x8fb8cc0>"
      ]
     },
     "metadata": {},
     "output_type": "display_data"
    },
    {
     "data": {
      "text/plain": [
       "<sympy.plotting.plot.Plot at 0x8813b38>"
      ]
     },
     "execution_count": 83,
     "metadata": {},
     "output_type": "execute_result"
    }
   ],
   "source": [
    "sym.plot(h, (x, -3, 3), ylim = (-3, 3))"
   ]
  },
  {
   "cell_type": "code",
   "execution_count": null,
   "metadata": {
    "collapsed": true
   },
   "outputs": [],
   "source": []
  },
  {
   "cell_type": "code",
   "execution_count": null,
   "metadata": {
    "collapsed": true
   },
   "outputs": [],
   "source": []
  }
 ],
 "metadata": {
  "kernelspec": {
   "display_name": "Python 3",
   "language": "python",
   "name": "python3"
  },
  "language_info": {
   "codemirror_mode": {
    "name": "ipython",
    "version": 3
   },
   "file_extension": ".py",
   "mimetype": "text/x-python",
   "name": "python",
   "nbconvert_exporter": "python",
   "pygments_lexer": "ipython3",
   "version": "3.3.5"
  }
 },
 "nbformat": 4,
 "nbformat_minor": 0
}
