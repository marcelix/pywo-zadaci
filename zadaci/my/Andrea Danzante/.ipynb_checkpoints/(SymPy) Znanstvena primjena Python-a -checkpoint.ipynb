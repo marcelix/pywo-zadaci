{
 "cells": [
  {
   "cell_type": "code",
   "execution_count": 4,
   "metadata": {
    "collapsed": true
   },
   "outputs": [],
   "source": [
    "#import scipy as sp"
   ]
  },
  {
   "cell_type": "code",
   "execution_count": 5,
   "metadata": {
    "collapsed": true
   },
   "outputs": [],
   "source": [
    "#import numpy as np"
   ]
  },
  {
   "cell_type": "code",
   "execution_count": 6,
   "metadata": {
    "collapsed": true
   },
   "outputs": [],
   "source": [
    "import sympy as sym"
   ]
  },
  {
   "cell_type": "code",
   "execution_count": 7,
   "metadata": {
    "collapsed": true
   },
   "outputs": [],
   "source": [
    "#import matplotlib.pyplot as plt"
   ]
  },
  {
   "cell_type": "code",
   "execution_count": 20,
   "metadata": {
    "collapsed": false
   },
   "outputs": [],
   "source": [
    "from sympy import init_printing\n",
    "init_printing()\n",
    "%matplotlib inline \n",
    "#bez ovog će sliku otvorit u novom prozoru"
   ]
  },
  {
   "cell_type": "code",
   "execution_count": 9,
   "metadata": {
    "collapsed": false
   },
   "outputs": [
    {
     "data": {
      "image/png": "[encoded data removed]",
      "text/latex": [
       "$$\\frac{1}{4} \\left(x + \\pi\\right)^{3}$$"
      ],
      "text/plain": [
       "       3\n",
       "(x + π) \n",
       "────────\n",
       "   4    "
      ]
     },
     "execution_count": 9,
     "metadata": {},
     "output_type": "execute_result"
    }
   ],
   "source": [
    "x, y, z = sym.symbols(\"x, y, z\")\n",
    "f = (x + sym.pi)**3 / 4\n",
    "f"
   ]
  },
  {
   "cell_type": "code",
   "execution_count": 10,
   "metadata": {
    "collapsed": false
   },
   "outputs": [
    {
     "data": {
      "image/png": "[encoded data removed]",
      "text/latex": [
       "$$\\frac{1}{4} \\left(3 + \\pi\\right)^{3}$$"
      ],
      "text/plain": [
       "       3\n",
       "(3 + π) \n",
       "────────\n",
       "   4    "
      ]
     },
     "execution_count": 10,
     "metadata": {},
     "output_type": "execute_result"
    }
   ],
   "source": [
    "f.subs(x, 3)"
   ]
  },
  {
   "cell_type": "code",
   "execution_count": 11,
   "metadata": {
    "collapsed": false
   },
   "outputs": [
    {
     "data": {
      "image/png": "[encoded data removed]",
      "text/latex": [
       "$$\\frac{1}{4} \\left(y + 1 + \\pi\\right)^{3}$$"
      ],
      "text/plain": [
       "           3\n",
       "(y + 1 + π) \n",
       "────────────\n",
       "     4      "
      ]
     },
     "execution_count": 11,
     "metadata": {},
     "output_type": "execute_result"
    }
   ],
   "source": [
    "f.subs(x, y+1)"
   ]
  },
  {
   "cell_type": "code",
   "execution_count": 12,
   "metadata": {
    "collapsed": false
   },
   "outputs": [
    {
     "data": {
      "image/png": "[encoded data removed]",
      "text/latex": [
       "$$57.913929484257116295869526353633333323343039253545$$"
      ],
      "text/plain": [
       "57.913929484257116295869526353633333323343039253545"
      ]
     },
     "execution_count": 12,
     "metadata": {},
     "output_type": "execute_result"
    }
   ],
   "source": [
    "sym.N(f.subs(x, 3), 50)"
   ]
  },
  {
   "cell_type": "code",
   "execution_count": 13,
   "metadata": {
    "collapsed": false
   },
   "outputs": [
    {
     "data": {
      "image/png": "[encoded data removed]",
      "text/latex": [
       "$$x^{4} - 2 x^{3} - 3$$"
      ],
      "text/plain": [
       " 4      3    \n",
       "x  - 2⋅x  - 3"
      ]
     },
     "execution_count": 13,
     "metadata": {},
     "output_type": "execute_result"
    }
   ],
   "source": [
    "g = sym.simplify('x^4 - 2*x^3 - 3')\n",
    "g"
   ]
  },
  {
   "cell_type": "code",
   "execution_count": 14,
   "metadata": {
    "collapsed": false
   },
   "outputs": [
    {
     "data": {
      "image/png": "[encoded data removed]",
      "text/latex": [
       "$$\\frac{1}{4} \\left(x + \\pi\\right)^{3} \\left(x^{4} - 2 x^{3} - 3\\right)$$"
      ],
      "text/plain": [
       "       3 ⎛ 4      3    ⎞\n",
       "(x + π) ⋅⎝x  - 2⋅x  - 3⎠\n",
       "────────────────────────\n",
       "           4            "
      ]
     },
     "execution_count": 14,
     "metadata": {},
     "output_type": "execute_result"
    }
   ],
   "source": [
    "h = g*f\n",
    "h"
   ]
  },
  {
   "cell_type": "code",
   "execution_count": 15,
   "metadata": {
    "collapsed": false
   },
   "outputs": [
    {
     "data": {
      "image/png": "[encoded data removed]",
      "text/latex": [
       "$$\\frac{1}{4} \\left(x + \\pi\\right)^{3} \\left(x^{4} - 2 x^{3} - 3\\right)$$"
      ],
      "text/plain": [
       "       3 ⎛ 4      3    ⎞\n",
       "(x + π) ⋅⎝x  - 2⋅x  - 3⎠\n",
       "────────────────────────\n",
       "           4            "
      ]
     },
     "execution_count": 15,
     "metadata": {},
     "output_type": "execute_result"
    }
   ],
   "source": [
    "h.expand()\n",
    "h"
   ]
  },
  {
   "cell_type": "code",
   "execution_count": 16,
   "metadata": {
    "collapsed": false
   },
   "outputs": [
    {
     "data": {
      "image/png": "[encoded data removed]",
      "text/plain": [
       "<matplotlib.figure.Figure at 0x84856a0>"
      ]
     },
     "metadata": {},
     "output_type": "display_data"
    },
    {
     "data": {
      "text/plain": [
       "<sympy.plotting.plot.Plot at 0x84855c0>"
      ]
     },
     "execution_count": 16,
     "metadata": {},
     "output_type": "execute_result"
    }
   ],
   "source": [
    "sym.plot(g, (x, -3, 3), ylim=(-5, 5))"
   ]
  },
  {
   "cell_type": "code",
   "execution_count": 14,
   "metadata": {
    "collapsed": false
   },
   "outputs": [
    {
     "data": {
      "image/png": "[encoded data removed]",
      "text/latex": [
       "$$\\left [ -1, \\quad 1 + \\sqrt[3]{2}, \\quad 1 + \\sqrt[3]{2} \\left(- \\frac{1}{2} - \\frac{\\sqrt{3} i}{2}\\right), \\quad 1 + \\sqrt[3]{2} \\left(- \\frac{1}{2} + \\frac{\\sqrt{3} i}{2}\\right)\\right ]$$"
      ],
      "text/plain": [
       "⎡                         ⎛        ___  ⎞            ⎛        ___  ⎞⎤\n",
       "⎢        3 ___      3 ___ ⎜  1   ╲╱ 3 ⋅ⅈ⎟      3 ___ ⎜  1   ╲╱ 3 ⋅ⅈ⎟⎥\n",
       "⎢-1, 1 + ╲╱ 2 , 1 + ╲╱ 2 ⋅⎜- ─ - ───────⎟, 1 + ╲╱ 2 ⋅⎜- ─ + ───────⎟⎥\n",
       "⎣                         ⎝  2      2   ⎠            ⎝  2      2   ⎠⎦"
      ]
     },
     "execution_count": 14,
     "metadata": {},
     "output_type": "execute_result"
    }
   ],
   "source": [
    "sym.solve(g, x)"
   ]
  },
  {
   "cell_type": "code",
   "execution_count": 15,
   "metadata": {
    "collapsed": false
   },
   "outputs": [
    {
     "data": {
      "image/png": "[encoded data removed]",
      "text/latex": [
       "$$x^{3} + \\sin{\\left (x \\right )}$$"
      ],
      "text/plain": [
       " 3         \n",
       "x  + sin(x)"
      ]
     },
     "execution_count": 15,
     "metadata": {},
     "output_type": "execute_result"
    }
   ],
   "source": [
    "x**3 + sym.sin(x)"
   ]
  },
  {
   "cell_type": "code",
   "execution_count": 16,
   "metadata": {
    "collapsed": false
   },
   "outputs": [
    {
     "data": {
      "image/png": "[encoded data removed]",
      "text/latex": [
       "$$3 x^{2} + \\cos{\\left (x \\right )}$$"
      ],
      "text/plain": [
       "   2         \n",
       "3⋅x  + cos(x)"
      ]
     },
     "execution_count": 16,
     "metadata": {},
     "output_type": "execute_result"
    }
   ],
   "source": [
    "sym.diff(x**3 + sym.sin(x), x)"
   ]
  },
  {
   "cell_type": "code",
   "execution_count": 17,
   "metadata": {
    "collapsed": false
   },
   "outputs": [
    {
     "data": {
      "image/png": "[encoded data removed]",
      "text/latex": [
       "$$- \\cos{\\left (x \\right )} + 6$$"
      ],
      "text/plain": [
       "-cos(x) + 6"
      ]
     },
     "execution_count": 17,
     "metadata": {},
     "output_type": "execute_result"
    }
   ],
   "source": [
    "sym.diff(x**3 + sym.sin(x), x, 3)"
   ]
  },
  {
   "cell_type": "code",
   "execution_count": 18,
   "metadata": {
    "collapsed": false
   },
   "outputs": [
    {
     "data": {
      "image/png": "[encoded data removed]",
      "text/latex": [
       "$$6 x - \\sin{\\left (x \\right )}$$"
      ],
      "text/plain": [
       "6⋅x - sin(x)"
      ]
     },
     "execution_count": 18,
     "metadata": {},
     "output_type": "execute_result"
    }
   ],
   "source": [
    "sym.integrate(-sym.cos(x)+6)"
   ]
  },
  {
   "cell_type": "markdown",
   "metadata": {},
   "source": [
    "#Zadatak: "
   ]
  },
  {
   "cell_type": "markdown",
   "metadata": {},
   "source": [
    "Neka je $h(x) = -x^4 + 3x^2 + x + 2$ "
   ]
  },
  {
   "cell_type": "markdown",
   "metadata": {},
   "source": [
    "1) Pronađi nultočke od $h$"
   ]
  },
  {
   "cell_type": "code",
   "execution_count": 19,
   "metadata": {
    "collapsed": true
   },
   "outputs": [],
   "source": [
    "x = sym.symbols('x')"
   ]
  },
  {
   "cell_type": "code",
   "execution_count": 23,
   "metadata": {
    "collapsed": false
   },
   "outputs": [
    {
     "data": {
      "image/png": "[encoded data removed]",
      "text/latex": [
       "$$\\left [ 2, \\quad - \\frac{2}{3} - \\frac{1}{9 \\left(- \\frac{1}{2} - \\frac{\\sqrt{3} i}{2}\\right) \\sqrt[3]{\\frac{\\sqrt{69}}{18} + \\frac{25}{54}}} - \\left(- \\frac{1}{2} - \\frac{\\sqrt{3} i}{2}\\right) \\sqrt[3]{\\frac{\\sqrt{69}}{18} + \\frac{25}{54}}, \\quad - \\frac{2}{3} - \\left(- \\frac{1}{2} + \\frac{\\sqrt{3} i}{2}\\right) \\sqrt[3]{\\frac{\\sqrt{69}}{18} + \\frac{25}{54}} - \\frac{1}{9 \\left(- \\frac{1}{2} + \\frac{\\sqrt{3} i}{2}\\right) \\sqrt[3]{\\frac{\\sqrt{69}}{18} + \\frac{25}{54}}}, \\quad - \\sqrt[3]{\\frac{\\sqrt{69}}{18} + \\frac{25}{54}} - \\frac{2}{3} - \\frac{1}{9 \\sqrt[3]{\\frac{\\sqrt{69}}{18} + \\frac{25}{54}}}\\right ]$$"
      ],
      "text/plain": [
       "⎡                                                                     ________\n",
       "⎢                                                ⎛        ___  ⎞     ╱   ____ \n",
       "⎢     2                    1                     ⎜  1   ╲╱ 3 ⋅ⅈ⎟    ╱  ╲╱ 69  \n",
       "⎢2, - ─ - ──────────────────────────────────── - ⎜- ─ - ───────⎟⋅3 ╱   ────── \n",
       "⎢     3                          _____________   ⎝  2      2   ⎠ ╲╱      18   \n",
       "⎢           ⎛        ___  ⎞     ╱   ____                                      \n",
       "⎢           ⎜  1   ╲╱ 3 ⋅ⅈ⎟    ╱  ╲╱ 69    25                                 \n",
       "⎢         9⋅⎜- ─ - ───────⎟⋅3 ╱   ────── + ──                                 \n",
       "⎣           ⎝  2      2   ⎠ ╲╱      18     54                                 \n",
       "\n",
       "_____                             _____________                               \n",
       "             ⎛        ___  ⎞     ╱   ____                                     \n",
       "  25     2   ⎜  1   ╲╱ 3 ⋅ⅈ⎟    ╱  ╲╱ 69    25                     1          \n",
       "+ ── , - ─ - ⎜- ─ + ───────⎟⋅3 ╱   ────── + ──  - ────────────────────────────\n",
       "  54     3   ⎝  2      2   ⎠ ╲╱      18     54                           _____\n",
       "                                                    ⎛        ___  ⎞     ╱   __\n",
       "                                                    ⎜  1   ╲╱ 3 ⋅ⅈ⎟    ╱  ╲╱ 6\n",
       "                                                  9⋅⎜- ─ + ───────⎟⋅3 ╱   ────\n",
       "                                                    ⎝  2      2   ⎠ ╲╱      18\n",
       "\n",
       "                 _____________                           ⎤\n",
       "                ╱   ____                                 ⎥\n",
       "               ╱  ╲╱ 69    25    2            1          ⎥\n",
       "────────, - 3 ╱   ────── + ──  - ─ - ────────────────────⎥\n",
       "________    ╲╱      18     54    3          _____________⎥\n",
       "__                                         ╱   ____      ⎥\n",
       "9    25                                   ╱  ╲╱ 69    25 ⎥\n",
       "── + ──                              9⋅3 ╱   ────── + ── ⎥\n",
       "     54                                ╲╱      18     54 ⎦"
      ]
     },
     "execution_count": 23,
     "metadata": {},
     "output_type": "execute_result"
    }
   ],
   "source": [
    "nultocke = sym.solve(-x**4 + 3*x**2 + x + 2)\n",
    "nultocke"
   ]
  },
  {
   "cell_type": "code",
   "execution_count": 21,
   "metadata": {
    "collapsed": false
   },
   "outputs": [
    {
     "data": {
      "image/png": "[encoded data removed]",
      "text/latex": [
       "$$\\left [ 2.0, \\quad -0.122561166876654 + 0.744861766619744 i, \\quad -0.122561166876654 - 0.744861766619744 i, \\quad -1.75487766624669\\right ]$$"
      ],
      "text/plain": [
       "[2.0, -0.122561166876654 + 0.744861766619744⋅ⅈ, -0.122561166876654 - - -0.7448\n",
       "61766619744⋅ⅈ, -1.75487766624669]"
      ]
     },
     "execution_count": 21,
     "metadata": {},
     "output_type": "execute_result"
    }
   ],
   "source": [
    "[sym.N(x) for x in  nultocke]"
   ]
  },
  {
   "cell_type": "markdown",
   "metadata": {},
   "source": [
    "2) Pronađi lokalne ekstreme od $h$"
   ]
  },
  {
   "cell_type": "code",
   "execution_count": 24,
   "metadata": {
    "collapsed": false,
    "scrolled": true
   },
   "outputs": [
    {
     "data": {
      "image/png": "[encoded data removed]",
      "text/latex": [
       "$$\\left [ \\left(- \\frac{1}{2} - \\frac{\\sqrt{3} i}{2}\\right) \\sqrt[3]{\\frac{1}{8} + \\frac{\\sqrt{7} i}{8}} + \\frac{1}{2 \\left(- \\frac{1}{2} - \\frac{\\sqrt{3} i}{2}\\right) \\sqrt[3]{\\frac{1}{8} + \\frac{\\sqrt{7} i}{8}}}, \\quad \\frac{1}{2 \\left(- \\frac{1}{2} + \\frac{\\sqrt{3} i}{2}\\right) \\sqrt[3]{\\frac{1}{8} + \\frac{\\sqrt{7} i}{8}}} + \\left(- \\frac{1}{2} + \\frac{\\sqrt{3} i}{2}\\right) \\sqrt[3]{\\frac{1}{8} + \\frac{\\sqrt{7} i}{8}}, \\quad \\frac{1}{2 \\sqrt[3]{\\frac{1}{8} + \\frac{\\sqrt{7} i}{8}}} + \\sqrt[3]{\\frac{1}{8} + \\frac{\\sqrt{7} i}{8}}\\right ]$$"
      ],
      "text/plain": [
       "⎡                     _____________                                           \n",
       "⎢⎛        ___  ⎞     ╱       ___                                              \n",
       "⎢⎜  1   ╲╱ 3 ⋅ⅈ⎟    ╱  1   ╲╱ 7 ⋅ⅈ                     1                      \n",
       "⎢⎜- ─ - ───────⎟⋅3 ╱   ─ + ───────  + ────────────────────────────────────, ──\n",
       "⎢⎝  2      2   ⎠ ╲╱    8      8                              _____________    \n",
       "⎢                                       ⎛        ___  ⎞     ╱       ___       \n",
       "⎢                                       ⎜  1   ╲╱ 3 ⋅ⅈ⎟    ╱  1   ╲╱ 7 ⋅ⅈ     \n",
       "⎢                                     2⋅⎜- ─ - ───────⎟⋅3 ╱   ─ + ───────   2⋅\n",
       "⎣                                       ⎝  2      2   ⎠ ╲╱    8      8        \n",
       "\n",
       "                                                          _____________       \n",
       "                                     ⎛        ___  ⎞     ╱       ___          \n",
       "               1                     ⎜  1   ╲╱ 3 ⋅ⅈ⎟    ╱  1   ╲╱ 7 ⋅ⅈ        \n",
       "────────────────────────────────── + ⎜- ─ + ───────⎟⋅3 ╱   ─ + ─────── , ─────\n",
       "                     _____________   ⎝  2      2   ⎠ ╲╱    8      8           \n",
       "⎛        ___  ⎞     ╱       ___                                               \n",
       "⎜  1   ╲╱ 3 ⋅ⅈ⎟    ╱  1   ╲╱ 7 ⋅ⅈ                                             \n",
       "⎜- ─ + ───────⎟⋅3 ╱   ─ + ───────                                        2⋅3 ╱\n",
       "⎝  2      2   ⎠ ╲╱    8      8                                             ╲╱ \n",
       "\n",
       "                       _____________⎤\n",
       "                      ╱       ___   ⎥\n",
       "    1                ╱  1   ╲╱ 7 ⋅ⅈ ⎥\n",
       "─────────────── + 3 ╱   ─ + ─────── ⎥\n",
       "  _____________   ╲╱    8      8    ⎥\n",
       " ╱       ___                        ⎥\n",
       "╱  1   ╲╱ 7 ⋅ⅈ                      ⎥\n",
       "   ─ + ───────                      ⎥\n",
       "   8      8                         ⎦"
      ]
     },
     "execution_count": 24,
     "metadata": {},
     "output_type": "execute_result"
    }
   ],
   "source": [
    "ekstremi = sym.diff(h_2)\n",
    "sym.solve(ekstremi)"
   ]
  },
  {
   "cell_type": "markdown",
   "metadata": {},
   "source": [
    "3) Nacrtaj graf funkcije $h$ i provijeri rezultate"
   ]
  },
  {
   "cell_type": "code",
   "execution_count": 23,
   "metadata": {
    "collapsed": false
   },
   "outputs": [
    {
     "data": {
      "image/png": "[encoded data removed]",
      "text/plain": [
       "<matplotlib.figure.Figure at 0x896fb70>"
      ]
     },
     "metadata": {},
     "output_type": "display_data"
    },
    {
     "data": {
      "text/plain": [
       "<sympy.plotting.plot.Plot at 0x8c9fe48>"
      ]
     },
     "execution_count": 23,
     "metadata": {},
     "output_type": "execute_result"
    }
   ],
   "source": [
    "h_2 = -x**4 + 3*x**2 + x + 2\n",
    "#%matplotlib inline već je gore definiran\n",
    "sym.plot(h_2, (x, -2, 2.2), ylim=(-1, 6))"
   ]
  },
  {
   "cell_type": "code",
   "execution_count": null,
   "metadata": {
    "collapsed": true
   },
   "outputs": [],
   "source": []
  },
  {
   "cell_type": "code",
   "execution_count": null,
   "metadata": {
    "collapsed": true
   },
   "outputs": [],
   "source": []
  },
  {
   "cell_type": "code",
   "execution_count": null,
   "metadata": {
    "collapsed": true
   },
   "outputs": [],
   "source": []
  }
 ],
 "metadata": {
  "kernelspec": {
   "display_name": "Python 3",
   "language": "python",
   "name": "python3"
  },
  "language_info": {
   "codemirror_mode": {
    "name": "ipython",
    "version": 3
   },
   "file_extension": ".py",
   "mimetype": "text/x-python",
   "name": "python",
   "nbconvert_exporter": "python",
   "pygments_lexer": "ipython3",
   "version": "3.3.5"
  }
 },
 "nbformat": 4,
 "nbformat_minor": 0
}
