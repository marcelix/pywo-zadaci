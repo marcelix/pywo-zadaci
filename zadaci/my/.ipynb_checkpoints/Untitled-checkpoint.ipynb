{
 "cells": [
  {
   "cell_type": "code",
   "execution_count": 11,
   "metadata": {
    "collapsed": false
   },
   "outputs": [
    {
     "ename": "ImportError",
     "evalue": "No module named 'scipy'",
     "output_type": "error",
     "traceback": [
      "\u001b[1;31m---------------------------------------------------------------------------\u001b[0m",
      "\u001b[1;31mImportError\u001b[0m                               Traceback (most recent call last)",
      "\u001b[1;32m<ipython-input-11-7e642d76ec1e>\u001b[0m in \u001b[0;36m<module>\u001b[1;34m()\u001b[0m\n\u001b[1;32m----> 1\u001b[1;33m \u001b[1;32mimport\u001b[0m \u001b[0mscipy\u001b[0m \u001b[1;32mas\u001b[0m \u001b[0msp\u001b[0m\u001b[1;33m\u001b[0m\u001b[0m\n\u001b[0m",
      "\u001b[1;31mImportError\u001b[0m: No module named 'scipy'"
     ]
    }
   ],
   "source": [
    "import scipy as sp"
   ]
  },
  {
   "cell_type": "code",
   "execution_count": 12,
   "metadata": {
    "collapsed": false
   },
   "outputs": [],
   "source": [
    "import numpy as np"
   ]
  },
  {
   "cell_type": "code",
   "execution_count": 13,
   "metadata": {
    "collapsed": false,
    "scrolled": true
   },
   "outputs": [],
   "source": [
    "import sympy as sym"
   ]
  },
  {
   "cell_type": "code",
   "execution_count": 44,
   "metadata": {
    "collapsed": false
   },
   "outputs": [],
   "source": [
    "import matplotlib.pyplot as plt"
   ]
  },
  {
   "cell_type": "code",
   "execution_count": 34,
   "metadata": {
    "collapsed": false
   },
   "outputs": [
    {
     "data": {
      "text/latex": [
       "$$- x^{4} + 3 x^{2} + x + 2$$"
      ],
      "text/plain": [
       "   4      2        \n",
       "- x  + 3⋅x  + x + 2"
      ]
     },
     "execution_count": 34,
     "metadata": {},
     "output_type": "execute_result"
    }
   ],
   "source": [
    "sym.init_printing(use_unicode=True)\n",
    "x=sym.symbols('x')  #definiranje simbola 'x' kao varijablu (sa kojom se kasnije može vršiti supstitucija, računanje nultočaka, deriviranje po određenoj varijabli,..)\n",
    "h=-x**4+3*x**2+x+2  #u objekt 'h' se pohranjuje navedeni polinom\n",
    "h"
   ]
  },
  {
   "cell_type": "code",
   "execution_count": 36,
   "metadata": {
    "collapsed": false
   },
   "outputs": [
    {
     "data": {
      "text/latex": [
       "$$\\left [ 2, \\quad - \\frac{2}{3} - \\frac{1}{9 \\left(- \\frac{1}{2} - \\frac{\\sqrt{3} i}{2}\\right) \\sqrt[3]{\\frac{\\sqrt{69}}{18} + \\frac{25}{54}}} - \\left(- \\frac{1}{2} - \\frac{\\sqrt{3} i}{2}\\right) \\sqrt[3]{\\frac{\\sqrt{69}}{18} + \\frac{25}{54}}, \\quad - \\frac{2}{3} - \\left(- \\frac{1}{2} + \\frac{\\sqrt{3} i}{2}\\right) \\sqrt[3]{\\frac{\\sqrt{69}}{18} + \\frac{25}{54}} - \\frac{1}{9 \\left(- \\frac{1}{2} + \\frac{\\sqrt{3} i}{2}\\right) \\sqrt[3]{\\frac{\\sqrt{69}}{18} + \\frac{25}{54}}}, \\quad - \\sqrt[3]{\\frac{\\sqrt{69}}{18} + \\frac{25}{54}} - \\frac{2}{3} - \\frac{1}{9 \\sqrt[3]{\\frac{\\sqrt{69}}{18} + \\frac{25}{54}}}\\right ]$$"
      ],
      "text/plain": [
       "⎡                                                                     ________\n",
       "⎢                                                ⎛        ___  ⎞     ╱   ____ \n",
       "⎢     2                    1                     ⎜  1   ╲╱ 3 ⋅ⅈ⎟    ╱  ╲╱ 69  \n",
       "⎢2, - ─ - ──────────────────────────────────── - ⎜- ─ - ───────⎟⋅3 ╱   ────── \n",
       "⎢     3                          _____________   ⎝  2      2   ⎠ ╲╱      18   \n",
       "⎢           ⎛        ___  ⎞     ╱   ____                                      \n",
       "⎢           ⎜  1   ╲╱ 3 ⋅ⅈ⎟    ╱  ╲╱ 69    25                                 \n",
       "⎢         9⋅⎜- ─ - ───────⎟⋅3 ╱   ────── + ──                                 \n",
       "⎣           ⎝  2      2   ⎠ ╲╱      18     54                                 \n",
       "\n",
       "_____                             _____________                               \n",
       "             ⎛        ___  ⎞     ╱   ____                                     \n",
       "  25     2   ⎜  1   ╲╱ 3 ⋅ⅈ⎟    ╱  ╲╱ 69    25                     1          \n",
       "+ ── , - ─ - ⎜- ─ + ───────⎟⋅3 ╱   ────── + ──  - ────────────────────────────\n",
       "  54     3   ⎝  2      2   ⎠ ╲╱      18     54                           _____\n",
       "                                                    ⎛        ___  ⎞     ╱   __\n",
       "                                                    ⎜  1   ╲╱ 3 ⋅ⅈ⎟    ╱  ╲╱ 6\n",
       "                                                  9⋅⎜- ─ + ───────⎟⋅3 ╱   ────\n",
       "                                                    ⎝  2      2   ⎠ ╲╱      18\n",
       "\n",
       "                 _____________                           ⎤\n",
       "                ╱   ____                                 ⎥\n",
       "               ╱  ╲╱ 69    25    2            1          ⎥\n",
       "────────, - 3 ╱   ────── + ──  - ─ - ────────────────────⎥\n",
       "________    ╲╱      18     54    3          _____________⎥\n",
       "__                                         ╱   ____      ⎥\n",
       "9    25                                   ╱  ╲╱ 69    25 ⎥\n",
       "── + ──                              9⋅3 ╱   ────── + ── ⎥\n",
       "     54                                ╲╱      18     54 ⎦"
      ]
     },
     "execution_count": 36,
     "metadata": {},
     "output_type": "execute_result"
    }
   ],
   "source": [
    "sym.solve(h,x)  #nultočke funkcije h"
   ]
  },
  {
   "cell_type": "code",
   "execution_count": 39,
   "metadata": {
    "collapsed": false
   },
   "outputs": [
    {
     "data": {
      "text/latex": [
       "$$- 4 x^{3} + 6 x + 1$$"
      ],
      "text/plain": [
       "     3          \n",
       "- 4⋅x  + 6⋅x + 1"
      ]
     },
     "execution_count": 39,
     "metadata": {},
     "output_type": "execute_result"
    }
   ],
   "source": [
    "h_1=sym.diff(h)\n",
    "h_1"
   ]
  },
  {
   "cell_type": "code",
   "execution_count": 41,
   "metadata": {
    "collapsed": false
   },
   "outputs": [
    {
     "data": {
      "text/latex": [
       "$$\\left [ \\left(- \\frac{1}{2} - \\frac{\\sqrt{3} i}{2}\\right) \\sqrt[3]{\\frac{1}{8} + \\frac{\\sqrt{7} i}{8}} + \\frac{1}{2 \\left(- \\frac{1}{2} - \\frac{\\sqrt{3} i}{2}\\right) \\sqrt[3]{\\frac{1}{8} + \\frac{\\sqrt{7} i}{8}}}, \\quad \\frac{1}{2 \\left(- \\frac{1}{2} + \\frac{\\sqrt{3} i}{2}\\right) \\sqrt[3]{\\frac{1}{8} + \\frac{\\sqrt{7} i}{8}}} + \\left(- \\frac{1}{2} + \\frac{\\sqrt{3} i}{2}\\right) \\sqrt[3]{\\frac{1}{8} + \\frac{\\sqrt{7} i}{8}}, \\quad \\frac{1}{2 \\sqrt[3]{\\frac{1}{8} + \\frac{\\sqrt{7} i}{8}}} + \\sqrt[3]{\\frac{1}{8} + \\frac{\\sqrt{7} i}{8}}\\right ]$$"
      ],
      "text/plain": [
       "⎡                     _____________                                           \n",
       "⎢⎛        ___  ⎞     ╱       ___                                              \n",
       "⎢⎜  1   ╲╱ 3 ⋅ⅈ⎟    ╱  1   ╲╱ 7 ⋅ⅈ                     1                      \n",
       "⎢⎜- ─ - ───────⎟⋅3 ╱   ─ + ───────  + ────────────────────────────────────, ──\n",
       "⎢⎝  2      2   ⎠ ╲╱    8      8                              _____________    \n",
       "⎢                                       ⎛        ___  ⎞     ╱       ___       \n",
       "⎢                                       ⎜  1   ╲╱ 3 ⋅ⅈ⎟    ╱  1   ╲╱ 7 ⋅ⅈ     \n",
       "⎢                                     2⋅⎜- ─ - ───────⎟⋅3 ╱   ─ + ───────   2⋅\n",
       "⎣                                       ⎝  2      2   ⎠ ╲╱    8      8        \n",
       "\n",
       "                                                          _____________       \n",
       "                                     ⎛        ___  ⎞     ╱       ___          \n",
       "               1                     ⎜  1   ╲╱ 3 ⋅ⅈ⎟    ╱  1   ╲╱ 7 ⋅ⅈ        \n",
       "────────────────────────────────── + ⎜- ─ + ───────⎟⋅3 ╱   ─ + ─────── , ─────\n",
       "                     _____________   ⎝  2      2   ⎠ ╲╱    8      8           \n",
       "⎛        ___  ⎞     ╱       ___                                               \n",
       "⎜  1   ╲╱ 3 ⋅ⅈ⎟    ╱  1   ╲╱ 7 ⋅ⅈ                                             \n",
       "⎜- ─ + ───────⎟⋅3 ╱   ─ + ───────                                        2⋅3 ╱\n",
       "⎝  2      2   ⎠ ╲╱    8      8                                             ╲╱ \n",
       "\n",
       "                       _____________⎤\n",
       "                      ╱       ___   ⎥\n",
       "    1                ╱  1   ╲╱ 7 ⋅ⅈ ⎥\n",
       "─────────────── + 3 ╱   ─ + ─────── ⎥\n",
       "  _____________   ╲╱    8      8    ⎥\n",
       " ╱       ___                        ⎥\n",
       "╱  1   ╲╱ 7 ⋅ⅈ                      ⎥\n",
       "   ─ + ───────                      ⎥\n",
       "   8      8                         ⎦"
      ]
     },
     "execution_count": 41,
     "metadata": {},
     "output_type": "execute_result"
    }
   ],
   "source": [
    "sym.solve(h_1,x)"
   ]
  },
  {
   "cell_type": "code",
   "execution_count": 46,
   "metadata": {
    "collapsed": false
   },
   "outputs": [
    {
     "data": {
      "image/png": "[encoded data removed]",
      "text/plain": [
       "<matplotlib.figure.Figure at 0x7f65e76f2cf8>"
      ]
     },
     "metadata": {},
     "output_type": "display_data"
    },
    {
     "data": {
      "text/plain": [
       "<sympy.plotting.plot.Plot at 0x7f65e770ffd0>"
      ]
     },
     "execution_count": 46,
     "metadata": {},
     "output_type": "execute_result"
    }
   ],
   "source": [
    "%matplotlib inline\n",
    "sym.plot(h, (x, -3,3) , ylim=(-1,6))"
   ]
  },
  {
   "cell_type": "code",
   "execution_count": 48,
   "metadata": {
    "collapsed": false
   },
   "outputs": [
    {
     "data": {
      "text/plain": [
       "array([1, 2, 3, 4])"
      ]
     },
     "execution_count": 48,
     "metadata": {},
     "output_type": "execute_result"
    }
   ],
   "source": [
    "v=np.array([1,2,3,4])   #niz (lista) sličan onome defaultnome u pythonu, samo što nije moguće miješati stringove sa brojevima\n",
    "v"
   ]
  },
  {
   "cell_type": "code",
   "execution_count": 52,
   "metadata": {
    "collapsed": false
   },
   "outputs": [
    {
     "data": {
      "text/plain": [
       "array([[1, 2],\n",
       "       [3, 4]])"
      ]
     },
     "execution_count": 52,
     "metadata": {},
     "output_type": "execute_result"
    }
   ],
   "source": [
    "M=np.array([[1,2],[3,4]]) #matrica dimenzija 2x2\n",
    "M"
   ]
  },
  {
   "cell_type": "code",
   "execution_count": 54,
   "metadata": {
    "collapsed": false
   },
   "outputs": [
    {
     "data": {
      "text/plain": [
       "(numpy.ndarray, numpy.ndarray)"
      ]
     },
     "execution_count": 54,
     "metadata": {},
     "output_type": "execute_result"
    }
   ],
   "source": [
    "type(v),type(M) #za numpy su oba ta objekta jednaka"
   ]
  },
  {
   "cell_type": "code",
   "execution_count": 56,
   "metadata": {
    "collapsed": false
   },
   "outputs": [
    {
     "data": {
      "image/png": "[encoded data removed]",
      "text/latex": [
       "$$\\left ( \\left ( 4\\right ), \\quad \\left ( 2, \\quad 2\\right )\\right )$$"
      ],
      "text/plain": [
       "((4,), (2, 2))"
      ]
     },
     "execution_count": 56,
     "metadata": {},
     "output_type": "execute_result"
    }
   ],
   "source": [
    "v.shape, M.shape  #dimenzija za svaki pojedini objekt (v je 1-dim niz od 4 elemenata, a M je 2-dim niz od 2 reda i 2 stupca)"
   ]
  },
  {
   "cell_type": "code",
   "execution_count": 59,
   "metadata": {
    "collapsed": false
   },
   "outputs": [
    {
     "data": {
      "image/png": "[encoded data removed]",
      "text/latex": [
       "$$\\left ( 4, \\quad 4\\right )$$"
      ],
      "text/plain": [
       "(4, 4)"
      ]
     },
     "execution_count": 59,
     "metadata": {},
     "output_type": "execute_result"
    }
   ],
   "source": [
    "v.size, M.size  #ukupan broj elemanata za svaki objekt (v = 1*4 , M = 2*2)"
   ]
  },
  {
   "cell_type": "code",
   "execution_count": 60,
   "metadata": {
    "collapsed": false
   },
   "outputs": [
    {
     "data": {
      "text/plain": [
       "array([0, 1, 2, 3, 4, 5, 6, 7, 8, 9])"
      ]
     },
     "execution_count": 60,
     "metadata": {},
     "output_type": "execute_result"
    }
   ],
   "source": [
    "x=np.arange(0,10,1)\n",
    "x"
   ]
  },
  {
   "cell_type": "code",
   "execution_count": 61,
   "metadata": {
    "collapsed": false
   },
   "outputs": [
    {
     "data": {
      "text/plain": [
       "array([  0.        ,   0.41666667,   0.83333333,   1.25      ,\n",
       "         1.66666667,   2.08333333,   2.5       ,   2.91666667,\n",
       "         3.33333333,   3.75      ,   4.16666667,   4.58333333,\n",
       "         5.        ,   5.41666667,   5.83333333,   6.25      ,\n",
       "         6.66666667,   7.08333333,   7.5       ,   7.91666667,\n",
       "         8.33333333,   8.75      ,   9.16666667,   9.58333333,  10.        ])"
      ]
     },
     "execution_count": 61,
     "metadata": {},
     "output_type": "execute_result"
    }
   ],
   "source": [
    "np.linspace(0,10,25)"
   ]
  },
  {
   "cell_type": "code",
   "execution_count": 69,
   "metadata": {
    "collapsed": false
   },
   "outputs": [
    {
     "data": {
      "text/plain": [
       "array([ 0.37208412,  0.09093508,  0.92655939,  0.19650989,  0.95129824,\n",
       "        0.50430342,  0.40581045,  0.8393113 ,  0.44384382,  0.4551391 ,\n",
       "        0.18067113,  0.76290092,  0.1851022 ,  0.80059044,  0.36910131,\n",
       "        0.35704936,  0.26720861,  0.58469963,  0.65887164,  0.05168575,\n",
       "        0.76187278,  0.72261316,  0.01259867,  0.2519465 ,  0.40522052,\n",
       "        0.04155591,  0.62792451,  0.38244664,  0.01116407,  0.02689221,\n",
       "        0.26817019,  0.86042964,  0.10972581,  0.72906096,  0.83321013,\n",
       "        0.92312356,  0.02739617,  0.67064136,  0.25530325,  0.81056134])"
      ]
     },
     "execution_count": 69,
     "metadata": {},
     "output_type": "execute_result"
    }
   ],
   "source": [
    "np.random.rand(40)"
   ]
  },
  {
   "cell_type": "code",
   "execution_count": 65,
   "metadata": {
    "collapsed": false
   },
   "outputs": [
    {
     "data": {
      "text/plain": [
       "array([[ 0.,  0.,  0.,  0.],\n",
       "       [ 0.,  0.,  0.,  0.],\n",
       "       [ 0.,  0.,  0.,  0.],\n",
       "       [ 0.,  0.,  0.,  0.]])"
      ]
     },
     "execution_count": 65,
     "metadata": {},
     "output_type": "execute_result"
    }
   ],
   "source": [
    "np.zeros((4,4))"
   ]
  },
  {
   "cell_type": "code",
   "execution_count": 66,
   "metadata": {
    "collapsed": false
   },
   "outputs": [
    {
     "data": {
      "text/plain": [
       "array([[ 1.,  1.,  1.,  1.],\n",
       "       [ 1.,  1.,  1.,  1.],\n",
       "       [ 1.,  1.,  1.,  1.],\n",
       "       [ 1.,  1.,  1.,  1.]])"
      ]
     },
     "execution_count": 66,
     "metadata": {},
     "output_type": "execute_result"
    }
   ],
   "source": [
    "np.ones((4,4))"
   ]
  },
  {
   "cell_type": "code",
   "execution_count": 67,
   "metadata": {
    "collapsed": false
   },
   "outputs": [
    {
     "data": {
      "text/plain": [
       "array([[1, 0, 0, 0],\n",
       "       [0, 2, 0, 0],\n",
       "       [0, 0, 3, 0],\n",
       "       [0, 0, 0, 4]])"
      ]
     },
     "execution_count": 67,
     "metadata": {},
     "output_type": "execute_result"
    }
   ],
   "source": [
    "np.diag([1,2,3,4])"
   ]
  },
  {
   "cell_type": "code",
   "execution_count": 68,
   "metadata": {
    "collapsed": false
   },
   "outputs": [
    {
     "data": {
      "text/plain": [
       "array([[ 1.0619271 , -2.18409239, -1.35129103,  0.29390202, -1.41485753],\n",
       "       [-1.10342323,  1.40302752,  0.36994947,  1.03459842, -0.63749809],\n",
       "       [-0.78954225,  1.78897821, -0.65000454,  0.90340243,  1.38576404],\n",
       "       [-0.51687561,  0.74731674, -1.06391309,  1.52704866,  0.47655318],\n",
       "       [ 0.88258861, -2.41154052,  0.47001011,  0.28349224, -0.27390247]])"
      ]
     },
     "execution_count": 68,
     "metadata": {},
     "output_type": "execute_result"
    }
   ],
   "source": [
    "np.random.randn(5,5)"
   ]
  },
  {
   "cell_type": "code",
   "execution_count": 72,
   "metadata": {
    "collapsed": false
   },
   "outputs": [
    {
     "name": "stdout",
     "output_type": "stream",
     "text": [
      "head: cannot open ‘average-monthly-temperatures-acr.csv’ for reading: No such file or directory\r\n"
     ]
    }
   ],
   "source": [
    "!head -10 average-monthly-temperatures-acr.csv"
   ]
  },
  {
   "cell_type": "code",
   "execution_count": null,
   "metadata": {
    "collapsed": true
   },
   "outputs": [],
   "source": [
    "!tail -10 average-monthly-temperatures-acr.csv"
   ]
  },
  {
   "cell_type": "code",
   "execution_count": null,
   "metadata": {
    "collapsed": true
   },
   "outputs": [],
   "source": []
  }
 ],
 "metadata": {
  "kernelspec": {
   "display_name": "Python 3",
   "language": "python",
   "name": "python3"
  },
  "language_info": {
   "codemirror_mode": {
    "name": "ipython",
    "version": 3
   },
   "file_extension": ".py",
   "mimetype": "text/x-python",
   "name": "python",
   "nbconvert_exporter": "python",
   "pygments_lexer": "ipython3",
   "version": "3.4.3"
  }
 },
 "nbformat": 4,
 "nbformat_minor": 0
}
