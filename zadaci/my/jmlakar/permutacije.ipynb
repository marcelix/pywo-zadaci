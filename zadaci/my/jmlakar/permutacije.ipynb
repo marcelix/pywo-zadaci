{
 "cells": [
  {
   "cell_type": "code",
   "execution_count": 7,
   "metadata": {
    "collapsed": false
   },
   "outputs": [
    {
     "name": "stdout",
     "output_type": "stream",
     "text": [
      "[[1, 2, 3, 4], [2, 1, 3, 4], [2, 3, 1, 4], [2, 3, 4, 1], [1, 3, 2, 4], [3, 1, 2, 4], [3, 2, 1, 4], [3, 2, 4, 1], [1, 3, 4, 2], [3, 1, 4, 2], [3, 4, 1, 2], [3, 4, 2, 1], [1, 2, 4, 3], [2, 1, 4, 3], [2, 4, 1, 3], [2, 4, 3, 1], [1, 4, 2, 3], [4, 1, 2, 3], [4, 2, 1, 3], [4, 2, 3, 1], [1, 4, 3, 2], [4, 1, 3, 2], [4, 3, 1, 2], [4, 3, 2, 1]]\n"
     ]
    },
    {
     "data": {
      "text/plain": [
       "24"
      ]
     },
     "execution_count": 7,
     "metadata": {},
     "output_type": "execute_result"
    }
   ],
   "source": [
    "skup = {1,2,3,4}\n",
    "lista = list(skup)\n",
    "\n",
    "def permutacije(lista):\n",
    "    if len(lista) <=1:\n",
    "        yield lista\n",
    "    else:\n",
    "        for perm in permutacije(lista[1:]):\n",
    "            for i in range(len(lista)):\n",
    "                yield perm[:i] + lista[0:1] + perm[i:]\n",
    "                \n",
    "r = permutacije(lista)\n",
    "z = list(r)\n",
    "print (z)\n",
    "len(z)\n"
   ]
  },
  {
   "cell_type": "code",
   "execution_count": 9,
   "metadata": {
    "collapsed": false
   },
   "outputs": [
    {
     "data": {
      "text/plain": [
       "<generator object permutacije at 0x7f83c5362bd0>"
      ]
     },
     "execution_count": 9,
     "metadata": {},
     "output_type": "execute_result"
    }
   ],
   "source": [
    "permutacije(lista)"
   ]
  },
  {
   "cell_type": "code",
   "execution_count": 17,
   "metadata": {
    "collapsed": false
   },
   "outputs": [
    {
     "name": "stdout",
     "output_type": "stream",
     "text": [
      "[(1, 2, 3, 4), (1, 2, 4, 3), (1, 3, 2, 4), (1, 3, 4, 2), (1, 4, 2, 3), (1, 4, 3, 2), (2, 1, 3, 4), (2, 1, 4, 3), (2, 3, 1, 4), (2, 3, 4, 1), (2, 4, 1, 3), (2, 4, 3, 1), (3, 1, 2, 4), (3, 1, 4, 2), (3, 2, 1, 4), (3, 2, 4, 1), (3, 4, 1, 2), (3, 4, 2, 1), (4, 1, 2, 3), (4, 1, 3, 2), (4, 2, 1, 3), (4, 2, 3, 1), (4, 3, 1, 2), (4, 3, 2, 1)]\n"
     ]
    },
    {
     "data": {
      "text/plain": [
       "24"
      ]
     },
     "execution_count": 17,
     "metadata": {},
     "output_type": "execute_result"
    }
   ],
   "source": [
    "import itertools\n",
    "r2 = itertools.permutations(lista, len(lista))\n",
    "z2=list(r2)\n",
    "print (z2)\n",
    "len(z2)"
   ]
  },
  {
   "cell_type": "code",
   "execution_count": 27,
   "metadata": {
    "collapsed": true
   },
   "outputs": [
    {
     "name": "stdout",
     "output_type": "stream",
     "text": [
      "<generator object itertools_perm_gen at 0x7f83c5305828>\n"
     ]
    },
    {
     "data": {
      "text/plain": [
       "[(1, 2, 3, 4),\n",
       " (1, 2, 4, 3),\n",
       " (1, 3, 2, 4),\n",
       " (1, 3, 4, 2),\n",
       " (1, 4, 2, 3),\n",
       " (1, 4, 3, 2),\n",
       " (2, 1, 3, 4),\n",
       " (2, 1, 4, 3),\n",
       " (2, 3, 1, 4),\n",
       " (2, 3, 4, 1),\n",
       " (2, 4, 1, 3),\n",
       " (2, 4, 3, 1),\n",
       " (3, 1, 2, 4),\n",
       " (3, 1, 4, 2),\n",
       " (3, 2, 1, 4),\n",
       " (3, 2, 4, 1),\n",
       " (3, 4, 1, 2),\n",
       " (3, 4, 2, 1),\n",
       " (4, 1, 2, 3),\n",
       " (4, 1, 3, 2),\n",
       " (4, 2, 1, 3),\n",
       " (4, 2, 3, 1),\n",
       " (4, 3, 1, 2),\n",
       " (4, 3, 2, 1)]"
      ]
     },
     "execution_count": 27,
     "metadata": {},
     "output_type": "execute_result"
    }
   ],
   "source": [
    "def itertools_perm_gen(L):\n",
    "    x = itertools.permutations(L, len(L))\n",
    "    '''\n",
    "    bolje: yield from itertools.permutations(L, len(L)\n",
    "    '''\n",
    "    for y in x:\n",
    "        yield y\n",
    "    \n",
    "    \n",
    "print(itertools_perm_gen (lista))\n",
    "R=itertools_perm_gen (lista)\n",
    "list(R)\n",
    "\n"
   ]
  },
  {
   "cell_type": "code",
   "execution_count": null,
   "metadata": {
    "collapsed": false
   },
   "outputs": [],
   "source": []
  }
 ],
 "metadata": {
  "kernelspec": {
   "display_name": "Python 3",
   "language": "python",
   "name": "python3"
  },
  "language_info": {
   "codemirror_mode": {
    "name": "ipython",
    "version": 3
   },
   "file_extension": ".py",
   "mimetype": "text/x-python",
   "name": "python",
   "nbconvert_exporter": "python",
   "pygments_lexer": "ipython3",
   "version": "3.4.0"
  }
 },
 "nbformat": 4,
 "nbformat_minor": 0
}
