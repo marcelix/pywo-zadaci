{
 "cells": [
  {
   "cell_type": "code",
   "execution_count": 7,
   "metadata": {
    "collapsed": false
   },
   "outputs": [
    {
     "data": {
      "text/plain": [
       "True"
      ]
     },
     "execution_count": 7,
     "metadata": {},
     "output_type": "execute_result"
    }
   ],
   "source": [
    "def f(x):\n",
    "    return x+1\n",
    "\n",
    "def g(x):\n",
    "    return 2*x-3\n",
    "\n",
    "def compose(f,g):\n",
    "    def tmpfunc(x):\n",
    "        return (f(g(x)))\n",
    "    return tmpfunc\n",
    "\n",
    "h = compose(f,g)\n",
    "h(1) == f(g(1))\n"
   ]
  },
  {
   "cell_type": "code",
   "execution_count": 28,
   "metadata": {
    "collapsed": false
   },
   "outputs": [
    {
     "data": {
      "text/plain": [
       "True"
      ]
     },
     "execution_count": 28,
     "metadata": {},
     "output_type": "execute_result"
    }
   ],
   "source": [
    "def f(x,y,c):\n",
    "    return x+y,c\n",
    "\n",
    "def g(x,y):\n",
    "    return x,y,x+y\n",
    "\n",
    "def compose_better(f,g):\n",
    "    def tmpfunc(*args):\n",
    "        x=g(*args)\n",
    "        return f(*x)\n",
    "            \n",
    "    return tmpfunc\n",
    "\n",
    "h = compose_better(f,g)\n",
    "h(1,2) == f(*g(1,2))"
   ]
  },
  {
   "cell_type": "code",
   "execution_count": 29,
   "metadata": {
    "collapsed": false
   },
   "outputs": [
    {
     "data": {
      "text/plain": [
       "True"
      ]
     },
     "execution_count": 29,
     "metadata": {},
     "output_type": "execute_result"
    }
   ],
   "source": [
    "def f(x,y,c):\n",
    "    return x+y,c\n",
    "\n",
    "def g(x,y):\n",
    "    return x,y,x+y\n",
    "\n",
    "def compose_even_better(*functions):\n",
    "    def tmpfunc(*args):\n",
    "        #ostavljamo za vježbu\n",
    "        pass\n",
    "            \n",
    "    return tmpfunc\n",
    "\n",
    "h = compose_better(f,g)\n",
    "h(1,2) == f(*g(1,2))"
   ]
  },
  {
   "cell_type": "code",
   "execution_count": 35,
   "metadata": {
    "collapsed": false
   },
   "outputs": [
    {
     "data": {
      "text/plain": [
       "True"
      ]
     },
     "execution_count": 35,
     "metadata": {},
     "output_type": "execute_result"
    }
   ],
   "source": [
    "def f(a,b):\n",
    "    return a+b\n",
    "\n",
    "def parcijalna_funkcija(f, b):\n",
    "    def tempfunc(x):\n",
    "        return f(x,b)\n",
    "    \n",
    "    return tempfunc\n",
    "\n",
    "g = parcijalna_funkcija (f, 2)\n",
    "x = 13\n",
    "g(x) == f(x, b=2)"
   ]
  },
  {
   "cell_type": "code",
   "execution_count": 38,
   "metadata": {
    "collapsed": true
   },
   "outputs": [],
   "source": [
    "import functools"
   ]
  },
  {
   "cell_type": "code",
   "execution_count": 40,
   "metadata": {
    "collapsed": false
   },
   "outputs": [],
   "source": [
    "base2int = functools.partial(int, base=2)"
   ]
  },
  {
   "cell_type": "code",
   "execution_count": 42,
   "metadata": {
    "collapsed": false
   },
   "outputs": [
    {
     "data": {
      "text/plain": [
       "677"
      ]
     },
     "execution_count": 42,
     "metadata": {},
     "output_type": "execute_result"
    }
   ],
   "source": [
    "base2int(\"1010100101\")"
   ]
  },
  {
   "cell_type": "code",
   "execution_count": 52,
   "metadata": {
    "collapsed": false
   },
   "outputs": [],
   "source": [
    "def slozena_funkcija(a=0,b=0,c=0):\n",
    "    return a+b+c"
   ]
  },
  {
   "cell_type": "code",
   "execution_count": 53,
   "metadata": {
    "collapsed": true
   },
   "outputs": [],
   "source": [
    "g=functools.partial(slozena_funkcija, b=2)"
   ]
  },
  {
   "cell_type": "code",
   "execution_count": 56,
   "metadata": {
    "collapsed": false
   },
   "outputs": [
    {
     "data": {
      "text/plain": [
       "6"
      ]
     },
     "execution_count": 56,
     "metadata": {},
     "output_type": "execute_result"
    }
   ],
   "source": [
    "g(a=1,c=3)"
   ]
  },
  {
   "cell_type": "code",
   "execution_count": 60,
   "metadata": {
    "collapsed": false
   },
   "outputs": [
    {
     "data": {
      "text/plain": [
       "9"
      ]
     },
     "execution_count": 60,
     "metadata": {},
     "output_type": "execute_result"
    }
   ],
   "source": [
    "def make_npw_func(n):\n",
    "    return lambda x:x**n\n",
    "\n",
    "powo = make_npw_func(2)\n",
    "powo(3)"
   ]
  },
  {
   "cell_type": "code",
   "execution_count": 70,
   "metadata": {
    "collapsed": true
   },
   "outputs": [],
   "source": [
    "ulaz = [0.10, 100000.], [0.20, 200000.], [0.30, 300000.]"
   ]
  },
  {
   "cell_type": "code",
   "execution_count": 85,
   "metadata": {
    "collapsed": false
   },
   "outputs": [
    {
     "data": {
      "text/plain": [
       "'\\nvjerojatno bolje, napraviti tri funkcije koja svaka vraća određenu funkiciju:\\ndef p1(x):\\n    return 0.1*x\\ndef p2(x):\\n    return 0.2*(x-100000) + p1(100000)\\ndef p3(x):\\n    return 0.3*(x-200000) + p2(200000)\\n    \\np_funkcije = []\\n\\nfor u in ulaz:\\n    def p(x):\\n        stopa, limit = u  ???to treba vidit\\n        return stopa* (x - nesto) + prethodna_funkcija(nesto)\\n    p_funkcije ... a vidi u prezentaciji\\n        \\n'"
      ]
     },
     "execution_count": 85,
     "metadata": {},
     "output_type": "execute_result"
    }
   ],
   "source": [
    "def porez (ulaz):\n",
    "    def racunaj(n):\n",
    "        test = n-ulaz[1][1]\n",
    "        if (test<0):\n",
    "            test = 0\n",
    "        else:\n",
    "            isplata = (test) * ulaz[2][0]\n",
    "            \n",
    "        n = n - test\n",
    "        test = n-ulaz[0][1]\n",
    "        if (test<0):\n",
    "            test = 0\n",
    "        else:\n",
    "            isplata = (test) * ulaz[1][0]\n",
    "            \n",
    "        n = n - test\n",
    "        isplata += n * ulaz[0][0]\n",
    "        \n",
    "        return isplata\n",
    "    \n",
    "    return racunaj\n",
    "        \n",
    "p = porez(ulaz)\n",
    "p(150000)\n",
    "'''\n",
    "vjerojatno bolje, napraviti tri funkcije koja svaka vraća određenu funkiciju:\n",
    "def p1(x):\n",
    "    return 0.1*x\n",
    "def p2(x):\n",
    "    return 0.2*(x-100000) + p1(100000)\n",
    "def p3(x):\n",
    "    return 0.3*(x-200000) + p2(200000)\n",
    "    \n",
    "p_funkcije = []\n",
    "\n",
    "for u in ulaz:\n",
    "    def p(x):\n",
    "        stopa, limit = u  ???to treba vidit\n",
    "        return stopa* (x - nesto) + prethodna_funkcija(nesto)\n",
    "    p_funkcije ... a vidi u prezentaciji\n",
    "        \n",
    "'''"
   ]
  },
  {
   "cell_type": "code",
   "execution_count": 87,
   "metadata": {
    "collapsed": false
   },
   "outputs": [],
   "source": [
    "bolji_ulaz =((0.1,0.2,0.3), (100000,200000,300000))"
   ]
  },
  {
   "cell_type": "code",
   "execution_count": 88,
   "metadata": {
    "collapsed": false
   },
   "outputs": [
    {
     "data": {
      "text/plain": [
       "[(0.1, 100000), (0.2, 200000), (0.3, 300000)]"
      ]
     },
     "execution_count": 88,
     "metadata": {},
     "output_type": "execute_result"
    }
   ],
   "source": [
    "list(zip(*bolji_ulaz))"
   ]
  },
  {
   "cell_type": "code",
   "execution_count": 89,
   "metadata": {
    "collapsed": false
   },
   "outputs": [
    {
     "data": {
      "text/plain": [
       "[(0.1, 0.2, 0.3), (100000.0, 200000.0, 300000.0)]"
      ]
     },
     "execution_count": 89,
     "metadata": {},
     "output_type": "execute_result"
    }
   ],
   "source": [
    "list(zip(*ulaz))"
   ]
  },
  {
   "cell_type": "code",
   "execution_count": null,
   "metadata": {
    "collapsed": true
   },
   "outputs": [],
   "source": []
  }
 ],
 "metadata": {
  "kernelspec": {
   "display_name": "Python 3",
   "language": "python",
   "name": "python3"
  },
  "language_info": {
   "codemirror_mode": {
    "name": "ipython",
    "version": 3
   },
   "file_extension": ".py",
   "mimetype": "text/x-python",
   "name": "python",
   "nbconvert_exporter": "python",
   "pygments_lexer": "ipython3",
   "version": "3.4.0"
  }
 },
 "nbformat": 4,
 "nbformat_minor": 0
}
