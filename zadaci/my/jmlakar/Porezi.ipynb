{
 "cells": [
  {
   "cell_type": "code",
   "execution_count": 6,
   "metadata": {
    "collapsed": true
   },
   "outputs": [],
   "source": [
    "stope = (0.1, 0.2)\n",
    "limiti = (100000,None)"
   ]
  },
  {
   "cell_type": "code",
   "execution_count": 54,
   "metadata": {
    "collapsed": true
   },
   "outputs": [],
   "source": [
    "stope = (0.1, 0.2)\n",
    "limiti = (100000, 200000, None)"
   ]
  },
  {
   "cell_type": "code",
   "execution_count": null,
   "metadata": {
    "collapsed": true
   },
   "outputs": [],
   "source": [
    "import pdb\n",
    "%pdb off"
   ]
  },
  {
   "cell_type": "code",
   "execution_count": 98,
   "metadata": {
    "collapsed": false
   },
   "outputs": [
    {
     "name": "stderr",
     "output_type": "stream",
     "text": [
      "DEBUG:root:OVO JE DEBUG LEVEL info\n",
      "INFO:root:OVO JE INFO LEVEL info\n",
      "WARNING:root:OVO JE WARNING LEVEL info\n",
      "ERROR:root:OVO JE ERROR LEVEL info\n",
      "CRITICAL:root:OVO JE CRITICAL LEVEL info\n"
     ]
    }
   ],
   "source": [
    "import logging\n",
    "\n",
    "logger=logging.getLogger()\n",
    "logger.setLevel(level=logging.DEBUG)\n",
    "\n",
    "logging.debug(\"OVO JE DEBUG LEVEL info\")\n",
    "logging.info(\"OVO JE INFO LEVEL info\")\n",
    "logging.warning(\"OVO JE WARNING LEVEL info\")\n",
    "logging.error(\"OVO JE ERROR LEVEL info\")\n",
    "logging.critical(\"OVO JE CRITICAL LEVEL info\")"
   ]
  },
  {
   "cell_type": "code",
   "execution_count": 99,
   "metadata": {
    "collapsed": false
   },
   "outputs": [],
   "source": [
    "def is_in_interval(x, interval):\n",
    "    l, d = interval\n",
    "    if d:\n",
    "        return (l <= x) and (x < d)\n",
    "    else:\n",
    "        return (l<=x)\n",
    "\n",
    "def make_porezna_func(stope, limiti):\n",
    "    '''VRACA POREZNU FUNKCIJU p(x) koja racuna porez na dohodak x'''\n",
    "    pi_lista = []\n",
    "    \n",
    "    list_limit = 0\n",
    "    nul_fja = lambda x:0\n",
    "    last_pi = nul_fja\n",
    "    \n",
    "    i = 0\n",
    "    \n",
    "    for s,l in zip (stope,limiti):  \n",
    "       \n",
    "        def pi(x, list_limit = list_limit, last_pi=last_pi, s = s):\n",
    "            v = last_pi(l) + s * (x-list_limit)\n",
    "            return v\n",
    "        \n",
    "        #pdb.set_trace()\n",
    "        \n",
    "        last_limit, last_pi = l, pi\n",
    "        pi_lista.append(pi)\n",
    "         \n",
    "        i+=1\n",
    "        \n",
    "    uredeni_limiti = list(limiti)\n",
    "    uredeni_limiti.insert(0,0)\n",
    "        \n",
    "    intervali = zip(uredeni_limiti, uredeni_limiti[1:])\n",
    "    #print (list(intervali))\n",
    "    logging.warning(\"OVO JE INFO \")\n",
    "    \n",
    "    def tmp_func(x, intervali = intervali, pi_lista = pi_lista):\n",
    "        for intvl in zip(intervali, pi_lista):\n",
    "            if is_in_interval(x,intvl):\n",
    "                return p(x)\n",
    "    \n",
    "    return tmp_func\n"
   ]
  },
  {
   "cell_type": "code",
   "execution_count": 5,
   "metadata": {
    "collapsed": false
   },
   "outputs": [
    {
     "name": "stdout",
     "output_type": "stream",
     "text": [
      "0.1 100000\n",
      "0.2 None\n"
     ]
    }
   ],
   "source": [
    "for s,l in zip (stope,limiti):\n",
    "    print (s,l)"
   ]
  },
  {
   "cell_type": "code",
   "execution_count": 88,
   "metadata": {
    "collapsed": false
   },
   "outputs": [
    {
     "name": "stderr",
     "output_type": "stream",
     "text": [
      "WARNING:root:OVO JE INFO \n"
     ]
    }
   ],
   "source": [
    "p = make_porezna_func(stope,limiti)"
   ]
  },
  {
   "cell_type": "code",
   "execution_count": 86,
   "metadata": {
    "collapsed": false
   },
   "outputs": [
    {
     "ename": "TypeError",
     "evalue": "unorderable types: tuple() <= int()",
     "output_type": "error",
     "traceback": [
      "\u001b[1;31m---------------------------------------------------------------------------\u001b[0m",
      "\u001b[1;31mTypeError\u001b[0m                                 Traceback (most recent call last)",
      "\u001b[1;32m<ipython-input-86-81059ab7cb92>\u001b[0m in \u001b[0;36m<module>\u001b[1;34m()\u001b[0m\n\u001b[1;32m----> 1\u001b[1;33m \u001b[0mp\u001b[0m\u001b[1;33m(\u001b[0m\u001b[1;36m1000\u001b[0m\u001b[1;33m)\u001b[0m\u001b[1;33m==\u001b[0m\u001b[1;36m100\u001b[0m\u001b[1;33m,\u001b[0m \u001b[0mp\u001b[0m\u001b[1;33m(\u001b[0m\u001b[1;36m100000\u001b[0m\u001b[1;33m)\u001b[0m\u001b[1;33m==\u001b[0m\u001b[1;36m10000\u001b[0m\u001b[1;33m,\u001b[0m \u001b[0mp\u001b[0m\u001b[1;33m(\u001b[0m\u001b[1;36m150000\u001b[0m\u001b[1;33m)\u001b[0m \u001b[1;33m==\u001b[0m \u001b[1;36m20000\u001b[0m\u001b[1;33m\u001b[0m\u001b[0m\n\u001b[0m",
      "\u001b[1;32m<ipython-input-84-9f6aa7b01800>\u001b[0m in \u001b[0;36mtmp_func\u001b[1;34m(x, intervali, pi_lista)\u001b[0m\n\u001b[0;32m     38\u001b[0m     \u001b[1;32mdef\u001b[0m \u001b[0mtmp_func\u001b[0m\u001b[1;33m(\u001b[0m\u001b[0mx\u001b[0m\u001b[1;33m,\u001b[0m \u001b[0mintervali\u001b[0m \u001b[1;33m=\u001b[0m \u001b[0mintervali\u001b[0m\u001b[1;33m,\u001b[0m \u001b[0mpi_lista\u001b[0m \u001b[1;33m=\u001b[0m \u001b[0mpi_lista\u001b[0m\u001b[1;33m)\u001b[0m\u001b[1;33m:\u001b[0m\u001b[1;33m\u001b[0m\u001b[0m\n\u001b[0;32m     39\u001b[0m         \u001b[1;32mfor\u001b[0m \u001b[0mintvl\u001b[0m \u001b[1;32min\u001b[0m \u001b[0mzip\u001b[0m\u001b[1;33m(\u001b[0m\u001b[0mintervali\u001b[0m\u001b[1;33m,\u001b[0m \u001b[0mpi_lista\u001b[0m\u001b[1;33m)\u001b[0m\u001b[1;33m:\u001b[0m\u001b[1;33m\u001b[0m\u001b[0m\n\u001b[1;32m---> 40\u001b[1;33m             \u001b[1;32mif\u001b[0m \u001b[0mis_in_interval\u001b[0m\u001b[1;33m(\u001b[0m\u001b[0mx\u001b[0m\u001b[1;33m,\u001b[0m\u001b[0mintvl\u001b[0m\u001b[1;33m)\u001b[0m\u001b[1;33m:\u001b[0m\u001b[1;33m\u001b[0m\u001b[0m\n\u001b[0m\u001b[0;32m     41\u001b[0m                 \u001b[1;32mreturn\u001b[0m \u001b[0mp\u001b[0m\u001b[1;33m(\u001b[0m\u001b[0mx\u001b[0m\u001b[1;33m)\u001b[0m\u001b[1;33m\u001b[0m\u001b[0m\n\u001b[0;32m     42\u001b[0m \u001b[1;33m\u001b[0m\u001b[0m\n",
      "\u001b[1;32m<ipython-input-84-9f6aa7b01800>\u001b[0m in \u001b[0;36mis_in_interval\u001b[1;34m(x, interval)\u001b[0m\n\u001b[0;32m      2\u001b[0m     \u001b[0ml\u001b[0m\u001b[1;33m,\u001b[0m \u001b[0md\u001b[0m \u001b[1;33m=\u001b[0m \u001b[0minterval\u001b[0m\u001b[1;33m\u001b[0m\u001b[0m\n\u001b[0;32m      3\u001b[0m     \u001b[1;32mif\u001b[0m \u001b[0md\u001b[0m\u001b[1;33m:\u001b[0m\u001b[1;33m\u001b[0m\u001b[0m\n\u001b[1;32m----> 4\u001b[1;33m         \u001b[1;32mreturn\u001b[0m \u001b[1;33m(\u001b[0m\u001b[0ml\u001b[0m \u001b[1;33m<=\u001b[0m \u001b[0mx\u001b[0m\u001b[1;33m)\u001b[0m \u001b[1;32mand\u001b[0m \u001b[1;33m(\u001b[0m\u001b[0mx\u001b[0m \u001b[1;33m<\u001b[0m \u001b[0md\u001b[0m\u001b[1;33m)\u001b[0m\u001b[1;33m\u001b[0m\u001b[0m\n\u001b[0m\u001b[0;32m      5\u001b[0m     \u001b[1;32melse\u001b[0m\u001b[1;33m:\u001b[0m\u001b[1;33m\u001b[0m\u001b[0m\n\u001b[0;32m      6\u001b[0m         \u001b[1;32mreturn\u001b[0m \u001b[1;33m(\u001b[0m\u001b[0ml\u001b[0m\u001b[1;33m<=\u001b[0m\u001b[0mx\u001b[0m\u001b[1;33m)\u001b[0m\u001b[1;33m\u001b[0m\u001b[0m\n",
      "\u001b[1;31mTypeError\u001b[0m: unorderable types: tuple() <= int()"
     ]
    }
   ],
   "source": [
    "p(1000)==100, p(100000)==10000, p(150000) == 20000"
   ]
  },
  {
   "cell_type": "code",
   "execution_count": 39,
   "metadata": {
    "collapsed": false
   },
   "outputs": [
    {
     "data": {
      "text/plain": [
       "[(0, 10), (10, 20), (20, 30), (30, None)]"
      ]
     },
     "execution_count": 39,
     "metadata": {},
     "output_type": "execute_result"
    }
   ],
   "source": [
    "a = (10,20,30)\n",
    "b = list(a)\n",
    "b.append (None)\n",
    "b.insert(0,0)\n",
    "list(zip(b,b[1:]))"
   ]
  },
  {
   "cell_type": "code",
   "execution_count": 40,
   "metadata": {
    "collapsed": true
   },
   "outputs": [],
   "source": [
    "r = ((0,10), (10,20), (20,30), (30, None))"
   ]
  },
  {
   "cell_type": "code",
   "execution_count": 44,
   "metadata": {
    "collapsed": true
   },
   "outputs": [],
   "source": [
    "\n",
    "    "
   ]
  },
  {
   "cell_type": "code",
   "execution_count": 42,
   "metadata": {
    "collapsed": false
   },
   "outputs": [
    {
     "data": {
      "text/plain": [
       "False"
      ]
     },
     "execution_count": 42,
     "metadata": {},
     "output_type": "execute_result"
    }
   ],
   "source": [
    "is_in_interval(-10, (0,100))"
   ]
  }
 ],
 "metadata": {
  "kernelspec": {
   "display_name": "Python 3",
   "language": "python",
   "name": "python3"
  },
  "language_info": {
   "codemirror_mode": {
    "name": "ipython",
    "version": 3
   },
   "file_extension": ".py",
   "mimetype": "text/x-python",
   "name": "python",
   "nbconvert_exporter": "python",
   "pygments_lexer": "ipython3",
   "version": "3.4.0"
  }
 },
 "nbformat": 4,
 "nbformat_minor": 0
}
