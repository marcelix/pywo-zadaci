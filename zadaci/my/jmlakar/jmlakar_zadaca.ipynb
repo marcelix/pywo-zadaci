{
 "cells": [
  {
   "cell_type": "code",
   "execution_count": 29,
   "metadata": {
    "collapsed": false
   },
   "outputs": [],
   "source": [
    "import itertools \n",
    "import xlrd, xlwt\n",
    "import math"
   ]
  },
  {
   "cell_type": "markdown",
   "metadata": {},
   "source": [
    "Zadatak 1.1 - Euklidov algoritam"
   ]
  },
  {
   "cell_type": "code",
   "execution_count": null,
   "metadata": {
    "collapsed": false
   },
   "outputs": [],
   "source": [
    "def rem_g(a, b):\n",
    "    yield a\n",
    "    yield b\n",
    "    while True:\n",
    "        c = a % b\n",
    "        if c == 0:\n",
    "            break\n",
    "        yield c\n",
    "        a = b\n",
    "        b = c\n",
    "\n",
    "list (rem_g(112,13))"
   ]
  },
  {
   "cell_type": "code",
   "execution_count": null,
   "metadata": {
    "collapsed": false
   },
   "outputs": [],
   "source": [
    "def quo_g(a,b):\n",
    "    while True:\n",
    "        c = a % b\n",
    "        d = a / b\n",
    "        a = b\n",
    "        b = c\n",
    "        yield int(d)\n",
    "        if c == 0:\n",
    "            break\n",
    "\n",
    "list(quo_g(112,13))"
   ]
  },
  {
   "cell_type": "markdown",
   "metadata": {},
   "source": [
    "Zadatak 1.2 "
   ]
  },
  {
   "cell_type": "code",
   "execution_count": null,
   "metadata": {
    "collapsed": false
   },
   "outputs": [],
   "source": [
    "def bin_to_dec (bin_num):\n",
    "    dec_num = [128,64,32,16,8,4,2,1]\n",
    "    l = list(itertools.compress(rules, bin_num))\n",
    "    yield sum(l)\n",
    "    \n",
    "list(bin_to_dec([1,0,0,0,1,0,0,0]))"
   ]
  },
  {
   "cell_type": "markdown",
   "metadata": {},
   "source": [
    "Zadatak 2.1"
   ]
  },
  {
   "cell_type": "code",
   "execution_count": null,
   "metadata": {
    "collapsed": false
   },
   "outputs": [],
   "source": [
    "filename = \"../../03/pywo_some_data.xlsx\"\n",
    "\n",
    "book = xlrd.open_workbook(filename)\n",
    "first_sheet = book.sheet_by_index(0)\n",
    "L=[]\n",
    "for i in range(first_sheet.nrows):\n",
    "    cell = first_sheet.cell(i,0)\n",
    "    L.append(cell.value)\n",
    "\n",
    "M = [x for x in L if x != '']\n",
    "\n",
    "def sredi(ime):\n",
    "    v = ime.strip()\n",
    "    listica = ime.split()\n",
    "    return listica [::-1]\n",
    "\n",
    "P = [ sredi(ime) for ime in M ]\n",
    "sortirano =  sorted(P)\n",
    "\n",
    "book2 = xlwt.Workbook()\n",
    "sheet1 = book2.add_sheet(\"Sudionici\")\n",
    "\n",
    "i = 1\n",
    "for zapis in sortirano:\n",
    "    row = sheet1.row(i)\n",
    "    row.write(1,sortirano[i-1][0].replace(\",\",\"\"))\n",
    "    row.write(2,sortirano[i-1][1])\n",
    "    i=i+1\n",
    "book2.save(\"zadatak.xls\")"
   ]
  },
  {
   "cell_type": "markdown",
   "metadata": {},
   "source": [
    "Zadatak 2.2"
   ]
  },
  {
   "cell_type": "code",
   "execution_count": 69,
   "metadata": {
    "collapsed": false
   },
   "outputs": [
    {
     "name": "stdout",
     "output_type": "stream",
     "text": [
      "Overwriting ravnina.py\n"
     ]
    }
   ],
   "source": [
    "%%writefile ravnina.py\n",
    "class Tocka:\n",
    "    \"\"\"\n",
    "        Opis ove klase:)\n",
    "        \n",
    "        2-dim tocke u ravnini\n",
    "    \"\"\"\n",
    "    def __init__(self, x, y):\n",
    "        self.x = x\n",
    "        self.y = y\n",
    "        \n",
    "    def norm(self):\n",
    "        return math.sqrt(self.x**2 + self.y**2)\n",
    "      \n",
    "    def __repr__(self):\n",
    "        return \"Tocka x={0}, y={1}\".format(self.x,self.y)\n",
    "    \n",
    "class Vektor (Tocka):\n",
    "    \n",
    "    def __add__(self, b):\n",
    "        return ((self.x + b.x), (self.y + b.y))\n",
    "    \n",
    "    def __sub__(self, b):\n",
    "        return ((self.x - b.x), (self.y - b.y))\n",
    "    \n",
    "    def __mul__(self, n):\n",
    "        return ((self.x * n), (self.y * n))\n",
    "    \n",
    "    def sc (self,b):\n",
    "        return self.x * b.x + self.y * b.y\n",
    "    \n",
    "    def __repr__(self):\n",
    "        return \"Tocka x={0}, y={1}\".format(self.x,self.y) \n",
    "    \n",
    "''' \n",
    "a = Vektor(1,2)\n",
    "b = Vektor(-12,34)\n",
    "\n",
    "c = a * 2\n",
    "print(c)\n",
    "\n",
    "print (a.sc(b))   \n",
    "'''"
   ]
  },
  {
   "cell_type": "code",
   "execution_count": 74,
   "metadata": {
    "collapsed": false
   },
   "outputs": [
    {
     "name": "stdout",
     "output_type": "stream",
     "text": [
      "Overwriting rr.py\n"
     ]
    }
   ],
   "source": [
    "%%writefile rr.py\n",
    "\n",
    "import ravnina \n",
    "import argparse\n",
    "\n",
    "parser = argparse.ArgumentParser(description='Process some vectors.')\n",
    "parser.add_argument(\"--sum\", help=\"Sum vectors\", action=\"store_true\")\n",
    "parser.add_argument(\"--sub\", help=\"Sub vectors\", action=\"store_true\")\n",
    "parser.add_argument('prvi', metavar='N', type=list, nargs='+',\n",
    "                   help='an vectors for the accumulator')\n",
    "parser.add_argument('drugi', metavar='N', type=list, nargs='+',\n",
    "                   help='an vectors for the accumulator')\n",
    "parser.add_argument(\"--verbose\", help=\"?\", action=\"store_true\")\n",
    "parser.add_argument(\"--debug\", help=\"?\", action=\"store_true\")\n",
    "args = parser.parse_args()\n",
    "a = ravnina.Vektor (int(args.prvi[0][1]), int(args.prvi[0][3]))\n",
    "b = ravnina.Vektor (int(args.drugi[0][1]), int(args.drugi[0][3]))\n",
    "\n",
    "if args.sum:\n",
    "    print (a+b)\n",
    "if args.sub:\n",
    "    print (a-b)\n"
   ]
  }
 ],
 "metadata": {
  "kernelspec": {
   "display_name": "Python 3",
   "language": "python",
   "name": "python3"
  },
  "language_info": {
   "codemirror_mode": {
    "name": "ipython",
    "version": 3
   },
   "file_extension": ".py",
   "mimetype": "text/x-python",
   "name": "python",
   "nbconvert_exporter": "python",
   "pygments_lexer": "ipython3",
   "version": "3.4.0"
  }
 },
 "nbformat": 4,
 "nbformat_minor": 0
}
