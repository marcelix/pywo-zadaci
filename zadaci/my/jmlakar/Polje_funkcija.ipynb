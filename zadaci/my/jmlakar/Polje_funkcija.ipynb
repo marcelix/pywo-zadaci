{
 "cells": [
  {
   "cell_type": "code",
   "execution_count": 15,
   "metadata": {
    "collapsed": false
   },
   "outputs": [
    {
     "name": "stdout",
     "output_type": "stream",
     "text": [
      "2\n",
      "3\n",
      "4\n",
      "5\n",
      "6\n",
      "7\n",
      "8\n",
      "9\n",
      "10\n",
      "11\n"
     ]
    }
   ],
   "source": [
    "def gen_funkcija():\n",
    "    def f(x, i):\n",
    "        return x+i\n",
    "    p = []\n",
    "    for i in range (1,11):\n",
    "        p.append(f)\n",
    "    return p\n",
    "\n",
    "r = gen_funkcija()\n",
    "\n",
    "x=1\n",
    "for i in r:\n",
    "    print(i(1,x))\n",
    "    x = x+1"
   ]
  },
  {
   "cell_type": "code",
   "execution_count": null,
   "metadata": {
    "collapsed": true
   },
   "outputs": [],
   "source": [
    "for i in range (1,11):\n",
    "    def f(x):\n",
    "        return x+1\n",
    "    fje.append(f)\n",
    "    '''BOLJE RJEŠENJE, zapravo to ne radi'''"
   ]
  }
 ],
 "metadata": {
  "kernelspec": {
   "display_name": "Python 3",
   "language": "python",
   "name": "python3"
  },
  "language_info": {
   "codemirror_mode": {
    "name": "ipython",
    "version": 3
   },
   "file_extension": ".py",
   "mimetype": "text/x-python",
   "name": "python",
   "nbconvert_exporter": "python",
   "pygments_lexer": "ipython3",
   "version": "3.4.0"
  }
 },
 "nbformat": 4,
 "nbformat_minor": 0
}
