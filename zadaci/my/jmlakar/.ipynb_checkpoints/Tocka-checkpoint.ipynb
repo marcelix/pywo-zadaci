{
 "cells": [
  {
   "cell_type": "code",
   "execution_count": 39,
   "metadata": {
    "collapsed": false
   },
   "outputs": [
    {
     "name": "stdout",
     "output_type": "stream",
     "text": [
      "Writing ravnina.py\n"
     ]
    }
   ],
   "source": [
    "%%writefile ravnina.py\n",
    "import math\n",
    "class Tocka:\n",
    "    \"\"\"\n",
    "        Opis ove klase:)\n",
    "        \n",
    "        2-dim tocke u ravnini\n",
    "    \"\"\"\n",
    "    def __init__(self, x, y):\n",
    "        self.x = x\n",
    "        self.y = y\n",
    "        \n",
    "    def norm(self):\n",
    "        return math.sqrt(self.x**2 + self.y**2)\n",
    "      \n",
    "    def __repr__(self):\n",
    "        return \"Tocka x={0}, y={1}\".format(self.x,self.y)\n",
    "    \n",
    "class Vektor (Tocka):\n",
    "    \n",
    "    def __add__(self, b):\n",
    "        return ((self.x + b.x), (self.y + b.y))\n",
    "    \n",
    "    def __repr__(self):\n",
    "        return \"Tocka x={0}, y={1}\".format(self.x,self.y)      "
   ]
  },
  {
   "cell_type": "code",
   "execution_count": 40,
   "metadata": {
    "collapsed": false
   },
   "outputs": [
    {
     "name": "stdout",
     "output_type": "stream",
     "text": [
      "Funkcije i njihovi argumenti.ipynb  permutacije.ipynb  Tocka.ipynb\r\n",
      "Iterator_protokol.ipynb\t\t    ravnina.py\t       Untitled.ipynb\r\n"
     ]
    }
   ],
   "source": [
    "!ls"
   ]
  },
  {
   "cell_type": "code",
   "execution_count": 21,
   "metadata": {
    "collapsed": true
   },
   "outputs": [],
   "source": [
    "A = Tocka(1,2)"
   ]
  },
  {
   "cell_type": "code",
   "execution_count": 23,
   "metadata": {
    "collapsed": false
   },
   "outputs": [
    {
     "data": {
      "text/plain": [
       "2.23606797749979"
      ]
     },
     "execution_count": 23,
     "metadata": {},
     "output_type": "execute_result"
    }
   ],
   "source": [
    "A.norm()"
   ]
  },
  {
   "cell_type": "code",
   "execution_count": 38,
   "metadata": {
    "collapsed": false
   },
   "outputs": [
    {
     "name": "stdout",
     "output_type": "stream",
     "text": [
      "(0, -1)\n"
     ]
    }
   ],
   "source": [
    "a = Vektor(-1,-3)\n",
    "b = Vektor (1,2)\n",
    "\n",
    "c = a + b\n",
    "print(c)\n"
   ]
  }
 ],
 "metadata": {
  "kernelspec": {
   "display_name": "Python 3",
   "language": "python",
   "name": "python3"
  },
  "language_info": {
   "codemirror_mode": {
    "name": "ipython",
    "version": 3
   },
   "file_extension": ".py",
   "mimetype": "text/x-python",
   "name": "python",
   "nbconvert_exporter": "python",
   "pygments_lexer": "ipython3",
   "version": "3.4.0"
  }
 },
 "nbformat": 4,
 "nbformat_minor": 0
}
