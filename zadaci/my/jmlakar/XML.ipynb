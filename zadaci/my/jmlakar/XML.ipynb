{
 "cells": [
  {
   "cell_type": "code",
   "execution_count": 3,
   "metadata": {
    "collapsed": true
   },
   "outputs": [],
   "source": [
    "filename = \"../../03/pywo_some_data.xlsx\""
   ]
  },
  {
   "cell_type": "code",
   "execution_count": 4,
   "metadata": {
    "collapsed": false
   },
   "outputs": [
    {
     "data": {
      "text/plain": [
       "['Josip Mlakar, ',\n",
       " 'Elvis Popović, ',\n",
       " 'Vladimir Milašinović, ',\n",
       " 'Filip Rafajec, ',\n",
       " 'Matej Gucek, ',\n",
       " 'Jura Šolja, ',\n",
       " 'Gabrijela Grgača, ',\n",
       " 'Stjepan Rakarec, ',\n",
       " 'Davorin Špičko, ',\n",
       " 'Milan Pavlović, ',\n",
       " 'Senko Pušec, ',\n",
       " 'Filip Aleksić, ',\n",
       " 'Roman Tomašković, ',\n",
       " 'Peđa Čačić, ',\n",
       " 'Saša Poslončec,',\n",
       " 'Mislav Zebić, ',\n",
       " 'Ian Žonja,',\n",
       " 'Tomislav Cundić, ',\n",
       " 'Matija Kaniški,',\n",
       " 'Petar Šestak,',\n",
       " 'Ivana Završki,',\n",
       " 'Vedran Vađunec, ',\n",
       " 'Matea Bodulušić, ',\n",
       " 'Andrea Danzante,']"
      ]
     },
     "execution_count": 4,
     "metadata": {},
     "output_type": "execute_result"
    }
   ],
   "source": [
    "import xlrd, xlwt\n",
    "#locale.setlocale(locale.LC_ALL, \"\")\n",
    "book = xlrd.open_workbook(filename)\n",
    "first_sheet = book.sheet_by_index(0)\n",
    "L=[]\n",
    "for i in range(first_sheet.nrows):\n",
    "    cell = first_sheet.cell(i,0)\n",
    "    L.append(cell.value)\n",
    "\n",
    "M = [x for x in L if x != '']\n",
    "\n",
    "M\n"
   ]
  },
  {
   "cell_type": "code",
   "execution_count": 5,
   "metadata": {
    "collapsed": false
   },
   "outputs": [
    {
     "data": {
      "text/plain": [
       "[['Aleksić,', 'Filip'],\n",
       " ['Bodulušić,', 'Matea'],\n",
       " ['Cundić,', 'Tomislav'],\n",
       " ['Danzante,', 'Andrea'],\n",
       " ['Grgača,', 'Gabrijela'],\n",
       " ['Gucek,', 'Matej'],\n",
       " ['Kaniški,', 'Matija'],\n",
       " ['Milašinović,', 'Vladimir'],\n",
       " ['Mlakar,', 'Josip'],\n",
       " ['Pavlović,', 'Milan'],\n",
       " ['Popović,', 'Elvis'],\n",
       " ['Poslončec,', 'Saša'],\n",
       " ['Pušec,', 'Senko'],\n",
       " ['Rafajec,', 'Filip'],\n",
       " ['Rakarec,', 'Stjepan'],\n",
       " ['Tomašković,', 'Roman'],\n",
       " ['Vađunec,', 'Vedran'],\n",
       " ['Završki,', 'Ivana'],\n",
       " ['Zebić,', 'Mislav'],\n",
       " ['Čačić,', 'Peđa'],\n",
       " ['Šestak,', 'Petar'],\n",
       " ['Šolja,', 'Jura'],\n",
       " ['Špičko,', 'Davorin'],\n",
       " ['Žonja,', 'Ian']]"
      ]
     },
     "execution_count": 5,
     "metadata": {},
     "output_type": "execute_result"
    }
   ],
   "source": [
    "def sredi(ime):\n",
    "    v = ime.strip()\n",
    "    listica = ime.split()\n",
    "    return listica [::-1]\n",
    "\n",
    "P = [ sredi(ime) for ime in M ]\n",
    "sorted(P)\n",
    "#P.sort(key=locale.strxfrm)\n",
    "\n",
    "#f_usporedbe = lambda x:x[1]\n",
    "#sorted (P, key = f_usporedbe)"
   ]
  },
  {
   "cell_type": "markdown",
   "metadata": {},
   "source": [
    "DZ za vježub izbaciti \",\" pomoću re modula (regexa)"
   ]
  },
  {
   "cell_type": "code",
   "execution_count": 70,
   "metadata": {
    "collapsed": true
   },
   "outputs": [],
   "source": [
    "!git add *ipynb"
   ]
  },
  {
   "cell_type": "code",
   "execution_count": 71,
   "metadata": {
    "collapsed": false
   },
   "outputs": [
    {
     "name": "stdout",
     "output_type": "stream",
     "text": [
      "[master 85d8385] Notebook za citanje excela\r\n",
      " 1 file changed, 151 insertions(+)\r\n",
      " create mode 100644 zadaci/my/jmlakar/Untitled.ipynb\r\n"
     ]
    }
   ],
   "source": [
    "!git commit -a -m \"Notebook za citanje excela\""
   ]
  }
 ],
 "metadata": {
  "kernelspec": {
   "display_name": "Python 3",
   "language": "python",
   "name": "python3"
  },
  "language_info": {
   "codemirror_mode": {
    "name": "ipython",
    "version": 3
   },
   "file_extension": ".py",
   "mimetype": "text/x-python",
   "name": "python",
   "nbconvert_exporter": "python",
   "pygments_lexer": "ipython3",
   "version": "3.4.0"
  }
 },
 "nbformat": 4,
 "nbformat_minor": 0
}
