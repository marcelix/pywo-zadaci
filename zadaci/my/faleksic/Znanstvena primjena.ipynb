{
 "cells": [
  {
   "cell_type": "code",
   "execution_count": 32,
   "metadata": {
    "collapsed": false
   },
   "outputs": [],
   "source": [
    "import numpy as np\n",
    "import sympy as sym\n",
    "import matplotlib.pyplot as plt"
   ]
  },
  {
   "cell_type": "code",
   "execution_count": 6,
   "metadata": {
    "collapsed": false,
    "scrolled": true
   },
   "outputs": [
    {
     "name": "stdout",
     "output_type": "stream",
     "text": [
      "Collecting matplotlib\n",
      "  Using cached matplotlib-1.4.3.tar.gz\n",
      "Requirement already satisfied (use --upgrade to upgrade): numpy>=1.6 in /home/faleksic/.virtualenvs/pywo3/lib/python3.4/site-packages (from matplotlib)\n",
      "Collecting six>=1.4 (from matplotlib)\n",
      "  Downloading six-1.9.0-py2.py3-none-any.whl\n",
      "Collecting python-dateutil (from matplotlib)\n",
      "  Downloading python_dateutil-2.4.2-py2.py3-none-any.whl (188kB)\n",
      "\u001b[K    100% |████████████████████████████████| 192kB 274kB/s \n",
      "\u001b[?25hCollecting pytz (from matplotlib)\n",
      "  Downloading pytz-2015.4-py2.py3-none-any.whl (475kB)\n",
      "\u001b[K    100% |████████████████████████████████| 475kB 129kB/s \n",
      "\u001b[?25hCollecting pyparsing!=2.0.0,>=1.5.6 (from matplotlib)\n",
      "  Downloading pyparsing-2.0.3-py2.py3-none-any.whl\n",
      "Collecting nose>=0.11.1 (from matplotlib)\n",
      "  Downloading nose-1.3.7-py3-none-any.whl (154kB)\n",
      "\u001b[K    100% |████████████████████████████████| 155kB 272kB/s \n",
      "\u001b[?25hBuilding wheels for collected packages: matplotlib\n",
      "  Running setup.py bdist_wheel for matplotlib\n",
      "^C\u001b[31m  Failed building wheel for matplotlib\u001b[0m\n",
      "Failed to build matplotlib\n",
      "Installing collected packages: six, python-dateutil, pytz, pyparsing, nose, matplotlib\n",
      "\n"
     ]
    }
   ],
   "source": [
    "!pip install matplotlib"
   ]
  },
  {
   "cell_type": "code",
   "execution_count": 10,
   "metadata": {
    "collapsed": false,
    "scrolled": true
   },
   "outputs": [
    {
     "name": "stdout",
     "output_type": "stream",
     "text": [
      "Collecting scipy\n",
      "  Using cached scipy-0.16.0.tar.gz\n",
      "^C\n"
     ]
    }
   ],
   "source": [
    "!pip install scipy"
   ]
  },
  {
   "cell_type": "code",
   "execution_count": 6,
   "metadata": {
    "collapsed": false
   },
   "outputs": [],
   "source": [
    "from sympy import init_printing\n",
    "init_printing()"
   ]
  },
  {
   "cell_type": "code",
   "execution_count": 15,
   "metadata": {
    "collapsed": false
   },
   "outputs": [
    {
     "data": {
      "image/png": "[encoded data removed]",
      "text/latex": [
       "$$\\frac{1}{4} \\left(x + \\pi\\right)^{3}$$"
      ],
      "text/plain": [
       "       3\n",
       "(x + π) \n",
       "────────\n",
       "   4    "
      ]
     },
     "execution_count": 15,
     "metadata": {},
     "output_type": "execute_result"
    }
   ],
   "source": [
    "x, y, z = sym.symbols(\"x, y, z\")\n",
    "f = (x + sym.pi)**3 / 4\n",
    "f"
   ]
  },
  {
   "cell_type": "code",
   "execution_count": 16,
   "metadata": {
    "collapsed": false
   },
   "outputs": [
    {
     "data": {
      "image/png": "[encoded data removed]",
      "text/latex": [
       "$$\\frac{1}{4} \\left(3 + \\pi\\right)^{3}$$"
      ],
      "text/plain": [
       "       3\n",
       "(3 + π) \n",
       "────────\n",
       "   4    "
      ]
     },
     "execution_count": 16,
     "metadata": {},
     "output_type": "execute_result"
    }
   ],
   "source": [
    "f.subs(x, 3)"
   ]
  },
  {
   "cell_type": "code",
   "execution_count": 17,
   "metadata": {
    "collapsed": false
   },
   "outputs": [
    {
     "data": {
      "image/png": "[encoded data removed]",
      "text/latex": [
       "$$57.913929484257116295869526353633333323343039253545$$"
      ],
      "text/plain": [
       "57.913929484257116295869526353633333323343039253545"
      ]
     },
     "execution_count": 17,
     "metadata": {},
     "output_type": "execute_result"
    }
   ],
   "source": [
    "sym.N(f.subs(x, 3), 50)"
   ]
  },
  {
   "cell_type": "code",
   "execution_count": 18,
   "metadata": {
    "collapsed": false
   },
   "outputs": [
    {
     "data": {
      "image/png": "[encoded data removed]",
      "text/latex": [
       "$$x^{4} - 2 x^{3} - 3$$"
      ],
      "text/plain": [
       " 4      3    \n",
       "x  - 2⋅x  - 3"
      ]
     },
     "execution_count": 18,
     "metadata": {},
     "output_type": "execute_result"
    }
   ],
   "source": [
    "g = sym.simplify('x^4 - 2*x^3 - 3')\n",
    "g"
   ]
  },
  {
   "cell_type": "code",
   "execution_count": 19,
   "metadata": {
    "collapsed": false
   },
   "outputs": [
    {
     "data": {
      "image/png": "[encoded data removed]",
      "text/latex": [
       "$$\\frac{1}{4} \\left(x + \\pi\\right)^{3} \\left(x^{4} - 2 x^{3} - 3\\right)$$"
      ],
      "text/plain": [
       "       3 ⎛ 4      3    ⎞\n",
       "(x + π) ⋅⎝x  - 2⋅x  - 3⎠\n",
       "────────────────────────\n",
       "           4            "
      ]
     },
     "execution_count": 19,
     "metadata": {},
     "output_type": "execute_result"
    }
   ],
   "source": [
    "h = g*f\n",
    "h"
   ]
  },
  {
   "cell_type": "code",
   "execution_count": 20,
   "metadata": {
    "collapsed": false
   },
   "outputs": [
    {
     "data": {
      "image/png": "[encoded data removed]",
      "text/latex": [
       "$$\\frac{x^{7}}{4} - \\frac{x^{6}}{2} + \\frac{3 \\pi}{4} x^{6} - \\frac{3 \\pi}{2} x^{5} + \\frac{3 \\pi^{2}}{4} x^{5} - \\frac{3 \\pi^{2}}{2} x^{4} + \\frac{\\pi^{3} x^{4}}{4} - \\frac{\\pi^{3} x^{3}}{2} - \\frac{3 x^{3}}{4} - \\frac{9 \\pi}{4} x^{2} - \\frac{9 x}{4} \\pi^{2} - \\frac{3 \\pi^{3}}{4}$$"
      ],
      "text/plain": [
       " 7    6        6        5      2  5      2  4    3  4    3  3      3        2 \n",
       "x    x    3⋅π⋅x    3⋅π⋅x    3⋅π ⋅x    3⋅π ⋅x    π ⋅x    π ⋅x    3⋅x    9⋅π⋅x  \n",
       "── - ── + ────── - ────── + ─────── - ─────── + ───── - ───── - ──── - ────── \n",
       "4    2      4        2         4         2        4       2      4       4    \n",
       "\n",
       "     2        3\n",
       "  9⋅π ⋅x   3⋅π \n",
       "- ────── - ────\n",
       "    4       4  "
      ]
     },
     "execution_count": 20,
     "metadata": {},
     "output_type": "execute_result"
    }
   ],
   "source": [
    "h = h.expand()\n",
    "h"
   ]
  },
  {
   "cell_type": "code",
   "execution_count": 21,
   "metadata": {
    "collapsed": false
   },
   "outputs": [
    {
     "data": {
      "image/png": "[encoded data removed]",
      "text/latex": [
       "$$\\frac{x^{7}}{4} + x^{6} \\left(- \\frac{1}{2} + \\frac{3 \\pi}{4}\\right) + x^{5} \\left(- \\frac{3 \\pi}{2} + \\frac{3 \\pi^{2}}{4}\\right) + x^{4} \\left(- \\frac{3 \\pi^{2}}{2} + \\frac{\\pi^{3}}{4}\\right) + x^{3} \\left(- \\frac{\\pi^{3}}{2} - \\frac{3}{4}\\right) - \\frac{9 \\pi}{4} x^{2} - \\frac{9 x}{4} \\pi^{2} - \\frac{3 \\pi^{3}}{4}$$"
      ],
      "text/plain": [
       " 7                       ⎛           2⎞      ⎛     2    3⎞      ⎛   3    ⎞    \n",
       "x     6 ⎛  1   3⋅π⎞    5 ⎜  3⋅π   3⋅π ⎟    4 ⎜  3⋅π    π ⎟    3 ⎜  π    3⎟   9\n",
       "── + x ⋅⎜- ─ + ───⎟ + x ⋅⎜- ─── + ────⎟ + x ⋅⎜- ──── + ──⎟ + x ⋅⎜- ── - ─⎟ - ─\n",
       "4       ⎝  2    4 ⎠      ⎝   2     4  ⎠      ⎝   2     4 ⎠      ⎝  2    4⎠    \n",
       "\n",
       "    2      2        3\n",
       "⋅π⋅x    9⋅π ⋅x   3⋅π \n",
       "───── - ────── - ────\n",
       " 4        4       4  "
      ]
     },
     "execution_count": 21,
     "metadata": {},
     "output_type": "execute_result"
    }
   ],
   "source": [
    "h.collect(x)"
   ]
  },
  {
   "cell_type": "code",
   "execution_count": 22,
   "metadata": {
    "collapsed": false
   },
   "outputs": [
    {
     "data": {
      "image/png": "[encoded data removed]",
      "text/latex": [
       "$$\\sin{\\left (x \\right )} \\cos{\\left (y \\right )} + \\sin{\\left (y \\right )} \\cos{\\left (x \\right )}$$"
      ],
      "text/plain": [
       "sin(x)⋅cos(y) + sin(y)⋅cos(x)"
      ]
     },
     "execution_count": 22,
     "metadata": {},
     "output_type": "execute_result"
    }
   ],
   "source": [
    "sym.expand(sym.sin(x+y), trig=True)\n"
   ]
  },
  {
   "cell_type": "code",
   "execution_count": 23,
   "metadata": {
    "collapsed": false
   },
   "outputs": [
    {
     "data": {
      "image/png": "[encoded data removed]",
      "text/plain": [
       "<matplotlib.figure.Figure at 0x7ff45217a588>"
      ]
     },
     "metadata": {},
     "output_type": "display_data"
    },
    {
     "data": {
      "text/plain": [
       "<sympy.plotting.plot.Plot at 0x7ff45217a5f8>"
      ]
     },
     "execution_count": 23,
     "metadata": {},
     "output_type": "execute_result"
    }
   ],
   "source": [
    "%matplotlib inline\n",
    "sym.plot(g, (x, -3, 3), ylim=(-5, 5))"
   ]
  },
  {
   "cell_type": "code",
   "execution_count": 24,
   "metadata": {
    "collapsed": false
   },
   "outputs": [
    {
     "data": {
      "image/png": "[encoded data removed]",
      "text/latex": [
       "$$x^{3} + \\sin{\\left (x \\right )}$$"
      ],
      "text/plain": [
       " 3         \n",
       "x  + sin(x)"
      ]
     },
     "execution_count": 24,
     "metadata": {},
     "output_type": "execute_result"
    }
   ],
   "source": [
    "x**3+sym.sin(x)"
   ]
  },
  {
   "cell_type": "code",
   "execution_count": 25,
   "metadata": {
    "collapsed": false
   },
   "outputs": [
    {
     "data": {
      "image/png": "[encoded data removed]",
      "text/latex": [
       "$$3 x^{2} + \\cos{\\left (x \\right )}$$"
      ],
      "text/plain": [
       "   2         \n",
       "3⋅x  + cos(x)"
      ]
     },
     "execution_count": 25,
     "metadata": {},
     "output_type": "execute_result"
    }
   ],
   "source": [
    "sym.diff(x**3+sym.sin(x),x)"
   ]
  },
  {
   "cell_type": "code",
   "execution_count": 26,
   "metadata": {
    "collapsed": false
   },
   "outputs": [
    {
     "data": {
      "image/png": "[encoded data removed]",
      "text/latex": [
       "$$- x^{4} + 3 x^{2} + x + 2$$"
      ],
      "text/plain": [
       "   4      2        \n",
       "- x  + 3⋅x  + x + 2"
      ]
     },
     "execution_count": 26,
     "metadata": {},
     "output_type": "execute_result"
    }
   ],
   "source": [
    "h = (-x**4 + 3*x**2+ x +2)\n",
    "h"
   ]
  },
  {
   "cell_type": "code",
   "execution_count": 27,
   "metadata": {
    "collapsed": false
   },
   "outputs": [
    {
     "data": {
      "image/png": "[encoded data removed]",
      "text/latex": [
       "$$\\left [ 2, \\quad - \\frac{2}{3} - \\frac{1}{9 \\left(- \\frac{1}{2} - \\frac{\\sqrt{3} i}{2}\\right) \\sqrt[3]{\\frac{\\sqrt{69}}{18} + \\frac{25}{54}}} - \\left(- \\frac{1}{2} - \\frac{\\sqrt{3} i}{2}\\right) \\sqrt[3]{\\frac{\\sqrt{69}}{18} + \\frac{25}{54}}, \\quad - \\frac{2}{3} - \\left(- \\frac{1}{2} + \\frac{\\sqrt{3} i}{2}\\right) \\sqrt[3]{\\frac{\\sqrt{69}}{18} + \\frac{25}{54}} - \\frac{1}{9 \\left(- \\frac{1}{2} + \\frac{\\sqrt{3} i}{2}\\right) \\sqrt[3]{\\frac{\\sqrt{69}}{18} + \\frac{25}{54}}}, \\quad - \\sqrt[3]{\\frac{\\sqrt{69}}{18} + \\frac{25}{54}} - \\frac{2}{3} - \\frac{1}{9 \\sqrt[3]{\\frac{\\sqrt{69}}{18} + \\frac{25}{54}}}\\right ]$$"
      ],
      "text/plain": [
       "⎡                                                                     ________\n",
       "⎢                                                ⎛        ___  ⎞     ╱   ____ \n",
       "⎢     2                    1                     ⎜  1   ╲╱ 3 ⋅ⅈ⎟    ╱  ╲╱ 69  \n",
       "⎢2, - ─ - ──────────────────────────────────── - ⎜- ─ - ───────⎟⋅3 ╱   ────── \n",
       "⎢     3                          _____________   ⎝  2      2   ⎠ ╲╱      18   \n",
       "⎢           ⎛        ___  ⎞     ╱   ____                                      \n",
       "⎢           ⎜  1   ╲╱ 3 ⋅ⅈ⎟    ╱  ╲╱ 69    25                                 \n",
       "⎢         9⋅⎜- ─ - ───────⎟⋅3 ╱   ────── + ──                                 \n",
       "⎣           ⎝  2      2   ⎠ ╲╱      18     54                                 \n",
       "\n",
       "_____                             _____________                               \n",
       "             ⎛        ___  ⎞     ╱   ____                                     \n",
       "  25     2   ⎜  1   ╲╱ 3 ⋅ⅈ⎟    ╱  ╲╱ 69    25                     1          \n",
       "+ ── , - ─ - ⎜- ─ + ───────⎟⋅3 ╱   ────── + ──  - ────────────────────────────\n",
       "  54     3   ⎝  2      2   ⎠ ╲╱      18     54                           _____\n",
       "                                                    ⎛        ___  ⎞     ╱   __\n",
       "                                                    ⎜  1   ╲╱ 3 ⋅ⅈ⎟    ╱  ╲╱ 6\n",
       "                                                  9⋅⎜- ─ + ───────⎟⋅3 ╱   ────\n",
       "                                                    ⎝  2      2   ⎠ ╲╱      18\n",
       "\n",
       "                 _____________                           ⎤\n",
       "                ╱   ____                                 ⎥\n",
       "               ╱  ╲╱ 69    25    2            1          ⎥\n",
       "────────, - 3 ╱   ────── + ──  - ─ - ────────────────────⎥\n",
       "________    ╲╱      18     54    3          _____________⎥\n",
       "__                                         ╱   ____      ⎥\n",
       "9    25                                   ╱  ╲╱ 69    25 ⎥\n",
       "── + ──                              9⋅3 ╱   ────── + ── ⎥\n",
       "     54                                ╲╱      18     54 ⎦"
      ]
     },
     "execution_count": 27,
     "metadata": {},
     "output_type": "execute_result"
    }
   ],
   "source": [
    "nultocke = sym.solve(h)\n",
    "nultocke"
   ]
  },
  {
   "cell_type": "code",
   "execution_count": 29,
   "metadata": {
    "collapsed": false
   },
   "outputs": [
    {
     "data": {
      "text/plain": [
       "<map at 0x7ff4524a1a20>"
      ]
     },
     "execution_count": 29,
     "metadata": {},
     "output_type": "execute_result"
    }
   ],
   "source": [
    "map(sym.N, nultocke)"
   ]
  },
  {
   "cell_type": "code",
   "execution_count": 28,
   "metadata": {
    "collapsed": false
   },
   "outputs": [
    {
     "data": {
      "image/png": "[encoded data removed]",
      "text/plain": [
       "<matplotlib.figure.Figure at 0x7ff452a6a470>"
      ]
     },
     "metadata": {},
     "output_type": "display_data"
    },
    {
     "data": {
      "text/plain": [
       "<sympy.plotting.plot.Plot at 0x7ff4524a1710>"
      ]
     },
     "execution_count": 28,
     "metadata": {},
     "output_type": "execute_result"
    }
   ],
   "source": [
    "sym.plot(h, (x, -3, 3), ylim=(-1,6))"
   ]
  },
  {
   "cell_type": "code",
   "execution_count": 13,
   "metadata": {
    "collapsed": false
   },
   "outputs": [
    {
     "data": {
      "image/png": "[encoded data removed]",
      "text/latex": [
       "$$\\left [ \\left(- \\frac{1}{2} - \\frac{\\sqrt{3} i}{2}\\right) \\sqrt[3]{\\frac{1}{8} + \\frac{\\sqrt{7} i}{8}} + \\frac{1}{2 \\left(- \\frac{1}{2} - \\frac{\\sqrt{3} i}{2}\\right) \\sqrt[3]{\\frac{1}{8} + \\frac{\\sqrt{7} i}{8}}}, \\quad \\frac{1}{2 \\left(- \\frac{1}{2} + \\frac{\\sqrt{3} i}{2}\\right) \\sqrt[3]{\\frac{1}{8} + \\frac{\\sqrt{7} i}{8}}} + \\left(- \\frac{1}{2} + \\frac{\\sqrt{3} i}{2}\\right) \\sqrt[3]{\\frac{1}{8} + \\frac{\\sqrt{7} i}{8}}, \\quad \\frac{1}{2 \\sqrt[3]{\\frac{1}{8} + \\frac{\\sqrt{7} i}{8}}} + \\sqrt[3]{\\frac{1}{8} + \\frac{\\sqrt{7} i}{8}}\\right ]$$"
      ],
      "text/plain": [
       "⎡                     _____________                                           \n",
       "⎢⎛        ___  ⎞     ╱       ___                                              \n",
       "⎢⎜  1   ╲╱ 3 ⋅ⅈ⎟    ╱  1   ╲╱ 7 ⋅ⅈ                     1                      \n",
       "⎢⎜- ─ - ───────⎟⋅3 ╱   ─ + ───────  + ────────────────────────────────────, ──\n",
       "⎢⎝  2      2   ⎠ ╲╱    8      8                              _____________    \n",
       "⎢                                       ⎛        ___  ⎞     ╱       ___       \n",
       "⎢                                       ⎜  1   ╲╱ 3 ⋅ⅈ⎟    ╱  1   ╲╱ 7 ⋅ⅈ     \n",
       "⎢                                     2⋅⎜- ─ - ───────⎟⋅3 ╱   ─ + ───────   2⋅\n",
       "⎣                                       ⎝  2      2   ⎠ ╲╱    8      8        \n",
       "\n",
       "                                                          _____________       \n",
       "                                     ⎛        ___  ⎞     ╱       ___          \n",
       "               1                     ⎜  1   ╲╱ 3 ⋅ⅈ⎟    ╱  1   ╲╱ 7 ⋅ⅈ        \n",
       "────────────────────────────────── + ⎜- ─ + ───────⎟⋅3 ╱   ─ + ─────── , ─────\n",
       "                     _____________   ⎝  2      2   ⎠ ╲╱    8      8           \n",
       "⎛        ___  ⎞     ╱       ___                                               \n",
       "⎜  1   ╲╱ 3 ⋅ⅈ⎟    ╱  1   ╲╱ 7 ⋅ⅈ                                             \n",
       "⎜- ─ + ───────⎟⋅3 ╱   ─ + ───────                                        2⋅3 ╱\n",
       "⎝  2      2   ⎠ ╲╱    8      8                                             ╲╱ \n",
       "\n",
       "                       _____________⎤\n",
       "                      ╱       ___   ⎥\n",
       "    1                ╱  1   ╲╱ 7 ⋅ⅈ ⎥\n",
       "─────────────── + 3 ╱   ─ + ─────── ⎥\n",
       "  _____________   ╲╱    8      8    ⎥\n",
       " ╱       ___                        ⎥\n",
       "╱  1   ╲╱ 7 ⋅ⅈ                      ⎥\n",
       "   ─ + ───────                      ⎥\n",
       "   8      8                         ⎦"
      ]
     },
     "execution_count": 13,
     "metadata": {},
     "output_type": "execute_result"
    }
   ],
   "source": [
    "ekstremi = sym.solve(sym.diff(h))\n",
    "ekstremi"
   ]
  },
  {
   "cell_type": "code",
   "execution_count": 33,
   "metadata": {
    "collapsed": false
   },
   "outputs": [
    {
     "data": {
      "text/plain": [
       "array([1, 2, 3, 4])"
      ]
     },
     "execution_count": 33,
     "metadata": {},
     "output_type": "execute_result"
    }
   ],
   "source": [
    "v = np.array([1,2,3,4])\n",
    "v"
   ]
  },
  {
   "cell_type": "code",
   "execution_count": 34,
   "metadata": {
    "collapsed": false
   },
   "outputs": [
    {
     "data": {
      "text/plain": [
       "array([[1, 2],\n",
       "       [3, 4]])"
      ]
     },
     "execution_count": 34,
     "metadata": {},
     "output_type": "execute_result"
    }
   ],
   "source": [
    "M = np.array([[1, 2], [3, 4]])\n",
    "M"
   ]
  },
  {
   "cell_type": "code",
   "execution_count": 36,
   "metadata": {
    "collapsed": false
   },
   "outputs": [
    {
     "data": {
      "text/plain": [
       "(numpy.ndarray, numpy.ndarray)"
      ]
     },
     "execution_count": 36,
     "metadata": {},
     "output_type": "execute_result"
    }
   ],
   "source": [
    "type(v), type(M)"
   ]
  },
  {
   "cell_type": "code",
   "execution_count": 38,
   "metadata": {
    "collapsed": false
   },
   "outputs": [
    {
     "data": {
      "image/png": "[encoded data removed]",
      "text/latex": [
       "$$\\left ( \\left ( 4\\right ), \\quad \\left ( 2, \\quad 2\\right )\\right )$$"
      ],
      "text/plain": [
       "((4,), (2, 2))"
      ]
     },
     "execution_count": 38,
     "metadata": {},
     "output_type": "execute_result"
    }
   ],
   "source": [
    "v.shape, M.shape"
   ]
  },
  {
   "cell_type": "code",
   "execution_count": 39,
   "metadata": {
    "collapsed": false
   },
   "outputs": [
    {
     "data": {
      "image/png": "[encoded data removed]",
      "text/latex": [
       "$$\\left ( 4, \\quad 4\\right )$$"
      ],
      "text/plain": [
       "(4, 4)"
      ]
     },
     "execution_count": 39,
     "metadata": {},
     "output_type": "execute_result"
    }
   ],
   "source": [
    "v.size, M.size"
   ]
  },
  {
   "cell_type": "code",
   "execution_count": 40,
   "metadata": {
    "collapsed": false
   },
   "outputs": [
    {
     "data": {
      "text/plain": [
       "array([0, 1, 2, 3, 4, 5, 6, 7, 8, 9])"
      ]
     },
     "execution_count": 40,
     "metadata": {},
     "output_type": "execute_result"
    }
   ],
   "source": [
    "x = np.arange(0, 10, 1)\n",
    "x"
   ]
  },
  {
   "cell_type": "code",
   "execution_count": 41,
   "metadata": {
    "collapsed": false
   },
   "outputs": [
    {
     "data": {
      "text/plain": [
       "array([  0.        ,   0.41666667,   0.83333333,   1.25      ,\n",
       "         1.66666667,   2.08333333,   2.5       ,   2.91666667,\n",
       "         3.33333333,   3.75      ,   4.16666667,   4.58333333,\n",
       "         5.        ,   5.41666667,   5.83333333,   6.25      ,\n",
       "         6.66666667,   7.08333333,   7.5       ,   7.91666667,\n",
       "         8.33333333,   8.75      ,   9.16666667,   9.58333333,  10.        ])"
      ]
     },
     "execution_count": 41,
     "metadata": {},
     "output_type": "execute_result"
    }
   ],
   "source": [
    "np.linspace(0,10,25)"
   ]
  },
  {
   "cell_type": "code",
   "execution_count": 42,
   "metadata": {
    "collapsed": false
   },
   "outputs": [
    {
     "data": {
      "text/plain": [
       "array([  1.00000000e+00,   3.03773178e+00,   9.22781435e+00,\n",
       "         2.80316249e+01,   8.51525577e+01,   2.58670631e+02,\n",
       "         7.85771994e+02,   2.38696456e+03,   7.25095809e+03,\n",
       "         2.20264658e+04])"
      ]
     },
     "execution_count": 42,
     "metadata": {},
     "output_type": "execute_result"
    }
   ],
   "source": [
    "np.logspace(0, 10, 10, base=np.e)"
   ]
  },
  {
   "cell_type": "code",
   "execution_count": 43,
   "metadata": {
    "collapsed": false
   },
   "outputs": [
    {
     "data": {
      "text/plain": [
       "array([ 0.05821517,  0.64181348,  0.38066817,  0.65119652,  0.23486284,\n",
       "        0.27102161,  0.09287864,  0.29181063,  0.32870291,  0.65573434,\n",
       "        0.59215121,  0.50819478,  0.45542747,  0.13726783,  0.53375429,\n",
       "        0.21722005,  0.57559143,  0.67070462,  0.88639042,  0.43708728,\n",
       "        0.5019117 ,  0.72032005,  0.37486845,  0.44150413,  0.40857558,\n",
       "        0.17192472,  0.62971154,  0.91670654,  0.22061152,  0.55294486,\n",
       "        0.24967621,  0.09381734,  0.68105079,  0.68497111,  0.04457705,\n",
       "        0.72122929,  0.87714322,  0.49948874,  0.33627765,  0.82466021])"
      ]
     },
     "execution_count": 43,
     "metadata": {},
     "output_type": "execute_result"
    }
   ],
   "source": [
    "np.random.rand(40)"
   ]
  },
  {
   "cell_type": "code",
   "execution_count": 44,
   "metadata": {
    "collapsed": false
   },
   "outputs": [
    {
     "data": {
      "text/plain": [
       "array([[ 0.,  0.,  0.,  0.],\n",
       "       [ 0.,  0.,  0.,  0.],\n",
       "       [ 0.,  0.,  0.,  0.],\n",
       "       [ 0.,  0.,  0.,  0.]])"
      ]
     },
     "execution_count": 44,
     "metadata": {},
     "output_type": "execute_result"
    }
   ],
   "source": [
    "np.zeros((4, 4))"
   ]
  },
  {
   "cell_type": "code",
   "execution_count": 45,
   "metadata": {
    "collapsed": false
   },
   "outputs": [
    {
     "data": {
      "text/plain": [
       "array([[ 1.,  1.,  1.,  1.],\n",
       "       [ 1.,  1.,  1.,  1.],\n",
       "       [ 1.,  1.,  1.,  1.],\n",
       "       [ 1.,  1.,  1.,  1.]])"
      ]
     },
     "execution_count": 45,
     "metadata": {},
     "output_type": "execute_result"
    }
   ],
   "source": [
    "np.ones((4,4))"
   ]
  },
  {
   "cell_type": "code",
   "execution_count": 46,
   "metadata": {
    "collapsed": false
   },
   "outputs": [
    {
     "data": {
      "text/plain": [
       "array([[1, 0, 0, 0],\n",
       "       [0, 2, 0, 0],\n",
       "       [0, 0, 3, 0],\n",
       "       [0, 0, 0, 4]])"
      ]
     },
     "execution_count": 46,
     "metadata": {},
     "output_type": "execute_result"
    }
   ],
   "source": [
    "np.diag([1,2,3,4])"
   ]
  },
  {
   "cell_type": "code",
   "execution_count": 47,
   "metadata": {
    "collapsed": false
   },
   "outputs": [
    {
     "data": {
      "text/plain": [
       "array([[-0.96820603, -0.92118612,  0.22234397, -2.19682662,  0.24205419],\n",
       "       [ 0.67348471,  0.22535993, -0.60768455, -0.81098606,  0.26016945],\n",
       "       [ 0.72754165,  0.10586834, -0.95117369,  0.17213967, -0.10129575],\n",
       "       [ 0.5774405 ,  0.59569943,  0.1883498 ,  0.25553861,  0.54759775],\n",
       "       [-1.31452324,  1.49794259,  2.87211493,  0.50060617,  2.15952202]])"
      ]
     },
     "execution_count": 47,
     "metadata": {},
     "output_type": "execute_result"
    }
   ],
   "source": [
    "np.random.randn(5, 5)"
   ]
  },
  {
   "cell_type": "code",
   "execution_count": 48,
   "metadata": {
    "collapsed": false
   },
   "outputs": [
    {
     "name": "stdout",
     "output_type": "stream",
     "text": [
      "average-monthly-temperatures-acr.csv   PPO_T2_Predvidjanje.pdf\r\n",
      "eduroam_Linux_foi.hr_installer\t       PPO_T3_Tehnicka_priprema_rada.pdf\r\n",
      "eduroam_Linux_foi.hr_installer.tar.gz\r\n"
     ]
    }
   ],
   "source": [
    "!ls ~/Downloads"
   ]
  },
  {
   "cell_type": "code",
   "execution_count": 49,
   "metadata": {
    "collapsed": true
   },
   "outputs": [],
   "source": [
    "cp /home/faleksic/Downloads/average-monthly-temperatures-acr.csv ."
   ]
  },
  {
   "cell_type": "code",
   "execution_count": 51,
   "metadata": {
    "collapsed": false
   },
   "outputs": [
    {
     "name": "stdout",
     "output_type": "stream",
     "text": [
      "\"Month\",\"Average monthly temperatures across the world\"\r",
      "\r\n",
      "\"1951-01\",2.9\r",
      "\r\n",
      "\"1951-02\",5.0\r",
      "\r\n",
      "\"1951-03\",6.2\r",
      "\r\n",
      "\"1951-04\",11.1\r",
      "\r\n",
      "\"1951-05\",15.6\r",
      "\r\n",
      "\"1951-06\",19.1\r",
      "\r\n",
      "\"1951-07\",19.9\r",
      "\r\n",
      "\"1951-08\",21.2\r",
      "\r\n",
      "\"1951-09\",17.9\r",
      "\r\n"
     ]
    }
   ],
   "source": [
    "!head -10 average-monthly-temperatures-acr.csv"
   ]
  },
  {
   "cell_type": "code",
   "execution_count": 52,
   "metadata": {
    "collapsed": true
   },
   "outputs": [],
   "source": [
    "!tr \"\\-\" \",\" < average-monthly-temperatures-acr.csv > b.csv\n",
    "!tr -d \"\\\"\" < b.csv > c.csv\n",
    "!tr -d \"\\?\" < c.csv > d.csv"
   ]
  },
  {
   "cell_type": "code",
   "execution_count": 53,
   "metadata": {
    "collapsed": false
   },
   "outputs": [
    {
     "name": "stdout",
     "output_type": "stream",
     "text": [
      "Month,Average monthly temperatures across the world\r",
      "\r\n",
      "1951,01,2.9\r",
      "\r\n",
      "1951,02,5.0\r",
      "\r\n",
      "1951,03,6.2\r",
      "\r\n",
      "1951,04,11.1\r",
      "\r\n",
      "1951,05,15.6\r",
      "\r\n",
      "1951,06,19.1\r",
      "\r\n",
      "1951,07,19.9\r",
      "\r\n",
      "1951,08,21.2\r",
      "\r\n",
      "1951,09,17.9\r",
      "\r\n"
     ]
    }
   ],
   "source": [
    "!head -10 d.csv"
   ]
  },
  {
   "cell_type": "code",
   "execution_count": 54,
   "metadata": {
    "collapsed": true
   },
   "outputs": [],
   "source": [
    "data = np.genfromtxt('d.csv', skiprows=1, skip_footer=True, delimiter=',', filling_values=0)"
   ]
  },
  {
   "cell_type": "code",
   "execution_count": 55,
   "metadata": {
    "collapsed": false
   },
   "outputs": [
    {
     "data": {
      "text/plain": [
       "((552, 3), dtype('float64'))"
      ]
     },
     "execution_count": 55,
     "metadata": {},
     "output_type": "execute_result"
    }
   ],
   "source": [
    "data.shape, data.dtype"
   ]
  },
  {
   "cell_type": "code",
   "execution_count": 56,
   "metadata": {
    "collapsed": false
   },
   "outputs": [
    {
     "data": {
      "text/plain": [
       "array([[  1.95100000e+03,   1.00000000e+00,   2.90000000e+00],\n",
       "       [  1.95100000e+03,   2.00000000e+00,   5.00000000e+00],\n",
       "       [  1.95100000e+03,   3.00000000e+00,   6.20000000e+00],\n",
       "       ..., \n",
       "       [  1.99600000e+03,   1.00000000e+01,   1.22000000e+01],\n",
       "       [  1.99600000e+03,   1.10000000e+01,   8.30000000e+00],\n",
       "       [  1.99600000e+03,   1.20000000e+01,   9.00000000e-01]])"
      ]
     },
     "execution_count": 56,
     "metadata": {},
     "output_type": "execute_result"
    }
   ],
   "source": [
    "data"
   ]
  },
  {
   "cell_type": "code",
   "execution_count": 57,
   "metadata": {
    "collapsed": false
   },
   "outputs": [
    {
     "data": {
      "text/plain": [
       "array([  1.95100000e+03,   1.00000000e+00,   2.90000000e+00])"
      ]
     },
     "execution_count": 57,
     "metadata": {},
     "output_type": "execute_result"
    }
   ],
   "source": [
    "data[0]"
   ]
  },
  {
   "cell_type": "code",
   "execution_count": 58,
   "metadata": {
    "collapsed": false
   },
   "outputs": [
    {
     "data": {
      "image/png": "[encoded data removed]",
      "text/latex": [
       "$$1951.0$$"
      ],
      "text/plain": [
       "1951.0"
      ]
     },
     "execution_count": 58,
     "metadata": {},
     "output_type": "execute_result"
    }
   ],
   "source": [
    "data[0, 0]"
   ]
  },
  {
   "cell_type": "code",
   "execution_count": 59,
   "metadata": {
    "collapsed": false
   },
   "outputs": [
    {
     "data": {
      "text/plain": [
       "array([  1.95100000e+03,   1.00000000e+00,   2.90000000e+00])"
      ]
     },
     "execution_count": 59,
     "metadata": {},
     "output_type": "execute_result"
    }
   ],
   "source": [
    "data[0, ...]"
   ]
  },
  {
   "cell_type": "code",
   "execution_count": 60,
   "metadata": {
    "collapsed": false
   },
   "outputs": [
    {
     "data": {
      "text/plain": [
       "array([[  1.95100000e+03,   1.00000000e+00],\n",
       "       [  1.95100000e+03,   2.00000000e+00],\n",
       "       [  1.95100000e+03,   3.00000000e+00],\n",
       "       [  1.95100000e+03,   4.00000000e+00],\n",
       "       [  1.95100000e+03,   5.00000000e+00],\n",
       "       [  1.95100000e+03,   6.00000000e+00],\n",
       "       [  1.95100000e+03,   7.00000000e+00],\n",
       "       [  1.95100000e+03,   8.00000000e+00],\n",
       "       [  1.95100000e+03,   9.00000000e+00],\n",
       "       [  1.95100000e+03,   1.00000000e+01],\n",
       "       [  1.95100000e+03,   1.10000000e+01],\n",
       "       [  1.95100000e+03,   1.20000000e+01]])"
      ]
     },
     "execution_count": 60,
     "metadata": {},
     "output_type": "execute_result"
    }
   ],
   "source": [
    "data[0:12, 0:2]"
   ]
  },
  {
   "cell_type": "code",
   "execution_count": 69,
   "metadata": {
    "collapsed": false
   },
   "outputs": [
    {
     "data": {
      "text/plain": [
       "[<matplotlib.lines.Line2D at 0x7ff4522cfda0>]"
      ]
     },
     "execution_count": 69,
     "metadata": {},
     "output_type": "execute_result"
    },
    {
     "data": {
      "image/png": "[encoded data removed]",
      "text/plain": [
       "<matplotlib.figure.Figure at 0x7ff452537780>"
      ]
     },
     "metadata": {},
     "output_type": "display_data"
    }
   ],
   "source": [
    "plt.plot(data[:, 2])"
   ]
  },
  {
   "cell_type": "code",
   "execution_count": 70,
   "metadata": {
    "collapsed": false
   },
   "outputs": [
    {
     "data": {
      "text/plain": [
       "array([0, 1, 2, 3, 4])"
      ]
     },
     "execution_count": 70,
     "metadata": {},
     "output_type": "execute_result"
    }
   ],
   "source": [
    "v1 = np.arange(0, 5)\n",
    "v1"
   ]
  },
  {
   "cell_type": "code",
   "execution_count": 71,
   "metadata": {
    "collapsed": false
   },
   "outputs": [
    {
     "data": {
      "text/plain": [
       "array([0, 2, 4, 6, 8])"
      ]
     },
     "execution_count": 71,
     "metadata": {},
     "output_type": "execute_result"
    }
   ],
   "source": [
    "v1 * 2"
   ]
  },
  {
   "cell_type": "code",
   "execution_count": 72,
   "metadata": {
    "collapsed": false
   },
   "outputs": [
    {
     "data": {
      "text/plain": [
       "array([ 2,  5,  8, 11, 14])"
      ]
     },
     "execution_count": 72,
     "metadata": {},
     "output_type": "execute_result"
    }
   ],
   "source": [
    "v1*3 + 2"
   ]
  },
  {
   "cell_type": "code",
   "execution_count": 74,
   "metadata": {
    "collapsed": false
   },
   "outputs": [
    {
     "data": {
      "text/plain": [
       "array([[ 6,  3,  3,  3,  3],\n",
       "       [ 3,  9,  3,  3,  3],\n",
       "       [ 3,  3, 12,  3,  3],\n",
       "       [ 3,  3,  3, 15,  3],\n",
       "       [ 3,  3,  3,  3, 18]])"
      ]
     },
     "execution_count": 74,
     "metadata": {},
     "output_type": "execute_result"
    }
   ],
   "source": [
    "A = (np.diag([1,2,3,4,5]) +1)*3\n",
    "A"
   ]
  },
  {
   "cell_type": "code",
   "execution_count": 75,
   "metadata": {
    "collapsed": false
   },
   "outputs": [
    {
     "data": {
      "text/plain": [
       "array([[ 36,   9,   9,   9,   9],\n",
       "       [  9,  81,   9,   9,   9],\n",
       "       [  9,   9, 144,   9,   9],\n",
       "       [  9,   9,   9, 225,   9],\n",
       "       [  9,   9,   9,   9, 324]])"
      ]
     },
     "execution_count": 75,
     "metadata": {},
     "output_type": "execute_result"
    }
   ],
   "source": [
    "A*A"
   ]
  },
  {
   "cell_type": "code",
   "execution_count": 76,
   "metadata": {
    "collapsed": false
   },
   "outputs": [
    {
     "data": {
      "text/plain": [
       "array([[ 72,  72,  81,  90,  99],\n",
       "       [ 72, 117,  90,  99, 108],\n",
       "       [ 81,  90, 180, 108, 117],\n",
       "       [ 90,  99, 108, 261, 126],\n",
       "       [ 99, 108, 117, 126, 360]])"
      ]
     },
     "execution_count": 76,
     "metadata": {},
     "output_type": "execute_result"
    }
   ],
   "source": [
    "np.dot(A, A)"
   ]
  },
  {
   "cell_type": "code",
   "execution_count": 77,
   "metadata": {
    "collapsed": false
   },
   "outputs": [
    {
     "data": {
      "text/plain": [
       "array([ 75,  96, 120, 114, 126])"
      ]
     },
     "execution_count": 77,
     "metadata": {},
     "output_type": "execute_result"
    }
   ],
   "source": [
    "np.dot(A, [3, 5, 6, 4, 4])"
   ]
  },
  {
   "cell_type": "code",
   "execution_count": 78,
   "metadata": {
    "collapsed": false
   },
   "outputs": [
    {
     "data": {
      "image/png": "[encoded data removed]",
      "text/latex": [
       "$$10.8737318841$$"
      ],
      "text/plain": [
       "10.8737318841"
      ]
     },
     "execution_count": 78,
     "metadata": {},
     "output_type": "execute_result"
    }
   ],
   "source": [
    "np.mean(data[:, 2])"
   ]
  },
  {
   "cell_type": "code",
   "execution_count": 115,
   "metadata": {
    "collapsed": false
   },
   "outputs": [
    {
     "data": {
      "image/png": "[encoded data removed]",
      "text/latex": [
       "$$\\left ( 0.2, \\quad 8.2, \\quad 2.94130434783\\right )$$"
      ],
      "text/plain": [
       "(0.2, 8.2, 2.94130434783)"
      ]
     },
     "execution_count": 115,
     "metadata": {},
     "output_type": "execute_result"
    }
   ],
   "source": [
    "samo_velj = [x[2]for x in data if x[1] == 2]\n",
    "np.min(samo_velj), np.max(samo_velj), np.mean(samo_velj)"
   ]
  },
  {
   "cell_type": "code",
   "execution_count": 116,
   "metadata": {
    "collapsed": false
   },
   "outputs": [
    {
     "data": {
      "image/png": "[encoded data removed]",
      "text/latex": [
       "$$\\left ( 18.2, \\quad 23.0, \\quad 20.4369565217\\right )$$"
      ],
      "text/plain": [
       "(18.2, 23.0, 20.4369565217)"
      ]
     },
     "execution_count": 116,
     "metadata": {},
     "output_type": "execute_result"
    }
   ],
   "source": [
    "samo_srp = [x[2] for x in data if x[1] == 7]\n",
    "np.min(samo_srp), np.max(samo_srp), np.mean(samo_srp)"
   ]
  },
  {
   "cell_type": "code",
   "execution_count": 119,
   "metadata": {
    "collapsed": false
   },
   "outputs": [
    {
     "data": {
      "text/plain": [
       "(array([ 40.,  38.,  24.,  30.,  27.,  19.,  21.,  14.,  17.,  25.,  27.,\n",
       "         22.,  16.,   9.,  18.,  26.,  31.,  20.,  31.,  41.,  32.,  15.,\n",
       "          5.,   3.,   1.,   0.,   0.,   0.,   0.]),\n",
       " array([ 0,  1,  2,  3,  4,  5,  6,  7,  8,  9, 10, 11, 12, 13, 14, 15, 16,\n",
       "        17, 18, 19, 20, 21, 22, 23, 24, 25, 26, 27, 28, 29]),\n",
       " <a list of 29 Patch objects>)"
      ]
     },
     "execution_count": 119,
     "metadata": {},
     "output_type": "execute_result"
    },
    {
     "data": {
      "image/png": "[encoded data removed]",
      "text/plain": [
       "<matplotlib.figure.Figure at 0x7ff4520fa320>"
      ]
     },
     "metadata": {},
     "output_type": "display_data"
    }
   ],
   "source": [
    "plt.hist(data[:, 2], bins = np.arange(30))"
   ]
  },
  {
   "cell_type": "code",
   "execution_count": 132,
   "metadata": {
    "collapsed": false
   },
   "outputs": [],
   "source": [
    "prosjek = [np.average([x[2] for x in data if x[1] == mjesec]) for mjesec in range(1, 13)]"
   ]
  },
  {
   "cell_type": "code",
   "execution_count": 133,
   "metadata": {
    "collapsed": false
   },
   "outputs": [
    {
     "data": {
      "text/plain": [
       "[<matplotlib.lines.Line2D at 0x7ff451f048d0>]"
      ]
     },
     "execution_count": 133,
     "metadata": {},
     "output_type": "execute_result"
    },
    {
     "data": {
      "image/png": "[encoded data removed]",
      "text/plain": [
       "<matplotlib.figure.Figure at 0x7ff451fb3940>"
      ]
     },
     "metadata": {},
     "output_type": "display_data"
    }
   ],
   "source": [
    "plt.plot(prosjek)"
   ]
  },
  {
   "cell_type": "code",
   "execution_count": 134,
   "metadata": {
    "collapsed": false
   },
   "outputs": [
    {
     "data": {
      "image/png": "[encoded data removed]",
      "text/latex": [
       "$$\\left ( 552, \\quad 3\\right )$$"
      ],
      "text/plain": [
       "(552, 3)"
      ]
     },
     "execution_count": 134,
     "metadata": {},
     "output_type": "execute_result"
    }
   ],
   "source": [
    "data.shape"
   ]
  },
  {
   "cell_type": "code",
   "execution_count": 135,
   "metadata": {
    "collapsed": true
   },
   "outputs": [],
   "source": [
    "prosjeci = np.array(prosjek*46)"
   ]
  },
  {
   "cell_type": "code",
   "execution_count": 137,
   "metadata": {
    "collapsed": false
   },
   "outputs": [],
   "source": [
    "odstupanje = data\n",
    "odstupanje[:, 2] -= prosjeci"
   ]
  },
  {
   "cell_type": "code",
   "execution_count": null,
   "metadata": {
    "collapsed": false
   },
   "outputs": [],
   "source": []
  },
  {
   "cell_type": "code",
   "execution_count": null,
   "metadata": {
    "collapsed": true
   },
   "outputs": [],
   "source": []
  }
 ],
 "metadata": {
  "kernelspec": {
   "display_name": "Python 3",
   "language": "python",
   "name": "python3"
  },
  "language_info": {
   "codemirror_mode": {
    "name": "ipython",
    "version": 3
   },
   "file_extension": ".py",
   "mimetype": "text/x-python",
   "name": "python",
   "nbconvert_exporter": "python",
   "pygments_lexer": "ipython3",
   "version": "3.4.0"
  }
 },
 "nbformat": 4,
 "nbformat_minor": 0
}
