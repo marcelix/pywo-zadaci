{
 "cells": [
  {
   "cell_type": "code",
   "execution_count": 1,
   "metadata": {
    "collapsed": true
   },
   "outputs": [],
   "source": [
    "def pomak(recenica,br):\n",
    "    for sl in recenica:\n",
    "        if (sl == ' '):\n",
    "            yield ord(' ')\n",
    "        else:\n",
    "            yield (int(ord(str(sl))))+int(br)"
   ]
  },
  {
   "cell_type": "code",
   "execution_count": 2,
   "metadata": {
    "collapsed": false
   },
   "outputs": [
    {
     "name": "stdout",
     "output_type": "stream",
     "text": [
      "Upisi recenicu: Hello World\n",
      "Broj za koliko ju zelis pomaknuti po ASCII: 2\n",
      "Jgnnq Yqtnf\n"
     ]
    }
   ],
   "source": [
    "rec = input(\"Upisi recenicu: \")\n",
    "broj = input(\"Broj za koliko ju zelis pomaknuti po ASCII: \")\n",
    "rj = [chr(x) for x in pomak(rec,broj)]\n",
    "rj = ''.join(rj)\n",
    "print (rj)"
   ]
  },
  {
   "cell_type": "code",
   "execution_count": null,
   "metadata": {
    "collapsed": true
   },
   "outputs": [],
   "source": []
  }
 ],
 "metadata": {
  "kernelspec": {
   "display_name": "Python 3",
   "language": "python",
   "name": "python3"
  },
  "language_info": {
   "codemirror_mode": {
    "name": "ipython",
    "version": 3
   },
   "file_extension": ".py",
   "mimetype": "text/x-python",
   "name": "python",
   "nbconvert_exporter": "python",
   "pygments_lexer": "ipython3",
   "version": "3.4.0"
  }
 },
 "nbformat": 4,
 "nbformat_minor": 0
}
