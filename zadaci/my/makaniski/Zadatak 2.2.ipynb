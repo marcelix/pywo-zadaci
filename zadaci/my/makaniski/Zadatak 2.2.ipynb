{
 "cells": [
  {
   "cell_type": "code",
   "execution_count": 12,
   "metadata": {
    "collapsed": false
   },
   "outputs": [
    {
     "name": "stdout",
     "output_type": "stream",
     "text": [
      "Overwriting ravnina.py\n"
     ]
    }
   ],
   "source": [
    "%%writefile ravnina.py\n",
    "\n",
    "from math import sqrt\n",
    "\n",
    "class Tocka:\n",
    "    \"\"\"\n",
    "       Opis ove klase.\n",
    "       \n",
    "       2-dim tocke u ravnini.\n",
    "    \"\"\"\n",
    "    \n",
    "    def __init__(self, x, y):\n",
    "        self.x = x\n",
    "        self.y = y\n",
    "    \n",
    "    def norm(self):\n",
    "        return sqrt( self.x**2 + self.y**2  )\n",
    "        \n",
    "    \n",
    "    def __repr__(self):\n",
    "        return \"Tocka({0}, {1})\".format(self.x,self.y)\n",
    "        \n",
    "\n",
    "class Vektor(Tocka):\n",
    "\n",
    "    def __add__(self, b):\n",
    "        \"\"\" self je vektor, b je vektor\n",
    "        \"\"\"\n",
    "        x = self.x + b.x\n",
    "        y = self.y + b.y\n",
    "        return Vektor(x, y)\n",
    "    \n",
    "    def __sub__(self, b):\n",
    "        \"\"\" self je vektor, b je vektor\n",
    "        \"\"\"\n",
    "        x = self.x - b.x\n",
    "        y = self.y - b.y\n",
    "        return Vektor(x, y)\n",
    "    \n",
    "    def __mul__(self, b):\n",
    "        \"\"\" self je vektor, b je vektor\n",
    "        \"\"\"\n",
    "        if (type(b)==int):\n",
    "            x = self.x * b\n",
    "            y = self.y * b\n",
    "            return Vektor(x, y)\n",
    "        else:\n",
    "            return sum(p*q for p,q in zip([self.x,self.y], [b.x,b.y]))\n",
    "        \n",
    "    def __rmul__(self, b):\n",
    "        \"\"\" self je vektor, b je vektor\n",
    "        \"\"\"\n",
    "        if (type(b)==int):\n",
    "            x = b * self.x\n",
    "            y = b * self.y\n",
    "            return Vektor(x, y)\n",
    "        else:\n",
    "            return sum(p*q for p,q in zip([self.x,self.y], [b.x,b.y]))\n",
    "    \n",
    "    def __repr__(self):\n",
    "        return \"Vektor({0}, {1})\".format(self.x,self.y)"
   ]
  },
  {
   "cell_type": "code",
   "execution_count": 2,
   "metadata": {
    "collapsed": false
   },
   "outputs": [
    {
     "name": "stdout",
     "output_type": "stream",
     "text": [
      "a.csv\t\t\t\t    Poziv.ipynb\r\n",
      "Argparse.ipynb\t\t\t    presjek_rjecnika.py\r\n",
      "Excel-citanje.ipynb\t\t    __pycache__\r\n",
      "f020915.dat\t\t\t    pywo_some_data.xlsx\r\n",
      "flask\t\t\t\t    pywo_write_some_data.xlsx\r\n",
      "Funkcije i njihovi argumenti.ipynb  ravnina.py\r\n",
      "Funkcionalno programiranje.ipynb    ravnina.pyc\r\n",
      "Git config.ipynb\t\t    Requests.ipynb\r\n",
      "Iterator protokol.ipynb\t\t    rr.py\r\n",
      "MZ1.ipynb\t\t\t    Untitled.ipynb\r\n",
      "MZ2.ipynb\t\t\t    Zadatak 1.1 - Euklid varijanta.ipynb\r\n",
      "MZ3.ipynb\t\t\t    Zadatak 1.1 - Horner varijanta.ipynb\r\n",
      "MZ4.ipynb\t\t\t    Zadatak 1.2.ipynb\r\n",
      "MZ5.ipynb\t\t\t    Zadatak 2.1.ipynb\r\n",
      "Pandas.ipynb\t\t\t    Zadatak 2.2.ipynb\r\n",
      "Permutacije.ipynb\t\t    zg-averages-data.xlsx\r\n"
     ]
    }
   ],
   "source": [
    "!ls"
   ]
  },
  {
   "cell_type": "code",
   "execution_count": 3,
   "metadata": {
    "collapsed": false
   },
   "outputs": [
    {
     "name": "stdout",
     "output_type": "stream",
     "text": [
      "Vektor(4, 5)\n"
     ]
    }
   ],
   "source": [
    "from ravnina import Tocka,Vektor\n",
    "\n",
    "a = Vektor(1,3)\n",
    "b = Vektor(3,2)\n",
    "\n",
    "c = a + b\n",
    "print(c)"
   ]
  },
  {
   "cell_type": "code",
   "execution_count": 4,
   "metadata": {
    "collapsed": false
   },
   "outputs": [
    {
     "data": {
      "text/plain": [
       "Vektor(4, 5)"
      ]
     },
     "execution_count": 4,
     "metadata": {},
     "output_type": "execute_result"
    }
   ],
   "source": [
    "c.norm()\n",
    "c"
   ]
  },
  {
   "cell_type": "code",
   "execution_count": 5,
   "metadata": {
    "collapsed": false
   },
   "outputs": [
    {
     "data": {
      "text/plain": [
       "9"
      ]
     },
     "execution_count": 5,
     "metadata": {},
     "output_type": "execute_result"
    }
   ],
   "source": [
    "d = a * b\n",
    "d"
   ]
  },
  {
   "cell_type": "code",
   "execution_count": 6,
   "metadata": {
    "collapsed": false
   },
   "outputs": [
    {
     "name": "stdout",
     "output_type": "stream",
     "text": [
      "Vektor(4, 5)\n",
      "Vektor(1, 3)\n"
     ]
    }
   ],
   "source": [
    "print (c)\n",
    "print (a)"
   ]
  },
  {
   "cell_type": "code",
   "execution_count": 7,
   "metadata": {
    "collapsed": false
   },
   "outputs": [
    {
     "data": {
      "text/plain": [
       "Vektor(3, 2)"
      ]
     },
     "execution_count": 7,
     "metadata": {},
     "output_type": "execute_result"
    }
   ],
   "source": [
    "c - a"
   ]
  },
  {
   "cell_type": "code",
   "execution_count": 8,
   "metadata": {
    "collapsed": false
   },
   "outputs": [
    {
     "data": {
      "text/plain": [
       "Vektor(8, 10)"
      ]
     },
     "execution_count": 8,
     "metadata": {},
     "output_type": "execute_result"
    }
   ],
   "source": [
    "c * 2"
   ]
  },
  {
   "cell_type": "code",
   "execution_count": 9,
   "metadata": {
    "collapsed": false
   },
   "outputs": [
    {
     "data": {
      "text/plain": [
       "Vektor(8, 10)"
      ]
     },
     "execution_count": 9,
     "metadata": {},
     "output_type": "execute_result"
    }
   ],
   "source": [
    "2 * c"
   ]
  },
  {
   "cell_type": "code",
   "execution_count": 10,
   "metadata": {
    "collapsed": false
   },
   "outputs": [
    {
     "data": {
      "text/plain": [
       "5.000000000000001"
      ]
     },
     "execution_count": 10,
     "metadata": {},
     "output_type": "execute_result"
    }
   ],
   "source": [
    "A = Tocka(1,2)\n",
    "A.norm()**2"
   ]
  },
  {
   "cell_type": "markdown",
   "metadata": {},
   "source": [
    "$$\n",
    "\\text{P.norm()}=\\sqrt{x^2 + y^2}\n",
    "$$"
   ]
  },
  {
   "cell_type": "code",
   "execution_count": 11,
   "metadata": {
    "collapsed": false
   },
   "outputs": [
    {
     "name": "stdout",
     "output_type": "stream",
     "text": [
      "Variable   Type      Data/Info\n",
      "------------------------------\n",
      "A          Tocka     Tocka(1, 2)\n",
      "Tocka      type      <class 'ravnina.Tocka'>\n",
      "Vektor     type      <class 'ravnina.Vektor'>\n",
      "a          Vektor    Vektor(1, 3)\n",
      "b          Vektor    Vektor(3, 2)\n",
      "c          Vektor    Vektor(4, 5)\n",
      "d          int       9\n"
     ]
    }
   ],
   "source": [
    "%whos"
   ]
  }
 ],
 "metadata": {
  "kernelspec": {
   "display_name": "Python 3",
   "language": "python",
   "name": "python3"
  },
  "language_info": {
   "codemirror_mode": {
    "name": "ipython",
    "version": 3
   },
   "file_extension": ".py",
   "mimetype": "text/x-python",
   "name": "python",
   "nbconvert_exporter": "python",
   "pygments_lexer": "ipython3",
   "version": "3.4.0"
  }
 },
 "nbformat": 4,
 "nbformat_minor": 0
}
