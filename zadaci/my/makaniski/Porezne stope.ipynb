{
 "cells": [
  {
   "cell_type": "code",
   "execution_count": 1,
   "metadata": {
    "collapsed": true
   },
   "outputs": [],
   "source": [
    "#stope = (0.1,0.2,0.3)\n",
    "#limit = (10000.,20000.)"
   ]
  },
  {
   "cell_type": "code",
   "execution_count": 2,
   "metadata": {
    "collapsed": true
   },
   "outputs": [],
   "source": [
    "stope = (0.1,0.2)\n",
    "limit = (10000.,None)"
   ]
  },
  {
   "cell_type": "code",
   "execution_count": 3,
   "metadata": {
    "collapsed": true
   },
   "outputs": [],
   "source": [
    "def is_in_interval(x,interval):\n",
    "    l,d = interval\n",
    "    if d:\n",
    "        return (l<=x) and (x<d)\n",
    "    else:\n",
    "        return (l<=x)"
   ]
  },
  {
   "cell_type": "code",
   "execution_count": 4,
   "metadata": {
    "collapsed": false
   },
   "outputs": [],
   "source": [
    "def make_porezna_func(stope,limit):\n",
    "    #niz funkcija p1,p2,p3\n",
    "    pi_list = []\n",
    "    last_limit = 0\n",
    "    nul_fja = lambda x:0\n",
    "    last_pi = nul_fja\n",
    "    \n",
    "    for s,l in zip(stope,limit):\n",
    "        \n",
    "        def pi(x,last_limit=last_limit,last_pi=last_pi,s=s):\n",
    "            v = last_pi(last_limit)+s*(x-last_limit)\n",
    "            return v\n",
    "        \n",
    "        last_limit, last_pi = l, pi\n",
    "        pi_list.append(pi)\n",
    "\n",
    "    b=list(limit)\n",
    "    b.insert(0,0)\n",
    "    interval = zip(b,b[1:])\n",
    "    \n",
    "    def p(x):\n",
    "        for intv,p in zip(interval,pi_list):\n",
    "            if is_in_interval(x,intv):\n",
    "                return p(x)\n",
    "    \n",
    "    return p"
   ]
  },
  {
   "cell_type": "code",
   "execution_count": 5,
   "metadata": {
    "collapsed": false
   },
   "outputs": [
    {
     "name": "stdout",
     "output_type": "stream",
     "text": [
      "Stopa od 0.1 do 10000.0\n",
      "Stopa od 0.2 do None\n"
     ]
    }
   ],
   "source": [
    "for s,l in zip(stope,limit):\n",
    "    print(\"Stopa od {0} do {1}\".format(s,l))"
   ]
  },
  {
   "cell_type": "code",
   "execution_count": 6,
   "metadata": {
    "collapsed": false
   },
   "outputs": [
    {
     "data": {
      "text/plain": [
       "(True, True, False)"
      ]
     },
     "execution_count": 6,
     "metadata": {},
     "output_type": "execute_result"
    }
   ],
   "source": [
    "p = make_porezna_func(stope,limit)\n",
    "p(1000)==100,p(100000)==10000,p(150000)==20000"
   ]
  },
  {
   "cell_type": "code",
   "execution_count": 7,
   "metadata": {
    "collapsed": true
   },
   "outputs": [],
   "source": [
    "a = (10,20,30)\n",
    "b = list(a)"
   ]
  },
  {
   "cell_type": "code",
   "execution_count": 8,
   "metadata": {
    "collapsed": false
   },
   "outputs": [
    {
     "data": {
      "text/plain": [
       "[0, 10, 20, 30, None]"
      ]
     },
     "execution_count": 8,
     "metadata": {},
     "output_type": "execute_result"
    }
   ],
   "source": [
    "b.append(None)\n",
    "b.insert(0,0)\n",
    "b"
   ]
  },
  {
   "cell_type": "code",
   "execution_count": 9,
   "metadata": {
    "collapsed": false
   },
   "outputs": [],
   "source": [
    "r = list(zip(b,b[1:]))"
   ]
  },
  {
   "cell_type": "code",
   "execution_count": 10,
   "metadata": {
    "collapsed": false
   },
   "outputs": [
    {
     "data": {
      "text/plain": [
       "False"
      ]
     },
     "execution_count": 10,
     "metadata": {},
     "output_type": "execute_result"
    }
   ],
   "source": [
    "is_in_interval(-10,(0,100))"
   ]
  },
  {
   "cell_type": "code",
   "execution_count": 12,
   "metadata": {
    "collapsed": false
   },
   "outputs": [
    {
     "name": "stderr",
     "output_type": "stream",
     "text": [
      "WARNING:root:Ovo je warning level info\n",
      "ERROR:root:Ovo je error level info\n",
      "CRITICAL:root:Ovo je critical level info\n"
     ]
    }
   ],
   "source": [
    "import logging\n",
    "\n",
    "logging.debug(\"Ovo je debug level info\")\n",
    "logging.info(\"Ovo je info level info\")\n",
    "logging.warning(\"Ovo je warning level info\")\n",
    "logging.error(\"Ovo je error level info\")\n",
    "logging.critical(\"Ovo je critical level info\")"
   ]
  },
  {
   "cell_type": "code",
   "execution_count": null,
   "metadata": {
    "collapsed": true
   },
   "outputs": [],
   "source": []
  }
 ],
 "metadata": {
  "kernelspec": {
   "display_name": "Python 3",
   "language": "python",
   "name": "python3"
  },
  "language_info": {
   "codemirror_mode": {
    "name": "ipython",
    "version": 3
   },
   "file_extension": ".py",
   "mimetype": "text/x-python",
   "name": "python",
   "nbconvert_exporter": "python",
   "pygments_lexer": "ipython3",
   "version": "3.4.0"
  }
 },
 "nbformat": 4,
 "nbformat_minor": 0
}
