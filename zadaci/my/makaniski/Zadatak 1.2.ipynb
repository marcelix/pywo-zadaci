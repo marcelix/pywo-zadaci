{
 "cells": [
  {
   "cell_type": "markdown",
   "metadata": {},
   "source": [
    "$$Generator$$"
   ]
  },
  {
   "cell_type": "code",
   "execution_count": 121,
   "metadata": {
    "collapsed": false
   },
   "outputs": [],
   "source": [
    "import itertools as it"
   ]
  },
  {
   "cell_type": "code",
   "execution_count": 122,
   "metadata": {
    "collapsed": false
   },
   "outputs": [
    {
     "data": {
      "text/plain": [
       "'/home/makaniski/pywo-work/pywo-zadaci/zadaci/my/makaniski'"
      ]
     },
     "execution_count": 122,
     "metadata": {},
     "output_type": "execute_result"
    }
   ],
   "source": [
    "pwd"
   ]
  },
  {
   "cell_type": "code",
   "execution_count": 123,
   "metadata": {
    "collapsed": false
   },
   "outputs": [
    {
     "name": "stdout",
     "output_type": "stream",
     "text": [
      "Argparse.ipynb                      MZ4.ipynb\r\n",
      "Euklidov algoritam.ipynb            MZ5.ipynb\r\n",
      "Excel-citanje.ipynb                 Pandas.ipynb\r\n",
      "f020915.dat                         Permutacije.ipynb\r\n",
      "Funkcije i njihovi argumenti.ipynb  Poziv.ipynb\r\n",
      "g68TVJhc.csv                        presjek_rjecnika.py\r\n",
      "Generator.ipynb                     pywo_some_data.xlsx\r\n",
      "Git config.ipynb                    pywo_write_some_data.xlsx\r\n",
      "Hornerov algoritam.ipynb            ravnina.py\r\n",
      "Iterator protokol.ipynb             Requests.ipynb\r\n",
      "MZ1.ipynb                           t\r\n",
      "MZ2.ipynb                           Tocka i Vektor.ipynb\r\n",
      "MZ3.ipynb                           zg-averages-data.xlsx\r\n"
     ]
    }
   ],
   "source": [
    "ls"
   ]
  },
  {
   "cell_type": "code",
   "execution_count": 124,
   "metadata": {
    "collapsed": false
   },
   "outputs": [
    {
     "data": {
      "text/plain": [
       "[]"
      ]
     },
     "execution_count": 124,
     "metadata": {},
     "output_type": "execute_result"
    }
   ],
   "source": [
    "sc -l"
   ]
  },
  {
   "cell_type": "code",
   "execution_count": 168,
   "metadata": {
    "collapsed": false
   },
   "outputs": [],
   "source": [
    "def gen(loc, ext='*'):\n",
    "    %cd $loc\n",
    "    %pwd\n",
    "    %sc -l b = ls $ext\n",
    "    for a in b:\n",
    "        yield a"
   ]
  },
  {
   "cell_type": "code",
   "execution_count": 169,
   "metadata": {
    "collapsed": false
   },
   "outputs": [
    {
     "name": "stdout",
     "output_type": "stream",
     "text": [
      "/notebooks\n"
     ]
    },
    {
     "data": {
      "text/plain": [
       "['a.csv',\n",
       " 'Argparse.ipynb',\n",
       " 'Excel-citanje.ipynb',\n",
       " 'f020915.dat',\n",
       " 'Funkcije i njihovi argumenti.ipynb',\n",
       " 'Generator.ipynb',\n",
       " 'Git config.ipynb',\n",
       " 'Iterator protokol.ipynb',\n",
       " 'MZ1.ipynb',\n",
       " 'MZ2.ipynb',\n",
       " 'MZ3.ipynb',\n",
       " 'MZ4.ipynb',\n",
       " 'MZ5.ipynb',\n",
       " 'Pandas.ipynb',\n",
       " 'Permutacije.ipynb',\n",
       " 'Poziv.ipynb',\n",
       " 'presjek_rjecnika.py',\n",
       " 'pywo_some_data.xlsx',\n",
       " 'pywo_write_some_data.xlsx',\n",
       " 'ravnina.py',\n",
       " 'Requests.ipynb',\n",
       " 'Tocka i Vektor.ipynb',\n",
       " 'Untitled.ipynb',\n",
       " 'Zadatak 1.1 - Euklid varijanta.ipynb',\n",
       " 'Zadatak 1.1 - Horner varijanta.ipynb',\n",
       " 'Zadatak 1.2.ipynb',\n",
       " 'zg-averages-data.xlsx',\n",
       " '',\n",
       " '__pycache__:',\n",
       " 'ravnina.cpython-34.pyc']"
      ]
     },
     "execution_count": 169,
     "metadata": {},
     "output_type": "execute_result"
    }
   ],
   "source": [
    "list(gen('/notebooks'))"
   ]
  },
  {
   "cell_type": "code",
   "execution_count": 170,
   "metadata": {
    "collapsed": false
   },
   "outputs": [
    {
     "name": "stdout",
     "output_type": "stream",
     "text": [
      "/home/makaniski/pywo-work/pywo-zadaci/zadaci/my/makaniski\n"
     ]
    },
    {
     "data": {
      "text/plain": [
       "['Argparse.ipynb',\n",
       " 'Euklidov algoritam.ipynb',\n",
       " 'Excel-citanje.ipynb',\n",
       " 'Funkcije i njihovi argumenti.ipynb',\n",
       " 'Generator.ipynb',\n",
       " 'Git config.ipynb',\n",
       " 'Hornerov algoritam.ipynb',\n",
       " 'Iterator protokol.ipynb',\n",
       " 'MZ1.ipynb',\n",
       " 'MZ2.ipynb',\n",
       " 'MZ3.ipynb',\n",
       " 'MZ4.ipynb',\n",
       " 'MZ5.ipynb',\n",
       " 'Pandas.ipynb',\n",
       " 'Permutacije.ipynb',\n",
       " 'Poziv.ipynb',\n",
       " 'Requests.ipynb',\n",
       " 'Tocka i Vektor.ipynb']"
      ]
     },
     "execution_count": 170,
     "metadata": {},
     "output_type": "execute_result"
    }
   ],
   "source": [
    "list(gen('/home/makaniski/pywo-work/pywo-zadaci/zadaci/my/makaniski','*.ipynb'))"
   ]
  }
 ],
 "metadata": {
  "kernelspec": {
   "display_name": "Python 3",
   "language": "python",
   "name": "python3"
  },
  "language_info": {
   "codemirror_mode": {
    "name": "ipython",
    "version": 3
   },
   "file_extension": ".py",
   "mimetype": "text/x-python",
   "name": "python",
   "nbconvert_exporter": "python",
   "pygments_lexer": "ipython3",
   "version": "3.4.0"
  }
 },
 "nbformat": 4,
 "nbformat_minor": 0
}
