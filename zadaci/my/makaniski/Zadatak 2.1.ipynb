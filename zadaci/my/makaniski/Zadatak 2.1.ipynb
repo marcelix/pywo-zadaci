{
 "cells": [
  {
   "cell_type": "code",
   "execution_count": 30,
   "metadata": {
    "collapsed": false
   },
   "outputs": [
    {
     "name": "stdout",
     "output_type": "stream",
     "text": [
      "a.csv\t\t\t\t    Permutacije.ipynb\r\n",
      "Argparse.ipynb\t\t\t    Poziv.ipynb\r\n",
      "Excel-citanje.ipynb\t\t    presjek_rjecnika.py\r\n",
      "f020915.dat\t\t\t    __pycache__\r\n",
      "Funkcije i njihovi argumenti.ipynb  pywo_some_data.xlsx\r\n",
      "Generator.ipynb\t\t\t    ravnina.py\r\n",
      "Git config.ipynb\t\t    Requests.ipynb\r\n",
      "Iterator protokol.ipynb\t\t    Tocka i Vektor.ipynb\r\n",
      "MZ1.ipynb\t\t\t    Untitled.ipynb\r\n",
      "MZ2.ipynb\t\t\t    Zadatak 1.1 - Euklid varijanta.ipynb\r\n",
      "MZ3.ipynb\t\t\t    Zadatak 1.1 - Horner varijanta.ipynb\r\n",
      "MZ4.ipynb\t\t\t    Zadatak 1.2.ipynb\r\n",
      "MZ5.ipynb\t\t\t    Zadatak 2.1.ipynb\r\n",
      "Pandas.ipynb\t\t\t    zg-averages-data.xlsx\r\n"
     ]
    }
   ],
   "source": [
    "!ls"
   ]
  },
  {
   "cell_type": "code",
   "execution_count": 31,
   "metadata": {
    "collapsed": true
   },
   "outputs": [],
   "source": [
    "filename = \"pywo_some_data.xlsx\""
   ]
  },
  {
   "cell_type": "markdown",
   "metadata": {},
   "source": [
    "**Zadatak**\n",
    "\n",
    "a) Otvoriti ovaj excel file i pročitati prvi stupac.\n",
    "Za to nam treba modul ```xlrd```.\n",
    "\n",
    "b) Sredili polja (razdvojili ime i prezime)\n",
    "\n",
    "c) Sortirali na 2 načina\n",
    "\n",
    "d) DZ, za vježbu izbaciti \",\" pomoću ```re```\n",
    "\n",
    "e) DZ, za vježbu rezultate upisati u novu excel datoteku: u 2 stupca (potreban modul je ```xlwt```)"
   ]
  },
  {
   "cell_type": "code",
   "execution_count": 32,
   "metadata": {
    "collapsed": true
   },
   "outputs": [],
   "source": [
    "import xlrd\n",
    "import re\n",
    "import xlwt"
   ]
  },
  {
   "cell_type": "code",
   "execution_count": 33,
   "metadata": {
    "collapsed": false
   },
   "outputs": [],
   "source": [
    "workbook = xlrd.open_workbook(filename)\n",
    "sheet = workbook.sheet_by_index(0)"
   ]
  },
  {
   "cell_type": "code",
   "execution_count": 34,
   "metadata": {
    "collapsed": false
   },
   "outputs": [
    {
     "data": {
      "text/plain": [
       "['Josip Mlakar, ',\n",
       " 'Elvis Popović, ',\n",
       " 'Vladimir Milašinović, ',\n",
       " 'Filip Rafajec, ',\n",
       " 'Matej Gucek, ',\n",
       " 'Jura Šolja, ',\n",
       " 'Gabrijela Grgača, ',\n",
       " 'Stjepan Rakarec, ',\n",
       " 'Davorin Špičko, ',\n",
       " 'Milan Pavlović, ',\n",
       " 'Senko Pušec, ',\n",
       " 'Filip Aleksić, ',\n",
       " 'Roman Tomašković, ',\n",
       " 'Peđa Čačić, ',\n",
       " 'Saša Poslončec,',\n",
       " 'Mislav Zebić, ',\n",
       " 'Ian Žonja,',\n",
       " 'Tomislav Cundić, ',\n",
       " 'Matija Kaniški,',\n",
       " 'Petar Šestak,',\n",
       " 'Ivana Završki,',\n",
       " 'Vedran Vađunec, ',\n",
       " 'Matea Bodulušić, ',\n",
       " 'Andrea Danzante,']"
      ]
     },
     "execution_count": 34,
     "metadata": {},
     "output_type": "execute_result"
    }
   ],
   "source": [
    "L = [student.value for student in sheet.col(0)]\n",
    "L\n",
    "\n",
    "M = [ x for x in L if x != '' ]\n",
    "M"
   ]
  },
  {
   "cell_type": "markdown",
   "metadata": {},
   "source": [
    "Sredimo ovu listu u format \"PREZIME IME\".\n",
    "Zatim treba sortirati."
   ]
  },
  {
   "cell_type": "code",
   "execution_count": 35,
   "metadata": {
    "collapsed": true
   },
   "outputs": [],
   "source": [
    "ime = 'Josip Mlakar, '"
   ]
  },
  {
   "cell_type": "code",
   "execution_count": 36,
   "metadata": {
    "collapsed": true
   },
   "outputs": [],
   "source": [
    "def sredi(ime):\n",
    "    v = ime.strip(\", \")\n",
    "    listica = v.split()\n",
    "\n",
    "    return listica[::-1]"
   ]
  },
  {
   "cell_type": "code",
   "execution_count": 37,
   "metadata": {
    "collapsed": true
   },
   "outputs": [],
   "source": [
    "def srediRE(ime):\n",
    "    v =[x for x in re.split(',| ',ime) if x!='']\n",
    "    return v[::-1]"
   ]
  },
  {
   "cell_type": "code",
   "execution_count": 38,
   "metadata": {
    "collapsed": false
   },
   "outputs": [
    {
     "data": {
      "text/plain": [
       "['Mlakar', 'Josip']"
      ]
     },
     "execution_count": 38,
     "metadata": {},
     "output_type": "execute_result"
    }
   ],
   "source": [
    "srediRE(ime)"
   ]
  },
  {
   "cell_type": "code",
   "execution_count": 39,
   "metadata": {
    "collapsed": false
   },
   "outputs": [
    {
     "data": {
      "text/plain": [
       "['Mlakar', 'Josip']"
      ]
     },
     "execution_count": 39,
     "metadata": {},
     "output_type": "execute_result"
    }
   ],
   "source": [
    "sredi(ime)"
   ]
  },
  {
   "cell_type": "code",
   "execution_count": 40,
   "metadata": {
    "collapsed": false
   },
   "outputs": [
    {
     "data": {
      "text/plain": [
       "[['Mlakar', 'Josip'],\n",
       " ['Popović', 'Elvis'],\n",
       " ['Milašinović', 'Vladimir'],\n",
       " ['Rafajec', 'Filip'],\n",
       " ['Gucek', 'Matej'],\n",
       " ['Šolja', 'Jura'],\n",
       " ['Grgača', 'Gabrijela'],\n",
       " ['Rakarec', 'Stjepan'],\n",
       " ['Špičko', 'Davorin'],\n",
       " ['Pavlović', 'Milan'],\n",
       " ['Pušec', 'Senko'],\n",
       " ['Aleksić', 'Filip'],\n",
       " ['Tomašković', 'Roman'],\n",
       " ['Čačić', 'Peđa'],\n",
       " ['Poslončec', 'Saša'],\n",
       " ['Zebić', 'Mislav'],\n",
       " ['Žonja', 'Ian'],\n",
       " ['Cundić', 'Tomislav'],\n",
       " ['Kaniški', 'Matija'],\n",
       " ['Šestak', 'Petar'],\n",
       " ['Završki', 'Ivana'],\n",
       " ['Vađunec', 'Vedran'],\n",
       " ['Bodulušić', 'Matea'],\n",
       " ['Danzante', 'Andrea']]"
      ]
     },
     "execution_count": 40,
     "metadata": {},
     "output_type": "execute_result"
    }
   ],
   "source": [
    "P = [ sredi(ime) for ime in M]\n",
    "P"
   ]
  },
  {
   "cell_type": "code",
   "execution_count": 41,
   "metadata": {
    "collapsed": false
   },
   "outputs": [
    {
     "data": {
      "text/plain": [
       "[['Mlakar', 'Josip'],\n",
       " ['Popović', 'Elvis'],\n",
       " ['Milašinović', 'Vladimir'],\n",
       " ['Rafajec', 'Filip'],\n",
       " ['Gucek', 'Matej'],\n",
       " ['Šolja', 'Jura'],\n",
       " ['Grgača', 'Gabrijela'],\n",
       " ['Rakarec', 'Stjepan'],\n",
       " ['Špičko', 'Davorin'],\n",
       " ['Pavlović', 'Milan'],\n",
       " ['Pušec', 'Senko'],\n",
       " ['Aleksić', 'Filip'],\n",
       " ['Tomašković', 'Roman'],\n",
       " ['Čačić', 'Peđa'],\n",
       " ['Poslončec', 'Saša'],\n",
       " ['Zebić', 'Mislav'],\n",
       " ['Žonja', 'Ian'],\n",
       " ['Cundić', 'Tomislav'],\n",
       " ['Kaniški', 'Matija'],\n",
       " ['Šestak', 'Petar'],\n",
       " ['Završki', 'Ivana'],\n",
       " ['Vađunec', 'Vedran'],\n",
       " ['Bodulušić', 'Matea'],\n",
       " ['Danzante', 'Andrea']]"
      ]
     },
     "execution_count": 41,
     "metadata": {},
     "output_type": "execute_result"
    }
   ],
   "source": [
    "R = [ srediRE(ime) for ime in M]\n",
    "R"
   ]
  },
  {
   "cell_type": "code",
   "execution_count": 47,
   "metadata": {
    "collapsed": false
   },
   "outputs": [
    {
     "data": {
      "text/plain": [
       "[['Danzante', 'Andrea'],\n",
       " ['Špičko', 'Davorin'],\n",
       " ['Popović', 'Elvis'],\n",
       " ['Rafajec', 'Filip'],\n",
       " ['Aleksić', 'Filip'],\n",
       " ['Grgača', 'Gabrijela'],\n",
       " ['Žonja', 'Ian'],\n",
       " ['Završki', 'Ivana'],\n",
       " ['Mlakar', 'Josip'],\n",
       " ['Šolja', 'Jura'],\n",
       " ['Bodulušić', 'Matea'],\n",
       " ['Gucek', 'Matej'],\n",
       " ['Kaniški', 'Matija'],\n",
       " ['Pavlović', 'Milan'],\n",
       " ['Zebić', 'Mislav'],\n",
       " ['Šestak', 'Petar'],\n",
       " ['Čačić', 'Peđa'],\n",
       " ['Tomašković', 'Roman'],\n",
       " ['Poslončec', 'Saša'],\n",
       " ['Pušec', 'Senko'],\n",
       " ['Rakarec', 'Stjepan'],\n",
       " ['Cundić', 'Tomislav'],\n",
       " ['Vađunec', 'Vedran'],\n",
       " ['Milašinović', 'Vladimir']]"
      ]
     },
     "execution_count": 47,
     "metadata": {},
     "output_type": "execute_result"
    }
   ],
   "source": [
    "fja_usporedbe = lambda x:x[1]\n",
    "S = sorted(P, key = fja_usporedbe, reverse=False)\n",
    "S"
   ]
  },
  {
   "cell_type": "code",
   "execution_count": 43,
   "metadata": {
    "collapsed": true
   },
   "outputs": [],
   "source": [
    "sorted?"
   ]
  },
  {
   "cell_type": "code",
   "execution_count": 44,
   "metadata": {
    "collapsed": false
   },
   "outputs": [
    {
     "data": {
      "text/plain": [
       "<function __main__.<lambda>>"
      ]
     },
     "execution_count": 44,
     "metadata": {},
     "output_type": "execute_result"
    }
   ],
   "source": [
    "lambda x:x[1]"
   ]
  },
  {
   "cell_type": "code",
   "execution_count": 45,
   "metadata": {
    "collapsed": false
   },
   "outputs": [
    {
     "data": {
      "text/plain": [
       "[['Mlakar', 'Josip'],\n",
       " ['Popović', 'Elvis'],\n",
       " ['Milašinović', 'Vladimir'],\n",
       " ['Rafajec', 'Filip'],\n",
       " ['Gucek', 'Matej'],\n",
       " ['Šolja', 'Jura'],\n",
       " ['Grgača', 'Gabrijela'],\n",
       " ['Rakarec', 'Stjepan'],\n",
       " ['Špičko', 'Davorin'],\n",
       " ['Pavlović', 'Milan'],\n",
       " ['Pušec', 'Senko'],\n",
       " ['Aleksić', 'Filip'],\n",
       " ['Tomašković', 'Roman'],\n",
       " ['Čačić', 'Peđa'],\n",
       " ['Poslončec', 'Saša'],\n",
       " ['Zebić', 'Mislav'],\n",
       " ['Žonja', 'Ian'],\n",
       " ['Cundić', 'Tomislav'],\n",
       " ['Kaniški', 'Matija'],\n",
       " ['Šestak', 'Petar'],\n",
       " ['Završki', 'Ivana'],\n",
       " ['Vađunec', 'Vedran'],\n",
       " ['Bodulušić', 'Matea'],\n",
       " ['Danzante', 'Andrea']]"
      ]
     },
     "execution_count": 45,
     "metadata": {},
     "output_type": "execute_result"
    }
   ],
   "source": [
    "R"
   ]
  },
  {
   "cell_type": "code",
   "execution_count": 48,
   "metadata": {
    "collapsed": false
   },
   "outputs": [],
   "source": [
    "wb = xlwt.Workbook() \n",
    "sheet = wb.add_sheet(\"pywo_write_some_data\")\n",
    "column_number = 0\n",
    "for row_number, item in enumerate(S):\n",
    "    for line in item:\n",
    "        sheet.write(row_number, column_number, line)\n",
    "        column_number+=1\n",
    "    column_number=0\n",
    "\n",
    "wb.save(\"pywo_write_some_data.xlsx\")"
   ]
  }
 ],
 "metadata": {
  "kernelspec": {
   "display_name": "Python 3",
   "language": "python",
   "name": "python3"
  },
  "language_info": {
   "codemirror_mode": {
    "name": "ipython",
    "version": 3
   },
   "file_extension": ".py",
   "mimetype": "text/x-python",
   "name": "python",
   "nbconvert_exporter": "python",
   "pygments_lexer": "ipython3",
   "version": "3.4.0"
  }
 },
 "nbformat": 4,
 "nbformat_minor": 0
}
