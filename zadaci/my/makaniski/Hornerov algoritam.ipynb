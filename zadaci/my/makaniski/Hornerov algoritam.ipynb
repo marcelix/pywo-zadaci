{
 "cells": [
  {
   "cell_type": "markdown",
   "metadata": {},
   "source": [
    "$$Hornerov-algoritam$$"
   ]
  },
  {
   "cell_type": "code",
   "execution_count": 22,
   "metadata": {
    "collapsed": true
   },
   "outputs": [],
   "source": [
    "def horner(coeffs, x):\n",
    "    \"\"\"Racuna vrijednost polinoma coeffs u tocki x i na izlazu daje tablicu kakvu\n",
    "    dobivamo rucnim izvodjenjem Hornerovog algoritma. \"\"\"\n",
    "    acc = 0\n",
    "    step = 0\n",
    "    tablica=[['korak','tocka','potencija','vrijednost']]\n",
    "    for c in reversed(coeffs):\n",
    "        acc = acc * x + c\n",
    "        tablica.append([str(step)+'.',x,c,acc])\n",
    "        step+=1\n",
    "    print(tablica)\n",
    "    return acc"
   ]
  },
  {
   "cell_type": "code",
   "execution_count": 23,
   "metadata": {
    "collapsed": false
   },
   "outputs": [
    {
     "name": "stdout",
     "output_type": "stream",
     "text": [
      "[['korak', 'tocka', 'potencija', 'vrijednost'], ['0.', 3, 6, 6], ['1.', 3, -4, 14], ['2.', 3, 7, 49], ['3.', 3, -19, 128]]\n"
     ]
    },
    {
     "data": {
      "text/plain": [
       "128"
      ]
     },
     "execution_count": 23,
     "metadata": {},
     "output_type": "execute_result"
    }
   ],
   "source": [
    "# 6x^3-4x^2+7x-19 za x=3\n",
    "horner( (-19, 7, -4, 6), 3)"
   ]
  },
  {
   "cell_type": "code",
   "execution_count": null,
   "metadata": {
    "collapsed": true
   },
   "outputs": [],
   "source": []
  }
 ],
 "metadata": {
  "kernelspec": {
   "display_name": "Python 3",
   "language": "python",
   "name": "python3"
  },
  "language_info": {
   "codemirror_mode": {
    "name": "ipython",
    "version": 3
   },
   "file_extension": ".py",
   "mimetype": "text/x-python",
   "name": "python",
   "nbconvert_exporter": "python",
   "pygments_lexer": "ipython3",
   "version": "3.4.0"
  }
 },
 "nbformat": 4,
 "nbformat_minor": 0
}
