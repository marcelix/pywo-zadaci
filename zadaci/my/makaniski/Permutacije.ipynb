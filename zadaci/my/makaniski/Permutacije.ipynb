{
 "cells": [
  {
   "cell_type": "markdown",
   "metadata": {},
   "source": [
    "$\\{1,2,3,4\\}$"
   ]
  },
  {
   "cell_type": "code",
   "execution_count": 3,
   "metadata": {
    "collapsed": false
   },
   "outputs": [],
   "source": [
    "import itertools\n",
    "def itertools_perm_gen(s):\n",
    "    for e in itertools.permutations(s):\n",
    "        print(e)"
   ]
  },
  {
   "cell_type": "code",
   "execution_count": 4,
   "metadata": {
    "collapsed": false
   },
   "outputs": [
    {
     "name": "stdout",
     "output_type": "stream",
     "text": [
      "('1', '2', '3', '4')\n",
      "('1', '2', '4', '3')\n",
      "('1', '3', '2', '4')\n",
      "('1', '3', '4', '2')\n",
      "('1', '4', '2', '3')\n",
      "('1', '4', '3', '2')\n",
      "('2', '1', '3', '4')\n",
      "('2', '1', '4', '3')\n",
      "('2', '3', '1', '4')\n",
      "('2', '3', '4', '1')\n",
      "('2', '4', '1', '3')\n",
      "('2', '4', '3', '1')\n",
      "('3', '1', '2', '4')\n",
      "('3', '1', '4', '2')\n",
      "('3', '2', '1', '4')\n",
      "('3', '2', '4', '1')\n",
      "('3', '4', '1', '2')\n",
      "('3', '4', '2', '1')\n",
      "('4', '1', '2', '3')\n",
      "('4', '1', '3', '2')\n",
      "('4', '2', '1', '3')\n",
      "('4', '2', '3', '1')\n",
      "('4', '3', '1', '2')\n",
      "('4', '3', '2', '1')\n"
     ]
    }
   ],
   "source": [
    "itertools_perm_gen('1234')"
   ]
  },
  {
   "cell_type": "code",
   "execution_count": 1,
   "metadata": {
    "collapsed": true
   },
   "outputs": [],
   "source": [
    "def permutacije(input, s):\n",
    "    '''Generator za 4-permutacije\n",
    "    '''\n",
    "    if len(s) == len(input): yield s\n",
    "    for i in input:\n",
    "        if i in s: continue\n",
    "        s=s+i\n",
    "        for x in permutacije(input, s): yield x\n",
    "        s=s[:-1]\n"
   ]
  },
  {
   "cell_type": "code",
   "execution_count": 13,
   "metadata": {
    "collapsed": true
   },
   "outputs": [],
   "source": [
    "L = list(permutacije('1234',''))"
   ]
  },
  {
   "cell_type": "code",
   "execution_count": 14,
   "metadata": {
    "collapsed": false
   },
   "outputs": [
    {
     "name": "stdout",
     "output_type": "stream",
     "text": [
      "['1234', '1243', '1324', '1342', '1423', '1432', '2134', '2143', '2314', '2341', '2413', '2431', '3124', '3142', '3214', '3241', '3412', '3421', '4123', '4132', '4213', '4231', '4312', '4321']\n"
     ]
    }
   ],
   "source": [
    "print(L)"
   ]
  },
  {
   "cell_type": "code",
   "execution_count": 40,
   "metadata": {
    "collapsed": false
   },
   "outputs": [
    {
     "data": {
      "text/plain": [
       "24"
      ]
     },
     "execution_count": 40,
     "metadata": {},
     "output_type": "execute_result"
    }
   ],
   "source": [
    "len(L)"
   ]
  },
  {
   "cell_type": "code",
   "execution_count": null,
   "metadata": {
    "collapsed": true
   },
   "outputs": [],
   "source": []
  }
 ],
 "metadata": {
  "kernelspec": {
   "display_name": "Python 3",
   "language": "python",
   "name": "python3"
  },
  "language_info": {
   "codemirror_mode": {
    "name": "ipython",
    "version": 3
   },
   "file_extension": ".py",
   "mimetype": "text/x-python",
   "name": "python",
   "nbconvert_exporter": "python",
   "pygments_lexer": "ipython3",
   "version": "3.4.0"
  }
 },
 "nbformat": 4,
 "nbformat_minor": 0
}
