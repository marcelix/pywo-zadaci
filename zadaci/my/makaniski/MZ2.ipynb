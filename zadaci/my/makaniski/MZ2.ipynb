{
 "cells": [
  {
   "cell_type": "code",
   "execution_count": 1,
   "metadata": {
    "collapsed": false
   },
   "outputs": [],
   "source": [
    "D1 = {1:'A',2:'B',3:'C'}\n",
    "D2 = {2:'X',3:'Y',4:'Z'}"
   ]
  },
  {
   "cell_type": "code",
   "execution_count": 2,
   "metadata": {
    "collapsed": true
   },
   "outputs": [],
   "source": [
    "kljuc_D1=set(D1.keys())\n",
    "kljuc_D2=set(D2.keys())"
   ]
  },
  {
   "cell_type": "code",
   "execution_count": 3,
   "metadata": {
    "collapsed": false
   },
   "outputs": [
    {
     "data": {
      "text/plain": [
       "{2, 3}"
      ]
     },
     "execution_count": 3,
     "metadata": {},
     "output_type": "execute_result"
    }
   ],
   "source": [
    "presjek = kljuc_D1&kljuc_D2\n",
    "unija = kljuc_D1 | kljuc_D2\n",
    "presjek"
   ]
  },
  {
   "cell_type": "code",
   "execution_count": 4,
   "metadata": {
    "collapsed": false
   },
   "outputs": [
    {
     "data": {
      "text/plain": [
       "{2: 'B', 3: 'C'}"
      ]
     },
     "execution_count": 4,
     "metadata": {},
     "output_type": "execute_result"
    }
   ],
   "source": [
    "{k:D1[k]for k in presjek}"
   ]
  },
  {
   "cell_type": "code",
   "execution_count": 17,
   "metadata": {
    "collapsed": false
   },
   "outputs": [
    {
     "name": "stdout",
     "output_type": "stream",
     "text": [
      "Overwriting presjek_rjecnika.py\n"
     ]
    }
   ],
   "source": [
    "%%writefile presjek_rjecnika.py\n",
    "def presjek_rjecnika(r1,r2):\n",
    "    kljuc_D1=set(r1.keys())\n",
    "    kljuc_D2=set(r2.keys())\n",
    "    presjek = kljuc_D1&kljuc_D2\n",
    "    return {k:r1[k]for k in presjek}"
   ]
  },
  {
   "cell_type": "code",
   "execution_count": 16,
   "metadata": {
    "collapsed": false
   },
   "outputs": [
    {
     "data": {
      "text/plain": [
       "{2: 'B', 3: 'C'}"
      ]
     },
     "execution_count": 16,
     "metadata": {},
     "output_type": "execute_result"
    }
   ],
   "source": [
    "presjek_rjecnika(D1,D2)"
   ]
  },
  {
   "cell_type": "code",
   "execution_count": 47,
   "metadata": {
    "collapsed": false
   },
   "outputs": [
    {
     "name": "stdout",
     "output_type": "stream",
     "text": [
      "Variable           Type        Data/Info\n",
      "----------------------------------------\n",
      "D1                 dict        n=3\n",
      "D2                 dict        n=3\n",
      "D3                 NoneType    None\n",
      "Z                  NoneType    None\n",
      "h                  dict        n=0\n",
      "i                  int         1\n",
      "kljuc_D1           set         {1, 2, 3}\n",
      "kljuc_D2           set         {2, 3, 4}\n",
      "presjek            set         {2, 3}\n",
      "presjek_rjecnika   function    <function presjek_rjecnika at 0x7ffa88043510>\n",
      "unija              set         {1, 2, 3, 4}\n"
     ]
    }
   ],
   "source": [
    "%whos"
   ]
  },
  {
   "cell_type": "code",
   "execution_count": 51,
   "metadata": {
    "collapsed": false
   },
   "outputs": [
    {
     "data": {
      "text/plain": [
       "['def presjek_rjecnika(r1, r2):',\n",
       " '    presjek = {}',\n",
       " '    presjek = set(r1.keys)&set(r2.keys)',\n",
       " '    return {k:r1[k]for k in presjek}']"
      ]
     },
     "execution_count": 51,
     "metadata": {},
     "output_type": "execute_result"
    }
   ],
   "source": [
    "linije_datoteke"
   ]
  },
  {
   "cell_type": "code",
   "execution_count": 10,
   "metadata": {
    "collapsed": true
   },
   "outputs": [],
   "source": [
    "linije_datoteke = !cat presjek_rjecnika.py"
   ]
  }
 ],
 "metadata": {
  "kernelspec": {
   "display_name": "Python 3",
   "language": "python",
   "name": "python3"
  },
  "language_info": {
   "codemirror_mode": {
    "name": "ipython",
    "version": 3
   },
   "file_extension": ".py",
   "mimetype": "text/x-python",
   "name": "python",
   "nbconvert_exporter": "python",
   "pygments_lexer": "ipython3",
   "version": "3.4.0"
  }
 },
 "nbformat": 4,
 "nbformat_minor": 0
}
