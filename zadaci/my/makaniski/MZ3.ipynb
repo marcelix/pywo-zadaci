{
 "cells": [
  {
   "cell_type": "code",
   "execution_count": 1,
   "metadata": {
    "collapsed": false
   },
   "outputs": [],
   "source": [
    "datoteka = !cat f020915.dat"
   ]
  },
  {
   "cell_type": "code",
   "execution_count": 2,
   "metadata": {
    "collapsed": false
   },
   "outputs": [
    {
     "data": {
      "text/plain": [
       "'978EUR001       7,524280       7,546921       7,569562'"
      ]
     },
     "execution_count": 2,
     "metadata": {},
     "output_type": "execute_result"
    }
   ],
   "source": [
    "datoteka[-2]"
   ]
  },
  {
   "cell_type": "code",
   "execution_count": 3,
   "metadata": {
    "collapsed": false
   },
   "outputs": [
    {
     "name": "stdout",
     "output_type": "stream",
     "text": [
      "7,546921\n"
     ]
    }
   ],
   "source": [
    "for linija in datoteka:\n",
    "    if \"978EUR001\"in linija:\n",
    "        lista=linija.split()\n",
    "        print(lista[-2])"
   ]
  },
  {
   "cell_type": "code",
   "execution_count": 4,
   "metadata": {
    "collapsed": false
   },
   "outputs": [
    {
     "data": {
      "text/plain": [
       "200"
      ]
     },
     "execution_count": 4,
     "metadata": {},
     "output_type": "execute_result"
    }
   ],
   "source": [
    "import requests\n",
    "r = requests.get('http://www.hnb.hr/tecajn/f020915.dat')\n",
    "r.status_code"
   ]
  },
  {
   "cell_type": "code",
   "execution_count": 5,
   "metadata": {
    "collapsed": false
   },
   "outputs": [
    {
     "data": {
      "text/plain": [
       "'text/plain'"
      ]
     },
     "execution_count": 5,
     "metadata": {},
     "output_type": "execute_result"
    }
   ],
   "source": [
    "r.headers['content-type']"
   ]
  },
  {
   "cell_type": "code",
   "execution_count": 6,
   "metadata": {
    "collapsed": false
   },
   "outputs": [
    {
     "data": {
      "text/plain": [
       "'ISO-8859-1'"
      ]
     },
     "execution_count": 6,
     "metadata": {},
     "output_type": "execute_result"
    }
   ],
   "source": [
    "r.encoding"
   ]
  },
  {
   "cell_type": "code",
   "execution_count": 7,
   "metadata": {
    "collapsed": false
   },
   "outputs": [
    {
     "data": {
      "text/plain": [
       "'167010920150209201513\\r\\n036AUD001       4,726604       4,740826       4,755048\\r\\n124CAD001       5,075742       5,091015       5,106288\\r\\n203CZK001       0,278615       0,279453       0,280291\\r\\n208DKK001       1,008157       1,011191       1,014225\\r\\n348HUF100       2,394970       2,402177       2,409384\\r\\n392JPY100       5,575606       5,592383       5,609160\\r\\n578NOK001       0,804040       0,806459       0,808878\\r\\n752SEK001       0,792046       0,794429       0,796812\\r\\n756CHF001       6,942499       6,963389       6,984279\\r\\n826GBP001      10,265048      10,295936      10,326824\\r\\n840USD001       6,684090       6,704203       6,724316\\r\\n978EUR001       7,524280       7,546921       7,569562\\r\\n985PLN001       1,778369       1,783720       1,789071\\r\\n'"
      ]
     },
     "execution_count": 7,
     "metadata": {},
     "output_type": "execute_result"
    }
   ],
   "source": [
    "r.text"
   ]
  },
  {
   "cell_type": "code",
   "execution_count": 10,
   "metadata": {
    "collapsed": false
   },
   "outputs": [
    {
     "data": {
      "text/plain": [
       "['167010920150209201513',\n",
       " '036AUD001       4,726604       4,740826       4,755048',\n",
       " '124CAD001       5,075742       5,091015       5,106288',\n",
       " '203CZK001       0,278615       0,279453       0,280291',\n",
       " '208DKK001       1,008157       1,011191       1,014225',\n",
       " '348HUF100       2,394970       2,402177       2,409384',\n",
       " '392JPY100       5,575606       5,592383       5,609160',\n",
       " '578NOK001       0,804040       0,806459       0,808878',\n",
       " '752SEK001       0,792046       0,794429       0,796812',\n",
       " '756CHF001       6,942499       6,963389       6,984279',\n",
       " '826GBP001      10,265048      10,295936      10,326824',\n",
       " '840USD001       6,684090       6,704203       6,724316',\n",
       " '978EUR001       7,524280       7,546921       7,569562',\n",
       " '985PLN001       1,778369       1,783720       1,789071']"
      ]
     },
     "execution_count": 10,
     "metadata": {},
     "output_type": "execute_result"
    }
   ],
   "source": [
    "r.text.splitlines()"
   ]
  },
  {
   "cell_type": "code",
   "execution_count": 22,
   "metadata": {
    "collapsed": false
   },
   "outputs": [
    {
     "name": "stdout",
     "output_type": "stream",
     "text": [
      "['978EUR001', '7,524280', '7,546921', '7,569562']\n"
     ]
    }
   ],
   "source": [
    "for row in r.text.splitlines():\n",
    "    if \"978EUR001\"in row:\n",
    "        lista=row.split()\n",
    "        print(lista)"
   ]
  },
  {
   "cell_type": "code",
   "execution_count": null,
   "metadata": {
    "collapsed": true
   },
   "outputs": [],
   "source": []
  }
 ],
 "metadata": {
  "kernelspec": {
   "display_name": "Python 3",
   "language": "python",
   "name": "python3"
  },
  "language_info": {
   "codemirror_mode": {
    "name": "ipython",
    "version": 3
   },
   "file_extension": ".py",
   "mimetype": "text/x-python",
   "name": "python",
   "nbconvert_exporter": "python",
   "pygments_lexer": "ipython3",
   "version": "3.4.0"
  }
 },
 "nbformat": 4,
 "nbformat_minor": 0
}
