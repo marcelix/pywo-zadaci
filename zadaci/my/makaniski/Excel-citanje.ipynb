{
 "cells": [
  {
   "cell_type": "code",
   "execution_count": 1,
   "metadata": {
    "collapsed": false
   },
   "outputs": [
    {
     "name": "stdout",
     "output_type": "stream",
     "text": [
      "ls: cannot access ../../03/: No such file or directory\r\n"
     ]
    }
   ],
   "source": [
    "!ls ../../03/"
   ]
  },
  {
   "cell_type": "code",
   "execution_count": 2,
   "metadata": {
    "collapsed": true
   },
   "outputs": [],
   "source": [
    "filename = \"pywo_some_data.xlsx\""
   ]
  },
  {
   "cell_type": "markdown",
   "metadata": {},
   "source": [
    "**Zadatak**\n",
    "\n",
    "a) Otvoriti ovaj excel file i pročitati prvi stupac.\n",
    "Za to nam treba modul ```xlrd```.\n",
    "\n",
    "b) Sredili polja (razdvojili ime i prezime)\n",
    "\n",
    "c) Sortirali na 2 načina\n",
    "\n",
    "d) DZ, za vježbu izbaciti \",\" pomoću ```re```\n",
    "\n",
    "e) DZ, za vježbu rezultate upisati u novu excel datoteku: u 2 stupca (potreban modul je ```xlwt```)"
   ]
  },
  {
   "cell_type": "code",
   "execution_count": 2,
   "metadata": {
    "collapsed": true
   },
   "outputs": [],
   "source": [
    "import xlrd\n",
    "import re\n",
    "import xlwt"
   ]
  },
  {
   "cell_type": "code",
   "execution_count": 3,
   "metadata": {
    "collapsed": false
   },
   "outputs": [],
   "source": [
    "workbook = xlrd.open_workbook(filename)\n",
    "sheet = workbook.sheet_by_index(0)"
   ]
  },
  {
   "cell_type": "code",
   "execution_count": 4,
   "metadata": {
    "collapsed": false
   },
   "outputs": [
    {
     "data": {
      "text/plain": [
       "['Josip Mlakar, ',\n",
       " 'Elvis Popović, ',\n",
       " 'Vladimir Milašinović, ',\n",
       " 'Filip Rafajec, ',\n",
       " 'Matej Gucek, ',\n",
       " 'Jura Šolja, ',\n",
       " 'Gabrijela Grgača, ',\n",
       " 'Stjepan Rakarec, ',\n",
       " 'Davorin Špičko, ',\n",
       " 'Milan Pavlović, ',\n",
       " 'Senko Pušec, ',\n",
       " 'Filip Aleksić, ',\n",
       " 'Roman Tomašković, ',\n",
       " 'Peđa Čačić, ',\n",
       " 'Saša Poslončec,',\n",
       " 'Mislav Zebić, ',\n",
       " 'Ian Žonja,',\n",
       " 'Tomislav Cundić, ',\n",
       " 'Matija Kaniški,',\n",
       " 'Petar Šestak,',\n",
       " 'Ivana Završki,',\n",
       " 'Vedran Vađunec, ',\n",
       " 'Matea Bodulušić, ',\n",
       " 'Andrea Danzante,']"
      ]
     },
     "execution_count": 4,
     "metadata": {},
     "output_type": "execute_result"
    }
   ],
   "source": [
    "L = [student.value for student in sheet.col(0)]\n",
    "L\n",
    "\n",
    "M = [ x for x in L if x != '' ]\n",
    "M"
   ]
  },
  {
   "cell_type": "markdown",
   "metadata": {},
   "source": [
    "Sredimo ovu listu u format \"PREZIME IME\".\n",
    "Zatim treba sortirati."
   ]
  },
  {
   "cell_type": "code",
   "execution_count": 5,
   "metadata": {
    "collapsed": true
   },
   "outputs": [],
   "source": [
    "ime = 'Josip Mlakar, '"
   ]
  },
  {
   "cell_type": "code",
   "execution_count": 9,
   "metadata": {
    "collapsed": true
   },
   "outputs": [],
   "source": [
    "def sredi(ime):\n",
    "    v = ime.strip(\", \")\n",
    "    listica = v.split()\n",
    "\n",
    "    return listica[::-1]"
   ]
  },
  {
   "cell_type": "code",
   "execution_count": 92,
   "metadata": {
    "collapsed": true
   },
   "outputs": [],
   "source": [
    "def srediRE(ime):\n",
    "    v =[x for x in re.split(',| ',ime) if x!='']\n",
    "    return v[::-1]"
   ]
  },
  {
   "cell_type": "code",
   "execution_count": 91,
   "metadata": {
    "collapsed": false
   },
   "outputs": [
    {
     "data": {
      "text/plain": [
       "['Mlakar', 'Josip']"
      ]
     },
     "execution_count": 91,
     "metadata": {},
     "output_type": "execute_result"
    }
   ],
   "source": [
    "srediRE(ime)"
   ]
  },
  {
   "cell_type": "code",
   "execution_count": 57,
   "metadata": {
    "collapsed": false
   },
   "outputs": [
    {
     "data": {
      "text/plain": [
       "['Mlakar', 'Josip']"
      ]
     },
     "execution_count": 57,
     "metadata": {},
     "output_type": "execute_result"
    }
   ],
   "source": [
    "sredi(ime)"
   ]
  },
  {
   "cell_type": "code",
   "execution_count": 96,
   "metadata": {
    "collapsed": false
   },
   "outputs": [
    {
     "data": {
      "text/plain": [
       "[['Mlakar', 'Josip'],\n",
       " ['Popović', 'Elvis'],\n",
       " ['Milašinović', 'Vladimir'],\n",
       " ['Rafajec', 'Filip'],\n",
       " ['Gucek', 'Matej'],\n",
       " ['Šolja', 'Jura'],\n",
       " ['Grgača', 'Gabrijela'],\n",
       " ['Rakarec', 'Stjepan'],\n",
       " ['Špičko', 'Davorin'],\n",
       " ['Pavlović', 'Milan'],\n",
       " ['Pušec', 'Senko'],\n",
       " ['Aleksić', 'Filip'],\n",
       " ['Tomašković', 'Roman'],\n",
       " ['Čačić', 'Peđa'],\n",
       " ['Poslončec', 'Saša'],\n",
       " ['Zebić', 'Mislav'],\n",
       " ['Žonja', 'Ian'],\n",
       " ['Cundić', 'Tomislav'],\n",
       " ['Kaniški', 'Matija'],\n",
       " ['Šestak', 'Petar'],\n",
       " ['Završki', 'Ivana'],\n",
       " ['Vađunec', 'Vedran'],\n",
       " ['Bodulušić', 'Matea'],\n",
       " ['Danzante', 'Andrea']]"
      ]
     },
     "execution_count": 96,
     "metadata": {},
     "output_type": "execute_result"
    }
   ],
   "source": [
    "P = [ sredi(ime) for ime in M]\n",
    "P"
   ]
  },
  {
   "cell_type": "code",
   "execution_count": 93,
   "metadata": {
    "collapsed": false
   },
   "outputs": [
    {
     "data": {
      "text/plain": [
       "[['Mlakar', 'Josip'],\n",
       " ['Popović', 'Elvis'],\n",
       " ['Milašinović', 'Vladimir'],\n",
       " ['Rafajec', 'Filip'],\n",
       " ['Gucek', 'Matej'],\n",
       " ['Šolja', 'Jura'],\n",
       " ['Grgača', 'Gabrijela'],\n",
       " ['Rakarec', 'Stjepan'],\n",
       " ['Špičko', 'Davorin'],\n",
       " ['Pavlović', 'Milan'],\n",
       " ['Pušec', 'Senko'],\n",
       " ['Aleksić', 'Filip'],\n",
       " ['Tomašković', 'Roman'],\n",
       " ['Čačić', 'Peđa'],\n",
       " ['Poslončec', 'Saša'],\n",
       " ['Zebić', 'Mislav'],\n",
       " ['Žonja', 'Ian'],\n",
       " ['Cundić', 'Tomislav'],\n",
       " ['Kaniški', 'Matija'],\n",
       " ['Šestak', 'Petar'],\n",
       " ['Završki', 'Ivana'],\n",
       " ['Vađunec', 'Vedran'],\n",
       " ['Bodulušić', 'Matea'],\n",
       " ['Danzante', 'Andrea']]"
      ]
     },
     "execution_count": 93,
     "metadata": {},
     "output_type": "execute_result"
    }
   ],
   "source": [
    "R = [ srediRE(ime) for ime in M]\n",
    "R"
   ]
  },
  {
   "cell_type": "code",
   "execution_count": 100,
   "metadata": {
    "collapsed": false
   },
   "outputs": [
    {
     "data": {
      "text/plain": [
       "[['Danzante', 'Andrea'],\n",
       " ['Špičko', 'Davorin'],\n",
       " ['Popović', 'Elvis'],\n",
       " ['Rafajec', 'Filip'],\n",
       " ['Aleksić', 'Filip'],\n",
       " ['Grgača', 'Gabrijela'],\n",
       " ['Žonja', 'Ian'],\n",
       " ['Završki', 'Ivana'],\n",
       " ['Mlakar', 'Josip'],\n",
       " ['Šolja', 'Jura'],\n",
       " ['Bodulušić', 'Matea'],\n",
       " ['Gucek', 'Matej'],\n",
       " ['Kaniški', 'Matija'],\n",
       " ['Pavlović', 'Milan'],\n",
       " ['Zebić', 'Mislav'],\n",
       " ['Šestak', 'Petar'],\n",
       " ['Čačić', 'Peđa'],\n",
       " ['Tomašković', 'Roman'],\n",
       " ['Poslončec', 'Saša'],\n",
       " ['Pušec', 'Senko'],\n",
       " ['Rakarec', 'Stjepan'],\n",
       " ['Cundić', 'Tomislav'],\n",
       " ['Vađunec', 'Vedran'],\n",
       " ['Milašinović', 'Vladimir']]"
      ]
     },
     "execution_count": 100,
     "metadata": {},
     "output_type": "execute_result"
    }
   ],
   "source": [
    "fja_usporedbe = lambda x:x[1]\n",
    "sorted(P, key = fja_usporedbe, reverse=False)"
   ]
  },
  {
   "cell_type": "code",
   "execution_count": 94,
   "metadata": {
    "collapsed": true
   },
   "outputs": [],
   "source": [
    "sorted?"
   ]
  },
  {
   "cell_type": "code",
   "execution_count": 11,
   "metadata": {
    "collapsed": false
   },
   "outputs": [
    {
     "data": {
      "text/plain": [
       "<function __main__.<lambda>>"
      ]
     },
     "execution_count": 11,
     "metadata": {},
     "output_type": "execute_result"
    }
   ],
   "source": [
    "lambda x:x[1]"
   ]
  },
  {
   "cell_type": "code",
   "execution_count": 101,
   "metadata": {
    "collapsed": false
   },
   "outputs": [
    {
     "data": {
      "text/plain": [
       "[['Mlakar', 'Josip'],\n",
       " ['Popović', 'Elvis'],\n",
       " ['Milašinović', 'Vladimir'],\n",
       " ['Rafajec', 'Filip'],\n",
       " ['Gucek', 'Matej'],\n",
       " ['Šolja', 'Jura'],\n",
       " ['Grgača', 'Gabrijela'],\n",
       " ['Rakarec', 'Stjepan'],\n",
       " ['Špičko', 'Davorin'],\n",
       " ['Pavlović', 'Milan'],\n",
       " ['Pušec', 'Senko'],\n",
       " ['Aleksić', 'Filip'],\n",
       " ['Tomašković', 'Roman'],\n",
       " ['Čačić', 'Peđa'],\n",
       " ['Poslončec', 'Saša'],\n",
       " ['Zebić', 'Mislav'],\n",
       " ['Žonja', 'Ian'],\n",
       " ['Cundić', 'Tomislav'],\n",
       " ['Kaniški', 'Matija'],\n",
       " ['Šestak', 'Petar'],\n",
       " ['Završki', 'Ivana'],\n",
       " ['Vađunec', 'Vedran'],\n",
       " ['Bodulušić', 'Matea'],\n",
       " ['Danzante', 'Andrea']]"
      ]
     },
     "execution_count": 101,
     "metadata": {},
     "output_type": "execute_result"
    }
   ],
   "source": [
    "R"
   ]
  },
  {
   "cell_type": "code",
   "execution_count": 136,
   "metadata": {
    "collapsed": false
   },
   "outputs": [],
   "source": [
    "wb = xlwt.Workbook() \n",
    "sheet = wb.add_sheet(\"pywo_write_some_data\")\n",
    "column_number = 0\n",
    "for row_number, item in enumerate(R):\n",
    "    for line in item:\n",
    "        sheet.write(row_number, column_number, line)\n",
    "        column_number+=1\n",
    "    column_number=0\n",
    "\n",
    "wb.save(\"pywo_write_some_data.xlsx\")"
   ]
  },
  {
   "cell_type": "code",
   "execution_count": null,
   "metadata": {
    "collapsed": true
   },
   "outputs": [],
   "source": []
  }
 ],
 "metadata": {
  "kernelspec": {
   "display_name": "Python 3",
   "language": "python",
   "name": "python3"
  },
  "language_info": {
   "codemirror_mode": {
    "name": "ipython",
    "version": 3
   },
   "file_extension": ".py",
   "mimetype": "text/x-python",
   "name": "python",
   "nbconvert_exporter": "python",
   "pygments_lexer": "ipython3",
   "version": "3.4.0"
  }
 },
 "nbformat": 4,
 "nbformat_minor": 0
}
