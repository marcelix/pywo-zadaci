{
 "cells": [
  {
   "cell_type": "markdown",
   "metadata": {},
   "source": [
    "$$Euklidov-algoritam$$"
   ]
  },
  {
   "cell_type": "code",
   "execution_count": 30,
   "metadata": {
    "collapsed": false
   },
   "outputs": [],
   "source": [
    "def euklid(f,g):\n",
    "    \"\"\"Daje svaki korak Euklidovog algoritma kod odredjivanja\n",
    "    najvece zajednicke mjere brojeva f i g. U svakom koraku\n",
    "    funkcija daje kvocijent i ostatak koji se dobiju dijeljenjem \n",
    "    odgovarajucih brojeva.\n",
    "    \"\"\"\n",
    "    tablica=[['korak','potencija','ostatak']]\n",
    "    korak=1\n",
    "    q,r=f,g\n",
    "    while r!=0:\n",
    "        tablica.append([str(korak)+'.',q//r,q%r])\n",
    "        q,r=r,q%r\n",
    "        korak += 1\n",
    "    print(tablica)\n",
    "    return \"M({0}, {1}) = {2}\".format(f,g,tablica[-2][2])"
   ]
  },
  {
   "cell_type": "code",
   "execution_count": 31,
   "metadata": {
    "collapsed": false
   },
   "outputs": [
    {
     "name": "stdout",
     "output_type": "stream",
     "text": [
      "[['korak', 'kvocijent', 'ostatak'], ['1.', 0, 3102], ['2.', 1, 900], ['3.', 3, 402], ['4.', 2, 96], ['5.', 4, 18], ['6.', 5, 6], ['7.', 3, 0]]\n"
     ]
    },
    {
     "data": {
      "text/plain": [
       "'M(3102, 4002) = 6'"
      ]
     },
     "execution_count": 31,
     "metadata": {},
     "output_type": "execute_result"
    }
   ],
   "source": [
    " euklid(3102,4002)"
   ]
  }
 ],
 "metadata": {
  "kernelspec": {
   "display_name": "Python 3",
   "language": "python",
   "name": "python3"
  },
  "language_info": {
   "codemirror_mode": {
    "name": "ipython",
    "version": 3
   },
   "file_extension": ".py",
   "mimetype": "text/x-python",
   "name": "python",
   "nbconvert_exporter": "python",
   "pygments_lexer": "ipython3",
   "version": "3.4.0"
  }
 },
 "nbformat": 4,
 "nbformat_minor": 0
}
