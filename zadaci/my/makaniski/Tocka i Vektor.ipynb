{
 "cells": [
  {
   "cell_type": "code",
   "execution_count": 8,
   "metadata": {
    "collapsed": false
   },
   "outputs": [
    {
     "name": "stdout",
     "output_type": "stream",
     "text": [
      "Writing ravnina.py\n"
     ]
    }
   ],
   "source": [
    "%%writefile ravnina.py\n",
    "\n",
    "\n",
    "from math import sqrt\n",
    "\n",
    "class Tocka:\n",
    "    \"\"\"\n",
    "       Opis ove klase.\n",
    "       \n",
    "       2-dim tocke u ravnini.\n",
    "    \"\"\"\n",
    "    \n",
    "    def __init__(self, x, y):\n",
    "        self.x = x\n",
    "        self.y = y\n",
    "    \n",
    "    \n",
    "    def norm(self):\n",
    "        return sqrt( self.x**2 + self.y**2  )\n",
    "        \n",
    "    \n",
    "    def __repr__(self):\n",
    "        return \"Tocka({0}, {1})\".format(self.x,self.y)\n",
    "        \n",
    "\n",
    "class Vektor(Tocka):\n",
    "\n",
    "    def __add__(self, b):\n",
    "        \"\"\" self je vektor, b je vektor\n",
    "        \"\"\"\n",
    "        x = self.x + b.x\n",
    "        y = self.y + b.y\n",
    "        return Vektor(x, y)\n",
    "    \n",
    "    def __sub__(self, b):\n",
    "        \"\"\" self je vektor, b je vektor\n",
    "        \"\"\"\n",
    "        x = self.x - b.x\n",
    "        y = self.y - b.y\n",
    "        return Vektor(x, y)\n",
    "    \n",
    "    def __mul__(self, b):\n",
    "        \"\"\" self je vektor, b je vektor\n",
    "        \"\"\"\n",
    "        x = self.x * b\n",
    "        y = self.y * b\n",
    "        return Vektor(x, y)\n",
    "\n",
    "    def __rmul__(self, b):\n",
    "        \"\"\" self je vektor, b je vektor\n",
    "        \"\"\"\n",
    "        x = b * self.x\n",
    "        y = b * self.y\n",
    "        return Vektor(x, y)\n",
    "    \n",
    "    def __repr__(self):\n",
    "        return \"Vektor({0}, {1})\".format(self.x,self.y)"
   ]
  },
  {
   "cell_type": "code",
   "execution_count": 9,
   "metadata": {
    "collapsed": false
   },
   "outputs": [
    {
     "name": "stdout",
     "output_type": "stream",
     "text": [
      "Argparse.ipynb\t\t\t    MZ4.ipynb\r\n",
      "Euklid.ipynb\t\t\t    MZ5.ipynb\r\n",
      "Excel-citanje.ipynb\t\t    Permutacije.ipynb\r\n",
      "f020915.dat\t\t\t    Poziv.ipynb\r\n",
      "Funkcije i njihovi argumenti.ipynb  presjek_rjecnika.py\r\n",
      "Generator.ipynb\t\t\t    __pycache__\r\n",
      "Git config.ipynb\t\t    pywo_some_data.xlsx\r\n",
      "Hornerov algoritam.ipynb\t    pywo_write_some_data.xlsx\r\n",
      "Iterator protokol.ipynb\t\t    ravnina.py\r\n",
      "MZ1.ipynb\t\t\t    Requests.ipynb\r\n",
      "MZ2.ipynb\t\t\t    Tocka i Vektor.ipynb\r\n",
      "MZ3.ipynb\r\n"
     ]
    }
   ],
   "source": [
    "!ls"
   ]
  },
  {
   "cell_type": "code",
   "execution_count": 10,
   "metadata": {
    "collapsed": false
   },
   "outputs": [
    {
     "name": "stdout",
     "output_type": "stream",
     "text": [
      "Vektor(0, -1)\n"
     ]
    }
   ],
   "source": [
    "from ravnina import Tocka,Vektor\n",
    "a = Vektor(-1,-3)\n",
    "b = Vektor(1,2)\n",
    "\n",
    "c = a + b\n",
    "print(c)"
   ]
  },
  {
   "cell_type": "code",
   "execution_count": 11,
   "metadata": {
    "collapsed": false
   },
   "outputs": [
    {
     "data": {
      "text/plain": [
       "Vektor(0, -1)"
      ]
     },
     "execution_count": 11,
     "metadata": {},
     "output_type": "execute_result"
    }
   ],
   "source": [
    "c.norm()\n",
    "c"
   ]
  },
  {
   "cell_type": "markdown",
   "metadata": {},
   "source": [
    "Zelim jos"
   ]
  },
  {
   "cell_type": "code",
   "execution_count": 12,
   "metadata": {
    "collapsed": false
   },
   "outputs": [
    {
     "name": "stdout",
     "output_type": "stream",
     "text": [
      "Vektor(0, -1)\n",
      "Vektor(-1, -3)\n"
     ]
    }
   ],
   "source": [
    "print (c)\n",
    "print (a)"
   ]
  },
  {
   "cell_type": "code",
   "execution_count": 15,
   "metadata": {
    "collapsed": false
   },
   "outputs": [
    {
     "data": {
      "text/plain": [
       "Vektor(1, 2)"
      ]
     },
     "execution_count": 15,
     "metadata": {},
     "output_type": "execute_result"
    }
   ],
   "source": [
    "c - a"
   ]
  },
  {
   "cell_type": "code",
   "execution_count": 17,
   "metadata": {
    "collapsed": false
   },
   "outputs": [
    {
     "data": {
      "text/plain": [
       "Vektor(0, -2)"
      ]
     },
     "execution_count": 17,
     "metadata": {},
     "output_type": "execute_result"
    }
   ],
   "source": [
    "c * 2"
   ]
  },
  {
   "cell_type": "code",
   "execution_count": 6,
   "metadata": {
    "collapsed": false
   },
   "outputs": [
    {
     "ename": "NameError",
     "evalue": "name 'Tocka' is not defined",
     "output_type": "error",
     "traceback": [
      "\u001b[1;31m---------------------------------------------------------------------------\u001b[0m",
      "\u001b[1;31mNameError\u001b[0m                                 Traceback (most recent call last)",
      "\u001b[1;32m<ipython-input-6-cfd8481bb3c1>\u001b[0m in \u001b[0;36m<module>\u001b[1;34m()\u001b[0m\n\u001b[1;32m----> 1\u001b[1;33m \u001b[0mA\u001b[0m \u001b[1;33m=\u001b[0m \u001b[0mTocka\u001b[0m\u001b[1;33m(\u001b[0m\u001b[1;36m1\u001b[0m\u001b[1;33m,\u001b[0m\u001b[1;36m2\u001b[0m\u001b[1;33m)\u001b[0m\u001b[1;33m\u001b[0m\u001b[0m\n\u001b[0m\u001b[0;32m      2\u001b[0m \u001b[0mA\u001b[0m\u001b[1;33m.\u001b[0m\u001b[0mnorm\u001b[0m\u001b[1;33m(\u001b[0m\u001b[1;33m)\u001b[0m\u001b[1;33m**\u001b[0m\u001b[1;36m2\u001b[0m\u001b[1;33m\u001b[0m\u001b[0m\n",
      "\u001b[1;31mNameError\u001b[0m: name 'Tocka' is not defined"
     ]
    }
   ],
   "source": [
    "A = Tocka(1,2)\n",
    "A.norm()**2"
   ]
  },
  {
   "cell_type": "markdown",
   "metadata": {},
   "source": [
    "$$\n",
    "\\text{P.norm()}=\\sqrt{x^2 + y^2}\n",
    "$$"
   ]
  },
  {
   "cell_type": "code",
   "execution_count": 7,
   "metadata": {
    "collapsed": false
   },
   "outputs": [
    {
     "name": "stdout",
     "output_type": "stream",
     "text": [
      "Interactive namespace is empty.\n"
     ]
    }
   ],
   "source": [
    "%whos"
   ]
  },
  {
   "cell_type": "code",
   "execution_count": null,
   "metadata": {
    "collapsed": true
   },
   "outputs": [],
   "source": []
  }
 ],
 "metadata": {
  "kernelspec": {
   "display_name": "Python 3",
   "language": "python",
   "name": "python3"
  },
  "language_info": {
   "codemirror_mode": {
    "name": "ipython",
    "version": 3
   },
   "file_extension": ".py",
   "mimetype": "text/x-python",
   "name": "python",
   "nbconvert_exporter": "python",
   "pygments_lexer": "ipython3",
   "version": "3.4.0"
  }
 },
 "nbformat": 4,
 "nbformat_minor": 0
}
