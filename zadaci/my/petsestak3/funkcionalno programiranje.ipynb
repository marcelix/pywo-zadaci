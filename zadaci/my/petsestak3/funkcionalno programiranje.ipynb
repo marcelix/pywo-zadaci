{
 "cells": [
  {
   "cell_type": "code",
   "execution_count": 3,
   "metadata": {
    "collapsed": false
   },
   "outputs": [],
   "source": [
    "#import flask  #nije potrebno za ovaj zadatak"
   ]
  },
  {
   "cell_type": "markdown",
   "metadata": {},
   "source": [
    "<h2>Zadatak 1.1</h2>\n",
    "\n",
    "Napraviti compose funkciju koja označava kompoziciju funkcija\n",
    "$$h=f \\circ g $$\n",
    "$$h(x)=f(g(x)), \\forall x $$"
   ]
  },
  {
   "cell_type": "code",
   "execution_count": 4,
   "metadata": {
    "collapsed": true
   },
   "outputs": [],
   "source": [
    "def compose(f,g):\n",
    "    \"\"\"\n",
    "    Returns composition of functions\n",
    "    h=compose(f,g)\n",
    "    h(x)==f(g(x))\n",
    "    \"\"\"\n",
    "    def tmpfunc(x):\n",
    "        return f(g(x))\n",
    "    return tmpfunc"
   ]
  },
  {
   "cell_type": "code",
   "execution_count": 5,
   "metadata": {
    "collapsed": true
   },
   "outputs": [],
   "source": [
    "def f(x):\n",
    "    return x+1\n",
    "def g(x):\n",
    "    return 2*x-3"
   ]
  },
  {
   "cell_type": "code",
   "execution_count": 6,
   "metadata": {
    "collapsed": false
   },
   "outputs": [],
   "source": [
    "h=compose(f,g)"
   ]
  },
  {
   "cell_type": "code",
   "execution_count": 7,
   "metadata": {
    "collapsed": false
   },
   "outputs": [
    {
     "data": {
      "text/plain": [
       "True"
      ]
     },
     "execution_count": 7,
     "metadata": {},
     "output_type": "execute_result"
    }
   ],
   "source": [
    "h(1)==f(g(1))"
   ]
  },
  {
   "cell_type": "code",
   "execution_count": 8,
   "metadata": {
    "collapsed": false
   },
   "outputs": [
    {
     "data": {
      "text/plain": [
       "0"
      ]
     },
     "execution_count": 8,
     "metadata": {},
     "output_type": "execute_result"
    }
   ],
   "source": [
    "h(1)"
   ]
  },
  {
   "cell_type": "code",
   "execution_count": 9,
   "metadata": {
    "collapsed": false
   },
   "outputs": [
    {
     "data": {
      "text/plain": [
       "True"
      ]
     },
     "execution_count": 9,
     "metadata": {},
     "output_type": "execute_result"
    }
   ],
   "source": [
    "h(2)==f(g(2))"
   ]
  },
  {
   "cell_type": "markdown",
   "metadata": {},
   "source": [
    "poboljšanje broj 1"
   ]
  },
  {
   "cell_type": "code",
   "execution_count": 10,
   "metadata": {
    "collapsed": false
   },
   "outputs": [],
   "source": [
    "def compose_better(f,g):\n",
    "    \"\"\"\n",
    "    Returns composition of functions\n",
    "    h=compose(f,g)\n",
    "    h(x,y,z,...)==f(g(x,y,z,...))\n",
    "    \"\"\"\n",
    "    def tmpfunc(*args):\n",
    "        ntorka=g(*args)\n",
    "        return f(*ntorka)\n",
    "    return tmpfunc"
   ]
  },
  {
   "cell_type": "code",
   "execution_count": 11,
   "metadata": {
    "collapsed": true
   },
   "outputs": [],
   "source": [
    "def ff(a,b,c):\n",
    "    return a+b,c\n",
    "def gg(a,b,c):\n",
    "    return a,b,a+b"
   ]
  },
  {
   "cell_type": "code",
   "execution_count": 12,
   "metadata": {
    "collapsed": false
   },
   "outputs": [
    {
     "data": {
      "text/plain": [
       "True"
      ]
     },
     "execution_count": 12,
     "metadata": {},
     "output_type": "execute_result"
    }
   ],
   "source": [
    "hh=compose_better(ff,gg)\n",
    "hh(1,3,2)==ff(*gg(1,3,2))"
   ]
  },
  {
   "cell_type": "markdown",
   "metadata": {},
   "source": [
    "poboljšanje broj 2"
   ]
  },
  {
   "cell_type": "code",
   "execution_count": 13,
   "metadata": {
    "collapsed": false
   },
   "outputs": [
    {
     "ename": "IndentationError",
     "evalue": "expected an indented block (<ipython-input-13-ab9497028b77>, line 10)",
     "output_type": "error",
     "traceback": [
      "\u001b[1;36m  File \u001b[1;32m\"<ipython-input-13-ab9497028b77>\"\u001b[1;36m, line \u001b[1;32m10\u001b[0m\n\u001b[1;33m    return tmpfunc\u001b[0m\n\u001b[1;37m         ^\u001b[0m\n\u001b[1;31mIndentationError\u001b[0m\u001b[1;31m:\u001b[0m expected an indented block\n"
     ]
    }
   ],
   "source": [
    "def compose_even_better (*functions):\n",
    "    \"\"\"\n",
    "    Returns composition of functions\n",
    "    h=compose(f1,f2,f3)\n",
    "    h==f1 o f2 o f3\n",
    "    f1(f2(f3(x,y,z,...)))\n",
    "    \"\"\"\n",
    "    def tmpfunc(*args):\n",
    "        # ostavljamo za vježbu\n",
    "    return tmpfunc"
   ]
  },
  {
   "cell_type": "markdown",
   "metadata": {},
   "source": [
    "<h2>Zadatak 1.2</h2>\n",
    "\n",
    "Napraviti parcijalnu funkciju\n",
    "$$g(x)=f(x,b)$$"
   ]
  },
  {
   "cell_type": "markdown",
   "metadata": {},
   "source": [
    "<pre>g(x)=f(x,b)        #za svaki x </pre>"
   ]
  },
  {
   "cell_type": "code",
   "execution_count": 14,
   "metadata": {
    "collapsed": false
   },
   "outputs": [],
   "source": [
    "def parcijalna_funkcija(f,b):\n",
    "    def tmpfunc(x):\n",
    "        return f(x,b)\n",
    "    \n",
    "    return tmpfunc"
   ]
  },
  {
   "cell_type": "code",
   "execution_count": 16,
   "metadata": {
    "collapsed": false
   },
   "outputs": [
    {
     "ename": "TypeError",
     "evalue": "tmpfunc() got an unexpected keyword argument 'b'",
     "output_type": "error",
     "traceback": [
      "\u001b[1;31m---------------------------------------------------------------------------\u001b[0m",
      "\u001b[1;31mTypeError\u001b[0m                                 Traceback (most recent call last)",
      "\u001b[1;32m<ipython-input-16-340c836055b1>\u001b[0m in \u001b[0;36m<module>\u001b[1;34m()\u001b[0m\n\u001b[0;32m      1\u001b[0m \u001b[0mg\u001b[0m\u001b[1;33m=\u001b[0m\u001b[0mparcijalna_funkcija\u001b[0m\u001b[1;33m(\u001b[0m\u001b[0mf\u001b[0m\u001b[1;33m,\u001b[0m\u001b[0mb\u001b[0m\u001b[1;33m=\u001b[0m\u001b[1;36m2\u001b[0m\u001b[1;33m)\u001b[0m\u001b[1;33m\u001b[0m\u001b[0m\n\u001b[0;32m      2\u001b[0m \u001b[0mx\u001b[0m\u001b[1;33m=\u001b[0m\u001b[1;36m13\u001b[0m\u001b[1;33m\u001b[0m\u001b[0m\n\u001b[1;32m----> 3\u001b[1;33m \u001b[0mf\u001b[0m\u001b[1;33m(\u001b[0m\u001b[0mx\u001b[0m\u001b[1;33m)\u001b[0m\u001b[1;33m==\u001b[0m\u001b[0mg\u001b[0m\u001b[1;33m(\u001b[0m\u001b[0mx\u001b[0m\u001b[1;33m,\u001b[0m\u001b[0mb\u001b[0m\u001b[1;33m=\u001b[0m\u001b[1;36m2\u001b[0m\u001b[1;33m)\u001b[0m\u001b[1;33m\u001b[0m\u001b[0m\n\u001b[0m",
      "\u001b[1;31mTypeError\u001b[0m: tmpfunc() got an unexpected keyword argument 'b'"
     ]
    }
   ],
   "source": [
    "g=parcijalna_funkcija(f,b=2)\n",
    "x=13\n",
    "f(x)==g(x,b=2)"
   ]
  },
  {
   "cell_type": "raw",
   "metadata": {},
   "source": []
  },
  {
   "cell_type": "code",
   "execution_count": null,
   "metadata": {
    "collapsed": true
   },
   "outputs": [],
   "source": [
    "import functools"
   ]
  },
  {
   "cell_type": "code",
   "execution_count": null,
   "metadata": {
    "collapsed": false
   },
   "outputs": [],
   "source": [
    "int(\"100\")"
   ]
  },
  {
   "cell_type": "code",
   "execution_count": null,
   "metadata": {
    "collapsed": false
   },
   "outputs": [],
   "source": [
    "int(\"100\",2)  #"
   ]
  },
  {
   "cell_type": "code",
   "execution_count": null,
   "metadata": {
    "collapsed": true
   },
   "outputs": [],
   "source": [
    "base2int=functools.partial(int,base=2)"
   ]
  },
  {
   "cell_type": "code",
   "execution_count": null,
   "metadata": {
    "collapsed": false
   },
   "outputs": [],
   "source": [
    "base2int(\"1010100101\")"
   ]
  },
  {
   "cell_type": "code",
   "execution_count": null,
   "metadata": {
    "collapsed": true
   },
   "outputs": [],
   "source": [
    "def slozena_funkcija(a,b,c):\n",
    "    return a+b+c"
   ]
  },
  {
   "cell_type": "code",
   "execution_count": null,
   "metadata": {
    "collapsed": false
   },
   "outputs": [],
   "source": [
    "g=functools.partial(slozena_funkcija,b=2)"
   ]
  },
  {
   "cell_type": "code",
   "execution_count": null,
   "metadata": {
    "collapsed": false
   },
   "outputs": [],
   "source": [
    "g(a=1,c=3)"
   ]
  },
  {
   "cell_type": "markdown",
   "metadata": {},
   "source": [
    "<h2>Zadatak 1.3</h2>\n",
    "\n",
    "\n",
    "Napraviti closure funkciju"
   ]
  },
  {
   "cell_type": "code",
   "execution_count": null,
   "metadata": {
    "collapsed": true
   },
   "outputs": [],
   "source": [
    "def make_npow_func(n):\n",
    "    return lambda x:x**n"
   ]
  },
  {
   "cell_type": "code",
   "execution_count": null,
   "metadata": {
    "collapsed": false
   },
   "outputs": [],
   "source": [
    "square_func=make_npow_func(2)\n",
    "square_func(13)"
   ]
  },
  {
   "cell_type": "code",
   "execution_count": null,
   "metadata": {
    "collapsed": false
   },
   "outputs": [],
   "source": [
    "cube_func=make_npow_func(3)\n",
    "cube_func(5)"
   ]
  },
  {
   "cell_type": "markdown",
   "metadata": {},
   "source": [
    "<h2>Zadatak 2.1</h2>\n",
    "\n",
    "Napišite funkciju koja vraća funkciju za računanje poreza i prireza iz zadanog dohotka"
   ]
  },
  {
   "cell_type": "code",
   "execution_count": 50,
   "metadata": {
    "collapsed": false
   },
   "outputs": [],
   "source": [
    "ulaz=[0.10, 100000.],[0.20, 200000.],[0.30,None]  #None znači da nema granice (od 200000 na dalje)\n",
    "#ako je godišnji dohodak manji od 100000 kn, mora se platiti 10 % poreza na taj dohodak\n",
    "#ako je pak dohodak veći od 100000 kn, mora se platiti na 10 % poreza na prvih 100000 kn, a za ostatak se plaća 20 % poreza"
   ]
  },
  {
   "cell_type": "code",
   "execution_count": 98,
   "metadata": {
    "collapsed": false
   },
   "outputs": [
    {
     "data": {
      "text/plain": [
       "60000.0"
      ]
     },
     "execution_count": 98,
     "metadata": {},
     "output_type": "execute_result"
    }
   ],
   "source": [
    "#import pdb    #pozivanje modula sa debuggerom\n",
    "\n",
    "#def make_porez_func(ulaz):\n",
    "def oporezivanje_dohotka(x,ulaz):\n",
    "    prev_novcana_granica=0\n",
    "    porez=0.0\n",
    "    for u in ulaz:\n",
    "#        pdb.set_trace()    #ovo je breakpoint (tu se u svakoj iteraciji petlje zaustavlja program te se mogu\n",
    "                          #izvršavati naredbe koje se prikažu upisivanjem znaka 'h'\n",
    "                        #npr. q - izlaz iz debuggera, naziv_varijable - ispisuje trenutni sadrzaj varijable,\n",
    "                        # funkcija(3) - ispisuje vrijednost koji vraća funkcija u tom trenutku\n",
    "                       #ako se naziv varijable poklapa sa nazivom naredbe u debuggeru, stanje se može provjeriti\n",
    "                    #na sljedeći način: print(s) ...u slucaju da nas zanima varijabla 's', a to je pdb naredba)\n",
    "        if u[1] != None:\n",
    "            if x>=u[1]:\n",
    "                porez+=(u[1]-prev_novcana_granica)*u[0]\n",
    "            else:\n",
    "                porez+=(x-prev_novcana_granica)*u[0]\n",
    "                break;\n",
    "        else:\n",
    "            porez+=(x-prev_novcana_granica)*u[0]\n",
    "        prev_novcana_granica=u[1]\n",
    "    return porez\n",
    "#    return tmp_func\n",
    "#make_porez_func(ulaz)\n",
    "oporezivanje_dohotka(300000,ulaz)"
   ]
  },
  {
   "cell_type": "code",
   "execution_count": 16,
   "metadata": {
    "collapsed": false
   },
   "outputs": [
    {
     "data": {
      "text/plain": [
       "[<function __main__.p>, <function __main__.p>, <function __main__.p>]"
      ]
     },
     "execution_count": 16,
     "metadata": {},
     "output_type": "execute_result"
    }
   ],
   "source": [
    "p_funkcije=[]\n",
    "\n",
    "for u in ulaz:\n",
    "    def p(x):\n",
    "        stopa,limit = u\n",
    "        return stopa*(x)\n",
    "    p_funkcije.append(p)\n",
    "    \n",
    "p_funkcije # ovdje imam sve funkcije (za svaki razred)"
   ]
  },
  {
   "cell_type": "code",
   "execution_count": 17,
   "metadata": {
    "collapsed": true
   },
   "outputs": [],
   "source": [
    "def transponiraj(lista):\n",
    "    nlista=[]\n",
    "    for i in range (0,len(ulaz)):\n",
    "        for j in range (0,len(ulaz[i])):\n",
    "            if i==0:\n",
    "                nlista.append([])\n",
    "            nlista[j].append(lista[i][j])\n",
    "    return nlista"
   ]
  },
  {
   "cell_type": "code",
   "execution_count": 18,
   "metadata": {
    "collapsed": false
   },
   "outputs": [
    {
     "data": {
      "text/plain": [
       "[[0.1, 0.2, 0.3], [100000.0, 200000.0, None]]"
      ]
     },
     "execution_count": 18,
     "metadata": {},
     "output_type": "execute_result"
    }
   ],
   "source": [
    "transponiraj(ulaz)"
   ]
  },
  {
   "cell_type": "code",
   "execution_count": 19,
   "metadata": {
    "collapsed": false
   },
   "outputs": [
    {
     "data": {
      "text/plain": [
       "[(0.1, 0.2, 0.3), (100000.0, 200000.0, None)]"
      ]
     },
     "execution_count": 19,
     "metadata": {},
     "output_type": "execute_result"
    }
   ],
   "source": [
    "ulaz=list(zip(*ulaz))   #zip služi za transponiranje liste\n",
    "ulaz"
   ]
  },
  {
   "cell_type": "code",
   "execution_count": 20,
   "metadata": {
    "collapsed": true
   },
   "outputs": [],
   "source": [
    "stope=ulaz[0]\n",
    "limiti=ulaz[1]"
   ]
  },
  {
   "cell_type": "code",
   "execution_count": 21,
   "metadata": {
    "collapsed": true
   },
   "outputs": [],
   "source": [
    "def make_porezna_func(stope,limiti):\n",
    "    \"\"\"\n",
    "    vraća poreznu funkciju p(x) koja računa porez na dohodak x.\n",
    "    \"\"\"\n",
    "    def p(x):\n",
    "        pass\n",
    "    \n",
    "    return p"
   ]
  },
  {
   "cell_type": "code",
   "execution_count": 22,
   "metadata": {
    "collapsed": false
   },
   "outputs": [
    {
     "name": "stdout",
     "output_type": "stream",
     "text": [
      "stopa 0.1 do 100000.0\n",
      "stopa 0.2 do 200000.0\n",
      "stopa 0.3 do None\n"
     ]
    }
   ],
   "source": [
    "for s,l in zip(stope,limiti):\n",
    "    print(\"stopa {0} do {1}\".format(s,l))"
   ]
  },
  {
   "cell_type": "code",
   "execution_count": 61,
   "metadata": {
    "collapsed": true
   },
   "outputs": [],
   "source": [
    "def is_in_interval(x, interval):  #interval je uređena dvojka (ntorka od 2 člana)\n",
    "    l,d=interval\n",
    "    if d:\n",
    "        return (l<=x) and (x<d)\n",
    "    else:  #if d==None (ako desna granica nije definirana)\n",
    "        return (l<=x)"
   ]
  },
  {
   "cell_type": "code",
   "execution_count": 56,
   "metadata": {
    "collapsed": false
   },
   "outputs": [
    {
     "data": {
      "text/plain": [
       "False"
      ]
     },
     "execution_count": 56,
     "metadata": {},
     "output_type": "execute_result"
    }
   ],
   "source": [
    "is_in_interval(-10,(0,100))"
   ]
  },
  {
   "cell_type": "code",
   "execution_count": 57,
   "metadata": {
    "collapsed": false
   },
   "outputs": [
    {
     "data": {
      "text/plain": [
       "True"
      ]
     },
     "execution_count": 57,
     "metadata": {},
     "output_type": "execute_result"
    }
   ],
   "source": [
    "is_in_interval(10,(0,100))"
   ]
  },
  {
   "cell_type": "code",
   "execution_count": 83,
   "metadata": {
    "collapsed": false
   },
   "outputs": [
    {
     "data": {
      "text/plain": [
       "True"
      ]
     },
     "execution_count": 83,
     "metadata": {},
     "output_type": "execute_result"
    }
   ],
   "source": [
    "is_in_interval(10,(0,None))"
   ]
  },
  {
   "cell_type": "code",
   "execution_count": 97,
   "metadata": {
    "collapsed": false
   },
   "outputs": [
    {
     "name": "stderr",
     "output_type": "stream",
     "text": [
      "ERROR:root:Ovo je ERROR poruka. Vrijednost iteratora u ovoj iteraciji je 0 vrijeme ispisa ove poruke je 18:14:30.459876.\n",
      "ERROR:root:Ovo je ERROR poruka. Vrijednost iteratora u ovoj iteraciji je 1 vrijeme ispisa ove poruke je 18:14:30.461514.\n",
      "ERROR:root:Ovo je ERROR poruka. Vrijednost iteratora u ovoj iteraciji je 2 vrijeme ispisa ove poruke je 18:14:30.462978.\n",
      "ERROR:root:Ovo je ERROR poruka. Vrijednost iteratora u ovoj iteraciji je 3 vrijeme ispisa ove poruke je 18:14:30.464829.\n",
      "ERROR:root:Ovo je ERROR poruka. Vrijednost iteratora u ovoj iteraciji je 4 vrijeme ispisa ove poruke je 18:14:30.466958.\n",
      "ERROR:root:Ovo je ERROR poruka. Vrijednost iteratora u ovoj iteraciji je 5 vrijeme ispisa ove poruke je 18:14:30.468068.\n",
      "ERROR:root:Ovo je ERROR poruka. Vrijednost iteratora u ovoj iteraciji je 6 vrijeme ispisa ove poruke je 18:14:30.471003.\n",
      "ERROR:root:Ovo je ERROR poruka. Vrijednost iteratora u ovoj iteraciji je 7 vrijeme ispisa ove poruke je 18:14:30.472143.\n",
      "ERROR:root:Ovo je ERROR poruka. Vrijednost iteratora u ovoj iteraciji je 8 vrijeme ispisa ove poruke je 18:14:30.472958.\n",
      "ERROR:root:Ovo je ERROR poruka. Vrijednost iteratora u ovoj iteraciji je 9 vrijeme ispisa ove poruke je 18:14:30.473736.\n"
     ]
    }
   ],
   "source": [
    "import logging\n",
    "import datetime\n",
    "logger=logging.getLogger()\n",
    "logger.setLevel(logging.DEBUG)\n",
    "for i in range(0,10):\n",
    "    logging.error(\"Ovo je ERROR poruka. Vrijednost iteratora u ovoj iteraciji je {0} \" \\\n",
    "                \"vrijeme ispisa ove poruke je {1}.\".format(i,datetime.datetime.time(datetime.datetime.now())))\n",
    "    #logging.debug(\"Ovo je DEBUG level info\")\n",
    "    #logging.warning(\"Ovo je WARNING level info\")\n",
    "    #logging.info(\"Ovo je INFO level info\")\n",
    "    #logging.critical(\"Ovo je CRITICAL level info\")"
   ]
  },
  {
   "cell_type": "markdown",
   "metadata": {},
   "source": [
    "testiranje fleksibilnosti funkcije oporezivanja"
   ]
  },
  {
   "cell_type": "code",
   "execution_count": 71,
   "metadata": {
    "collapsed": true
   },
   "outputs": [],
   "source": [
    "ulaz=[0.10, 100000.],[0.20, 200000.],[0.30,None]"
   ]
  },
  {
   "cell_type": "code",
   "execution_count": 72,
   "metadata": {
    "collapsed": false
   },
   "outputs": [
    {
     "data": {
      "text/plain": [
       "(1000.0, 12000.0, 33000.0)"
      ]
     },
     "execution_count": 72,
     "metadata": {},
     "output_type": "execute_result"
    }
   ],
   "source": [
    "oporezivanje_dohotka(10000,ulaz),oporezivanje_dohotka(110000,ulaz),oporezivanje_dohotka(210000,ulaz)"
   ]
  },
  {
   "cell_type": "code",
   "execution_count": 80,
   "metadata": {
    "collapsed": false
   },
   "outputs": [
    {
     "data": {
      "text/plain": [
       "[[0.05, 50000.0], [0.1, 100000.0], [0.2, 200000.0], [0.3, None]]"
      ]
     },
     "execution_count": 80,
     "metadata": {},
     "output_type": "execute_result"
    }
   ],
   "source": [
    "ulaz2=[[0.05,50000.]]\n",
    "for x in ulaz:\n",
    "    ulaz2.append(x)\n",
    "ulaz2"
   ]
  },
  {
   "cell_type": "code",
   "execution_count": 82,
   "metadata": {
    "collapsed": false
   },
   "outputs": [
    {
     "data": {
      "text/plain": [
       "(500.0, 3500.0, 30500.0)"
      ]
     },
     "execution_count": 82,
     "metadata": {},
     "output_type": "execute_result"
    }
   ],
   "source": [
    "oporezivanje_dohotka(10000,ulaz2),oporezivanje_dohotka(60000,ulaz2),oporezivanje_dohotka(210000,ulaz2)"
   ]
  },
  {
   "cell_type": "code",
   "execution_count": null,
   "metadata": {
    "collapsed": true
   },
   "outputs": [],
   "source": []
  }
 ],
 "metadata": {
  "kernelspec": {
   "display_name": "Python 3",
   "language": "python",
   "name": "python3"
  },
  "language_info": {
   "codemirror_mode": {
    "name": "ipython",
    "version": 3
   },
   "file_extension": ".py",
   "mimetype": "text/x-python",
   "name": "python",
   "nbconvert_exporter": "python",
   "pygments_lexer": "ipython3",
   "version": "3.4.3"
  }
 },
 "nbformat": 4,
 "nbformat_minor": 0
}
