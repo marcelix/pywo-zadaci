{
 "cells": [
  {
   "cell_type": "code",
   "execution_count": 1,
   "metadata": {
    "collapsed": true
   },
   "outputs": [],
   "source": [
    "!mkdir -p static templates"
   ]
  },
  {
   "cell_type": "code",
   "execution_count": 7,
   "metadata": {
    "collapsed": false
   },
   "outputs": [
    {
     "name": "stdout",
     "output_type": "stream",
     "text": [
      "Overwriting main.py\n"
     ]
    }
   ],
   "source": [
    "%%writefile main.py\n",
    "\n",
    "from flask import Flask, render_template\n",
    "\n",
    "app=Flask(__name__)\n",
    "\n",
    "@app.route(\"/<greeting>\")  #to je dekorator (ovaj konkretno govori da da se u root direktoriju pokrene (ispiše) \"Hello world\")\n",
    "def template_test(greeting):\n",
    "    return render_template('template.html', my_string=greeting)\n",
    "\n",
    "@app.route(\"/\")\n",
    "def index():\n",
    "    return render_template('index.html')\n",
    "if __name__=='__main__':\n",
    "    app.run(debug=True)"
   ]
  },
  {
   "cell_type": "code",
   "execution_count": 8,
   "metadata": {
    "collapsed": true
   },
   "outputs": [],
   "source": [
    "class A:\n",
    "    @staticmethod    #dekorator metode f - pretvara ju u statičku (dekorator je funkcija višeg reda)\n",
    "    def f():\n",
    "        pass"
   ]
  },
  {
   "cell_type": "code",
   "execution_count": 9,
   "metadata": {
    "collapsed": false
   },
   "outputs": [
    {
     "name": "stdout",
     "output_type": "stream",
     "text": [
      " * Running on http://127.0.0.1:5000/ (Press CTRL+C to quit)\r\n",
      "Traceback (most recent call last):\r\n",
      "  File \"main.py\", line 14, in <module>\r\n",
      "    app.run(debug=True)\r\n",
      "  File \"/home/zeko868/.virtualenvs/zeko868/lib/python3.4/site-packages/flask/app.py\", line 772, in run\r\n",
      "    run_simple(host, port, self, **options)\r\n",
      "  File \"/home/zeko868/.virtualenvs/zeko868/lib/python3.4/site-packages/werkzeug/serving.py\", line 618, in run_simple\r\n",
      "    test_socket.bind((hostname, port))\r\n",
      "OSError: [Errno 98] Address already in use\r\n"
     ]
    }
   ],
   "source": [
    "!python main.py"
   ]
  },
  {
   "cell_type": "code",
   "execution_count": 10,
   "metadata": {
    "collapsed": false
   },
   "outputs": [
    {
     "name": "stdout",
     "output_type": "stream",
     "text": [
      "Overwriting templates/stilovi.css\n"
     ]
    }
   ],
   "source": [
    "%%writefile templates/stilovi.css\n",
    "html {\n",
    "    font-size: 100%;\n",
    "    background-image: url(\"http://www.hdwallpapers.in/walls/abstract_color_background_picture_8016-wide.jpg\");\n",
    "    background-repeat: no-repeat;\n",
    "}\n",
    "\n",
    "div#menu ul li p {\n",
    "    display: block;\n",
    "    text-align: center;\n",
    "    border: solid 3px red;\n",
    "    background-color: yellow;\n",
    "    color: red;\n",
    "    text-transform: capitalize;\n",
    "    float: left;\n",
    "    font-size: 1.2em;\n",
    "}\n",
    "div#content p {\n",
    "    text-align: justify;\n",
    "}\n",
    "div#footer p {\n",
    "    font-size: 0.8em;\n",
    "}"
   ]
  },
  {
   "cell_type": "code",
   "execution_count": 1,
   "metadata": {
    "collapsed": false
   },
   "outputs": [
    {
     "name": "stdout",
     "output_type": "stream",
     "text": [
      "Overwriting templates/base.html\n"
     ]
    }
   ],
   "source": [
    "%%writefile templates/base.html\n",
    "\n",
    "<!DOCTYPE html>\n",
    "<html>\n",
    "    <head>\n",
    "        <title>{%block title %}</title> TITLE {% endblock %} </title>\n",
    "        <link rel=\"stylesheet\" type=\"text/css\" href=\"stilovi.css\" />\n",
    "    </head>\n",
    "title, menu, content, footer\n",
    "    \n",
    "    <body>\n",
    "        \n",
    "        <div id=\"menu\">\n",
    "        {% block menu %}\n",
    "            MENU BLOCK\n",
    "        {% endblock %}\n",
    "        </div>\n",
    "        \n",
    "        <div id=\"content\">\n",
    "        {% block content%}\n",
    "            CONTENT BLOCK\n",
    "        {% endblock %}\n",
    "        </div>\n",
    "        \n",
    "        <div id=\"footer\">\n",
    "        {% block footer %}\n",
    "            FOOTER BLOCK\n",
    "        {% endblock %}\n",
    "        </div>\n",
    "    </body>\n",
    "</html>"
   ]
  },
  {
   "cell_type": "code",
   "execution_count": 4,
   "metadata": {
    "collapsed": false
   },
   "outputs": [
    {
     "name": "stdout",
     "output_type": "stream",
     "text": [
      "Overwriting templates/index.html\n"
     ]
    }
   ],
   "source": [
    "%%writefile templates/index.html\n",
    "\n",
    "{% extends \"base.html\" %}\n"
   ]
  }
 ],
 "metadata": {
  "kernelspec": {
   "display_name": "Python 3",
   "language": "python",
   "name": "python3"
  },
  "language_info": {
   "codemirror_mode": {
    "name": "ipython",
    "version": 3
   },
   "file_extension": ".py",
   "mimetype": "text/x-python",
   "name": "python",
   "nbconvert_exporter": "python",
   "pygments_lexer": "ipython3",
   "version": "3.4.3"
  }
 },
 "nbformat": 4,
 "nbformat_minor": 0
}
