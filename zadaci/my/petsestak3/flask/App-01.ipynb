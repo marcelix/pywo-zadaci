{
 "cells": [
  {
   "cell_type": "code",
   "execution_count": 16,
   "metadata": {
    "collapsed": false
   },
   "outputs": [
    {
     "name": "stdout",
     "output_type": "stream",
     "text": [
      "Overwriting main.py\n"
     ]
    }
   ],
   "source": [
    "%%writefile main.py\n",
    "\n",
    "from flask import Flask\n",
    "\n",
    "app=Flask(__name__)\n",
    "\n",
    "@app.route(\"/\")  #to je dekorator (ovaj konkretno govori da da se u root direktoriju pokrene (ispiše) \"Hello world\")\n",
    "def test():\n",
    "    return (\"Hello World!\")\n",
    "\n",
    "@app.route(\"/about\")\n",
    "def about():\n",
    "    return (\"Ovo je ABOUT stranica\")\n",
    "\n",
    "@app.route(\"/hello/<user_id>\")\n",
    "def hello(user_id):\n",
    "    return \"Hello {0}\".format(user_id)\n",
    "if __name__=='__main__':\n",
    "    app.run(debug=True)"
   ]
  },
  {
   "cell_type": "code",
   "execution_count": 14,
   "metadata": {
    "collapsed": true
   },
   "outputs": [],
   "source": [
    "class A:\n",
    "    @staticmethod    #dekorator metode f - pretvara ju u statičku (dekorator je funkcija višeg reda)\n",
    "    def f():\n",
    "        pass"
   ]
  },
  {
   "cell_type": "code",
   "execution_count": 15,
   "metadata": {
    "collapsed": false
   },
   "outputs": [
    {
     "name": "stdout",
     "output_type": "stream",
     "text": [
      " * Running on http://127.0.0.1:5000/ (Press CTRL+C to quit)\r\n",
      "Traceback (most recent call last):\r\n",
      "  File \"main.py\", line 18, in <module>\r\n",
      "    app.run(debug=True)\r\n",
      "  File \"/home/zeko868/.virtualenvs/zeko868/lib/python3.4/site-packages/flask/app.py\", line 772, in run\r\n",
      "    run_simple(host, port, self, **options)\r\n",
      "  File \"/home/zeko868/.virtualenvs/zeko868/lib/python3.4/site-packages/werkzeug/serving.py\", line 618, in run_simple\r\n",
      "    test_socket.bind((hostname, port))\r\n",
      "OSError: [Errno 98] Address already in use\r\n"
     ]
    }
   ],
   "source": [
    "!python main.py"
   ]
  },
  {
   "cell_type": "code",
   "execution_count": null,
   "metadata": {
    "collapsed": true
   },
   "outputs": [],
   "source": []
  }
 ],
 "metadata": {
  "kernelspec": {
   "display_name": "Python 3",
   "language": "python",
   "name": "python3"
  },
  "language_info": {
   "codemirror_mode": {
    "name": "ipython",
    "version": 3
   },
   "file_extension": ".py",
   "mimetype": "text/x-python",
   "name": "python",
   "nbconvert_exporter": "python",
   "pygments_lexer": "ipython3",
   "version": "3.4.3"
  }
 },
 "nbformat": 4,
 "nbformat_minor": 0
}
