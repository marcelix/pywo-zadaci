{
 "cells": [
  {
   "cell_type": "markdown",
   "metadata": {},
   "source": [
    "Izvaditi srednji tečaj eura sa HNB-ove stranice.\n",
    "<br />\n",
    "http://www.hnb.hr/tecajn/hvazeca.htm"
   ]
  },
  {
   "cell_type": "code",
   "execution_count": 34,
   "metadata": {
    "collapsed": false
   },
   "outputs": [
    {
     "data": {
      "text/plain": [
       "IPython.utils.text.SList"
      ]
     },
     "execution_count": 34,
     "metadata": {},
     "output_type": "execute_result"
    }
   ],
   "source": [
    "hnb_stranica = !curl -s http://www.hnb.hr/tecajn/hvazeca.htm #aplikaciju curl treba preuzeti ako nije instalirana\n",
    "type(hnb_stranica) #lista stringova (stringList)"
   ]
  },
  {
   "cell_type": "code",
   "execution_count": 17,
   "metadata": {
    "collapsed": false
   },
   "outputs": [
    {
     "data": {
      "text/plain": [
       "70"
      ]
     },
     "execution_count": 17,
     "metadata": {},
     "output_type": "execute_result"
    }
   ],
   "source": [
    "len(hnb_stranica)"
   ]
  },
  {
   "cell_type": "code",
   "execution_count": 16,
   "metadata": {
    "collapsed": false
   },
   "outputs": [
    {
     "data": {
      "text/plain": [
       "['<html><head><title>Tecaj</title>',\n",
       " '<meta http-equiv=\"Content-type\";',\n",
       " 'content=\"text/html\";',\n",
       " '<charset=\"windows-1250\"> </head><body>',\n",
       " '<a href=\"./f020915.dat\">',\n",
       " 'Formatirani zapis',\n",
       " '</a><br>',\n",
       " '<a href=\"./hopiszap.htm\">Opis formatiranog polja',\n",
       " '</a><br><hr><pre>',\n",
       " ' ',\n",
       " '                  H R V A T S K A  N A R O D N A  B A N K A',\n",
       " ' ',\n",
       " ' ',\n",
       " '                          TE\\xc8AJNA LISTA BROJ: 167',\n",
       " '                        utvr\\xf0ena na dan: 01.09.2015.',\n",
       " ' ',\n",
       " '      Te\\xe8ajevi iz ove liste  p r i m j e n j u j u  se od 02.09.2015.',\n",
       " '                      Te\\xe8ajevi u   k u n a m a   -   kn',\n",
       " '',\n",
       " '_______________________________________________________________________________',\n",
       " '',\n",
       " '                                     KUPOVNI        SREDNJI       PRODAJNI',\n",
       " '  Zemlja       \\x8aifra Val  Jed       za devize      za devize     za devize',\n",
       " '_______________________________________________________________________________',\n",
       " 'Australija      036 AUD    1        4,726604        4,740826        4,755048',\n",
       " 'Kanada          124 CAD    1        5,075742        5,091015        5,106288',\n",
       " '\\xc8e\\x9aka           203 CZK    1        0,278615        0,279453        0,280291',\n",
       " 'Danska          208 DKK    1        1,008157        1,011191        1,014225',\n",
       " 'Ma\\xf0arska        348 HUF  100        2,394970        2,402177        2,409384',\n",
       " 'Japan           392 JPY  100        5,575606        5,592383        5,609160',\n",
       " 'Norve\\x9aka        578 NOK    1        0,804040        0,806459        0,808878',\n",
       " '\\x8avedska         752 SEK    1        0,792046        0,794429        0,796812',\n",
       " '\\x8avicarska       756 CHF    1        6,942499        6,963389        6,984279',\n",
       " 'Vel. Britanija  826 GBP    1       10,265048       10,295936       10,326824',\n",
       " 'SAD             840 USD    1        6,684090        6,704203        6,724316',\n",
       " 'EMU             978 EUR    1        7,524280        7,546921        7,569562',\n",
       " 'Poljska         985 PLN    1        1,778369        1,783720        1,789071',\n",
       " '_______________________________________________________________________________',\n",
       " '\\t      ',\n",
       " 'Napomena:',\n",
       " 'Za 31.08.2015. te\\xe8aj 1,00 XDR iznosi 9,387387 kn.',\n",
       " '',\n",
       " '',\n",
       " '',\n",
       " '    ',\n",
       " '    ',\n",
       " '',\n",
       " '    ',\n",
       " '',\n",
       " '    ',\n",
       " '',\n",
       " '    ',\n",
       " '',\n",
       " '   ',\n",
       " '    ',\n",
       " '    ',\n",
       " '    ',\n",
       " '   ',\n",
       " '    ',\n",
       " '    ',\n",
       " '    ',\n",
       " '    ',\n",
       " '    ',\n",
       " '    ',\n",
       " '   ',\n",
       " '    ',\n",
       " '   ',\n",
       " '    ',\n",
       " '',\n",
       " '</pre></body></html>']"
      ]
     },
     "execution_count": 16,
     "metadata": {},
     "output_type": "execute_result"
    }
   ],
   "source": [
    "hnb_stranica #HTML kod preuzete stranice raspoređen po elementima liste (delimiter: '\\n')"
   ]
  },
  {
   "cell_type": "code",
   "execution_count": null,
   "metadata": {
    "collapsed": false
   },
   "outputs": [],
   "source": [
    "%whos"
   ]
  },
  {
   "cell_type": "code",
   "execution_count": null,
   "metadata": {
    "collapsed": false
   },
   "outputs": [],
   "source": [
    "def vrijednost_eura():\n",
    "    \"\"\"\n",
    "    Funkcija koja vadi srednji tecaj eura\n",
    "    \"\"\"\n",
    "    for linija in hnb_stranica:\n",
    "        #pronaci liniju koja sadrzi 'EUR' u sebi\n",
    "        if \"EUR\" in linija:\n",
    "            lista=linija.split()\n",
    "            return lista[14]   #ili return lista[-2]"
   ]
  },
  {
   "cell_type": "code",
   "execution_count": null,
   "metadata": {
    "collapsed": false
   },
   "outputs": [],
   "source": [
    "vrijednost_eura()"
   ]
  },
  {
   "cell_type": "code",
   "execution_count": null,
   "metadata": {
    "collapsed": true
   },
   "outputs": [],
   "source": [
    "%pdb ON  #uključuje debugging način rada - ako dođe do greške, u outputu se ispisuje gdje je greška\n",
    "for linija in hnb_stranica:\n",
    "    #pronaci liniju koja sadrzi 'EUR' u sebi\n",
    "    if \"EUR\" in linija:\n",
    "        lista=linija.split()\n",
    "        print(lista[14]) #umjesto lista[4]"
   ]
  },
  {
   "cell_type": "markdown",
   "metadata": {},
   "source": [
    "Napišite funkciju koja vraća funkciju koja uvećava broj za $n$"
   ]
  },
  {
   "cell_type": "code",
   "execution_count": 2,
   "metadata": {
    "collapsed": true
   },
   "outputs": [],
   "source": [
    "def func_factory(n=1):\n",
    "    \"\"\"\n",
    "    Ova funkcija vraća funkciju koja se ponaša na sljedeći način:\n",
    "    Neka je g ta vraćena funkcija.\n",
    "    g(1)==2\n",
    "    g(10)==11\n",
    "    \"\"\"\n",
    "    def g(x):\n",
    "        return x+n\n",
    "    return g\n",
    "#ili na sljedeci način pomoću lambda zapisa sa samo sljedeće 2 naredbe\n",
    "#func_factory(n=1):\n",
    "#    return lambda x: x+n"
   ]
  },
  {
   "cell_type": "code",
   "execution_count": 4,
   "metadata": {
    "collapsed": false
   },
   "outputs": [
    {
     "data": {
      "text/plain": [
       "True"
      ]
     },
     "execution_count": 4,
     "metadata": {},
     "output_type": "execute_result"
    }
   ],
   "source": [
    "q=func_factory()\n",
    "type(q)\n",
    "q(123)==124"
   ]
  },
  {
   "cell_type": "code",
   "execution_count": 3,
   "metadata": {
    "collapsed": true
   },
   "outputs": [],
   "source": [
    "#TODO:\n",
    "#    napraviti pomoću requesta program koji ce preuzeti vrijednost eura (tak je na infi2 rađeno)\n",
    "import urllib.request\n",
    "from datetime import timedelta,datetime\n",
    "\n",
    "def tecaj():\n",
    "\n",
    "    datum=datetime.today()\n",
    "    dan_u_tjednu=datum.weekday()\n",
    "    if dan_u_tjednu==0 or dan_u_tjednu==1:\n",
    "        datum=datum - timedelta(dan_u_tjednu+1) #ako je pon ili ned, prebaci na sub (-2, odnosno -1)\n",
    "    url = \"http://www.hnb.hr/tecajn/f\" + datum.strftime(\"%d%m%y\") + \".dat\"\n",
    "\n",
    "    link = urllib.request.urlopen(url)\n",
    "    sadrzaj = link.read().decode()  \n",
    "    link.close()\n",
    "    \n",
    "    lista = sadrzaj.split(\"\\r\\n\")\n",
    "    \n",
    "    del lista[0]  #u prvom retku se nalazi identifikacijska oznaka tečajnice\n",
    "    del lista[-1]  #zadnji redak je prazan, a nastao je zbog CrLf znaka u zadnjem retku\n",
    "    \n",
    "    for redak in lista:\n",
    "        redak=redak.split()\n",
    "        if \"EUR\" in redak[0]:\n",
    "            return redak[2]"
   ]
  },
  {
   "cell_type": "code",
   "execution_count": 4,
   "metadata": {
    "collapsed": false
   },
   "outputs": [
    {
     "data": {
      "text/plain": [
       "'7,546921'"
      ]
     },
     "execution_count": 4,
     "metadata": {},
     "output_type": "execute_result"
    }
   ],
   "source": [
    "tecaj()"
   ]
  },
  {
   "cell_type": "code",
   "execution_count": null,
   "metadata": {
    "collapsed": true
   },
   "outputs": [],
   "source": []
  }
 ],
 "metadata": {
  "kernelspec": {
   "display_name": "Python 3",
   "language": "python",
   "name": "python3"
  },
  "language_info": {
   "codemirror_mode": {
    "name": "ipython",
    "version": 3
   },
   "file_extension": ".py",
   "mimetype": "text/x-python",
   "name": "python",
   "nbconvert_exporter": "python",
   "pygments_lexer": "ipython3",
   "version": "3.4.3"
  }
 },
 "nbformat": 4,
 "nbformat_minor": 0
}
