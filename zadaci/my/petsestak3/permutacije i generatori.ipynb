{
 "cells": [
  {
   "cell_type": "markdown",
   "metadata": {},
   "source": [
    "<p>Ispis permutacija četveročlanog skupa {1,2,3,4}, ispisati njihov ukupan broj i napraviti njihov generator</p>"
   ]
  },
  {
   "cell_type": "code",
   "execution_count": 7,
   "metadata": {
    "collapsed": false
   },
   "outputs": [
    {
     "name": "stdout",
     "output_type": "stream",
     "text": [
      "(1, 2, 3, 4)\n",
      "(1, 2, 4, 3)\n",
      "(1, 3, 2, 4)\n",
      "(1, 3, 4, 2)\n",
      "(1, 4, 2, 3)\n",
      "(1, 4, 3, 2)\n",
      "(2, 1, 3, 4)\n",
      "(2, 1, 4, 3)\n",
      "(2, 3, 1, 4)\n",
      "(2, 3, 4, 1)\n",
      "(2, 4, 1, 3)\n",
      "(2, 4, 3, 1)\n",
      "(3, 1, 2, 4)\n",
      "(3, 1, 4, 2)\n",
      "(3, 2, 1, 4)\n",
      "(3, 2, 4, 1)\n",
      "(3, 4, 1, 2)\n",
      "(3, 4, 2, 1)\n",
      "(4, 1, 2, 3)\n",
      "(4, 1, 3, 2)\n",
      "(4, 2, 1, 3)\n",
      "(4, 2, 3, 1)\n",
      "(4, 3, 1, 2)\n",
      "(4, 3, 2, 1)\n"
     ]
    }
   ],
   "source": [
    "counter=0\n",
    "for i in range(1,5):\n",
    "    for j in range(1,5):\n",
    "        for k in range(1,5):\n",
    "            for l in range(1,5):\n",
    "                if i!=j and j!=k and k!=l and i!=k and i!=l and j!=l:\n",
    "                    counter+=1\n",
    "                    print((i,j,k,l))"
   ]
  },
  {
   "cell_type": "code",
   "execution_count": 8,
   "metadata": {
    "collapsed": false
   },
   "outputs": [
    {
     "name": "stdout",
     "output_type": "stream",
     "text": [
      "24\n"
     ]
    }
   ],
   "source": [
    "print(counter)"
   ]
  },
  {
   "cell_type": "code",
   "execution_count": 12,
   "metadata": {
    "collapsed": false
   },
   "outputs": [
    {
     "data": {
      "text/plain": [
       "[(1, 2, 3, 4),\n",
       " (1, 2, 4, 3),\n",
       " (1, 3, 2, 4),\n",
       " (1, 3, 4, 2),\n",
       " (1, 4, 2, 3),\n",
       " (1, 4, 3, 2),\n",
       " (2, 1, 3, 4),\n",
       " (2, 1, 4, 3),\n",
       " (2, 3, 1, 4),\n",
       " (2, 3, 4, 1),\n",
       " (2, 4, 1, 3),\n",
       " (2, 4, 3, 1)]"
      ]
     },
     "execution_count": 12,
     "metadata": {},
     "output_type": "execute_result"
    }
   ],
   "source": [
    "def generator(limit=24):\n",
    "    counter=0\n",
    "    for i in range(1,5):\n",
    "        for j in range(1,5):\n",
    "            for k in range(1,5):\n",
    "                for l in range(1,5):\n",
    "                    if i!=j and j!=k and k!=l and i!=k and i!=l and j!=l and limit>counter:\n",
    "                        yield (i,j,k,l)\n",
    "                        counter+=1\n",
    "list(generator(12))"
   ]
  },
  {
   "cell_type": "code",
   "execution_count": 58,
   "metadata": {
    "collapsed": false
   },
   "outputs": [],
   "source": [
    "#                                                            1234\n",
    "#                                                           /    \\\n",
    "#                                                          /      \\\n",
    "#                                                         /        \\\n",
    "#                                                        /          \\\n",
    "#                                                       /            \\\n",
    "#                                                      /              \\\n",
    "#                                                     /                \\\n",
    "#                                                    /                  \\\n",
    "#                                                   /                    \\\n",
    "#                                                  /                      \\\n",
    "#                                                 /                        \\\n",
    "#                                                /                          \\\n",
    "#                                               /                            \\\n",
    "#                                              /                              \\\n",
    "#                                             /                                \\\n",
    "#                                            /                                  \\\n",
    "#                                           /                                    \\\n",
    "#                                          /                                      \\\n",
    "#                                         /                                        \\\n",
    "#                                        /                                          \\\n",
    "#                                       /                                            \\\n",
    "#                                      /                                              \\\n",
    "#                                     /                                                \\\n",
    "#                                    /                                                  \\\n",
    "#                                   /                                                    \\\n",
    "#                                  /                                                      \\\n",
    "#                                 /                                                        \\\n",
    "#                                /                                                          \\\n",
    "#                             1234                                                           1243\n",
    "#                           /   |  \\                                                         / |  \\\n",
    "#                          /    |   \\                                                       /  |   \\\n",
    "#                         /     |    \\                                                     /   |    \\\n",
    "#                        /      |     \\                                                   /    |     \\\n",
    "#                       /       |      \\                                                 /     |      \\\n",
    "#                      /        |       \\                                               /      |       \\\n",
    "#                     /         |        \\                                             /       |        \\\n",
    "#                    /          |         \\                                           /        |         \\\n",
    "#                   /           |          \\                                         /         |          \\\n",
    "#                  /            |           \\                                       /          |           \\\n",
    "#                 /             |            \\                                     /           |            \\\n",
    "#                /              |             \\                                   /            |             \\\n",
    "#               /               |              \\                                 /             |              \\\n",
    "#              /                |               \\                               /              |               \\\n",
    "#             /                 |                \\                             /               |                \\\n",
    "#            /                  |                 \\                           /                |                 \\\n",
    "#           /                   |                  \\                         /                 |                  \\\n",
    "#         1234                1324                 1432                  1243                1423                  1342\n",
    "#       /  /\\  \\            /   /\\  \\            /   /\\  \\              /  /\\  \\           /   /\\  \\             /  /\\  \\\n",
    "#     /   / \\   \\         /    / \\   \\         /    / \\   \\           /   / \\   \\        /    / \\   \\          /   / \\   \\\n",
    "#   /    /  \\    \\      /     /  \\    \\      /     /  \\    \\        /    /  \\    \\     /     /  \\    \\       /    /   \\    \\\n",
    "# 1234 2134 3214 4231  1324 3124 2314 4321  1432 4132 3412 2431  1243 2143 4213 3241  1423 4123 2413 3421  1342 3142 4312 2341\n",
    "#\n",
    "#\n",
    "#\n",
    "#\n",
    "array=[1,2,3,4]\n",
    "permutacije=[]\n",
    "def funkcija(pozicija,niz):\n",
    "    for i in range (len(niz)-1,pozicija-1,-1):\n",
    "        if pozicija!=-1:\n",
    "            lista=niz[:]\n",
    "            lista[i],lista[pozicija]=lista[pozicija],lista[i]\n",
    "            funkcija(pozicija-1,lista[:])\n",
    "        else:\n",
    "            permutacije.append(niz)\n",
    "            return\n",
    "funkcija(len(array)-1,array)"
   ]
  },
  {
   "cell_type": "code",
   "execution_count": 59,
   "metadata": {
    "collapsed": false
   },
   "outputs": [
    {
     "data": {
      "text/plain": [
       "24"
      ]
     },
     "execution_count": 59,
     "metadata": {},
     "output_type": "execute_result"
    }
   ],
   "source": [
    "len(permutacije)"
   ]
  },
  {
   "cell_type": "code",
   "execution_count": 61,
   "metadata": {
    "collapsed": false
   },
   "outputs": [
    {
     "data": {
      "text/plain": [
       "[[1, 2, 3, 4],\n",
       " [1, 2, 4, 3],\n",
       " [1, 3, 2, 4],\n",
       " [1, 3, 4, 2],\n",
       " [1, 4, 2, 3],\n",
       " [1, 4, 3, 2],\n",
       " [2, 1, 3, 4],\n",
       " [2, 1, 4, 3],\n",
       " [2, 3, 1, 4],\n",
       " [2, 3, 4, 1],\n",
       " [2, 4, 1, 3],\n",
       " [2, 4, 3, 1],\n",
       " [3, 1, 2, 4],\n",
       " [3, 1, 4, 2],\n",
       " [3, 2, 1, 4],\n",
       " [3, 2, 4, 1],\n",
       " [3, 4, 1, 2],\n",
       " [3, 4, 2, 1],\n",
       " [4, 1, 2, 3],\n",
       " [4, 1, 3, 2],\n",
       " [4, 2, 1, 3],\n",
       " [4, 2, 3, 1],\n",
       " [4, 3, 1, 2],\n",
       " [4, 3, 2, 1]]"
      ]
     },
     "execution_count": 61,
     "metadata": {},
     "output_type": "execute_result"
    }
   ],
   "source": [
    "sorted(permutacije)"
   ]
  },
  {
   "cell_type": "code",
   "execution_count": 33,
   "metadata": {
    "collapsed": false
   },
   "outputs": [
    {
     "data": {
      "text/plain": [
       "[('1', '2', '3', '4'),\n",
       " ('1', '2', '4', '3'),\n",
       " ('1', '3', '2', '4'),\n",
       " ('1', '3', '4', '2'),\n",
       " ('1', '4', '2', '3'),\n",
       " ('1', '4', '3', '2'),\n",
       " ('2', '1', '3', '4'),\n",
       " ('2', '1', '4', '3'),\n",
       " ('2', '3', '1', '4'),\n",
       " ('2', '3', '4', '1'),\n",
       " ('2', '4', '1', '3'),\n",
       " ('2', '4', '3', '1'),\n",
       " ('3', '1', '2', '4'),\n",
       " ('3', '1', '4', '2'),\n",
       " ('3', '2', '1', '4'),\n",
       " ('3', '2', '4', '1'),\n",
       " ('3', '4', '1', '2'),\n",
       " ('3', '4', '2', '1'),\n",
       " ('4', '1', '2', '3'),\n",
       " ('4', '1', '3', '2'),\n",
       " ('4', '2', '1', '3'),\n",
       " ('4', '2', '3', '1'),\n",
       " ('4', '3', '1', '2'),\n",
       " ('4', '3', '2', '1')]"
      ]
     },
     "execution_count": 33,
     "metadata": {},
     "output_type": "execute_result"
    }
   ],
   "source": [
    "#rješenje pomoću itertoolsa\n",
    "import itertools\n",
    "[p for p in itertools.permutations(\"1234\")]"
   ]
  },
  {
   "cell_type": "code",
   "execution_count": 58,
   "metadata": {
    "collapsed": false,
    "scrolled": true
   },
   "outputs": [
    {
     "data": {
      "text/latex": [
       "$$0, 1, -1, \\frac{1}{2}, \\frac{-1}{2}, 2, -2, \\frac{1}{3}, \\frac{-1}{3}, 3, -3, \\frac{1}{4}, \\frac{-1}{4}, \\frac{2}{3}, \\frac{-2}{3}, \\frac{3}{2}, \\frac{-3}{2}, 4, -4, \\frac{1}{5}, \\frac{-1}{5}, 5, -5, \\frac{1}{6}, \\frac{-1}{6}, \\frac{2}{5}, \\frac{-2}{5}, \\frac{3}{4}, \\frac{-3}{4}, \\frac{4}{3}, \\frac{-4}{3}, \\frac{5}{2}, \\frac{-5}{2}, 6, -6, \\frac{1}{7}, \\frac{-1}{7}, \\frac{3}{5}, \\frac{-3}{5}, \\frac{5}{3}, \\frac{-5}{3}, 7, -7, \\frac{1}{8}, \\frac{-1}{8}, \\frac{2}{7}, \\frac{-2}{7}, \\frac{4}{5}, \\frac{-4}{5}, \\frac{5}{4}, \\frac{-5}{4}, \\frac{7}{2}, \\frac{-7}{2}, 8, -8, \\frac{1}{9}, \\frac{-1}{9}, \\frac{3}{7}, \\frac{-3}{7}, \\frac{7}{3}, \\frac{-7}{3}, 9, -9$$"
      ],
      "text/plain": [
       "<IPython.core.display.Math object>"
      ]
     },
     "metadata": {},
     "output_type": "display_data"
    }
   ],
   "source": [
    "#probati napisati generator koji ispisuje racionalne brojeve po redu (prema Cantorovoj zamisli)\n",
    "from IPython.display import display, Math, Latex\n",
    "\n",
    "def najveca_zajednicka_mjera(a,b):\n",
    "    if (a<b):\n",
    "        a,b=b,a\n",
    "    while (a%b!=0):\n",
    "        a,b=b,a%b\n",
    "    return b\n",
    "\n",
    "def neki_generator(zbroj_clanova_razlomka=10): #zbroj brojnika i nazivnika\n",
    "    if zbroj_clanova_razlomka>0:\n",
    "        yield 0\n",
    "    i=2\n",
    "    while (True):\n",
    "        if zbroj_clanova_razlomka>=i:\n",
    "            for j in range(1,i):\n",
    "                if j%(i-j)!=0:\n",
    "                    nzm=najveca_zajednicka_mjera(j,i-j)\n",
    "    #                if nzm!=1: #ako se broj da pokratiti, onda je taj broj već izgeneriran (jer po tome suma članova\n",
    "                                #razlomka daje broj manji od trenutnog brojača \"i\")\n",
    "    #                    if j/nzm + (i-j)/nzm < i:\n",
    "    #                       break\n",
    "    #                    else\n",
    "    #                        yield [j/nzm,(i-j)/nzm]\n",
    "    #                        yield [-j/nzm,(i-j)/nzm]\n",
    "                    if nzm==1:\n",
    "                        yield [j,i-j]\n",
    "                        yield [-j,i-j]\n",
    "                else:\n",
    "                    if (i-j == 1): #ako se razlomak može skratiti da bude cijeli broj (npr. 8/4==2), tada\n",
    "                                    #ga nema smisla ponovno generirati jer je već prethodno dodan\n",
    "                                    # 8/4 -> 8+4=12=i (11. iteracija) 2=2/1 -> 2+1=3=i (u 2. iteraciji je bio dodan)\n",
    "                        yield j//(i-j)  #koristi se cjelobrojno dijeljenje jer su ti brojevi ionako djeljivi, pa da\n",
    "                        yield -j//(i-j) #ostatak bude tipa integer, a ne float\n",
    "            i+=1\n",
    "        else:\n",
    "            break\n",
    "\n",
    "string=\"\"\n",
    "for num in neki_generator(10):\n",
    "    if type(num)==int:\n",
    "#        display(Math(str(num)))\n",
    "        string+=str(num)+\", \"\n",
    "    else: # if type(num)==list:\n",
    "        string+='\\\\frac{'+str(num[0])+'}{'+str(num[1])+'}, '\n",
    "#        print(string)\n",
    "#        display(Math(r'\\frac{'+str(num[0])+r'}{'+str(num[1])+r'}'))\n",
    "#    display(Math('F(k) = \\int_{-\\infty}^{\\infty} f(x) e^{2\\pi i k} dx'))\n",
    "string=string[:-2]\n",
    "display(Math(string))"
   ]
  },
  {
   "cell_type": "code",
   "execution_count": null,
   "metadata": {
    "collapsed": false
   },
   "outputs": [],
   "source": [
    "print(\"$$a+b=C$$\")"
   ]
  },
  {
   "cell_type": "markdown",
   "metadata": {},
   "source": [
    "$$a+b=c$$"
   ]
  },
  {
   "cell_type": "code",
   "execution_count": null,
   "metadata": {
    "collapsed": true
   },
   "outputs": [],
   "source": []
  },
  {
   "cell_type": "code",
   "execution_count": null,
   "metadata": {
    "collapsed": true
   },
   "outputs": [],
   "source": []
  }
 ],
 "metadata": {
  "kernelspec": {
   "display_name": "Python 3",
   "language": "python",
   "name": "python3"
  },
  "language_info": {
   "codemirror_mode": {
    "name": "ipython",
    "version": 3
   },
   "file_extension": ".py",
   "mimetype": "text/x-python",
   "name": "python",
   "nbconvert_exporter": "python",
   "pygments_lexer": "ipython3",
   "version": "3.4.3"
  }
 },
 "nbformat": 4,
 "nbformat_minor": 0
}
