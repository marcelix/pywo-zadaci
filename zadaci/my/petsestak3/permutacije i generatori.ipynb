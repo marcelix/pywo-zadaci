{
 "cells": [
  {
   "cell_type": "markdown",
   "metadata": {},
   "source": [
    "<p>Ispis permutacija četveročlanog skupa {1,2,3,4}, ispisati njihov ukupan broj i napraviti njihov generator</p>"
   ]
  },
  {
   "cell_type": "code",
   "execution_count": 29,
   "metadata": {
    "collapsed": false
   },
   "outputs": [],
   "source": [
    "niz=[1,2,3,4]\n",
    "permutacije=[]\n",
    "def funkcija(pozicija=0):\n",
    "    if pozicija==len(niz):\n",
    "        return\n",
    "    for i in range (0,len(niz)):\n",
    "        if pozicija<=i:\n",
    "            lista=niz[:]\n",
    "            lista[i],lista[pozicija]=lista[pozicija],lista[i]\n",
    "            permutacije.append(lista)\n",
    "    funkcija(pozicija+1)\n",
    "funkcija(0)"
   ]
  },
  {
   "cell_type": "code",
   "execution_count": 30,
   "metadata": {
    "collapsed": false
   },
   "outputs": [
    {
     "data": {
      "text/plain": [
       "10"
      ]
     },
     "execution_count": 30,
     "metadata": {},
     "output_type": "execute_result"
    }
   ],
   "source": [
    "len(permutacije)"
   ]
  },
  {
   "cell_type": "code",
   "execution_count": 25,
   "metadata": {
    "collapsed": false
   },
   "outputs": [
    {
     "data": {
      "text/plain": [
       "[[2, 1, 3, 4],\n",
       " [3, 2, 1, 4],\n",
       " [4, 2, 3, 1],\n",
       " [2, 1, 3, 4],\n",
       " [1, 3, 2, 4],\n",
       " [1, 4, 3, 2],\n",
       " [3, 2, 1, 4],\n",
       " [1, 3, 2, 4],\n",
       " [1, 2, 4, 3],\n",
       " [4, 2, 3, 1],\n",
       " [1, 4, 3, 2],\n",
       " [1, 2, 4, 3]]"
      ]
     },
     "execution_count": 25,
     "metadata": {},
     "output_type": "execute_result"
    }
   ],
   "source": [
    "permutacije"
   ]
  },
  {
   "cell_type": "code",
   "execution_count": 33,
   "metadata": {
    "collapsed": false
   },
   "outputs": [
    {
     "data": {
      "text/plain": [
       "[('1', '2', '3', '4'),\n",
       " ('1', '2', '4', '3'),\n",
       " ('1', '3', '2', '4'),\n",
       " ('1', '3', '4', '2'),\n",
       " ('1', '4', '2', '3'),\n",
       " ('1', '4', '3', '2'),\n",
       " ('2', '1', '3', '4'),\n",
       " ('2', '1', '4', '3'),\n",
       " ('2', '3', '1', '4'),\n",
       " ('2', '3', '4', '1'),\n",
       " ('2', '4', '1', '3'),\n",
       " ('2', '4', '3', '1'),\n",
       " ('3', '1', '2', '4'),\n",
       " ('3', '1', '4', '2'),\n",
       " ('3', '2', '1', '4'),\n",
       " ('3', '2', '4', '1'),\n",
       " ('3', '4', '1', '2'),\n",
       " ('3', '4', '2', '1'),\n",
       " ('4', '1', '2', '3'),\n",
       " ('4', '1', '3', '2'),\n",
       " ('4', '2', '1', '3'),\n",
       " ('4', '2', '3', '1'),\n",
       " ('4', '3', '1', '2'),\n",
       " ('4', '3', '2', '1')]"
      ]
     },
     "execution_count": 33,
     "metadata": {},
     "output_type": "execute_result"
    }
   ],
   "source": [
    "#rješenje pomoću itertoolsa\n",
    "import itertools\n",
    "[p for p in itertools.permutations(\"1234\")]"
   ]
  },
  {
   "cell_type": "code",
   "execution_count": null,
   "metadata": {
    "collapsed": true
   },
   "outputs": [],
   "source": [
    "#probati napisati generator koji ispisuje racionalne brojeve po redu (prema Cantorovoj zamisli)\n",
    "def neki_generator(limit=10):\n",
    "    for p in range(0,100):\n",
    "        for q in range(0,100"
   ]
  }
 ],
 "metadata": {
  "kernelspec": {
   "display_name": "Python 3",
   "language": "python",
   "name": "python3"
  },
  "language_info": {
   "codemirror_mode": {
    "name": "ipython",
    "version": 3
   },
   "file_extension": ".py",
   "mimetype": "text/x-python",
   "name": "python",
   "nbconvert_exporter": "python",
   "pygments_lexer": "ipython3",
   "version": "3.4.3"
  }
 },
 "nbformat": 4,
 "nbformat_minor": 0
}
