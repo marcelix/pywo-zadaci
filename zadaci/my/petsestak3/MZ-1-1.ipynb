{
 "cells": [
  {
   "cell_type": "code",
   "execution_count": 34,
   "metadata": {
    "collapsed": true
   },
   "outputs": [],
   "source": [
    "L=list(range(1,51))  # range(1,51) je generator koji onda u listu generira taj raspon brojeva"
   ]
  },
  {
   "cell_type": "code",
   "execution_count": 33,
   "metadata": {
    "collapsed": false
   },
   "outputs": [
    {
     "data": {
      "text/plain": [
       "False"
      ]
     },
     "execution_count": 33,
     "metadata": {},
     "output_type": "execute_result"
    }
   ],
   "source": [
    "def f(x):\n",
    "    return x**2\n",
    "\n",
    "S={ f(x) for x in range(50) } #ovo je skup (set)\n",
    "\n",
    "2 in S #da li se 2 nalazi u skupu koju je generirala funkcija"
   ]
  },
  {
   "cell_type": "code",
   "execution_count": 4,
   "metadata": {
    "collapsed": false
   },
   "outputs": [
    {
     "data": {
      "text/plain": [
       "dict"
      ]
     },
     "execution_count": 4,
     "metadata": {},
     "output_type": "execute_result"
    }
   ],
   "source": [
    "h={}\n",
    "type(h)"
   ]
  },
  {
   "cell_type": "code",
   "execution_count": 3,
   "metadata": {
    "collapsed": false
   },
   "outputs": [
    {
     "data": {
      "text/plain": [
       "dict_keys(['a', 'b'])"
      ]
     },
     "execution_count": 3,
     "metadata": {},
     "output_type": "execute_result"
    }
   ],
   "source": [
    "h={'a':2,'b':2}\n",
    "h.keys()"
   ]
  },
  {
   "cell_type": "code",
   "execution_count": 27,
   "metadata": {
    "collapsed": false,
    "scrolled": true
   },
   "outputs": [
    {
     "data": {
      "text/plain": [
       "[1,\n",
       " 2,\n",
       " 3,\n",
       " 4,\n",
       " 5,\n",
       " 6,\n",
       " 7,\n",
       " 8,\n",
       " 9,\n",
       " 10,\n",
       " 11,\n",
       " 12,\n",
       " 13,\n",
       " 14,\n",
       " 15,\n",
       " 16,\n",
       " 17,\n",
       " 18,\n",
       " 19,\n",
       " 20,\n",
       " 21,\n",
       " 22,\n",
       " 23,\n",
       " 24,\n",
       " 25,\n",
       " 26,\n",
       " 27,\n",
       " 28,\n",
       " 29,\n",
       " 30,\n",
       " 31,\n",
       " 32,\n",
       " 33,\n",
       " 34,\n",
       " 35,\n",
       " 36,\n",
       " 37,\n",
       " 38,\n",
       " 39,\n",
       " 40,\n",
       " 41,\n",
       " 42,\n",
       " 43,\n",
       " 44,\n",
       " 45,\n",
       " 46,\n",
       " 47,\n",
       " 48,\n",
       " 49,\n",
       " 50]"
      ]
     },
     "execution_count": 27,
     "metadata": {},
     "output_type": "execute_result"
    }
   ],
   "source": [
    "L=list(range(1,51))\n",
    "L[0:10:3]\n",
    "M=L[:]   #slicingom se prenose svi elementi iz liste L u novu listu M, dok se naredbom M=L sprema samo referenca\n",
    "L[0]=\"X\"\n",
    "M"
   ]
  },
  {
   "cell_type": "code",
   "execution_count": 9,
   "metadata": {
    "collapsed": true
   },
   "outputs": [],
   "source": [
    "r={1:'A', 2:'B', 3:'C'}\n",
    "q={2:'X',3:'Y',4:'Z'}"
   ]
  },
  {
   "cell_type": "code",
   "execution_count": 10,
   "metadata": {
    "collapsed": false
   },
   "outputs": [
    {
     "data": {
      "text/plain": [
       "({1: 'A', 2: 'B', 3: 'C'}, {2: 'X', 3: 'Y', 4: 'Z'})"
      ]
     },
     "execution_count": 10,
     "metadata": {},
     "output_type": "execute_result"
    }
   ],
   "source": [
    "r,q"
   ]
  },
  {
   "cell_type": "code",
   "execution_count": 17,
   "metadata": {
    "collapsed": false
   },
   "outputs": [
    {
     "data": {
      "text/plain": [
       "{2, 3}"
      ]
     },
     "execution_count": 17,
     "metadata": {},
     "output_type": "execute_result"
    }
   ],
   "source": [
    "# Napraviti rječnik koji je presjek dvaju rječnika - ključevi su oni koji se nalaze i u jednom i u drugom rječniku\n",
    "skup=set()\n",
    "for kljuc in skup:\n",
    "    print(kljuc)\n",
    "#for kljuc in q.keys():\n",
    "#    skup.insert(key)\n",
    "#skup\n",
    "\n",
    "kljucevi_r=set(r.keys())\n",
    "kljucevi_q=set(q.keys())\n",
    "\n",
    "presjek=kljucevi_r & kljucevi_q  # &...presjek, |...unija, -...razlika\n",
    "presjek"
   ]
  },
  {
   "cell_type": "code",
   "execution_count": 69,
   "metadata": {
    "collapsed": false
   },
   "outputs": [
    {
     "data": {
      "text/plain": [
       "{2: 'B', 3: 'C'}"
      ]
     },
     "execution_count": 69,
     "metadata": {},
     "output_type": "execute_result"
    }
   ],
   "source": [
    "# C-ovski način koji je sporiji pri interpretiranju (i sporiji bi bio pri prevođenju sa Cythonom)\n",
    "s={}\n",
    "for i in presjek:\n",
    "    s[i]=r[i]\n",
    "s"
   ]
  },
  {
   "cell_type": "code",
   "execution_count": 67,
   "metadata": {
    "collapsed": false
   },
   "outputs": [
    {
     "data": {
      "text/plain": [
       "{2: 'B', 3: 'C'}"
      ]
     },
     "execution_count": 67,
     "metadata": {},
     "output_type": "execute_result"
    }
   ],
   "source": [
    "# efikasan Python-ovski način za realizaciju istog\n",
    "{k:r[k] for k in presjek}"
   ]
  },
  {
   "cell_type": "code",
   "execution_count": 84,
   "metadata": {
    "collapsed": false
   },
   "outputs": [
    {
     "name": "stdout",
     "output_type": "stream",
     "text": [
      "Writing presjek_rjecnika.py\n"
     ]
    }
   ],
   "source": [
    "%%writefile presjek_rjecnika.py\n",
    "\n",
    "def presjek_rjecnika(r1,r2):\n",
    "    \"\"\" ###ovo sljedece je tzv. Docstring kojim se dokumentira korisnički kreirana funkcija\n",
    "    Ova funkcija racuna presjek rjecnika r1 i r2.\n",
    "    Vraca rjecnik koji ima kljuceve iz presjeka, a vrijednosti preuzima iz prvog rjecnika.\n",
    "    \"\"\"\n",
    "\n",
    "    kljucevi_r1=set(r1.keys())\n",
    "    kljucevi_r2=set(r2.keys())\n",
    "    \n",
    "    R={k:r1[k] for k in (kljucevi_r1 & kljucevi_r2)}\n",
    "    return R"
   ]
  },
  {
   "cell_type": "code",
   "execution_count": 78,
   "metadata": {
    "collapsed": false
   },
   "outputs": [
    {
     "data": {
      "text/plain": [
       "{2: 'B', 3: 'C'}"
      ]
     },
     "execution_count": 78,
     "metadata": {},
     "output_type": "execute_result"
    }
   ],
   "source": [
    "presjek_rjecnika(r,q)"
   ]
  },
  {
   "cell_type": "code",
   "execution_count": 3,
   "metadata": {
    "collapsed": false
   },
   "outputs": [
    {
     "data": {
      "application/json": {
       "cell": {
        "!": "OSMagics",
        "HTML": "Other",
        "SVG": "Other",
        "bash": "Other",
        "capture": "ExecutionMagics",
        "debug": "ExecutionMagics",
        "file": "Other",
        "html": "DisplayMagics",
        "javascript": "DisplayMagics",
        "latex": "DisplayMagics",
        "perl": "Other",
        "prun": "ExecutionMagics",
        "pypy": "Other",
        "python": "Other",
        "python2": "Other",
        "python3": "Other",
        "ruby": "Other",
        "script": "ScriptMagics",
        "sh": "Other",
        "svg": "DisplayMagics",
        "sx": "OSMagics",
        "system": "OSMagics",
        "time": "ExecutionMagics",
        "timeit": "ExecutionMagics",
        "writefile": "OSMagics"
       },
       "line": {
        "alias": "OSMagics",
        "alias_magic": "BasicMagics",
        "autocall": "AutoMagics",
        "automagic": "AutoMagics",
        "autosave": "KernelMagics",
        "bookmark": "OSMagics",
        "cat": "Other",
        "cd": "OSMagics",
        "clear": "KernelMagics",
        "colors": "BasicMagics",
        "config": "ConfigMagics",
        "connect_info": "KernelMagics",
        "cp": "Other",
        "debug": "ExecutionMagics",
        "dhist": "OSMagics",
        "dirs": "OSMagics",
        "doctest_mode": "BasicMagics",
        "ed": "Other",
        "edit": "KernelMagics",
        "env": "OSMagics",
        "gui": "BasicMagics",
        "hist": "Other",
        "history": "HistoryMagics",
        "install_default_config": "DeprecatedMagics",
        "install_ext": "ExtensionMagics",
        "install_profiles": "DeprecatedMagics",
        "killbgscripts": "ScriptMagics",
        "ldir": "Other",
        "less": "KernelMagics",
        "lf": "Other",
        "lk": "Other",
        "ll": "Other",
        "load": "CodeMagics",
        "load_ext": "ExtensionMagics",
        "loadpy": "CodeMagics",
        "logoff": "LoggingMagics",
        "logon": "LoggingMagics",
        "logstart": "LoggingMagics",
        "logstate": "LoggingMagics",
        "logstop": "LoggingMagics",
        "ls": "Other",
        "lsmagic": "BasicMagics",
        "lx": "Other",
        "macro": "ExecutionMagics",
        "magic": "BasicMagics",
        "man": "KernelMagics",
        "matplotlib": "PylabMagics",
        "mkdir": "Other",
        "more": "KernelMagics",
        "mv": "Other",
        "notebook": "BasicMagics",
        "page": "BasicMagics",
        "pastebin": "CodeMagics",
        "pdb": "ExecutionMagics",
        "pdef": "NamespaceMagics",
        "pdoc": "NamespaceMagics",
        "pfile": "NamespaceMagics",
        "pinfo": "NamespaceMagics",
        "pinfo2": "NamespaceMagics",
        "popd": "OSMagics",
        "pprint": "BasicMagics",
        "precision": "BasicMagics",
        "profile": "BasicMagics",
        "prun": "ExecutionMagics",
        "psearch": "NamespaceMagics",
        "psource": "NamespaceMagics",
        "pushd": "OSMagics",
        "pwd": "OSMagics",
        "pycat": "OSMagics",
        "pylab": "PylabMagics",
        "qtconsole": "KernelMagics",
        "quickref": "BasicMagics",
        "recall": "HistoryMagics",
        "rehashx": "OSMagics",
        "reload_ext": "ExtensionMagics",
        "rep": "Other",
        "rerun": "HistoryMagics",
        "reset": "NamespaceMagics",
        "reset_selective": "NamespaceMagics",
        "rm": "Other",
        "rmdir": "Other",
        "run": "ExecutionMagics",
        "save": "CodeMagics",
        "sc": "OSMagics",
        "set_env": "OSMagics",
        "store": "StoreMagics",
        "sx": "OSMagics",
        "system": "OSMagics",
        "tb": "ExecutionMagics",
        "time": "ExecutionMagics",
        "timeit": "ExecutionMagics",
        "unalias": "OSMagics",
        "unload_ext": "ExtensionMagics",
        "who": "NamespaceMagics",
        "who_ls": "NamespaceMagics",
        "whos": "NamespaceMagics",
        "xdel": "NamespaceMagics",
        "xmode": "BasicMagics"
       }
      },
      "text/plain": [
       "Available line magics:\n",
       "%alias  %alias_magic  %autocall  %automagic  %autosave  %bookmark  %cat  %cd  %clear  %colors  %config  %connect_info  %cp  %debug  %dhist  %dirs  %doctest_mode  %ed  %edit  %env  %gui  %hist  %history  %install_default_config  %install_ext  %install_profiles  %killbgscripts  %ldir  %less  %lf  %lk  %ll  %load  %load_ext  %loadpy  %logoff  %logon  %logstart  %logstate  %logstop  %ls  %lsmagic  %lx  %macro  %magic  %man  %matplotlib  %mkdir  %more  %mv  %notebook  %page  %pastebin  %pdb  %pdef  %pdoc  %pfile  %pinfo  %pinfo2  %popd  %pprint  %precision  %profile  %prun  %psearch  %psource  %pushd  %pwd  %pycat  %pylab  %qtconsole  %quickref  %recall  %rehashx  %reload_ext  %rep  %rerun  %reset  %reset_selective  %rm  %rmdir  %run  %save  %sc  %set_env  %store  %sx  %system  %tb  %time  %timeit  %unalias  %unload_ext  %who  %who_ls  %whos  %xdel  %xmode\n",
       "\n",
       "Available cell magics:\n",
       "%%!  %%HTML  %%SVG  %%bash  %%capture  %%debug  %%file  %%html  %%javascript  %%latex  %%perl  %%prun  %%pypy  %%python  %%python2  %%python3  %%ruby  %%script  %%sh  %%svg  %%sx  %%system  %%time  %%timeit  %%writefile\n",
       "\n",
       "Automagic is ON, % prefix IS NOT needed for line magics."
      ]
     },
     "execution_count": 3,
     "metadata": {},
     "output_type": "execute_result"
    }
   ],
   "source": [
    "%lsmagic  #prikazuje popis svih naredbi koje je moguće izvršiti u bashu"
   ]
  },
  {
   "cell_type": "code",
   "execution_count": 4,
   "metadata": {
    "collapsed": false
   },
   "outputs": [
    {
     "data": {
      "text/plain": [
       "['total 48',\n",
       " 'drwxrwxr-x  4 zeko868 zeko868  4096 Ruj  2 00:35 .',\n",
       " 'drwxr-xr-x 23 zeko868 zeko868  4096 Ruj  2 00:06 ..',\n",
       " 'drwxr-xr-x  2 zeko868 zeko868  4096 Ruj  1 17:56 .ipynb_checkpoints',\n",
       " 'drwxrwxr-x  4 zeko868 zeko868  4096 Ruj  1 16:27 liquidprompt',\n",
       " '-rw-rw-r--  1 zeko868 zeko868   405 Ruj  1 17:34 presjek_rjecnika.py',\n",
       " '-rw-rw-r--  1 zeko868 zeko868  8004 Ruj  2 00:21 Untitled1.ipynb',\n",
       " '-rw-rw-r--  1 zeko868 zeko868 18319 Ruj  2 00:35 Untitled.ipynb',\n",
       " '-rw-rw-r--  1 zeko868 zeko868     0 Ruj  1 16:51 untitled.txt']"
      ]
     },
     "execution_count": 4,
     "metadata": {},
     "output_type": "execute_result"
    }
   ],
   "source": [
    "content=!ls -la\n",
    "content"
   ]
  },
  {
   "cell_type": "code",
   "execution_count": 5,
   "metadata": {
    "collapsed": false
   },
   "outputs": [
    {
     "data": {
      "text/plain": [
       "IPython.utils.text.SList"
      ]
     },
     "execution_count": 5,
     "metadata": {},
     "output_type": "execute_result"
    }
   ],
   "source": [
    "type(content)"
   ]
  },
  {
   "cell_type": "code",
   "execution_count": 5,
   "metadata": {
    "collapsed": true
   },
   "outputs": [],
   "source": [
    "# %load presjek_rjecnika.py  #tom naredbom se u ćeliju učita sadržaj datoteke sa diska\n",
    "\n",
    "def presjek_rjecnika(r1,r2):\n",
    "    \"\"\" ###ovo sljedece je tzv. Docstring kojim se dokumentira korisnički kreirana funkcija\n",
    "    Ova funkcija racuna presjek rjecnika r1 i r2.\n",
    "    Vraca rjecnik koji ima kljuceve iz presjeka, a vrijednosti preuzima iz prvog rjecnika.\n",
    "    \"\"\"\n",
    "\n",
    "    kljucevi_r1=set(r1.keys())\n",
    "    kljucevi_r2=set(r2.keys())\n",
    "    \n",
    "    R={k:r1[k] for k in (kljucevi_r1 & kljucevi_r2)}\n",
    "    return R"
   ]
  },
  {
   "cell_type": "code",
   "execution_count": 101,
   "metadata": {
    "collapsed": false
   },
   "outputs": [
    {
     "name": "stdout",
     "output_type": "stream",
     "text": [
      "Variable           Type        Data/Info\n",
      "----------------------------------------\n",
      "L                  list        n=50\n",
      "M                  list        n=50\n",
      "S                  set         set([0, 1, 4, 1089, 9, 72<...>0, 1764, 2025, 121, 784])\n",
      "f                  function    <function f at 0x7ff8302b4e60>\n",
      "h                  dict        n=2\n",
      "i                  int         3\n",
      "j                  int         3\n",
      "kljuc              int         2\n",
      "kljucevi_q         set         set([2, 3, 4])\n",
      "kljucevi_r         set         set([1, 2, 3])\n",
      "presjek            set         set([2, 3])\n",
      "presjek_rjecnika   function    <function presjek_rjecnika at 0x7ff8301e16e0>\n",
      "q                  dict        n=3\n",
      "r                  dict        n=3\n",
      "s                  dict        n=2\n",
      "skup               set         set([])\n",
      "x                  int         49\n"
     ]
    }
   ],
   "source": [
    "%whos"
   ]
  },
  {
   "cell_type": "code",
   "execution_count": 102,
   "metadata": {
    "collapsed": true
   },
   "outputs": [],
   "source": [
    "# %whos  vraća sve varijable koji su se koristile u ovoj sesiji"
   ]
  },
  {
   "cell_type": "code",
   "execution_count": 6,
   "metadata": {
    "collapsed": true
   },
   "outputs": [],
   "source": [
    "linije_datoteke=!cat presjek_rjecnika.py #spremanje cijele datoteke sa diska u listu naziva linije_datoteke"
   ]
  },
  {
   "cell_type": "code",
   "execution_count": 104,
   "metadata": {
    "collapsed": false
   },
   "outputs": [
    {
     "data": {
      "text/plain": [
       "['',\n",
       " 'def presjek_rjecnika(r1,r2):',\n",
       " '    \"\"\" ###ovo sljedece je tzv. Docstring kojim se dokumentira korisni\\xc4\\x8dki kreirana funkcija',\n",
       " '    Ova funkcija racuna presjek rjecnika r1 i r2.',\n",
       " '    Vraca rjecnik koji ima kljuceve iz presjeka, a vrijednosti preuzima iz prvog rjecnika.',\n",
       " '    \"\"\"',\n",
       " '',\n",
       " '    kljucevi_r1=set(r1.keys())',\n",
       " '    kljucevi_r2=set(r2.keys())',\n",
       " '    ',\n",
       " '    R={k:r1[k] for k in (kljucevi_r1 & kljucevi_r2)}',\n",
       " '    return R']"
      ]
     },
     "execution_count": 104,
     "metadata": {},
     "output_type": "execute_result"
    }
   ],
   "source": [
    "linije_datoteke"
   ]
  },
  {
   "cell_type": "code",
   "execution_count": 106,
   "metadata": {
    "collapsed": false
   },
   "outputs": [
    {
     "name": "stdout",
     "output_type": "stream",
     "text": [
      "PING www.index.hr (198.41.182.4) 56(84) bytes of data.\n",
      "64 bytes from 198.41.182.4: icmp_seq=1 ttl=56 time=13.5 ms\n",
      "64 bytes from 198.41.182.4: icmp_seq=2 ttl=56 time=12.3 ms\n",
      "64 bytes from 198.41.182.4: icmp_seq=3 ttl=56 time=15.5 ms\n",
      "64 bytes from 198.41.182.4: icmp_seq=4 ttl=56 time=13.8 ms\n",
      "64 bytes from 198.41.182.4: icmp_seq=5 ttl=56 time=18.6 ms\n",
      "^C\n",
      "--- www.index.hr ping statistics ---\n",
      "5 packets transmitted, 5 received, 0% packet loss, time 4008ms\n",
      "rtt min/avg/max/mdev = 12.335/14.779/18.668/2.200 ms\n",
      "\n"
     ]
    }
   ],
   "source": [
    "!ping www.index.hr #beskonačne operacije se prekidaju sa tipkom Interrupt kernel u zaglavlju Notebooka\n",
    "#crni krug u gornjem desnom kutu govori (\"Kernel Busy\") govori da je trenutno ljuska zauzeta, te u tom trenutku nije\n",
    "#moguće raditi nijedne druge operacije u njoj kao ni ovdje\n",
    "\n",
    "# !naredba ... naredba koja se izvršava u jezgri (ne u Pythonu)"
   ]
  },
  {
   "cell_type": "code",
   "execution_count": null,
   "metadata": {
    "collapsed": true
   },
   "outputs": [],
   "source": []
  }
 ],
 "metadata": {
  "kernelspec": {
   "display_name": "Python 3",
   "language": "python",
   "name": "python3"
  },
  "language_info": {
   "codemirror_mode": {
    "name": "ipython",
    "version": 3
   },
   "file_extension": ".py",
   "mimetype": "text/x-python",
   "name": "python",
   "nbconvert_exporter": "python",
   "pygments_lexer": "ipython3",
   "version": "3.4.3"
  }
 },
 "nbformat": 4,
 "nbformat_minor": 0
}
