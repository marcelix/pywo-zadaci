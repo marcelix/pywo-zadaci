{
 "cells": [
  {
   "cell_type": "code",
   "execution_count": 8,
   "metadata": {
    "collapsed": false
   },
   "outputs": [],
   "source": [
    "# %%writefile ravnina.py\n",
    "\n",
    "import math #from math import sqrt  - time se uključuje samo ono što nam treba (čak je i bolja od ove obične)\n",
    "\n",
    "class Tocka: #class naziv_klase(naslijedjena_klasa1,naslijedjena_klasa2,...)\n",
    "    \"\"\"\n",
    "        Opis ove klase.\n",
    "        2-dim tocke u ravnini.\n",
    "    \"\"\"\n",
    "    def __init__(self,x,y): #ovo je konstruktor klase - u zagradama se mogu navesti argumenti koji se proslijeđuju\n",
    "                    #objektu pri njegovom alociranju\n",
    "        self.x=x\n",
    "        self.y=y\n",
    "    def norm(self):\n",
    "        return math.sqrt(self.x**2+self.y**2)\n",
    "    def __repr__(self):\n",
    "        return \"Tocka({0}, {1})\".format(self.x,self.y)"
   ]
  },
  {
   "cell_type": "code",
   "execution_count": 9,
   "metadata": {
    "collapsed": false
   },
   "outputs": [
    {
     "name": "stdout",
     "output_type": "stream",
     "text": [
      "total 104\r\n",
      "drwxrwxr-x 4 zeko868 zeko868  4096 Ruj  5 21:36 .\r\n",
      "drwxrwxr-x 4 zeko868 zeko868  4096 Ruj  4 16:56 ..\r\n",
      "-rw-rw-r-- 1 zeko868 zeko868 14103 Ruj  4 16:03 Funkcije i njihovi argumenti.ipynb\r\n",
      "drwxr-xr-x 2 zeko868 zeko868  4096 Ruj  5 01:26 .ipynb_checkpoints\r\n",
      "-rw-rw-r-- 1 zeko868 zeko868  8243 Ruj  5 19:19 Iterator protokol.ipynb\r\n",
      "-rw-rw-r-- 1 zeko868 zeko868  1448 Ruj  5 01:22 OOP2.ipynb\r\n",
      "-rw-rw-r-- 1 zeko868 zeko868  6313 Ruj  5 00:41 OOP.ipynb\r\n",
      "-rw-rw-r-- 1 zeko868 zeko868 15952 Ruj  5 21:36 permutacije i generatori.ipynb\r\n",
      "drwxrwxr-x 2 zeko868 zeko868  4096 Ruj  4 18:35 __pycache__\r\n",
      "-rw-rw-r-- 1 zeko868 zeko868 14226 Ruj  4 18:03 pywo_some_data.xlsx\r\n",
      "-rw-rw-r-- 1 zeko868 zeko868  8455 Ruj  4 18:46 rad sa excel tablicama.ipynb\r\n",
      "-rw-rw-r-- 1 zeko868 zeko868   611 Ruj  5 21:38 ravnina.py\r\n"
     ]
    }
   ],
   "source": [
    "!ls -la"
   ]
  },
  {
   "cell_type": "code",
   "execution_count": 10,
   "metadata": {
    "collapsed": false
   },
   "outputs": [
    {
     "data": {
      "text/plain": [
       "type"
      ]
     },
     "execution_count": 10,
     "metadata": {},
     "output_type": "execute_result"
    }
   ],
   "source": [
    "type(Tocka)"
   ]
  },
  {
   "cell_type": "code",
   "execution_count": 11,
   "metadata": {
    "collapsed": false
   },
   "outputs": [],
   "source": [
    "A=Tocka(1,2)"
   ]
  },
  {
   "cell_type": "code",
   "execution_count": 12,
   "metadata": {
    "collapsed": false
   },
   "outputs": [
    {
     "data": {
      "text/plain": [
       "__main__.Tocka"
      ]
     },
     "execution_count": 12,
     "metadata": {},
     "output_type": "execute_result"
    }
   ],
   "source": [
    "type(A)"
   ]
  },
  {
   "cell_type": "code",
   "execution_count": 13,
   "metadata": {
    "collapsed": false
   },
   "outputs": [
    {
     "data": {
      "text/plain": [
       "2.23606797749979"
      ]
     },
     "execution_count": 13,
     "metadata": {},
     "output_type": "execute_result"
    }
   ],
   "source": [
    "A.norm()"
   ]
  },
  {
   "cell_type": "code",
   "execution_count": 43,
   "metadata": {
    "collapsed": true
   },
   "outputs": [],
   "source": [
    "class vektor(Tocka):   #klasa vektor naslijeđuje atribute i metode od klase Tocka\n",
    "    def __add__(self,b):\n",
    "        \"\"\"\n",
    "        self je vektor, b je vektor\n",
    "        \"\"\"\n",
    "        return vektor(self.x+b.x , self.y+b.y)\n",
    "    def __sub__(self,b):\n",
    "        return vektor(self.x-b.x , self.y-b.y)\n",
    "    def __mul__(self,b):\n",
    "        return vektor(self.x*b , self.y*b)\n",
    "    def __rmul__(self,b): #metoda za realizaciju množenja vektora skalarom kad se skalar nalazi ispred vektora\n",
    "        return vektor(self.x*b , self.y*b)#time je moguće izračunati 2*a, a ne samo a*2 kao što je sa __mul__ moguće\n",
    "    def __repr__(self):\n",
    "        return \"Vektor({0}, {1})\".format(self.x,self.y)"
   ]
  },
  {
   "cell_type": "code",
   "execution_count": 44,
   "metadata": {
    "collapsed": true
   },
   "outputs": [],
   "source": [
    "a=vektor(-1,-3)\n",
    "b=vektor(1,2)"
   ]
  },
  {
   "cell_type": "code",
   "execution_count": 45,
   "metadata": {
    "collapsed": false
   },
   "outputs": [
    {
     "name": "stdout",
     "output_type": "stream",
     "text": [
      "Vektor(0, -1)\n"
     ]
    }
   ],
   "source": [
    "c=a+b\n",
    "print(c)"
   ]
  },
  {
   "cell_type": "code",
   "execution_count": 46,
   "metadata": {
    "collapsed": false
   },
   "outputs": [
    {
     "name": "stdout",
     "output_type": "stream",
     "text": [
      "0 -1\n"
     ]
    }
   ],
   "source": [
    "print(c.x,c.y)"
   ]
  },
  {
   "cell_type": "code",
   "execution_count": 47,
   "metadata": {
    "collapsed": false
   },
   "outputs": [
    {
     "data": {
      "text/plain": [
       "<bound method vektor.__repr__ of Vektor(0, -1)>"
      ]
     },
     "execution_count": 47,
     "metadata": {},
     "output_type": "execute_result"
    }
   ],
   "source": [
    "c.__repr__"
   ]
  },
  {
   "cell_type": "code",
   "execution_count": 48,
   "metadata": {
    "collapsed": false
   },
   "outputs": [
    {
     "name": "stdout",
     "output_type": "stream",
     "text": [
      "Vektor(1, 2)\r\n",
      "Vektor(-2, -6)\n"
     ]
    }
   ],
   "source": [
    "#DZ: napraviti još operacije oduzimanja vektora i množenja skalarom\n",
    "d=c-a  #__sub__(self,other)\n",
    "e=a*2  #__mul__(self,other)\n",
    "\n",
    "print(str(d) + \"\\r\\n\" + str(e))"
   ]
  },
  {
   "cell_type": "code",
   "execution_count": 56,
   "metadata": {
    "collapsed": false
   },
   "outputs": [
    {
     "name": "stdout",
     "output_type": "stream",
     "text": [
      "Vektor(-2, -6)\n"
     ]
    }
   ],
   "source": [
    "f=2*a\n",
    "print(f)  #komutativnost je uistinu postignuta sa __rmul__ metodom"
   ]
  },
  {
   "cell_type": "code",
   "execution_count": null,
   "metadata": {
    "collapsed": true
   },
   "outputs": [],
   "source": []
  }
 ],
 "metadata": {
  "kernelspec": {
   "display_name": "Python 3",
   "language": "python",
   "name": "python3"
  },
  "language_info": {
   "codemirror_mode": {
    "name": "ipython",
    "version": 3
   },
   "file_extension": ".py",
   "mimetype": "text/x-python",
   "name": "python",
   "nbconvert_exporter": "python",
   "pygments_lexer": "ipython3",
   "version": "3.4.3"
  }
 },
 "nbformat": 4,
 "nbformat_minor": 0
}
