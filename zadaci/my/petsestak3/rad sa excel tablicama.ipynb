{
 "cells": [
  {
   "cell_type": "code",
   "execution_count": 3,
   "metadata": {
    "collapsed": false,
    "scrolled": true
   },
   "outputs": [
    {
     "name": "stdout",
     "output_type": "stream",
     "text": [
      "pywo_some_data.xlsx\r\n"
     ]
    }
   ],
   "source": [
    "!ls ../../03/"
   ]
  },
  {
   "cell_type": "code",
   "execution_count": 4,
   "metadata": {
    "collapsed": true
   },
   "outputs": [],
   "source": [
    "!cp ../../03/pywo_some_data.xlsx ."
   ]
  },
  {
   "cell_type": "code",
   "execution_count": 5,
   "metadata": {
    "collapsed": true
   },
   "outputs": [],
   "source": [
    "filename=\"pywo_some_data.xlsx\""
   ]
  },
  {
   "cell_type": "markdown",
   "metadata": {},
   "source": [
    "Otvoriti ovaj excel file i pročitati prvi stupac.\n",
    "Za to nam treba moul ```xlrd```"
   ]
  },
  {
   "cell_type": "code",
   "execution_count": 6,
   "metadata": {
    "collapsed": false
   },
   "outputs": [],
   "source": [
    "import xlrd"
   ]
  },
  {
   "cell_type": "code",
   "execution_count": 7,
   "metadata": {
    "collapsed": false
   },
   "outputs": [
    {
     "data": {
      "text/plain": [
       "<xlrd.book.Book at 0x7f606c0a1470>"
      ]
     },
     "execution_count": 7,
     "metadata": {},
     "output_type": "execute_result"
    }
   ],
   "source": [
    "xl_workbook=xlrd.open_workbook(filename)\n",
    "xl_workbook"
   ]
  },
  {
   "cell_type": "code",
   "execution_count": 8,
   "metadata": {
    "collapsed": false
   },
   "outputs": [
    {
     "data": {
      "text/plain": [
       "['Sheet1']"
      ]
     },
     "execution_count": 8,
     "metadata": {},
     "output_type": "execute_result"
    }
   ],
   "source": [
    "sheet_names = xl_workbook.sheet_names()\n",
    "sheet_names"
   ]
  },
  {
   "cell_type": "code",
   "execution_count": 9,
   "metadata": {
    "collapsed": false
   },
   "outputs": [
    {
     "data": {
      "text/plain": [
       "<xlrd.sheet.Sheet at 0x7f606548d0b8>"
      ]
     },
     "execution_count": 9,
     "metadata": {},
     "output_type": "execute_result"
    }
   ],
   "source": [
    "xl_sheet = xl_workbook.sheet_by_name(sheet_names[0])\n",
    "xl_sheet"
   ]
  },
  {
   "cell_type": "code",
   "execution_count": 10,
   "metadata": {
    "collapsed": false
   },
   "outputs": [
    {
     "data": {
      "text/plain": [
       "['Josip Mlakar, ',\n",
       " 'Elvis Popović, ',\n",
       " 'Vladimir Milašinović, ',\n",
       " 'Filip Rafajec, ',\n",
       " 'Matej Gucek, ',\n",
       " 'Jura Šolja, ',\n",
       " 'Gabrijela Grgača, ',\n",
       " 'Stjepan Rakarec, ',\n",
       " 'Davorin Špičko, ',\n",
       " 'Milan Pavlović, ',\n",
       " 'Senko Pušec, ',\n",
       " 'Filip Aleksić, ',\n",
       " 'Roman Tomašković, ',\n",
       " 'Peđa Čačić, ',\n",
       " 'Saša Poslončec,',\n",
       " 'Mislav Zebić, ',\n",
       " 'Ian Žonja,',\n",
       " 'Tomislav Cundić, ',\n",
       " 'Matija Kaniški,',\n",
       " 'Petar Šestak,',\n",
       " 'Ivana Završki,',\n",
       " 'Vedran Vađunec, ',\n",
       " 'Matea Bodulušić, ',\n",
       " 'Andrea Danzante,']"
      ]
     },
     "execution_count": 10,
     "metadata": {},
     "output_type": "execute_result"
    }
   ],
   "source": [
    "L=[student.value for student in xl_sheet.col(0)] #atribut value iz objekta student vraća vrijednost (string ovdje)\n",
    "del L[0]\n",
    "L"
   ]
  },
  {
   "cell_type": "code",
   "execution_count": 11,
   "metadata": {
    "collapsed": false
   },
   "outputs": [
    {
     "data": {
      "text/plain": [
       "[['Aleksić', 'Filip'],\n",
       " ['Bodulušić', 'Matea'],\n",
       " ['Cundić', 'Tomislav'],\n",
       " ['Danzante', 'Andrea'],\n",
       " ['Grgača', 'Gabrijela'],\n",
       " ['Gucek', 'Matej'],\n",
       " ['Kaniški', 'Matija'],\n",
       " ['Milašinović', 'Vladimir'],\n",
       " ['Mlakar', 'Josip'],\n",
       " ['Pavlović', 'Milan'],\n",
       " ['Popović', 'Elvis'],\n",
       " ['Poslončec', 'Saša'],\n",
       " ['Pušec', 'Senko'],\n",
       " ['Rafajec', 'Filip'],\n",
       " ['Rakarec', 'Stjepan'],\n",
       " ['Tomašković', 'Roman'],\n",
       " ['Vađunec', 'Vedran'],\n",
       " ['Završki', 'Ivana'],\n",
       " ['Zebić', 'Mislav'],\n",
       " ['Čačić', 'Peđa'],\n",
       " ['Šestak', 'Petar'],\n",
       " ['Šolja', 'Jura'],\n",
       " ['Špičko', 'Davorin'],\n",
       " ['Žonja', 'Ian']]"
      ]
     },
     "execution_count": 11,
     "metadata": {},
     "output_type": "execute_result"
    }
   ],
   "source": [
    "for i in range (0,len(L)):\n",
    "    L[i]=L[i].rstrip()\n",
    "    L[i]=L[i].replace(\",\",\"\") #brisanje zareza sa kraja svakog reda\n",
    "    L[i]=L[i].split(\" \")\n",
    "    L[i][0],L[i][1]=L[i][1],L[i][0]\n",
    "sorted(L)"
   ]
  },
  {
   "cell_type": "code",
   "execution_count": 12,
   "metadata": {
    "collapsed": false
   },
   "outputs": [],
   "source": [
    "sorted?\n",
    "#vraća detalje o funkciji sorted"
   ]
  },
  {
   "cell_type": "code",
   "execution_count": 13,
   "metadata": {
    "collapsed": false
   },
   "outputs": [
    {
     "data": {
      "text/plain": [
       "[['Danzante', 'Andrea'],\n",
       " ['Špičko', 'Davorin'],\n",
       " ['Popović', 'Elvis'],\n",
       " ['Rafajec', 'Filip'],\n",
       " ['Aleksić', 'Filip'],\n",
       " ['Grgača', 'Gabrijela'],\n",
       " ['Žonja', 'Ian'],\n",
       " ['Završki', 'Ivana'],\n",
       " ['Mlakar', 'Josip'],\n",
       " ['Šolja', 'Jura'],\n",
       " ['Bodulušić', 'Matea'],\n",
       " ['Gucek', 'Matej'],\n",
       " ['Kaniški', 'Matija'],\n",
       " ['Pavlović', 'Milan'],\n",
       " ['Zebić', 'Mislav'],\n",
       " ['Šestak', 'Petar'],\n",
       " ['Čačić', 'Peđa'],\n",
       " ['Tomašković', 'Roman'],\n",
       " ['Poslončec', 'Saša'],\n",
       " ['Pušec', 'Senko'],\n",
       " ['Rakarec', 'Stjepan'],\n",
       " ['Cundić', 'Tomislav'],\n",
       " ['Vađunec', 'Vedran'],\n",
       " ['Milašinović', 'Vladimir']]"
      ]
     },
     "execution_count": 13,
     "metadata": {},
     "output_type": "execute_result"
    }
   ],
   "source": [
    "fja=lambda x:x[1]\n",
    "sorted(L,key=fja) #sortiranje pomoću korisničke funkcije"
   ]
  },
  {
   "cell_type": "markdown",
   "metadata": {
    "collapsed": true
   },
   "source": [
    "<p>DZ: riješiti se zareza u početno preuzetoj datoteci pomoću biblioteke ```re```</p>"
   ]
  },
  {
   "cell_type": "code",
   "execution_count": 14,
   "metadata": {
    "collapsed": true
   },
   "outputs": [],
   "source": [
    "!git add *.ipynb"
   ]
  },
  {
   "cell_type": "code",
   "execution_count": 15,
   "metadata": {
    "collapsed": false
   },
   "outputs": [
    {
     "name": "stdout",
     "output_type": "stream",
     "text": [
      "error: switch `m' requires a value\r\n",
      "usage: git commit [options] [--] <pathspec>...\r\n",
      "\r\n",
      "    -q, --quiet           suppress summary after successful commit\r\n",
      "    -v, --verbose         show diff in commit message template\r\n",
      "\r\n",
      "Commit message options\r\n",
      "    -F, --file <file>     read message from file\r\n",
      "    --author <author>     override author for commit\r\n",
      "    --date <date>         override date for commit\r\n",
      "    -m, --message <message>\r\n",
      "                          commit message\r\n",
      "    -c, --reedit-message <commit>\r\n",
      "                          reuse and edit message from specified commit\r\n",
      "    -C, --reuse-message <commit>\r\n",
      "                          reuse message from specified commit\r\n",
      "    --fixup <commit>      use autosquash formatted message to fixup specified commit\r\n",
      "    --squash <commit>     use autosquash formatted message to squash specified commit\r\n",
      "    --reset-author        the commit is authored by me now (used with -C/-c/--amend)\r\n",
      "    -s, --signoff         add Signed-off-by:\r\n",
      "    -t, --template <file>\r\n",
      "                          use specified template file\r\n",
      "    -e, --edit            force edit of commit\r\n",
      "    --cleanup <default>   how to strip spaces and #comments from message\r\n",
      "    --status              include status in commit message template\r\n",
      "    -S, --gpg-sign[=<key-id>]\r\n",
      "                          GPG sign commit\r\n",
      "\r\n",
      "Commit contents options\r\n",
      "    -a, --all             commit all changed files\r\n",
      "    -i, --include         add specified files to index for commit\r\n",
      "    --interactive         interactively add files\r\n",
      "    -p, --patch           interactively add changes\r\n",
      "    -o, --only            commit only specified files\r\n",
      "    -n, --no-verify       bypass pre-commit hook\r\n",
      "    --dry-run             show what would be committed\r\n",
      "    --short               show status concisely\r\n",
      "    --branch              show branch information\r\n",
      "    --porcelain           machine-readable output\r\n",
      "    --long                show status in long format (default)\r\n",
      "    -z, --null            terminate entries with NUL\r\n",
      "    --amend               amend previous commit\r\n",
      "    --no-post-rewrite     bypass post-rewrite hook\r\n",
      "    -u, --untracked-files[=<mode>]\r\n",
      "                          show untracked files, optional modes: all, normal, no. (Default: all)\r\n",
      "\r\n"
     ]
    }
   ],
   "source": [
    "!git commit -a -m #Notebook za citanje excela"
   ]
  },
  {
   "cell_type": "code",
   "execution_count": null,
   "metadata": {
    "collapsed": true
   },
   "outputs": [],
   "source": []
  }
 ],
 "metadata": {
  "kernelspec": {
   "display_name": "Python 3",
   "language": "python",
   "name": "python3"
  },
  "language_info": {
   "codemirror_mode": {
    "name": "ipython",
    "version": 3
   },
   "file_extension": ".py",
   "mimetype": "text/x-python",
   "name": "python",
   "nbconvert_exporter": "python",
   "pygments_lexer": "ipython3",
   "version": "3.4.3"
  }
 },
 "nbformat": 4,
 "nbformat_minor": 0
}
