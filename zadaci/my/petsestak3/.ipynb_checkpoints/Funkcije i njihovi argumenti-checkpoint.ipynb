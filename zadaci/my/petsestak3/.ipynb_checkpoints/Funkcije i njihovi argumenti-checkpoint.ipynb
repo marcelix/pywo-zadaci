{
 "cells": [
  {
   "cell_type": "markdown",
   "metadata": {},
   "source": [
    "LaTeX kod se piše unutar $1+2+3+4=10$ za male formule i $$6 CO_{2} + 6 H_{2}O \\implies C_{6}H_{12}O_{6} + 6 O_{2}$$ za velike formule"
   ]
  },
  {
   "cell_type": "code",
   "execution_count": 2,
   "metadata": {
    "collapsed": true
   },
   "outputs": [],
   "source": [
    "def func(m,n=1):\n",
    "    return m+n"
   ]
  },
  {
   "cell_type": "code",
   "execution_count": 3,
   "metadata": {
    "collapsed": false
   },
   "outputs": [
    {
     "data": {
      "text/plain": [
       "2"
      ]
     },
     "execution_count": 3,
     "metadata": {},
     "output_type": "execute_result"
    }
   ],
   "source": [
    "func(1) #proslijedjeni 1 (kao m) i defualtno zadani drugi argument (kao n koji je jedan 1) daju 2"
   ]
  },
  {
   "cell_type": "code",
   "execution_count": 4,
   "metadata": {
    "collapsed": true
   },
   "outputs": [],
   "source": [
    "def func2(m=0,n=1):\n",
    "    return m+n"
   ]
  },
  {
   "cell_type": "code",
   "execution_count": 5,
   "metadata": {
    "collapsed": false
   },
   "outputs": [
    {
     "data": {
      "text/plain": [
       "3"
      ]
     },
     "execution_count": 5,
     "metadata": {},
     "output_type": "execute_result"
    }
   ],
   "source": [
    "func2(n=3)  #ime formalnog argumenta je zadano pri pozivu, čime je samo on proslijeđen (a ostali argumenti imaju\n",
    "            #zadanu defaultnu vrijednost)"
   ]
  },
  {
   "cell_type": "code",
   "execution_count": 6,
   "metadata": {
    "collapsed": false
   },
   "outputs": [
    {
     "data": {
      "text/plain": [
       "4"
      ]
     },
     "execution_count": 6,
     "metadata": {},
     "output_type": "execute_result"
    }
   ],
   "source": [
    "func2(n=3,m=1)"
   ]
  },
  {
   "cell_type": "code",
   "execution_count": 7,
   "metadata": {
    "collapsed": true
   },
   "outputs": [],
   "source": [
    "def func(arg1,arg2,defarg1=1,defarg2=2, *args):\n",
    "    print(arg1+arg2+defarg1+defarg2)\n",
    "    print(\"args: \",args)"
   ]
  },
  {
   "cell_type": "code",
   "execution_count": 8,
   "metadata": {
    "collapsed": false
   },
   "outputs": [
    {
     "name": "stdout",
     "output_type": "stream",
     "text": [
      "10\n",
      "args:  (5, 7, 8, 9, 10)\n"
     ]
    }
   ],
   "source": [
    "func(1,2,3,4,5,7,8,9,10) #time je prvih 4 vrijednosti proslijeđeno pripadajućim formalnim argumentima, dok se\n",
    "                        #dalje svi ostali argumenti proslijeđuju polju (listi) args"
   ]
  },
  {
   "cell_type": "code",
   "execution_count": 9,
   "metadata": {
    "collapsed": true
   },
   "outputs": [],
   "source": [
    "def sumiraj(*args):\n",
    "    sum=0.0\n",
    "    for broj in args: #s obzirom da je args lista (a to je iterator), može se kroz njega jednostavno iterirati\n",
    "        sum+=float(broj)\n",
    "    return sum"
   ]
  },
  {
   "cell_type": "code",
   "execution_count": 10,
   "metadata": {
    "collapsed": false
   },
   "outputs": [
    {
     "data": {
      "text/plain": [
       "22.5"
      ]
     },
     "execution_count": 10,
     "metadata": {},
     "output_type": "execute_result"
    }
   ],
   "source": [
    "sumiraj(1,2,3,4,5,7.5)"
   ]
  },
  {
   "cell_type": "code",
   "execution_count": 11,
   "metadata": {
    "collapsed": true
   },
   "outputs": [],
   "source": [
    "def func3(*args,**kwargs):  #args je lista brojeva, dok je kwargs rjecnik keyword argumenata\n",
    "    print(\"args: \",args)\n",
    "    print(\"keyword args: \",kwargs)"
   ]
  },
  {
   "cell_type": "code",
   "execution_count": 12,
   "metadata": {
    "collapsed": false
   },
   "outputs": [
    {
     "name": "stdout",
     "output_type": "stream",
     "text": [
      "args:  (1, 2, 3)\n",
      "keyword args:  {'debug': True}\n"
     ]
    }
   ],
   "source": [
    "func3(1,2,3,debug=True)"
   ]
  },
  {
   "cell_type": "code",
   "execution_count": 13,
   "metadata": {
    "collapsed": false
   },
   "outputs": [
    {
     "ename": "SyntaxError",
     "evalue": "non-keyword arg after keyword arg (<ipython-input-13-2cbcb8522107>, line 2)",
     "output_type": "error",
     "traceback": [
      "\u001b[1;36m  File \u001b[1;32m\"<ipython-input-13-2cbcb8522107>\"\u001b[1;36m, line \u001b[1;32m2\u001b[0m\n\u001b[1;33m    func3(debug=True,1,2,3)  #nije dozvoljeno miješati raspored kojim se proslijeđuju argumenti\u001b[0m\n\u001b[1;37m                    ^\u001b[0m\n\u001b[1;31mSyntaxError\u001b[0m\u001b[1;31m:\u001b[0m non-keyword arg after keyword arg\n"
     ]
    }
   ],
   "source": [
    "#GREŠKA#\n",
    "func3(debug=True,1,2,3)  #nije dozvoljeno miješati raspored kojim se proslijeđuju argumenti\n",
    "                        #prvo se zadaju brojevi za args, pa onda sve ostalo za kwargs"
   ]
  },
  {
   "cell_type": "code",
   "execution_count": 14,
   "metadata": {
    "collapsed": true
   },
   "outputs": [],
   "source": [
    "ntorka=(1,2,3,4)  #ovo je tuple (n-torka) - ona se ne može naknadno mijenjati!"
   ]
  },
  {
   "cell_type": "code",
   "execution_count": 15,
   "metadata": {
    "collapsed": false
   },
   "outputs": [
    {
     "data": {
      "text/plain": [
       "10.0"
      ]
     },
     "execution_count": 15,
     "metadata": {},
     "output_type": "execute_result"
    }
   ],
   "source": [
    "sumiraj(*ntorka)  #sa operatorom * se raspakira iterirajući objekt"
   ]
  },
  {
   "cell_type": "code",
   "execution_count": 16,
   "metadata": {
    "collapsed": true
   },
   "outputs": [],
   "source": [
    "rj={'debug':False, 'verbose':True}"
   ]
  },
  {
   "cell_type": "code",
   "execution_count": 17,
   "metadata": {
    "collapsed": false
   },
   "outputs": [
    {
     "name": "stdout",
     "output_type": "stream",
     "text": [
      "args:  ({'debug': False, 'verbose': True},)\n",
      "keyword args:  {}\n"
     ]
    }
   ],
   "source": [
    "func3(rj)"
   ]
  },
  {
   "cell_type": "markdown",
   "metadata": {},
   "source": [
    "<p>Ako želimo da se elementi rječnika proslijede na sljedeći način: </p>\n",
    "<code>func3(debug=False, verbose=True)</code>"
   ]
  },
  {
   "cell_type": "code",
   "execution_count": 18,
   "metadata": {
    "collapsed": false
   },
   "outputs": [
    {
     "name": "stdout",
     "output_type": "stream",
     "text": [
      "args:  ()\n",
      "keyword args:  {'debug': False, 'verbose': True}\n"
     ]
    }
   ],
   "source": [
    "func3(**rj)"
   ]
  },
  {
   "cell_type": "code",
   "execution_count": 19,
   "metadata": {
    "collapsed": false
   },
   "outputs": [
    {
     "name": "stdout",
     "output_type": "stream",
     "text": [
      "args:  (1, 2, 3, 4)\n",
      "keyword args:  {'debug': False, 'verbose': True}\n"
     ]
    }
   ],
   "source": [
    "func3(*ntorka,**rj)"
   ]
  },
  {
   "cell_type": "markdown",
   "metadata": {},
   "source": [
    "<h1 id=\"dz\" style=\"color:red;text-decoration:underline;text-align:center\">U Pyhonu 3</h1>\n"
   ]
  },
  {
   "cell_type": "code",
   "execution_count": 21,
   "metadata": {
    "collapsed": false
   },
   "outputs": [
    {
     "data": {
      "text/plain": [
       "[0, 1, 2, 3, 4, 5, 6, 7, 8, 9, 10, 11, 12, 13, 14, 15, 16, 17, 18, 19]"
      ]
     },
     "execution_count": 21,
     "metadata": {},
     "output_type": "execute_result"
    }
   ],
   "source": [
    "L=list(range(20))\n",
    "L"
   ]
  },
  {
   "cell_type": "code",
   "execution_count": 23,
   "metadata": {
    "collapsed": true
   },
   "outputs": [],
   "source": [
    "a,b,*c=L  # a=0, b=1, dok se u c spremi sve ostalo"
   ]
  },
  {
   "cell_type": "code",
   "execution_count": 24,
   "metadata": {
    "collapsed": true
   },
   "outputs": [],
   "source": [
    "first, *_, last=L  #u first se spremi prvi element, u last zadnji, a ovi ostali nas ne zanimaju pa se odbacuju"
   ]
  },
  {
   "cell_type": "code",
   "execution_count": 25,
   "metadata": {
    "collapsed": false
   },
   "outputs": [
    {
     "name": "stdout",
     "output_type": "stream",
     "text": [
      "1\n",
      "2\n",
      "3\n",
      "4\n",
      "5\n",
      "6\n",
      "7\n",
      "8\n",
      "9\n",
      "10\n",
      "11\n",
      "12\n",
      "13\n",
      "14\n",
      "15\n",
      "16\n",
      "17\n",
      "18\n"
     ]
    }
   ],
   "source": [
    "for broj in _:   #ti brojevi se opet spremaju u varijablu s imenom _ , no među Python programerima je standard\n",
    "                 #da se varijabla sa tim prikupljenim \"smećem\" tako nazove\n",
    "    print(broj)"
   ]
  },
  {
   "cell_type": "markdown",
   "metadata": {
    "collapsed": true
   },
   "source": [
    "<h1>DZ</h1>\n",
    "<p>1. Napraviti Hornerov algoritam (barem 2 generatora)</p>\n",
    "<p>2. Napraviti Euklidov algoritam (barem 2 generatora)</p>"
   ]
  },
  {
   "cell_type": "code",
   "execution_count": 2,
   "metadata": {
    "collapsed": false
   },
   "outputs": [
    {
     "name": "stdout",
     "output_type": "stream",
     "text": [
      "Unesite koeficijente polinoma razdvojene razmacima: 1 -6 12 -10 3\n",
      "Cjelobrojne nultočke zadanog polinoma: 1, 1, 1, 3\n",
      "Faktorizirani polinom sa cjelobrojnim nultočkama: (x-1)^3 (x-3)\n"
     ]
    }
   ],
   "source": [
    "polinom=str(input(\"Unesite koeficijente polinoma razdvojene razmacima: \"))\n",
    "koeficijenti=polinom.split(\" \")\n",
    "potencijalna_rjesenja=[]\n",
    "\n",
    "koeficijenti=list(int(x) for x in koeficijenti)\n",
    "\n",
    "for i in range (1,int(abs(koeficijenti[-1])/2)+1):\n",
    "    if koeficijenti[-1] % i==0:\n",
    "        potencijalna_rjesenja.append(i)\n",
    "        potencijalna_rjesenja.append(-i)\n",
    "        potencijalna_rjesenja.append(koeficijenti[-1]//i) #rezultat je ionako isti kao da se obično dijeli (sa /),\n",
    "        potencijalna_rjesenja.append(-koeficijenti[-1]//i) #no onda vraća cjelobrojne brojeve u float formi (3.0\n",
    "                                                            #umjesto 3, što čini konačan ispis neprivlačnijim)\n",
    "        \n",
    "def Hornerov_algoritam(koeficijenti,nultocka):\n",
    "    pomocna=koeficijenti[:]\n",
    "    kratnost=0\n",
    "    while True:\n",
    "        for i in range (1,len(koeficijenti)): #išlo bi od 0, ali prvi član ionako prepisuje vrijednost vodećeg člana\n",
    "            pomocna[i]=nultocka*pomocna[i-1] + pomocna[i]\n",
    "        if pomocna[-1]==0:\n",
    "            del pomocna[-1]\n",
    "            kratnost+=1\n",
    "            koeficijenti=pomocna[:]\n",
    "        else:\n",
    "            return (koeficijenti,kratnost)\n",
    "#            break\n",
    "#    return kratnost\n",
    "nultocke=[]\n",
    "faktorizirani_polinom=\"\"\n",
    "for clan in potencijalna_rjesenja:\n",
    "    ntorka=Hornerov_algoritam(koeficijenti,clan)#slicingom se funkciji prosljeđuje nova lista (tj. formalni\n",
    "        #argument poprima nezavisni skup brojeva, dok bi se bez nje proslijedila referenca na listu koja je\n",
    "        #proslijeđena čime bi se pri svakom daljnom pozivu proslijeđivala sasvim druga lista)\n",
    "    kratnost=ntorka[1]\n",
    "    if kratnost>0:\n",
    "        koeficijenti=ntorka[0][:]\n",
    "        if -clan>0:\n",
    "            faktorizirani_polinom+=\"(x+\"+str(-clan)+\")\"\n",
    "        elif -clan<0:\n",
    "            faktorizirani_polinom+=\"(x\"+str(-clan)+\")\"\n",
    "        else: #-clan==0\n",
    "            faktorizirani_polinom+=\"x\"\n",
    "        if kratnost>1:\n",
    "            faktorizirani_polinom+=\"^\"+str(kratnost)+\" \"\n",
    "        for i in range (0,kratnost):\n",
    "            nultocke.append(str(clan))\n",
    "if len(koeficijenti)>1:\n",
    "    faktorizirani_polinom+=\"(\"\n",
    "    for i in range(0,len(koeficijenti)):\n",
    "        potencija=len(koeficijenti)-i-1\n",
    "        if koeficijenti[i]>0:\n",
    "            if i>0: #kod koeficijenta prvog člana nije potrebno prikazati predstojeći pozitivni predznak\n",
    "                faktorizirani_polinom+=\"+\"\n",
    "            if koeficijenti[i]!=1:\n",
    "                faktorizirani_polinom+=str(koeficijenti[i])\n",
    "            if potencija>0:\n",
    "                faktorizirani_polinom+=\"x\"\n",
    "                if potencija>1:\n",
    "                    faktorizirani_polinom+=\"^\"+str(potencija)\n",
    "        elif koeficijenti[i]<0:\n",
    "            faktorizirani_polinom+=str(koeficijenti[i])\n",
    "            if koeficijenti[i]==-1:\n",
    "                del faktorizirani_polinom[-1] #isti efekt kao i u prethodnom if dijelu\n",
    "            if potencija>0:\n",
    "                faktorizirani_polinom+=\"x\"\n",
    "                if potencija>1:\n",
    "                    faktorizirani_polinom+=\"^\"+str(potencija)\n",
    "        #inače (ako je koeficijenti[i]==0), tada izostavi taj član\n",
    "    faktorizirani_polinom+=\")\"\n",
    "print(\"Cjelobrojne nultočke zadanog polinoma: \" + \", \".join(nultocke) \\\n",
    "+ \"\\r\\nFaktorizirani polinom sa cjelobrojnim nultočkama: \"+faktorizirani_polinom)\n",
    "#+ \"\\r\\n\" + \",\".join(str(x) for x in koeficijenti)) #očito se lista koeficijenti ne osvježava svaki puta kada se\n",
    "                                                    #pronađe postojeća nultočka\n",
    "#testni ulazni podaci: 1 -6 11 -6 - izlaz: 1, 2, 3\n",
    "#testni ulazni podaci: 1 -6 12 -10 3 - izlaz 1, 1, 1, 3"
   ]
  },
  {
   "cell_type": "code",
   "execution_count": 3,
   "metadata": {
    "collapsed": false,
    "scrolled": true
   },
   "outputs": [
    {
     "data": {
      "text/latex": [
       "$$(x-1)^3 (x-3)$$"
      ],
      "text/plain": [
       "<IPython.core.display.Math object>"
      ]
     },
     "metadata": {},
     "output_type": "display_data"
    }
   ],
   "source": [
    "from IPython.display import display, Math, Latex\n",
    "\n",
    "display(Math(faktorizirani_polinom))"
   ]
  },
  {
   "cell_type": "code",
   "execution_count": null,
   "metadata": {
    "collapsed": true
   },
   "outputs": [],
   "source": []
  }
 ],
 "metadata": {
  "kernelspec": {
   "display_name": "Python 3",
   "language": "python",
   "name": "python3"
  },
  "language_info": {
   "codemirror_mode": {
    "name": "ipython",
    "version": 3
   },
   "file_extension": ".py",
   "mimetype": "text/x-python",
   "name": "python",
   "nbconvert_exporter": "python",
   "pygments_lexer": "ipython3",
   "version": "3.4.3"
  }
 },
 "nbformat": 4,
 "nbformat_minor": 0
}
