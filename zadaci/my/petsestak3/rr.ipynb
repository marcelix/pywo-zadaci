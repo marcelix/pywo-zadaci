{
 "cells": [
  {
   "cell_type": "code",
   "execution_count": 2,
   "metadata": {
    "collapsed": false
   },
   "outputs": [
    {
     "name": "stdout",
     "output_type": "stream",
     "text": [
      "Overwriting rr.py\n"
     ]
    }
   ],
   "source": [
    "%%writefile rr.py\n",
    "import argparse\n",
    "from ravnina import Tocka,Vektor\n",
    "import sys\n",
    "from IPython.core import ultratb\n",
    "import pdb\n",
    "\n",
    "parser = argparse.ArgumentParser(description='Proslijedite vektore.')\n",
    "parser.add_argument('u_dvojke', metavar='(X,Y)', type=str, nargs=2,\n",
    "                   help='vektor zapisan kao uredjena dvojka')\n",
    "parser.add_argument('--add', dest='accumulate', action='store_const',\n",
    "                    const=Vektor.__add__,\n",
    "                   help='zbrajanje vektora')\n",
    "parser.add_argument('--sub', dest='accumulate', action='store_const',\n",
    "                    const=Vektor.__sub__,\n",
    "                   help='oduzimanje vektora')\n",
    "parser.add_argument('--debug', action='store_true', dest='debug', #makar bi se ionako varijabla (točnije atribut) koja sadrzava vrijednost ovog argumenata imala taj naziv ('debug') jer bi se sa početno definirane zastavice zanemarile vodeće crtice (jer varijable moraju početi slovom ili underscoreom)\n",
    "                    help='pokretanje debug nacina rada')\n",
    "parser.add_argument('--verbose', action='store_true', #ovdje nije eksplicitno navedeno da će naziv varijable (atributa) biti \"verbose\", pa će se svejedno tamo spremati True (ako će biti argument proslijeđen)\n",
    "                    help='pokretanje verbose nacina rada')\n",
    "\n",
    "args = parser.parse_args()\n",
    "if args.debug==True:\n",
    "    pdb.set_trace()\n",
    "if args.verbose==True:\n",
    "    sys.excepthook = ultratb.FormattedTB(mode='Verbose',\n",
    "    color_scheme='Linux', call_pdb=1)\n",
    "#print(args.integers)\n",
    "#vektori=args.integers.strip(\" \")\n",
    "for i in range (0,len(args.u_dvojke)):\n",
    "    args.u_dvojke[i]=args.u_dvojke[i].replace(\"(\",\"\").replace(\")\",\"\")\n",
    "    args.u_dvojke[i]=args.u_dvojke[i].split(\",\")\n",
    "    args.u_dvojke[i]=[int(x) for x in args.u_dvojke[i]]\n",
    "    args.u_dvojke[i]=Vektor(args.u_dvojke[i][0],args.u_dvojke[i][1])\n",
    "#print(args.integers)\n",
    "print(args.accumulate(args.u_dvojke[0],args.u_dvojke[1]))\n",
    "#print(args.accumulate(args.integers))"
   ]
  },
  {
   "cell_type": "code",
   "execution_count": null,
   "metadata": {
    "collapsed": true
   },
   "outputs": [],
   "source": []
  }
 ],
 "metadata": {
  "kernelspec": {
   "display_name": "Python 3",
   "language": "python",
   "name": "python3"
  },
  "language_info": {
   "codemirror_mode": {
    "name": "ipython",
    "version": 3
   },
   "file_extension": ".py",
   "mimetype": "text/x-python",
   "name": "python",
   "nbconvert_exporter": "python",
   "pygments_lexer": "ipython3",
   "version": "3.4.3"
  }
 },
 "nbformat": 4,
 "nbformat_minor": 0
}
