{
 "cells": [
  {
   "cell_type": "markdown",
   "metadata": {},
   "source": [
    "<pre>[f_1, ..., f_10]\n",
    "f_i(x)= x+i\n",
    "f_1(x)=x+1\n",
    "f_7(x)=x+7"
   ]
  },
  {
   "cell_type": "markdown",
   "metadata": {},
   "source": [
    "rješenje pomoću korištenja \"closure\" pristupa (funkcija bi koristila referencu na vanjsku varijablu, no\n",
    "to se zaobilazi deklariranjem (spremanjem) defaultne vrijednosti parametra zajedno sa funkijom u namespace)"
   ]
  },
  {
   "cell_type": "code",
   "execution_count": 39,
   "metadata": {
    "collapsed": true
   },
   "outputs": [],
   "source": [
    "fje=[]"
   ]
  },
  {
   "cell_type": "code",
   "execution_count": 40,
   "metadata": {
    "collapsed": false
   },
   "outputs": [],
   "source": [
    "for i in range(1,11):\n",
    "    def f(x,inc=i):    #na ovaj način se pri svakom prolasku kroz petlju svakoj funkciji DEKLARIRA parametar sa\n",
    "        #defaultnom vrijednošću zajedno sa samom funkcijom u namespace (moguće ju je bilo napisati i: def f(x,i=i))\n",
    "        return x+inc\n",
    "    fje.append(f)"
   ]
  },
  {
   "cell_type": "code",
   "execution_count": 41,
   "metadata": {
    "collapsed": false
   },
   "outputs": [
    {
     "name": "stdout",
     "output_type": "stream",
     "text": [
      "1\n",
      "2\n",
      "3\n",
      "4\n",
      "5\n",
      "6\n",
      "7\n",
      "8\n",
      "9\n",
      "10\n"
     ]
    }
   ],
   "source": [
    "for f in fje:\n",
    "    print(f(0))"
   ]
  },
  {
   "cell_type": "markdown",
   "metadata": {},
   "source": [
    "rješenje realizirano pomoću funkcijama višeg reda"
   ]
  },
  {
   "cell_type": "code",
   "execution_count": 44,
   "metadata": {
    "collapsed": true
   },
   "outputs": [],
   "source": [
    "def make_f_i(i):\n",
    "    def f_i(x):\n",
    "        return x+i\n",
    "    return f_i"
   ]
  },
  {
   "cell_type": "code",
   "execution_count": 46,
   "metadata": {
    "collapsed": false
   },
   "outputs": [
    {
     "data": {
      "text/plain": [
       "11"
      ]
     },
     "execution_count": 46,
     "metadata": {},
     "output_type": "execute_result"
    }
   ],
   "source": [
    "f8=make_f_i(8)\n",
    "f8(3)"
   ]
  },
  {
   "cell_type": "code",
   "execution_count": null,
   "metadata": {
    "collapsed": true
   },
   "outputs": [],
   "source": []
  }
 ],
 "metadata": {
  "kernelspec": {
   "display_name": "Python 3",
   "language": "python",
   "name": "python3"
  },
  "language_info": {
   "codemirror_mode": {
    "name": "ipython",
    "version": 3
   },
   "file_extension": ".py",
   "mimetype": "text/x-python",
   "name": "python",
   "nbconvert_exporter": "python",
   "pygments_lexer": "ipython3",
   "version": "3.4.3"
  }
 },
 "nbformat": 4,
 "nbformat_minor": 0
}
