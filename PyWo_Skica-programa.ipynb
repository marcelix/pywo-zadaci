{
 "cells": [
  {
   "cell_type": "markdown",
   "metadata": {},
   "source": [
    "# [PyWo 2015](http://goo.gl/6oemXm)\n",
    "\n",
    "---\n",
    "\n",
    "* program i bilješke\n",
    "* [zadaci za samostalni rad](#zadaci)\n",
    "* [moodle stranica kolegija](http://elf.foi.hr/course/view.php?id=498)\n",
    "\n",
    "---"
   ]
  },
  {
   "cell_type": "markdown",
   "metadata": {},
   "source": [
    "## Skica programa\n",
    "\n",
    "Program je izuzetno podložan promjenama. Očekujte svakodnevne izmjene. <br />\n",
    "<!-- [public url](http://nbviewer.ipython.org/gist/marcelix/450df100940ca95d7494?flush_cache=true) -->\n",
    "<!-- gist-id: 450df100940ca95d7494 -->"
   ]
  },
  {
   "cell_type": "markdown",
   "metadata": {},
   "source": [
    "#### Prvi tjedan - 31.08. &mdash; 04.09.\n",
    "<table width='100%'>\n",
    "<thead style=\"font-style:italic;background-color:#ccc\">\n",
    "<td width='20%'> Pon, 31.08.2015. </td>\n",
    "<td width='20%'> Uto, 01.09.2015. </td>\n",
    "<td width='20%'> Sri, 02.09.2015. </td>\n",
    "<td width='20%'> Čet, 03.09.2015. </td>\n",
    "<td width='20%'> Pet, 04.09.2015. </td>\n",
    "</thead>\n",
    "\n",
    "<tr>\n",
    "\n",
    "<td bgcolor=\"#cec\" height=\"100%\" style=\"position:relative;\" >\n",
    "Instalacija, priprema       \n",
    "\n",
    "<div style=\"height:100%;display:block;\"> &nbsp;</div>\n",
    "\n",
    "<p style=\"position:absolute;bottom:0px;\">\n",
    "<a href=\"http://goo.gl/APCIMi\"> Bilješke </a>\n",
    "</p>\n",
    "\n",
    "</td>\n",
    "\n",
    "\n",
    "<td bgcolor=\"#cec\" style=\"position:relative;padding-bottom:4ex;\">\n",
    "    upoznavanje ipython notebook razvojne okoline i\n",
    "    ponavljanje osnovnih struktura podataka u pythonu  <br />\n",
    "    (liste, skupovi, rječnik i sl.) <br />\n",
    "    upoznavanje s git-om.\n",
    "    \n",
    "    <p style=\"position:absolute;bottom:0px;\">\n",
    "      <a href=\"http://goo.gl/PFQTxm\"> Bilješke </a>\n",
    "    </p>\n",
    "</td>\n",
    "    \n",
    "<td bgcolor=\"#cec\" style=\"position:relative;\">\n",
    "iteracija,  generatori, funkcije i argumenti (positional and keyword arguments)\n",
    "\n",
    "\n",
    "<p style=\"position:absolute;bottom:0px;\">\n",
    "<a href=\"http://nbviewer.ipython.org/gist/marcelix/51fe2ae98c58586f085f\"> Bilješke </a>\n",
    "</p>\n",
    "\n",
    "</td>\n",
    "\n",
    "\n",
    "\n",
    "<td style=\"background-color:#ccc;text-align:center\"> &mdash; slobodno &mdash; </td>\n",
    "\n",
    "\n",
    "<td bgcolor=\"#cec\" style=\"position:relative;\"> O paradigmama programiranja u Pythonu: objektno orijentirano programiranje (OOP) \n",
    "\n",
    "<p style=\"position:absolute;bottom:0px;\">\n",
    "<a href=\"http://goo.gl/EyR0HQ\"> Bilješke </a>\n",
    "</p>\n",
    "</td>\n",
    "</tr>\n",
    "\n",
    "\n",
    "</table>"
   ]
  },
  {
   "cell_type": "markdown",
   "metadata": {},
   "source": [
    "Zatim tjedan dana pauze..."
   ]
  },
  {
   "cell_type": "markdown",
   "metadata": {},
   "source": [
    "#### Drugi tjedan - 14.09. &mdash; 18.09.\n",
    "<table width='100%'>\n",
    "<thead style=\"font-style:italic;background-color:#ccc\">\n",
    "<td width='20%'> Pon, 14.09.2015. </td>\n",
    "<td width='20%'> Uto </td>\n",
    "<td width='20%'> Sri </td>\n",
    "<td width='20%'> Čet </td>\n",
    "<td width='20%'> Pet </td>\n",
    "</thead>\n",
    "\n",
    " \n",
    "<tr>\n",
    "<td bgcolor=\"#cec\" style=\"position:relative;padding-bottom:4ex;\">  Python kao MATLAB <br /> \n",
    "     simpy numpy, matplotlib, <br />\n",
    "      (A. Đerek)\n",
    "      \n",
    "      <!-- \n",
    "      http://nbviewer.ipython.org/gist/marcelix/bfea3474aab9543eefcd \n",
    "      http://nbviewer.ipython.org/format/slides/gist/marcelix/bfea3474aab9543eefcd#/\n",
    "      -->\n",
    "      \n",
    "        <p style=\"position:absolute;bottom:0px;\">\n",
    "        <a href=\"http://nbviewer.ipython.org/format/slides/gist/marcelix/bfea3474aab9543eefcd#/\"> Bilješke </a>\n",
    "        </p>\n",
    "\n",
    "      </td>\n",
    "     \n",
    "<td>  pandas <br /> networkx            </td>\n",
    "\n",
    "<td style=\"background-color:#ccc;text-align:center\"> &mdash; slobodno &mdash; </td>\n",
    "\n",
    "<td>  testiranje (unit, mocks)   <br />\n",
    "odabrane OOP teme\n",
    "</td>\n",
    "\n",
    "\n",
    "\n",
    "\n",
    "<td>  web programiranje (flask) </td>\n",
    "\n",
    "<!-- <td> <em>... još ćemo vidjeti... </em>\n",
    "<br />\n",
    "IDE primjer: pycharm, refactory, optimizacija\n",
    "</td> -->\n",
    "</tr>\n",
    "\n",
    "</table>"
   ]
  },
  {
   "cell_type": "markdown",
   "metadata": {},
   "source": [
    "\n",
    "---\n",
    "\n",
    "$$ * * * $$\n",
    "\n",
    "---\n"
   ]
  },
  {
   "cell_type": "markdown",
   "metadata": {},
   "source": [
    "\n",
    "## Zadaci\n",
    "<a name=\"zadaci\"></a>\n",
    "\n",
    "Zadaci za samostalni rad. Više o tome: http://goo.gl/v8oqFl\n",
    "\n"
   ]
  },
  {
   "cell_type": "markdown",
   "metadata": {},
   "source": [
    "\n",
    "---\n",
    "\n",
    "$$ * * * $$\n",
    "\n",
    "---\n"
   ]
  },
  {
   "cell_type": "markdown",
   "metadata": {},
   "source": [
    "<!--\n",
    "### Nesortirani:\n",
    "\n",
    "pyparsing, pygame, map & reduce?, baze? sqlalchemy?\n",
    "\n",
    "### NE planira se:\n",
    "Django\n",
    "-->"
   ]
  },
  {
   "cell_type": "code",
   "execution_count": 2,
   "metadata": {
    "collapsed": false
   },
   "outputs": [
    {
     "name": "stdout",
     "output_type": "stream",
     "text": [
      "https://gist.github.com/450df100940ca95d7494\r\n"
     ]
    }
   ],
   "source": [
    "# ignorirajte\n",
    "!gist-paste PyWo_Skica-programa.ipynb -u https://gist.github.com/450df100940ca95d7494"
   ]
  }
 ],
 "metadata": {
  "kernelspec": {
   "display_name": "Python 3",
   "language": "python",
   "name": "python3"
  },
  "language_info": {
   "codemirror_mode": {
    "name": "ipython",
    "version": 3
   },
   "file_extension": ".py",
   "mimetype": "text/x-python",
   "name": "python",
   "nbconvert_exporter": "python",
   "pygments_lexer": "ipython3",
   "version": "3.4.3+"
  }
 },
 "nbformat": 4,
 "nbformat_minor": 0
}
