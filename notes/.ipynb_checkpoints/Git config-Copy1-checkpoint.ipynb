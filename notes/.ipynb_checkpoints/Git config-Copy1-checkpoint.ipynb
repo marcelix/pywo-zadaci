{
 "cells": [
  {
   "cell_type": "markdown",
   "metadata": {},
   "source": [
    "# Slaganje git konfiguracije\n",
    "\n",
    "vidi link:\n",
    "https://git-scm.com/book/en/v2/Customizing-Git-Git-Configuration\n",
    "\n",
    "Da bi uopće mogli napraviti ```git commit``` moramo git-u dati podatke pod kojima\n",
    "će evidentirati naše promjene u projektu.\n",
    "```\n",
    "git config --global user.name=\"Ivan Ivanović\"\n",
    "git config --global user.email=vas_username@gmail.com\n",
    "```\n"
   ]
  },
  {
   "cell_type": "code",
   "execution_count": 1,
   "metadata": {
    "collapsed": false
   },
   "outputs": [
    {
     "name": "stdout",
     "output_type": "stream",
     "text": [
      " user.name: Petar Šestak\n",
      "user.email: petsestak3@foi.hr\n"
     ]
    }
   ],
   "source": [
    "user_name = input(\" user.name: \")\n",
    "user_email= input(\"user.email: \")"
   ]
  },
  {
   "cell_type": "code",
   "execution_count": 2,
   "metadata": {
    "collapsed": false
   },
   "outputs": [
    {
     "name": "stdout",
     "output_type": "stream",
     "text": [
      "user.name=Petar Šestak\r\n",
      "user.email=petsestak3@foi.hr\r\n"
     ]
    }
   ],
   "source": [
    "!git config --global user.name  \"$user_name\"\n",
    "!git config --global user.email  \"$user_email\"\n",
    "\n",
    "# ispisi trenutni sadrzaj globalne konfiguracije\n",
    "!git config --global -l"
   ]
  },
  {
   "cell_type": "code",
   "execution_count": 3,
   "metadata": {
    "collapsed": false
   },
   "outputs": [
    {
     "name": "stdout",
     "output_type": "stream",
     "text": [
      "Variable     Type    Data/Info\n",
      "------------------------------\n",
      "user_email   str     petsestak3@foi.hr\n",
      "user_name    str     Petar Šestak\n"
     ]
    }
   ],
   "source": [
    "%whos"
   ]
  },
  {
   "cell_type": "code",
   "execution_count": null,
   "metadata": {
    "collapsed": true
   },
   "outputs": [],
   "source": []
  }
 ],
 "metadata": {
  "kernelspec": {
   "display_name": "Python 3",
   "language": "python",
   "name": "python3"
  },
  "language_info": {
   "codemirror_mode": {
    "name": "ipython",
    "version": 3
   },
   "file_extension": ".py",
   "mimetype": "text/x-python",
   "name": "python",
   "nbconvert_exporter": "python",
   "pygments_lexer": "ipython3",
   "version": "3.4.3"
  }
 },
 "nbformat": 4,
 "nbformat_minor": 0
}
