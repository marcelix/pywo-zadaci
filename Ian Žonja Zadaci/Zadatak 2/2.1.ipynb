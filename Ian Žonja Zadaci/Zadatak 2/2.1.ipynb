{
 "cells": [
  {
   "cell_type": "code",
   "execution_count": 1,
   "metadata": {
    "collapsed": false
   },
   "outputs": [
    {
     "name": "stderr",
     "output_type": "stream",
     "text": [
      "'ls' is not recognized as an internal or external command,\n",
      "operable program or batch file.\n"
     ]
    }
   ],
   "source": [
    "!ls ../../03/"
   ]
  },
  {
   "cell_type": "code",
   "execution_count": 2,
   "metadata": {
    "collapsed": true
   },
   "outputs": [],
   "source": [
    "filename = \"pywo_some_data.xlsx\""
   ]
  },
  {
   "cell_type": "markdown",
   "metadata": {},
   "source": [
    "**Zadatak**\n",
    "\n",
    "a) Otvoriti ovaj excel file i pročitati prvi stupac.\n",
    "Za to nam treba modul ```xlrd```.\n",
    "\n",
    "b) Sredili polja (razdvojili ime i prezime)\n",
    "\n",
    "c) Sortirali na 2 načina\n",
    "\n",
    "d) DZ, za vježbu izbaciti \",\" pomoću ```re```\n",
    "\n",
    "e) DZ, za vježbu rezultate upisati u novu excel datoteku: u 2 stupca (potreban modul je ```xlwt```)"
   ]
  },
  {
   "cell_type": "code",
   "execution_count": 3,
   "metadata": {
    "collapsed": false
   },
   "outputs": [],
   "source": [
    "import xlrd\n",
    "import pandas as pd\n",
    "import xlwt"
   ]
  },
  {
   "cell_type": "code",
   "execution_count": 4,
   "metadata": {
    "collapsed": false
   },
   "outputs": [],
   "source": [
    "workbook = xlrd.open_workbook(filename)\n",
    "sheet = workbook.sheet_by_index(0)"
   ]
  },
  {
   "cell_type": "code",
   "execution_count": 5,
   "metadata": {
    "collapsed": false
   },
   "outputs": [
    {
     "data": {
      "text/plain": [
       "['Josip Mlakar, ',\n",
       " 'Elvis Popović, ',\n",
       " 'Vladimir Milašinović, ',\n",
       " 'Filip Rafajec, ',\n",
       " 'Matej Gucek, ',\n",
       " 'Jura Šolja, ',\n",
       " 'Gabrijela Grgača, ',\n",
       " 'Stjepan Rakarec, ',\n",
       " 'Davorin Špičko, ',\n",
       " 'Milan Pavlović, ',\n",
       " 'Senko Pušec, ',\n",
       " 'Filip Aleksić, ',\n",
       " 'Roman Tomašković, ',\n",
       " 'Peđa Čačić, ',\n",
       " 'Saša Poslončec,',\n",
       " 'Mislav Zebić, ',\n",
       " 'Ian Žonja,',\n",
       " 'Tomislav Cundić, ',\n",
       " 'Matija Kaniški,',\n",
       " 'Petar Šestak,',\n",
       " 'Ivana Završki,',\n",
       " 'Vedran Vađunec, ',\n",
       " 'Matea Bodulušić, ',\n",
       " 'Andrea Danzante,']"
      ]
     },
     "execution_count": 5,
     "metadata": {},
     "output_type": "execute_result"
    }
   ],
   "source": [
    "L = [student.value for student in sheet.col(0)]\n",
    "L\n",
    "\n",
    "M = [ x for x in L if x != '' ]\n",
    "M"
   ]
  },
  {
   "cell_type": "markdown",
   "metadata": {},
   "source": [
    "Sredimo ovu listu u format \"PREZIME IME\".\n",
    "Zatim treba sortirati."
   ]
  },
  {
   "cell_type": "code",
   "execution_count": 6,
   "metadata": {
    "collapsed": true
   },
   "outputs": [],
   "source": [
    "ime = 'Josip Mlakar, '"
   ]
  },
  {
   "cell_type": "code",
   "execution_count": 7,
   "metadata": {
    "collapsed": true
   },
   "outputs": [],
   "source": [
    "def sredi(ime):\n",
    "    v = ime.strip(\", \")\n",
    "    listica = v.split()\n",
    "\n",
    "    return listica[::-1]"
   ]
  },
  {
   "cell_type": "code",
   "execution_count": 8,
   "metadata": {
    "collapsed": false
   },
   "outputs": [
    {
     "data": {
      "text/plain": [
       "['Mlakar', 'Josip']"
      ]
     },
     "execution_count": 8,
     "metadata": {},
     "output_type": "execute_result"
    }
   ],
   "source": [
    "sredi(ime)"
   ]
  },
  {
   "cell_type": "code",
   "execution_count": 9,
   "metadata": {
    "collapsed": false
   },
   "outputs": [],
   "source": [
    "P = [ sredi(ime) for ime in M]\n",
    "#P"
   ]
  },
  {
   "cell_type": "code",
   "execution_count": 10,
   "metadata": {
    "collapsed": false
   },
   "outputs": [],
   "source": [
    "fja_usporedbe = lambda x:x[1]\n",
    "G = sorted(P, key = fja_usporedbe )"
   ]
  },
  {
   "cell_type": "code",
   "execution_count": 11,
   "metadata": {
    "collapsed": true
   },
   "outputs": [],
   "source": [
    "sorted?"
   ]
  },
  {
   "cell_type": "code",
   "execution_count": 12,
   "metadata": {
    "collapsed": false
   },
   "outputs": [
    {
     "data": {
      "text/plain": [
       "<function __main__.<lambda>>"
      ]
     },
     "execution_count": 12,
     "metadata": {},
     "output_type": "execute_result"
    }
   ],
   "source": [
    "lambda x:x[1]"
   ]
  },
  {
   "cell_type": "code",
   "execution_count": 13,
   "metadata": {
    "collapsed": true
   },
   "outputs": [],
   "source": [
    "brojac = 0\n",
    "for i in G:\n",
    "    brojac = brojac + 1\n",
    "    G = str(G)"
   ]
  },
  {
   "cell_type": "code",
   "execution_count": 14,
   "metadata": {
    "collapsed": false
   },
   "outputs": [
    {
     "data": {
      "text/plain": [
       "[\"[['Danzante', 'Andrea'\",\n",
       " \", ['Špičko', 'Davorin'\",\n",
       " \", ['Popović', 'Elvis'\",\n",
       " \", ['Rafajec', 'Filip'\",\n",
       " \", ['Aleksić', 'Filip'\",\n",
       " \", ['Grgača', 'Gabrijela'\",\n",
       " \", ['Žonja', 'Ian'\",\n",
       " \", ['Završki', 'Ivana'\",\n",
       " \", ['Mlakar', 'Josip'\",\n",
       " \", ['Šolja', 'Jura'\",\n",
       " \", ['Bodulušić', 'Matea'\",\n",
       " \", ['Gucek', 'Matej'\",\n",
       " \", ['Kaniški', 'Matija'\",\n",
       " \", ['Pavlović', 'Milan'\",\n",
       " \", ['Zebić', 'Mislav'\",\n",
       " \", ['Šestak', 'Petar'\",\n",
       " \", ['Čačić', 'Peđa'\",\n",
       " \", ['Tomašković', 'Roman'\",\n",
       " \", ['Poslončec', 'Saša'\",\n",
       " \", ['Pušec', 'Senko'\",\n",
       " \", ['Rakarec', 'Stjepan'\",\n",
       " \", ['Cundić', 'Tomislav'\",\n",
       " \", ['Vađunec', 'Vedran'\",\n",
       " \", ['Milašinović', 'Vladimir'\",\n",
       " '',\n",
       " '']"
      ]
     },
     "execution_count": 14,
     "metadata": {},
     "output_type": "execute_result"
    }
   ],
   "source": [
    "G.split(\"]\")\n",
    "#G"
   ]
  },
  {
   "cell_type": "code",
   "execution_count": 15,
   "metadata": {
    "collapsed": true
   },
   "outputs": [],
   "source": [
    "list1 = []"
   ]
  },
  {
   "cell_type": "code",
   "execution_count": 16,
   "metadata": {
    "collapsed": false,
    "scrolled": true
   },
   "outputs": [
    {
     "name": "stdout",
     "output_type": "stream",
     "text": [
      "Danzante Andrea Špičko Davorin Popović Elvis Rafajec Filip Aleksić Filip Grgača Gabrijela Žonja Ian Završki Ivana Mlakar Josip Šolja Jura Bodulušić Matea Gucek Matej Kaniški Matija Pavlović Milan Zebić Mislav Šestak Petar Čačić Peđa Tomašković Roman Poslončec Saša Pušec Senko Rakarec Stjepan Cundić Tomislav Vađunec Vedran Milašinović Vladimir\n"
     ]
    }
   ],
   "source": [
    "for i in G:\n",
    "    if i.isalnum() or i.isspace():\n",
    "        list1.append(i)\n",
    "    else:\n",
    "        list1.append(\"\")\n",
    "novo = \"\"\n",
    "novo = \"\".join(list1)\n",
    "\n",
    "print(novo)"
   ]
  },
  {
   "cell_type": "code",
   "execution_count": 17,
   "metadata": {
    "collapsed": false
   },
   "outputs": [],
   "source": [
    "lista_abecede = [\"a\",\"b\",\"c\",\"č\",\"ć\",\"d\",\"đ\",\"dž\",\"e\",\"f\",\"g\",\"h\",\"i\",\"j\",\"k\",\"l\",\"lj\",\"m\",\"n\",\"nj\",\"o\",\"p\",\"r\",\"s\",\"š\",\"t\",\"u\",\"v\",\"z\",\"ž\"]"
   ]
  },
  {
   "cell_type": "code",
   "execution_count": 18,
   "metadata": {
    "collapsed": true
   },
   "outputs": [],
   "source": [
    "lista_za_rijeci = []\n",
    "pomocno = \"\"\n",
    "brojac_parnih = 0"
   ]
  },
  {
   "cell_type": "code",
   "execution_count": 19,
   "metadata": {
    "collapsed": false
   },
   "outputs": [],
   "source": [
    "for i in novo:\n",
    "    if i != \" \":\n",
    "        pomocno = pomocno + i\n",
    "    else:\n",
    "        brojac_parnih = brojac_parnih + 1\n",
    "        if brojac_parnih % 2 == 0:\n",
    "            lista_za_rijeci.append(pomocno)\n",
    "            pomocno = \"\"\n",
    "        else: pomocno = pomocno + i\n"
   ]
  },
  {
   "cell_type": "code",
   "execution_count": 20,
   "metadata": {
    "collapsed": false
   },
   "outputs": [],
   "source": [
    "wb1 = xlwt.Workbook()"
   ]
  },
  {
   "cell_type": "code",
   "execution_count": 21,
   "metadata": {
    "collapsed": true
   },
   "outputs": [],
   "source": [
    "sheet1 = wb1.add_sheet('2.1')\n",
    "novibrojac = 0"
   ]
  },
  {
   "cell_type": "code",
   "execution_count": 22,
   "metadata": {
    "collapsed": false
   },
   "outputs": [],
   "source": [
    "for i,val in enumerate(lista_za_rijeci): \n",
    "        sheet1.write(novibrojac,0,val)\n",
    "        novibrojac = novibrojac + 1\n",
    "#print(lista_za_rijeci)\n"
   ]
  },
  {
   "cell_type": "code",
   "execution_count": 23,
   "metadata": {
    "collapsed": true
   },
   "outputs": [],
   "source": [
    "lista_brojeva = []\n",
    "novije = \"\"\n",
    "pomocni = []"
   ]
  },
  {
   "cell_type": "code",
   "execution_count": 24,
   "metadata": {
    "collapsed": false
   },
   "outputs": [],
   "source": [
    "for i in lista_za_rijeci:\n",
    "    for slovo in i:\n",
    "        if slovo == \" \":\n",
    "            break\n",
    "        pomocni.append(lista_abecede.index(slovo.lower()))\n",
    "    lista_brojeva.append(pomocni)\n",
    "    pomocni = []\n",
    "\n",
    "#print(lista_brojeva)\n",
    "lista_brojeva.sort()\n",
    "#print(lista_brojeva)\n"
   ]
  },
  {
   "cell_type": "code",
   "execution_count": 25,
   "metadata": {
    "collapsed": true
   },
   "outputs": [],
   "source": [
    "pomocni_string = \"\"\n",
    "zadnja_lista = []"
   ]
  },
  {
   "cell_type": "code",
   "execution_count": 26,
   "metadata": {
    "collapsed": false
   },
   "outputs": [],
   "source": [
    "for i in lista_brojeva:\n",
    "    for broj in i:\n",
    "        pomocni_string += lista_abecede[broj]\n",
    "    pomocni_string = pomocni_string.title()\n",
    "    #print(pomocni_string)\n",
    "    zadnja_lista.append(pomocni_string)\n",
    "    pomocni_string = \"\""
   ]
  },
  {
   "cell_type": "code",
   "execution_count": 27,
   "metadata": {
    "collapsed": false
   },
   "outputs": [],
   "source": [
    "lista_odvojenih = []\n",
    "for i in lista_za_rijeci:\n",
    "    lista_odvojenih.append(i.split())\n",
    "#print(lista_odvojenih)\n",
    "    "
   ]
  },
  {
   "cell_type": "code",
   "execution_count": 28,
   "metadata": {
    "collapsed": true
   },
   "outputs": [],
   "source": [
    "sheet2 = wb1.add_sheet('2.2')\n",
    "brojac = 0"
   ]
  },
  {
   "cell_type": "code",
   "execution_count": 29,
   "metadata": {
    "collapsed": false,
    "scrolled": true
   },
   "outputs": [],
   "source": [
    "for i in zadnja_lista:\n",
    "    spajanje = [s for s in lista_odvojenih if i in s]\n",
    "    sheet2.write(brojac,0,(spajanje[0][0] + \" \" + spajanje[0][1]))\n",
    "    brojac += 1"
   ]
  },
  {
   "cell_type": "code",
   "execution_count": 30,
   "metadata": {
    "collapsed": false
   },
   "outputs": [],
   "source": [
    "wb1.save('Novi_excell.xls')"
   ]
  },
  {
   "cell_type": "markdown",
   "metadata": {},
   "source": [
    "#Pretpostavio sam da treba sortirati prezimena po hrvatskoj abecedi jer imaju dijakritičke znakove, nisam baš najbolje razumio zadata"
   ]
  },
  {
   "cell_type": "code",
   "execution_count": null,
   "metadata": {
    "collapsed": true
   },
   "outputs": [],
   "source": []
  }
 ],
 "metadata": {
  "kernelspec": {
   "display_name": "Python 3",
   "language": "python",
   "name": "python3"
  },
  "language_info": {
   "codemirror_mode": {
    "name": "ipython",
    "version": 3
   },
   "file_extension": ".py",
   "mimetype": "text/x-python",
   "name": "python",
   "nbconvert_exporter": "python",
   "pygments_lexer": "ipython3",
   "version": "3.4.3"
  }
 },
 "nbformat": 4,
 "nbformat_minor": 0
}
