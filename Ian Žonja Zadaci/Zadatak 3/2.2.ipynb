{
 "cells": [
  {
   "cell_type": "code",
   "execution_count": 5,
   "metadata": {
    "collapsed": false
   },
   "outputs": [],
   "source": [
    "#%%writefile ravnina.py\n",
    "\"\"\"\n",
    " Licenca, opis, itd.\n",
    "\"\"\"\n",
    "\n",
    "__author__ = \"Ian Žonja\"\n",
    "__email__ = \"ianzonja@foi.hr\"\n",
    "\n",
    "from math import sqrt\n",
    "\n",
    "\n",
    "class Tocka:\n",
    "    \n",
    "    def __init__(self, x, y):\n",
    "        self.x = x\n",
    "        self.y = y\n",
    "        \n",
    "    \n",
    "    def __repr__(self):\n",
    "        return \"Tocka({0}, {1})\".format(self.x,self.y)\n",
    "        \n",
    "\n",
    "        \n",
    "class Vektor(Tocka):\n",
    "    \n",
    "    def __add__(self, b):\n",
    "        x = self.x + b.x\n",
    "        y = self.y + b.y\n",
    "        return Vektor(x, y)\n",
    "    \n",
    "    def __sub__(self,b):\n",
    "        x = self.x - b.x\n",
    "        y = self.y - b.y\n",
    "        return Vektor(x,y)\n",
    "    \n",
    "    def __mul__(self,b):\n",
    "        x = self.x * b\n",
    "        y = self.y * b\n",
    "        return Vektor(x,y)\n",
    "    \n",
    "    def norm(self):\n",
    "        return sqrt( self.x**2 + self.y**2  )\n",
    "\n",
    "    \n",
    "    def __repr__(self):\n",
    "        return \"Vektor({0}, {1})\".format(self.x,self.y)"
   ]
  },
  {
   "cell_type": "code",
   "execution_count": 6,
   "metadata": {
    "collapsed": false
   },
   "outputs": [
    {
     "name": "stdout",
     "output_type": "stream",
     "text": [
      "Vektor(-11, 36)\n",
      "Vektor(13, -32)\n",
      "Vektor(2, 4)\n",
      "Vektor(16, 12)\n"
     ]
    }
   ],
   "source": [
    "a = Vektor(1,2)\n",
    "b = Vektor(-12,34)\n",
    "c = Vektor(4,3)\n",
    "\n",
    "\n",
    "print (a + b)\n",
    "print (a - b)\n",
    "print(a * 2)\n",
    "print(c * 4)\n"
   ]
  }
 ],
 "metadata": {
  "kernelspec": {
   "display_name": "Python 3",
   "language": "python",
   "name": "python3"
  },
  "language_info": {
   "codemirror_mode": {
    "name": "ipython",
    "version": 3
   },
   "file_extension": ".py",
   "mimetype": "text/x-python",
   "name": "python",
   "nbconvert_exporter": "python",
   "pygments_lexer": "ipython3",
   "version": "3.4.3"
  }
 },
 "nbformat": 4,
 "nbformat_minor": 0
}
