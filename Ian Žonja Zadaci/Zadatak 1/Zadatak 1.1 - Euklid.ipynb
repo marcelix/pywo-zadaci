{
 "cells": [
  {
   "cell_type": "code",
   "execution_count": 16,
   "metadata": {
    "collapsed": true
   },
   "outputs": [],
   "source": [
    "def rem_g(a,b):\n",
    "    o=a%b\n",
    "    while o!=0:\n",
    "        o=a%b\n",
    "        k = (a-o)/b\n",
    "        if o==0:\n",
    "            yield a, '=', int(k), \"*\", b, \"+\", o\n",
    "        else:\n",
    "            yield a, '=', b, \"*\", int(k), \"+\", o\n",
    "            a,b = b,o"
   ]
  },
  {
   "cell_type": "code",
   "execution_count": 17,
   "metadata": {
    "collapsed": false
   },
   "outputs": [
    {
     "data": {
      "text/plain": [
       "[(112, '=', 13, '*', 8, '+', 8),\n",
       " (13, '=', 8, '*', 1, '+', 5),\n",
       " (8, '=', 5, '*', 1, '+', 3),\n",
       " (5, '=', 3, '*', 1, '+', 2),\n",
       " (3, '=', 2, '*', 1, '+', 1),\n",
       " (2, '=', 2, '*', 1, '+', 0)]"
      ]
     },
     "execution_count": 17,
     "metadata": {},
     "output_type": "execute_result"
    }
   ],
   "source": [
    "list(rem_g(112,13))"
   ]
  }
 ],
 "metadata": {
  "kernelspec": {
   "display_name": "Python 3",
   "language": "python",
   "name": "python3"
  },
  "language_info": {
   "codemirror_mode": {
    "name": "ipython",
    "version": 3
   },
   "file_extension": ".py",
   "mimetype": "text/x-python",
   "name": "python",
   "nbconvert_exporter": "python",
   "pygments_lexer": "ipython3",
   "version": "3.4.3"
  }
 },
 "nbformat": 4,
 "nbformat_minor": 0
}
